{
 "cells": [
  {
   "cell_type": "code",
   "execution_count": 1,
   "id": "8c762754",
   "metadata": {},
   "outputs": [
    {
     "name": "stderr",
     "output_type": "stream",
     "text": [
      "2023-12-27 22:49:12.642632: I tensorflow/core/platform/cpu_feature_guard.cc:182] This TensorFlow binary is optimized to use available CPU instructions in performance-critical operations.\n",
      "To enable the following instructions: AVX2 FMA, in other operations, rebuild TensorFlow with the appropriate compiler flags.\n",
      "2023-12-27 22:49:13.577702: W tensorflow/compiler/tf2tensorrt/utils/py_utils.cc:38] TF-TRT Warning: Could not find TensorRT\n"
     ]
    }
   ],
   "source": [
    "import pandas as pd\n",
    "import tensorflow as tf\n",
    "import numpy as np\n",
    "import os"
   ]
  },
  {
   "cell_type": "code",
   "execution_count": 2,
   "id": "79bf7731",
   "metadata": {},
   "outputs": [],
   "source": [
    "def checkfilepath(filepath):\n",
    "    return os.path.exists(filepath)\n",
    "\n",
    "def read_nifti_file(filepath):\n",
    "    scan = nib.load(filepath)\n",
    "    data = scan.get_fdata()\n",
    "    return data\n",
    "\n",
    "def normalize(volume):\n",
    "    dmin = np.amin(volume)\n",
    "    dmax = np.amax(volume)\n",
    "    davg = np.average(volume)\n",
    "    volume = (volume-dmin)/davg\n",
    "    return volume\n",
    "\n",
    "def process_scan(path):\n",
    "    vol = read_nifti_file(path)\n",
    "    vol = normalize(vol)\n",
    "    return vol\n"
   ]
  },
  {
   "cell_type": "code",
   "execution_count": 3,
   "id": "c8c96090",
   "metadata": {},
   "outputs": [],
   "source": [
    "df = pd.read_excel('/lfs1/ashaji/Imputation_Problem/data/ADNI_final.xlsx', engine='openpyxl')\n",
    "df['SubjID'].replace('',np.nan,inplace=True)\n",
    "df['AGE_at_scan'].replace('',np.nan,inplace=True)\n",
    "df['DX'].replace('',np.nan,inplace=True)\n",
    "df.dropna(subset=['SubjID','AGE_at_scan','DX'], inplace=True)\n",
    "df = df.reset_index(drop=True)\n",
    "df.loc[df['SEX']=='M','SEX'] = 1\n",
    "df.loc[df['SEX']=='F','SEX'] = 0\n",
    "df.loc[df['DX']=='CN','DX'] = 0\n",
    "df.loc[df['DX']=='Dementia','DX'] = 2\n",
    "df.loc[df['DX']=='MCI','DX'] = 1\n",
    "df = df.sort_values(by = ['SubjID'])\n",
    "df = df.reset_index(drop=True)"
   ]
  },
  {
   "cell_type": "code",
   "execution_count": 4,
   "id": "61b216b9",
   "metadata": {},
   "outputs": [],
   "source": [
    "conddwi = [checkfilepath(str(x)) for x in df['DWI_Matched_File_FA_Path_ENIGMATBSSspace_2MM']]"
   ]
  },
  {
   "cell_type": "code",
   "execution_count": 5,
   "id": "5955ce12",
   "metadata": {},
   "outputs": [
    {
     "data": {
      "text/plain": [
       "9553"
      ]
     },
     "execution_count": 5,
     "metadata": {},
     "output_type": "execute_result"
    }
   ],
   "source": [
    "len(conddwi)"
   ]
  },
  {
   "cell_type": "code",
   "execution_count": 6,
   "id": "ccff7cb2",
   "metadata": {},
   "outputs": [
    {
     "data": {
      "text/html": [
       "<div>\n",
       "<style scoped>\n",
       "    .dataframe tbody tr th:only-of-type {\n",
       "        vertical-align: middle;\n",
       "    }\n",
       "\n",
       "    .dataframe tbody tr th {\n",
       "        vertical-align: top;\n",
       "    }\n",
       "\n",
       "    .dataframe thead th {\n",
       "        text-align: right;\n",
       "    }\n",
       "</style>\n",
       "<table border=\"1\" class=\"dataframe\">\n",
       "  <thead>\n",
       "    <tr style=\"text-align: right;\">\n",
       "      <th></th>\n",
       "      <th>SubjID</th>\n",
       "      <th>RID</th>\n",
       "      <th>NONACCEL_T1_SCAN_FILENAME</th>\n",
       "      <th>NONACCEL_T1_IMAGEID</th>\n",
       "      <th>NONACCEL_Path to RAW nifti</th>\n",
       "      <th>NONACCEL_Preprocessed for DL?</th>\n",
       "      <th>NONACCEL_DL_6DOF_2MM_T1</th>\n",
       "      <th>NONACCEL_DL_6DOF_2MM_MASK</th>\n",
       "      <th>NONACCEL_DL_6DOF_2MM_GM</th>\n",
       "      <th>NONACCEL_DL_6DOF_2MM_WM</th>\n",
       "      <th>...</th>\n",
       "      <th>DWI_Matched_File_L1_Path_ENIGMATBSSspace</th>\n",
       "      <th>DWI_Matched_File_MD_Path_ENIGMATBSSspace</th>\n",
       "      <th>DWI_Matched_File_RD_Path_ENIGMATBSSspace</th>\n",
       "      <th>T1_Path_ENIGMATBSSspace</th>\n",
       "      <th>DWI_Matched_File_FA_Path_ENIGMATBSSspace_2MM</th>\n",
       "      <th>DWI_Matched_File_L1_Path_ENIGMATBSSspace_2MM</th>\n",
       "      <th>DWI_Matched_File_MD_Path_ENIGMATBSSspace_2MM</th>\n",
       "      <th>DWI_Matched_File_RD_Path_ENIGMATBSSspace_2MM</th>\n",
       "      <th>T1_Path_ENIGMATBSSspace_2MM</th>\n",
       "      <th>DWI Preprocessing Pipeline (old=ADNI2 - new=ADNI3)</th>\n",
       "    </tr>\n",
       "  </thead>\n",
       "  <tbody>\n",
       "    <tr>\n",
       "      <th>0</th>\n",
       "      <td>002_S_0295</td>\n",
       "      <td>295</td>\n",
       "      <td>002_S_0295_20060418_A1_T1_1.5T_nonaccel_Preproc</td>\n",
       "      <td>45108.0</td>\n",
       "      <td>/nas/bioint-data/neuroimaging-data/ADNI/Organi...</td>\n",
       "      <td>yes</td>\n",
       "      <td>/nas/bioint-data/neuroimaging-data/ADNI/6DOF/0...</td>\n",
       "      <td>/nas/bioint-data/neuroimaging-data/ADNI/6DOF/0...</td>\n",
       "      <td>/nas/bioint-data/neuroimaging-data/ADNI/6DOF/0...</td>\n",
       "      <td>/nas/bioint-data/neuroimaging-data/ADNI/6DOF/0...</td>\n",
       "      <td>...</td>\n",
       "      <td>NaN</td>\n",
       "      <td>NaN</td>\n",
       "      <td>NaN</td>\n",
       "      <td>NaN</td>\n",
       "      <td>NaN</td>\n",
       "      <td>NaN</td>\n",
       "      <td>NaN</td>\n",
       "      <td>NaN</td>\n",
       "      <td>NaN</td>\n",
       "      <td>NaN</td>\n",
       "    </tr>\n",
       "    <tr>\n",
       "      <th>1</th>\n",
       "      <td>002_S_0295</td>\n",
       "      <td>295</td>\n",
       "      <td>002_S_0295_20061102_A1_T1_1.5T_nonaccel_Preproc</td>\n",
       "      <td>40966.0</td>\n",
       "      <td>/nas/bioint-data/neuroimaging-data/ADNI/Organi...</td>\n",
       "      <td>yes</td>\n",
       "      <td>/nas/bioint-data/neuroimaging-data/ADNI/6DOF/0...</td>\n",
       "      <td>/nas/bioint-data/neuroimaging-data/ADNI/6DOF/0...</td>\n",
       "      <td>/nas/bioint-data/neuroimaging-data/ADNI/6DOF/0...</td>\n",
       "      <td>/nas/bioint-data/neuroimaging-data/ADNI/6DOF/0...</td>\n",
       "      <td>...</td>\n",
       "      <td>NaN</td>\n",
       "      <td>NaN</td>\n",
       "      <td>NaN</td>\n",
       "      <td>NaN</td>\n",
       "      <td>NaN</td>\n",
       "      <td>NaN</td>\n",
       "      <td>NaN</td>\n",
       "      <td>NaN</td>\n",
       "      <td>NaN</td>\n",
       "      <td>NaN</td>\n",
       "    </tr>\n",
       "    <tr>\n",
       "      <th>2</th>\n",
       "      <td>002_S_0295</td>\n",
       "      <td>295</td>\n",
       "      <td>002_S_0295_20070525_A1_T1_1.5T_nonaccel_Preproc</td>\n",
       "      <td>64025.0</td>\n",
       "      <td>/nas/bioint-data/neuroimaging-data/ADNI/Organi...</td>\n",
       "      <td>yes</td>\n",
       "      <td>/nas/bioint-data/neuroimaging-data/ADNI/6DOF/0...</td>\n",
       "      <td>/nas/bioint-data/neuroimaging-data/ADNI/6DOF/0...</td>\n",
       "      <td>/nas/bioint-data/neuroimaging-data/ADNI/6DOF/0...</td>\n",
       "      <td>/nas/bioint-data/neuroimaging-data/ADNI/6DOF/0...</td>\n",
       "      <td>...</td>\n",
       "      <td>NaN</td>\n",
       "      <td>NaN</td>\n",
       "      <td>NaN</td>\n",
       "      <td>NaN</td>\n",
       "      <td>NaN</td>\n",
       "      <td>NaN</td>\n",
       "      <td>NaN</td>\n",
       "      <td>NaN</td>\n",
       "      <td>NaN</td>\n",
       "      <td>NaN</td>\n",
       "    </tr>\n",
       "    <tr>\n",
       "      <th>3</th>\n",
       "      <td>002_S_0295</td>\n",
       "      <td>295</td>\n",
       "      <td>002_S_0295_20080723_A1_T1_1.5T_nonaccel_Preproc</td>\n",
       "      <td>123685.0</td>\n",
       "      <td>/nas/bioint-data/neuroimaging-data/ADNI/Organi...</td>\n",
       "      <td>yes</td>\n",
       "      <td>/nas/bioint-data/neuroimaging-data/ADNI/6DOF/0...</td>\n",
       "      <td>/nas/bioint-data/neuroimaging-data/ADNI/6DOF/0...</td>\n",
       "      <td>/nas/bioint-data/neuroimaging-data/ADNI/6DOF/0...</td>\n",
       "      <td>/nas/bioint-data/neuroimaging-data/ADNI/6DOF/0...</td>\n",
       "      <td>...</td>\n",
       "      <td>NaN</td>\n",
       "      <td>NaN</td>\n",
       "      <td>NaN</td>\n",
       "      <td>NaN</td>\n",
       "      <td>NaN</td>\n",
       "      <td>NaN</td>\n",
       "      <td>NaN</td>\n",
       "      <td>NaN</td>\n",
       "      <td>NaN</td>\n",
       "      <td>NaN</td>\n",
       "    </tr>\n",
       "    <tr>\n",
       "      <th>4</th>\n",
       "      <td>002_S_0295</td>\n",
       "      <td>295</td>\n",
       "      <td>002_S_0295_20090522_A1_T1_1.5T_nonaccel_Preproc</td>\n",
       "      <td>150177.0</td>\n",
       "      <td>/nas/bioint-data/neuroimaging-data/ADNI/Organi...</td>\n",
       "      <td>yes</td>\n",
       "      <td>/nas/bioint-data/neuroimaging-data/ADNI/6DOF/0...</td>\n",
       "      <td>/nas/bioint-data/neuroimaging-data/ADNI/6DOF/0...</td>\n",
       "      <td>/nas/bioint-data/neuroimaging-data/ADNI/6DOF/0...</td>\n",
       "      <td>/nas/bioint-data/neuroimaging-data/ADNI/6DOF/0...</td>\n",
       "      <td>...</td>\n",
       "      <td>NaN</td>\n",
       "      <td>NaN</td>\n",
       "      <td>NaN</td>\n",
       "      <td>NaN</td>\n",
       "      <td>NaN</td>\n",
       "      <td>NaN</td>\n",
       "      <td>NaN</td>\n",
       "      <td>NaN</td>\n",
       "      <td>NaN</td>\n",
       "      <td>NaN</td>\n",
       "    </tr>\n",
       "    <tr>\n",
       "      <th>5</th>\n",
       "      <td>002_S_0295</td>\n",
       "      <td>295</td>\n",
       "      <td>002_S_0295_20100513_A1_T1_1.5T_nonaccel_Preproc</td>\n",
       "      <td>291869.0</td>\n",
       "      <td>/nas/bioint-data/neuroimaging-data/ADNI/Organi...</td>\n",
       "      <td>yes</td>\n",
       "      <td>/nas/bioint-data/neuroimaging-data/ADNI/6DOF/0...</td>\n",
       "      <td>/nas/bioint-data/neuroimaging-data/ADNI/6DOF/0...</td>\n",
       "      <td>/nas/bioint-data/neuroimaging-data/ADNI/6DOF/0...</td>\n",
       "      <td>/nas/bioint-data/neuroimaging-data/ADNI/6DOF/0...</td>\n",
       "      <td>...</td>\n",
       "      <td>NaN</td>\n",
       "      <td>NaN</td>\n",
       "      <td>NaN</td>\n",
       "      <td>NaN</td>\n",
       "      <td>NaN</td>\n",
       "      <td>NaN</td>\n",
       "      <td>NaN</td>\n",
       "      <td>NaN</td>\n",
       "      <td>NaN</td>\n",
       "      <td>NaN</td>\n",
       "    </tr>\n",
       "    <tr>\n",
       "      <th>6</th>\n",
       "      <td>002_S_0295</td>\n",
       "      <td>295</td>\n",
       "      <td>002_S_0295_20110602_A2_T1_3T_nonaccel_Preproc</td>\n",
       "      <td>241350.0</td>\n",
       "      <td>/nas/bioint-data/neuroimaging-data/ADNI/Organi...</td>\n",
       "      <td>yes</td>\n",
       "      <td>/nas/bioint-data/neuroimaging-data/ADNI/6DOF/0...</td>\n",
       "      <td>/nas/bioint-data/neuroimaging-data/ADNI/6DOF/0...</td>\n",
       "      <td>/nas/bioint-data/neuroimaging-data/ADNI/6DOF/0...</td>\n",
       "      <td>/nas/bioint-data/neuroimaging-data/ADNI/6DOF/0...</td>\n",
       "      <td>...</td>\n",
       "      <td>NaN</td>\n",
       "      <td>NaN</td>\n",
       "      <td>NaN</td>\n",
       "      <td>NaN</td>\n",
       "      <td>NaN</td>\n",
       "      <td>NaN</td>\n",
       "      <td>NaN</td>\n",
       "      <td>NaN</td>\n",
       "      <td>NaN</td>\n",
       "      <td>NaN</td>\n",
       "    </tr>\n",
       "    <tr>\n",
       "      <th>7</th>\n",
       "      <td>002_S_0295</td>\n",
       "      <td>295</td>\n",
       "      <td>002_S_0295_20120510_A2_T1_3T_nonaccel_Preproc</td>\n",
       "      <td>308078.0</td>\n",
       "      <td>/nas/bioint-data/neuroimaging-data/ADNI/Organi...</td>\n",
       "      <td>yes</td>\n",
       "      <td>/nas/bioint-data/neuroimaging-data/ADNI/6DOF/0...</td>\n",
       "      <td>/nas/bioint-data/neuroimaging-data/ADNI/6DOF/0...</td>\n",
       "      <td>/nas/bioint-data/neuroimaging-data/ADNI/6DOF/0...</td>\n",
       "      <td>/nas/bioint-data/neuroimaging-data/ADNI/6DOF/0...</td>\n",
       "      <td>...</td>\n",
       "      <td>NaN</td>\n",
       "      <td>NaN</td>\n",
       "      <td>NaN</td>\n",
       "      <td>NaN</td>\n",
       "      <td>NaN</td>\n",
       "      <td>NaN</td>\n",
       "      <td>NaN</td>\n",
       "      <td>NaN</td>\n",
       "      <td>NaN</td>\n",
       "      <td>NaN</td>\n",
       "    </tr>\n",
       "    <tr>\n",
       "      <th>8</th>\n",
       "      <td>002_S_0413</td>\n",
       "      <td>413</td>\n",
       "      <td>NaN</td>\n",
       "      <td>NaN</td>\n",
       "      <td>NaN</td>\n",
       "      <td>NaN</td>\n",
       "      <td>NaN</td>\n",
       "      <td>NaN</td>\n",
       "      <td>NaN</td>\n",
       "      <td>NaN</td>\n",
       "      <td>...</td>\n",
       "      <td>/nas/bioint-data/neuroimaging-data/ADNI/Organi...</td>\n",
       "      <td>/nas/bioint-data/neuroimaging-data/ADNI/Organi...</td>\n",
       "      <td>/nas/bioint-data/neuroimaging-data/ADNI/Organi...</td>\n",
       "      <td>/nas/bioint-data/neuroimaging-data/ADNI/Organi...</td>\n",
       "      <td>/nas/bioint-data/neuroimaging-data/ADNI/Organi...</td>\n",
       "      <td>/nas/bioint-data/neuroimaging-data/ADNI/Organi...</td>\n",
       "      <td>/nas/bioint-data/neuroimaging-data/ADNI/Organi...</td>\n",
       "      <td>/nas/bioint-data/neuroimaging-data/ADNI/Organi...</td>\n",
       "      <td>/nas/bioint-data/neuroimaging-data/ADNI/Organi...</td>\n",
       "      <td>ADNI3</td>\n",
       "    </tr>\n",
       "    <tr>\n",
       "      <th>9</th>\n",
       "      <td>002_S_0413</td>\n",
       "      <td>413</td>\n",
       "      <td>002_S_0413_20150609_A2_T1_3T_nonaccel_Preproc</td>\n",
       "      <td>649030.0</td>\n",
       "      <td>/nas/bioint-data/neuroimaging-data/ADNI/Organi...</td>\n",
       "      <td>yes</td>\n",
       "      <td>/nas/bioint-data/neuroimaging-data/ADNI/6DOF/0...</td>\n",
       "      <td>/nas/bioint-data/neuroimaging-data/ADNI/6DOF/0...</td>\n",
       "      <td>/nas/bioint-data/neuroimaging-data/ADNI/6DOF/0...</td>\n",
       "      <td>/nas/bioint-data/neuroimaging-data/ADNI/6DOF/0...</td>\n",
       "      <td>...</td>\n",
       "      <td>NaN</td>\n",
       "      <td>NaN</td>\n",
       "      <td>NaN</td>\n",
       "      <td>NaN</td>\n",
       "      <td>NaN</td>\n",
       "      <td>NaN</td>\n",
       "      <td>NaN</td>\n",
       "      <td>NaN</td>\n",
       "      <td>NaN</td>\n",
       "      <td>NaN</td>\n",
       "    </tr>\n",
       "    <tr>\n",
       "      <th>10</th>\n",
       "      <td>002_S_0413</td>\n",
       "      <td>413</td>\n",
       "      <td>002_S_0413_20140501_A2_T1_3T_nonaccel_Preproc</td>\n",
       "      <td>424741.0</td>\n",
       "      <td>/nas/bioint-data/neuroimaging-data/ADNI/Organi...</td>\n",
       "      <td>yes</td>\n",
       "      <td>/nas/bioint-data/neuroimaging-data/ADNI/6DOF/0...</td>\n",
       "      <td>/nas/bioint-data/neuroimaging-data/ADNI/6DOF/0...</td>\n",
       "      <td>/nas/bioint-data/neuroimaging-data/ADNI/6DOF/0...</td>\n",
       "      <td>/nas/bioint-data/neuroimaging-data/ADNI/6DOF/0...</td>\n",
       "      <td>...</td>\n",
       "      <td>NaN</td>\n",
       "      <td>NaN</td>\n",
       "      <td>NaN</td>\n",
       "      <td>NaN</td>\n",
       "      <td>NaN</td>\n",
       "      <td>NaN</td>\n",
       "      <td>NaN</td>\n",
       "      <td>NaN</td>\n",
       "      <td>NaN</td>\n",
       "      <td>NaN</td>\n",
       "    </tr>\n",
       "    <tr>\n",
       "      <th>11</th>\n",
       "      <td>002_S_0413</td>\n",
       "      <td>413</td>\n",
       "      <td>002_S_0413_20130510_A2_T1_3T_nonaccel_Preproc</td>\n",
       "      <td>373133.0</td>\n",
       "      <td>/nas/bioint-data/neuroimaging-data/ADNI/Organi...</td>\n",
       "      <td>yes</td>\n",
       "      <td>/nas/bioint-data/neuroimaging-data/ADNI/6DOF/0...</td>\n",
       "      <td>/nas/bioint-data/neuroimaging-data/ADNI/6DOF/0...</td>\n",
       "      <td>/nas/bioint-data/neuroimaging-data/ADNI/6DOF/0...</td>\n",
       "      <td>/nas/bioint-data/neuroimaging-data/ADNI/6DOF/0...</td>\n",
       "      <td>...</td>\n",
       "      <td>NaN</td>\n",
       "      <td>NaN</td>\n",
       "      <td>NaN</td>\n",
       "      <td>NaN</td>\n",
       "      <td>NaN</td>\n",
       "      <td>NaN</td>\n",
       "      <td>NaN</td>\n",
       "      <td>NaN</td>\n",
       "      <td>NaN</td>\n",
       "      <td>NaN</td>\n",
       "    </tr>\n",
       "    <tr>\n",
       "      <th>12</th>\n",
       "      <td>002_S_0413</td>\n",
       "      <td>413</td>\n",
       "      <td>002_S_0413_20120515_A2_T1_3T_nonaccel_Preproc</td>\n",
       "      <td>312701.0</td>\n",
       "      <td>/nas/bioint-data/neuroimaging-data/ADNI/Organi...</td>\n",
       "      <td>yes</td>\n",
       "      <td>/nas/bioint-data/neuroimaging-data/ADNI/6DOF/0...</td>\n",
       "      <td>/nas/bioint-data/neuroimaging-data/ADNI/6DOF/0...</td>\n",
       "      <td>/nas/bioint-data/neuroimaging-data/ADNI/6DOF/0...</td>\n",
       "      <td>/nas/bioint-data/neuroimaging-data/ADNI/6DOF/0...</td>\n",
       "      <td>...</td>\n",
       "      <td>NaN</td>\n",
       "      <td>NaN</td>\n",
       "      <td>NaN</td>\n",
       "      <td>NaN</td>\n",
       "      <td>NaN</td>\n",
       "      <td>NaN</td>\n",
       "      <td>NaN</td>\n",
       "      <td>NaN</td>\n",
       "      <td>NaN</td>\n",
       "      <td>NaN</td>\n",
       "    </tr>\n",
       "    <tr>\n",
       "      <th>13</th>\n",
       "      <td>002_S_0413</td>\n",
       "      <td>413</td>\n",
       "      <td>002_S_0413_20110616_A2_T1_3T_nonaccel_Preproc</td>\n",
       "      <td>242895.0</td>\n",
       "      <td>/nas/bioint-data/neuroimaging-data/ADNI/Organi...</td>\n",
       "      <td>yes</td>\n",
       "      <td>/nas/bioint-data/neuroimaging-data/ADNI/6DOF/0...</td>\n",
       "      <td>/nas/bioint-data/neuroimaging-data/ADNI/6DOF/0...</td>\n",
       "      <td>/nas/bioint-data/neuroimaging-data/ADNI/6DOF/0...</td>\n",
       "      <td>/nas/bioint-data/neuroimaging-data/ADNI/6DOF/0...</td>\n",
       "      <td>...</td>\n",
       "      <td>NaN</td>\n",
       "      <td>NaN</td>\n",
       "      <td>NaN</td>\n",
       "      <td>NaN</td>\n",
       "      <td>NaN</td>\n",
       "      <td>NaN</td>\n",
       "      <td>NaN</td>\n",
       "      <td>NaN</td>\n",
       "      <td>NaN</td>\n",
       "      <td>NaN</td>\n",
       "    </tr>\n",
       "    <tr>\n",
       "      <th>14</th>\n",
       "      <td>002_S_0413</td>\n",
       "      <td>413</td>\n",
       "      <td>NaN</td>\n",
       "      <td>NaN</td>\n",
       "      <td>NaN</td>\n",
       "      <td>NaN</td>\n",
       "      <td>NaN</td>\n",
       "      <td>NaN</td>\n",
       "      <td>NaN</td>\n",
       "      <td>NaN</td>\n",
       "      <td>...</td>\n",
       "      <td>/nas/bioint-data/neuroimaging-data/ADNI/Organi...</td>\n",
       "      <td>/nas/bioint-data/neuroimaging-data/ADNI/Organi...</td>\n",
       "      <td>/nas/bioint-data/neuroimaging-data/ADNI/Organi...</td>\n",
       "      <td>/nas/bioint-data/neuroimaging-data/ADNI/Organi...</td>\n",
       "      <td>/nas/bioint-data/neuroimaging-data/ADNI/Organi...</td>\n",
       "      <td>/nas/bioint-data/neuroimaging-data/ADNI/Organi...</td>\n",
       "      <td>/nas/bioint-data/neuroimaging-data/ADNI/Organi...</td>\n",
       "      <td>/nas/bioint-data/neuroimaging-data/ADNI/Organi...</td>\n",
       "      <td>/nas/bioint-data/neuroimaging-data/ADNI/Organi...</td>\n",
       "      <td>ADNI3</td>\n",
       "    </tr>\n",
       "    <tr>\n",
       "      <th>15</th>\n",
       "      <td>002_S_0413</td>\n",
       "      <td>413</td>\n",
       "      <td>002_S_0413_20090504_A1_T1_1.5T_nonaccel_Preproc</td>\n",
       "      <td>149740.0</td>\n",
       "      <td>/nas/bioint-data/neuroimaging-data/ADNI/Organi...</td>\n",
       "      <td>yes</td>\n",
       "      <td>/nas/bioint-data/neuroimaging-data/ADNI/6DOF/0...</td>\n",
       "      <td>/nas/bioint-data/neuroimaging-data/ADNI/6DOF/0...</td>\n",
       "      <td>/nas/bioint-data/neuroimaging-data/ADNI/6DOF/0...</td>\n",
       "      <td>/nas/bioint-data/neuroimaging-data/ADNI/6DOF/0...</td>\n",
       "      <td>...</td>\n",
       "      <td>NaN</td>\n",
       "      <td>NaN</td>\n",
       "      <td>NaN</td>\n",
       "      <td>NaN</td>\n",
       "      <td>NaN</td>\n",
       "      <td>NaN</td>\n",
       "      <td>NaN</td>\n",
       "      <td>NaN</td>\n",
       "      <td>NaN</td>\n",
       "      <td>NaN</td>\n",
       "    </tr>\n",
       "    <tr>\n",
       "      <th>16</th>\n",
       "      <td>002_S_0413</td>\n",
       "      <td>413</td>\n",
       "      <td>002_S_0413_20080731_A1_T1_1.5T_nonaccel_Preproc</td>\n",
       "      <td>120917.0</td>\n",
       "      <td>/nas/bioint-data/neuroimaging-data/ADNI/Organi...</td>\n",
       "      <td>yes</td>\n",
       "      <td>/nas/bioint-data/neuroimaging-data/ADNI/6DOF/0...</td>\n",
       "      <td>/nas/bioint-data/neuroimaging-data/ADNI/6DOF/0...</td>\n",
       "      <td>/nas/bioint-data/neuroimaging-data/ADNI/6DOF/0...</td>\n",
       "      <td>/nas/bioint-data/neuroimaging-data/ADNI/6DOF/0...</td>\n",
       "      <td>...</td>\n",
       "      <td>NaN</td>\n",
       "      <td>NaN</td>\n",
       "      <td>NaN</td>\n",
       "      <td>NaN</td>\n",
       "      <td>NaN</td>\n",
       "      <td>NaN</td>\n",
       "      <td>NaN</td>\n",
       "      <td>NaN</td>\n",
       "      <td>NaN</td>\n",
       "      <td>NaN</td>\n",
       "    </tr>\n",
       "    <tr>\n",
       "      <th>17</th>\n",
       "      <td>002_S_0413</td>\n",
       "      <td>413</td>\n",
       "      <td>002_S_0413_20070601_A1_T1_1.5T_nonaccel_Preproc</td>\n",
       "      <td>60008.0</td>\n",
       "      <td>/nas/bioint-data/neuroimaging-data/ADNI/Organi...</td>\n",
       "      <td>yes</td>\n",
       "      <td>/nas/bioint-data/neuroimaging-data/ADNI/6DOF/0...</td>\n",
       "      <td>/nas/bioint-data/neuroimaging-data/ADNI/6DOF/0...</td>\n",
       "      <td>/nas/bioint-data/neuroimaging-data/ADNI/6DOF/0...</td>\n",
       "      <td>/nas/bioint-data/neuroimaging-data/ADNI/6DOF/0...</td>\n",
       "      <td>...</td>\n",
       "      <td>NaN</td>\n",
       "      <td>NaN</td>\n",
       "      <td>NaN</td>\n",
       "      <td>NaN</td>\n",
       "      <td>NaN</td>\n",
       "      <td>NaN</td>\n",
       "      <td>NaN</td>\n",
       "      <td>NaN</td>\n",
       "      <td>NaN</td>\n",
       "      <td>NaN</td>\n",
       "    </tr>\n",
       "    <tr>\n",
       "      <th>18</th>\n",
       "      <td>002_S_0413</td>\n",
       "      <td>413</td>\n",
       "      <td>002_S_0413_20061115_A1_T1_1.5T_nonaccel_Preproc</td>\n",
       "      <td>79122.0</td>\n",
       "      <td>/nas/bioint-data/neuroimaging-data/ADNI/Organi...</td>\n",
       "      <td>yes</td>\n",
       "      <td>/nas/bioint-data/neuroimaging-data/ADNI/6DOF/0...</td>\n",
       "      <td>/nas/bioint-data/neuroimaging-data/ADNI/6DOF/0...</td>\n",
       "      <td>/nas/bioint-data/neuroimaging-data/ADNI/6DOF/0...</td>\n",
       "      <td>/nas/bioint-data/neuroimaging-data/ADNI/6DOF/0...</td>\n",
       "      <td>...</td>\n",
       "      <td>NaN</td>\n",
       "      <td>NaN</td>\n",
       "      <td>NaN</td>\n",
       "      <td>NaN</td>\n",
       "      <td>NaN</td>\n",
       "      <td>NaN</td>\n",
       "      <td>NaN</td>\n",
       "      <td>NaN</td>\n",
       "      <td>NaN</td>\n",
       "      <td>NaN</td>\n",
       "    </tr>\n",
       "    <tr>\n",
       "      <th>19</th>\n",
       "      <td>002_S_0413</td>\n",
       "      <td>413</td>\n",
       "      <td>002_S_0413_20100506_A1_T1_1.5T_nonaccel_Preproc</td>\n",
       "      <td>291873.0</td>\n",
       "      <td>/nas/bioint-data/neuroimaging-data/ADNI/Organi...</td>\n",
       "      <td>yes</td>\n",
       "      <td>/nas/bioint-data/neuroimaging-data/ADNI/6DOF/0...</td>\n",
       "      <td>/nas/bioint-data/neuroimaging-data/ADNI/6DOF/0...</td>\n",
       "      <td>/nas/bioint-data/neuroimaging-data/ADNI/6DOF/0...</td>\n",
       "      <td>/nas/bioint-data/neuroimaging-data/ADNI/6DOF/0...</td>\n",
       "      <td>...</td>\n",
       "      <td>NaN</td>\n",
       "      <td>NaN</td>\n",
       "      <td>NaN</td>\n",
       "      <td>NaN</td>\n",
       "      <td>NaN</td>\n",
       "      <td>NaN</td>\n",
       "      <td>NaN</td>\n",
       "      <td>NaN</td>\n",
       "      <td>NaN</td>\n",
       "      <td>NaN</td>\n",
       "    </tr>\n",
       "  </tbody>\n",
       "</table>\n",
       "<p>20 rows × 121 columns</p>\n",
       "</div>"
      ],
      "text/plain": [
       "        SubjID  RID                        NONACCEL_T1_SCAN_FILENAME  \\\n",
       "0   002_S_0295  295  002_S_0295_20060418_A1_T1_1.5T_nonaccel_Preproc   \n",
       "1   002_S_0295  295  002_S_0295_20061102_A1_T1_1.5T_nonaccel_Preproc   \n",
       "2   002_S_0295  295  002_S_0295_20070525_A1_T1_1.5T_nonaccel_Preproc   \n",
       "3   002_S_0295  295  002_S_0295_20080723_A1_T1_1.5T_nonaccel_Preproc   \n",
       "4   002_S_0295  295  002_S_0295_20090522_A1_T1_1.5T_nonaccel_Preproc   \n",
       "5   002_S_0295  295  002_S_0295_20100513_A1_T1_1.5T_nonaccel_Preproc   \n",
       "6   002_S_0295  295    002_S_0295_20110602_A2_T1_3T_nonaccel_Preproc   \n",
       "7   002_S_0295  295    002_S_0295_20120510_A2_T1_3T_nonaccel_Preproc   \n",
       "8   002_S_0413  413                                              NaN   \n",
       "9   002_S_0413  413    002_S_0413_20150609_A2_T1_3T_nonaccel_Preproc   \n",
       "10  002_S_0413  413    002_S_0413_20140501_A2_T1_3T_nonaccel_Preproc   \n",
       "11  002_S_0413  413    002_S_0413_20130510_A2_T1_3T_nonaccel_Preproc   \n",
       "12  002_S_0413  413    002_S_0413_20120515_A2_T1_3T_nonaccel_Preproc   \n",
       "13  002_S_0413  413    002_S_0413_20110616_A2_T1_3T_nonaccel_Preproc   \n",
       "14  002_S_0413  413                                              NaN   \n",
       "15  002_S_0413  413  002_S_0413_20090504_A1_T1_1.5T_nonaccel_Preproc   \n",
       "16  002_S_0413  413  002_S_0413_20080731_A1_T1_1.5T_nonaccel_Preproc   \n",
       "17  002_S_0413  413  002_S_0413_20070601_A1_T1_1.5T_nonaccel_Preproc   \n",
       "18  002_S_0413  413  002_S_0413_20061115_A1_T1_1.5T_nonaccel_Preproc   \n",
       "19  002_S_0413  413  002_S_0413_20100506_A1_T1_1.5T_nonaccel_Preproc   \n",
       "\n",
       "    NONACCEL_T1_IMAGEID                         NONACCEL_Path to RAW nifti  \\\n",
       "0               45108.0  /nas/bioint-data/neuroimaging-data/ADNI/Organi...   \n",
       "1               40966.0  /nas/bioint-data/neuroimaging-data/ADNI/Organi...   \n",
       "2               64025.0  /nas/bioint-data/neuroimaging-data/ADNI/Organi...   \n",
       "3              123685.0  /nas/bioint-data/neuroimaging-data/ADNI/Organi...   \n",
       "4              150177.0  /nas/bioint-data/neuroimaging-data/ADNI/Organi...   \n",
       "5              291869.0  /nas/bioint-data/neuroimaging-data/ADNI/Organi...   \n",
       "6              241350.0  /nas/bioint-data/neuroimaging-data/ADNI/Organi...   \n",
       "7              308078.0  /nas/bioint-data/neuroimaging-data/ADNI/Organi...   \n",
       "8                   NaN                                                NaN   \n",
       "9              649030.0  /nas/bioint-data/neuroimaging-data/ADNI/Organi...   \n",
       "10             424741.0  /nas/bioint-data/neuroimaging-data/ADNI/Organi...   \n",
       "11             373133.0  /nas/bioint-data/neuroimaging-data/ADNI/Organi...   \n",
       "12             312701.0  /nas/bioint-data/neuroimaging-data/ADNI/Organi...   \n",
       "13             242895.0  /nas/bioint-data/neuroimaging-data/ADNI/Organi...   \n",
       "14                  NaN                                                NaN   \n",
       "15             149740.0  /nas/bioint-data/neuroimaging-data/ADNI/Organi...   \n",
       "16             120917.0  /nas/bioint-data/neuroimaging-data/ADNI/Organi...   \n",
       "17              60008.0  /nas/bioint-data/neuroimaging-data/ADNI/Organi...   \n",
       "18              79122.0  /nas/bioint-data/neuroimaging-data/ADNI/Organi...   \n",
       "19             291873.0  /nas/bioint-data/neuroimaging-data/ADNI/Organi...   \n",
       "\n",
       "   NONACCEL_Preprocessed for DL?  \\\n",
       "0                            yes   \n",
       "1                            yes   \n",
       "2                            yes   \n",
       "3                            yes   \n",
       "4                            yes   \n",
       "5                            yes   \n",
       "6                            yes   \n",
       "7                            yes   \n",
       "8                            NaN   \n",
       "9                            yes   \n",
       "10                           yes   \n",
       "11                           yes   \n",
       "12                           yes   \n",
       "13                           yes   \n",
       "14                           NaN   \n",
       "15                           yes   \n",
       "16                           yes   \n",
       "17                           yes   \n",
       "18                           yes   \n",
       "19                           yes   \n",
       "\n",
       "                              NONACCEL_DL_6DOF_2MM_T1  \\\n",
       "0   /nas/bioint-data/neuroimaging-data/ADNI/6DOF/0...   \n",
       "1   /nas/bioint-data/neuroimaging-data/ADNI/6DOF/0...   \n",
       "2   /nas/bioint-data/neuroimaging-data/ADNI/6DOF/0...   \n",
       "3   /nas/bioint-data/neuroimaging-data/ADNI/6DOF/0...   \n",
       "4   /nas/bioint-data/neuroimaging-data/ADNI/6DOF/0...   \n",
       "5   /nas/bioint-data/neuroimaging-data/ADNI/6DOF/0...   \n",
       "6   /nas/bioint-data/neuroimaging-data/ADNI/6DOF/0...   \n",
       "7   /nas/bioint-data/neuroimaging-data/ADNI/6DOF/0...   \n",
       "8                                                 NaN   \n",
       "9   /nas/bioint-data/neuroimaging-data/ADNI/6DOF/0...   \n",
       "10  /nas/bioint-data/neuroimaging-data/ADNI/6DOF/0...   \n",
       "11  /nas/bioint-data/neuroimaging-data/ADNI/6DOF/0...   \n",
       "12  /nas/bioint-data/neuroimaging-data/ADNI/6DOF/0...   \n",
       "13  /nas/bioint-data/neuroimaging-data/ADNI/6DOF/0...   \n",
       "14                                                NaN   \n",
       "15  /nas/bioint-data/neuroimaging-data/ADNI/6DOF/0...   \n",
       "16  /nas/bioint-data/neuroimaging-data/ADNI/6DOF/0...   \n",
       "17  /nas/bioint-data/neuroimaging-data/ADNI/6DOF/0...   \n",
       "18  /nas/bioint-data/neuroimaging-data/ADNI/6DOF/0...   \n",
       "19  /nas/bioint-data/neuroimaging-data/ADNI/6DOF/0...   \n",
       "\n",
       "                            NONACCEL_DL_6DOF_2MM_MASK  \\\n",
       "0   /nas/bioint-data/neuroimaging-data/ADNI/6DOF/0...   \n",
       "1   /nas/bioint-data/neuroimaging-data/ADNI/6DOF/0...   \n",
       "2   /nas/bioint-data/neuroimaging-data/ADNI/6DOF/0...   \n",
       "3   /nas/bioint-data/neuroimaging-data/ADNI/6DOF/0...   \n",
       "4   /nas/bioint-data/neuroimaging-data/ADNI/6DOF/0...   \n",
       "5   /nas/bioint-data/neuroimaging-data/ADNI/6DOF/0...   \n",
       "6   /nas/bioint-data/neuroimaging-data/ADNI/6DOF/0...   \n",
       "7   /nas/bioint-data/neuroimaging-data/ADNI/6DOF/0...   \n",
       "8                                                 NaN   \n",
       "9   /nas/bioint-data/neuroimaging-data/ADNI/6DOF/0...   \n",
       "10  /nas/bioint-data/neuroimaging-data/ADNI/6DOF/0...   \n",
       "11  /nas/bioint-data/neuroimaging-data/ADNI/6DOF/0...   \n",
       "12  /nas/bioint-data/neuroimaging-data/ADNI/6DOF/0...   \n",
       "13  /nas/bioint-data/neuroimaging-data/ADNI/6DOF/0...   \n",
       "14                                                NaN   \n",
       "15  /nas/bioint-data/neuroimaging-data/ADNI/6DOF/0...   \n",
       "16  /nas/bioint-data/neuroimaging-data/ADNI/6DOF/0...   \n",
       "17  /nas/bioint-data/neuroimaging-data/ADNI/6DOF/0...   \n",
       "18  /nas/bioint-data/neuroimaging-data/ADNI/6DOF/0...   \n",
       "19  /nas/bioint-data/neuroimaging-data/ADNI/6DOF/0...   \n",
       "\n",
       "                              NONACCEL_DL_6DOF_2MM_GM  \\\n",
       "0   /nas/bioint-data/neuroimaging-data/ADNI/6DOF/0...   \n",
       "1   /nas/bioint-data/neuroimaging-data/ADNI/6DOF/0...   \n",
       "2   /nas/bioint-data/neuroimaging-data/ADNI/6DOF/0...   \n",
       "3   /nas/bioint-data/neuroimaging-data/ADNI/6DOF/0...   \n",
       "4   /nas/bioint-data/neuroimaging-data/ADNI/6DOF/0...   \n",
       "5   /nas/bioint-data/neuroimaging-data/ADNI/6DOF/0...   \n",
       "6   /nas/bioint-data/neuroimaging-data/ADNI/6DOF/0...   \n",
       "7   /nas/bioint-data/neuroimaging-data/ADNI/6DOF/0...   \n",
       "8                                                 NaN   \n",
       "9   /nas/bioint-data/neuroimaging-data/ADNI/6DOF/0...   \n",
       "10  /nas/bioint-data/neuroimaging-data/ADNI/6DOF/0...   \n",
       "11  /nas/bioint-data/neuroimaging-data/ADNI/6DOF/0...   \n",
       "12  /nas/bioint-data/neuroimaging-data/ADNI/6DOF/0...   \n",
       "13  /nas/bioint-data/neuroimaging-data/ADNI/6DOF/0...   \n",
       "14                                                NaN   \n",
       "15  /nas/bioint-data/neuroimaging-data/ADNI/6DOF/0...   \n",
       "16  /nas/bioint-data/neuroimaging-data/ADNI/6DOF/0...   \n",
       "17  /nas/bioint-data/neuroimaging-data/ADNI/6DOF/0...   \n",
       "18  /nas/bioint-data/neuroimaging-data/ADNI/6DOF/0...   \n",
       "19  /nas/bioint-data/neuroimaging-data/ADNI/6DOF/0...   \n",
       "\n",
       "                              NONACCEL_DL_6DOF_2MM_WM  ...  \\\n",
       "0   /nas/bioint-data/neuroimaging-data/ADNI/6DOF/0...  ...   \n",
       "1   /nas/bioint-data/neuroimaging-data/ADNI/6DOF/0...  ...   \n",
       "2   /nas/bioint-data/neuroimaging-data/ADNI/6DOF/0...  ...   \n",
       "3   /nas/bioint-data/neuroimaging-data/ADNI/6DOF/0...  ...   \n",
       "4   /nas/bioint-data/neuroimaging-data/ADNI/6DOF/0...  ...   \n",
       "5   /nas/bioint-data/neuroimaging-data/ADNI/6DOF/0...  ...   \n",
       "6   /nas/bioint-data/neuroimaging-data/ADNI/6DOF/0...  ...   \n",
       "7   /nas/bioint-data/neuroimaging-data/ADNI/6DOF/0...  ...   \n",
       "8                                                 NaN  ...   \n",
       "9   /nas/bioint-data/neuroimaging-data/ADNI/6DOF/0...  ...   \n",
       "10  /nas/bioint-data/neuroimaging-data/ADNI/6DOF/0...  ...   \n",
       "11  /nas/bioint-data/neuroimaging-data/ADNI/6DOF/0...  ...   \n",
       "12  /nas/bioint-data/neuroimaging-data/ADNI/6DOF/0...  ...   \n",
       "13  /nas/bioint-data/neuroimaging-data/ADNI/6DOF/0...  ...   \n",
       "14                                                NaN  ...   \n",
       "15  /nas/bioint-data/neuroimaging-data/ADNI/6DOF/0...  ...   \n",
       "16  /nas/bioint-data/neuroimaging-data/ADNI/6DOF/0...  ...   \n",
       "17  /nas/bioint-data/neuroimaging-data/ADNI/6DOF/0...  ...   \n",
       "18  /nas/bioint-data/neuroimaging-data/ADNI/6DOF/0...  ...   \n",
       "19  /nas/bioint-data/neuroimaging-data/ADNI/6DOF/0...  ...   \n",
       "\n",
       "             DWI_Matched_File_L1_Path_ENIGMATBSSspace  \\\n",
       "0                                                 NaN   \n",
       "1                                                 NaN   \n",
       "2                                                 NaN   \n",
       "3                                                 NaN   \n",
       "4                                                 NaN   \n",
       "5                                                 NaN   \n",
       "6                                                 NaN   \n",
       "7                                                 NaN   \n",
       "8   /nas/bioint-data/neuroimaging-data/ADNI/Organi...   \n",
       "9                                                 NaN   \n",
       "10                                                NaN   \n",
       "11                                                NaN   \n",
       "12                                                NaN   \n",
       "13                                                NaN   \n",
       "14  /nas/bioint-data/neuroimaging-data/ADNI/Organi...   \n",
       "15                                                NaN   \n",
       "16                                                NaN   \n",
       "17                                                NaN   \n",
       "18                                                NaN   \n",
       "19                                                NaN   \n",
       "\n",
       "             DWI_Matched_File_MD_Path_ENIGMATBSSspace  \\\n",
       "0                                                 NaN   \n",
       "1                                                 NaN   \n",
       "2                                                 NaN   \n",
       "3                                                 NaN   \n",
       "4                                                 NaN   \n",
       "5                                                 NaN   \n",
       "6                                                 NaN   \n",
       "7                                                 NaN   \n",
       "8   /nas/bioint-data/neuroimaging-data/ADNI/Organi...   \n",
       "9                                                 NaN   \n",
       "10                                                NaN   \n",
       "11                                                NaN   \n",
       "12                                                NaN   \n",
       "13                                                NaN   \n",
       "14  /nas/bioint-data/neuroimaging-data/ADNI/Organi...   \n",
       "15                                                NaN   \n",
       "16                                                NaN   \n",
       "17                                                NaN   \n",
       "18                                                NaN   \n",
       "19                                                NaN   \n",
       "\n",
       "             DWI_Matched_File_RD_Path_ENIGMATBSSspace  \\\n",
       "0                                                 NaN   \n",
       "1                                                 NaN   \n",
       "2                                                 NaN   \n",
       "3                                                 NaN   \n",
       "4                                                 NaN   \n",
       "5                                                 NaN   \n",
       "6                                                 NaN   \n",
       "7                                                 NaN   \n",
       "8   /nas/bioint-data/neuroimaging-data/ADNI/Organi...   \n",
       "9                                                 NaN   \n",
       "10                                                NaN   \n",
       "11                                                NaN   \n",
       "12                                                NaN   \n",
       "13                                                NaN   \n",
       "14  /nas/bioint-data/neuroimaging-data/ADNI/Organi...   \n",
       "15                                                NaN   \n",
       "16                                                NaN   \n",
       "17                                                NaN   \n",
       "18                                                NaN   \n",
       "19                                                NaN   \n",
       "\n",
       "                              T1_Path_ENIGMATBSSspace  \\\n",
       "0                                                 NaN   \n",
       "1                                                 NaN   \n",
       "2                                                 NaN   \n",
       "3                                                 NaN   \n",
       "4                                                 NaN   \n",
       "5                                                 NaN   \n",
       "6                                                 NaN   \n",
       "7                                                 NaN   \n",
       "8   /nas/bioint-data/neuroimaging-data/ADNI/Organi...   \n",
       "9                                                 NaN   \n",
       "10                                                NaN   \n",
       "11                                                NaN   \n",
       "12                                                NaN   \n",
       "13                                                NaN   \n",
       "14  /nas/bioint-data/neuroimaging-data/ADNI/Organi...   \n",
       "15                                                NaN   \n",
       "16                                                NaN   \n",
       "17                                                NaN   \n",
       "18                                                NaN   \n",
       "19                                                NaN   \n",
       "\n",
       "         DWI_Matched_File_FA_Path_ENIGMATBSSspace_2MM  \\\n",
       "0                                                 NaN   \n",
       "1                                                 NaN   \n",
       "2                                                 NaN   \n",
       "3                                                 NaN   \n",
       "4                                                 NaN   \n",
       "5                                                 NaN   \n",
       "6                                                 NaN   \n",
       "7                                                 NaN   \n",
       "8   /nas/bioint-data/neuroimaging-data/ADNI/Organi...   \n",
       "9                                                 NaN   \n",
       "10                                                NaN   \n",
       "11                                                NaN   \n",
       "12                                                NaN   \n",
       "13                                                NaN   \n",
       "14  /nas/bioint-data/neuroimaging-data/ADNI/Organi...   \n",
       "15                                                NaN   \n",
       "16                                                NaN   \n",
       "17                                                NaN   \n",
       "18                                                NaN   \n",
       "19                                                NaN   \n",
       "\n",
       "         DWI_Matched_File_L1_Path_ENIGMATBSSspace_2MM  \\\n",
       "0                                                 NaN   \n",
       "1                                                 NaN   \n",
       "2                                                 NaN   \n",
       "3                                                 NaN   \n",
       "4                                                 NaN   \n",
       "5                                                 NaN   \n",
       "6                                                 NaN   \n",
       "7                                                 NaN   \n",
       "8   /nas/bioint-data/neuroimaging-data/ADNI/Organi...   \n",
       "9                                                 NaN   \n",
       "10                                                NaN   \n",
       "11                                                NaN   \n",
       "12                                                NaN   \n",
       "13                                                NaN   \n",
       "14  /nas/bioint-data/neuroimaging-data/ADNI/Organi...   \n",
       "15                                                NaN   \n",
       "16                                                NaN   \n",
       "17                                                NaN   \n",
       "18                                                NaN   \n",
       "19                                                NaN   \n",
       "\n",
       "         DWI_Matched_File_MD_Path_ENIGMATBSSspace_2MM  \\\n",
       "0                                                 NaN   \n",
       "1                                                 NaN   \n",
       "2                                                 NaN   \n",
       "3                                                 NaN   \n",
       "4                                                 NaN   \n",
       "5                                                 NaN   \n",
       "6                                                 NaN   \n",
       "7                                                 NaN   \n",
       "8   /nas/bioint-data/neuroimaging-data/ADNI/Organi...   \n",
       "9                                                 NaN   \n",
       "10                                                NaN   \n",
       "11                                                NaN   \n",
       "12                                                NaN   \n",
       "13                                                NaN   \n",
       "14  /nas/bioint-data/neuroimaging-data/ADNI/Organi...   \n",
       "15                                                NaN   \n",
       "16                                                NaN   \n",
       "17                                                NaN   \n",
       "18                                                NaN   \n",
       "19                                                NaN   \n",
       "\n",
       "         DWI_Matched_File_RD_Path_ENIGMATBSSspace_2MM  \\\n",
       "0                                                 NaN   \n",
       "1                                                 NaN   \n",
       "2                                                 NaN   \n",
       "3                                                 NaN   \n",
       "4                                                 NaN   \n",
       "5                                                 NaN   \n",
       "6                                                 NaN   \n",
       "7                                                 NaN   \n",
       "8   /nas/bioint-data/neuroimaging-data/ADNI/Organi...   \n",
       "9                                                 NaN   \n",
       "10                                                NaN   \n",
       "11                                                NaN   \n",
       "12                                                NaN   \n",
       "13                                                NaN   \n",
       "14  /nas/bioint-data/neuroimaging-data/ADNI/Organi...   \n",
       "15                                                NaN   \n",
       "16                                                NaN   \n",
       "17                                                NaN   \n",
       "18                                                NaN   \n",
       "19                                                NaN   \n",
       "\n",
       "                          T1_Path_ENIGMATBSSspace_2MM  \\\n",
       "0                                                 NaN   \n",
       "1                                                 NaN   \n",
       "2                                                 NaN   \n",
       "3                                                 NaN   \n",
       "4                                                 NaN   \n",
       "5                                                 NaN   \n",
       "6                                                 NaN   \n",
       "7                                                 NaN   \n",
       "8   /nas/bioint-data/neuroimaging-data/ADNI/Organi...   \n",
       "9                                                 NaN   \n",
       "10                                                NaN   \n",
       "11                                                NaN   \n",
       "12                                                NaN   \n",
       "13                                                NaN   \n",
       "14  /nas/bioint-data/neuroimaging-data/ADNI/Organi...   \n",
       "15                                                NaN   \n",
       "16                                                NaN   \n",
       "17                                                NaN   \n",
       "18                                                NaN   \n",
       "19                                                NaN   \n",
       "\n",
       "   DWI Preprocessing Pipeline (old=ADNI2 - new=ADNI3)  \n",
       "0                                                 NaN  \n",
       "1                                                 NaN  \n",
       "2                                                 NaN  \n",
       "3                                                 NaN  \n",
       "4                                                 NaN  \n",
       "5                                                 NaN  \n",
       "6                                                 NaN  \n",
       "7                                                 NaN  \n",
       "8                                               ADNI3  \n",
       "9                                                 NaN  \n",
       "10                                                NaN  \n",
       "11                                                NaN  \n",
       "12                                                NaN  \n",
       "13                                                NaN  \n",
       "14                                              ADNI3  \n",
       "15                                                NaN  \n",
       "16                                                NaN  \n",
       "17                                                NaN  \n",
       "18                                                NaN  \n",
       "19                                                NaN  \n",
       "\n",
       "[20 rows x 121 columns]"
      ]
     },
     "execution_count": 6,
     "metadata": {},
     "output_type": "execute_result"
    }
   ],
   "source": [
    "df = df.reset_index(drop=True)\n",
    "df.head(20)"
   ]
  },
  {
   "cell_type": "code",
   "execution_count": 7,
   "id": "d3b84b4e",
   "metadata": {},
   "outputs": [
    {
     "name": "stderr",
     "output_type": "stream",
     "text": [
      "/lfs1/ashaji/condawork/lib/python3.10/site-packages/tensorflow_addons/utils/tfa_eol_msg.py:23: UserWarning: \n",
      "\n",
      "TensorFlow Addons (TFA) has ended development and introduction of new features.\n",
      "TFA has entered a minimal maintenance and release mode until a planned end of life in May 2024.\n",
      "Please modify downstream libraries to take dependencies from other repositories in our TensorFlow community (e.g. Keras, Keras-CV, and Keras-NLP). \n",
      "\n",
      "For more information see: https://github.com/tensorflow/addons/issues/2807 \n",
      "\n",
      "  warnings.warn(\n"
     ]
    },
    {
     "name": "stdout",
     "output_type": "stream",
     "text": [
      "Num GPUs Available:  1\n"
     ]
    }
   ],
   "source": [
    "import nibabel as nib\n",
    "from tensorflow import keras\n",
    "from tensorflow.keras import layers\n",
    "import random as pyrandom\n",
    "import tensorflow_addons as tfa\n",
    "from tensorflow.keras.preprocessing import image_dataset_from_directory\n",
    "\n",
    "import nibabel as nib\n",
    "from scipy import ndimage\n",
    "import matplotlib.pyplot as plt\n",
    "from sklearn.metrics import roc_curve, precision_recall_curve, accuracy_score, f1_score, precision_score, recall_score, auc, roc_auc_score\n",
    "from sklearn.utils import class_weight\n",
    "from sklearn.metrics import mean_squared_error, mean_absolute_error, r2_score\n",
    "\n",
    "os.environ[\"CUDA_DEVICE_ORDER\"]=\"PCI_BUS_ID\"\n",
    "os.environ[\"CUDA_VISIBLE_DEVICES\"]= \"6\"\n",
    "\n",
    "physical_devices = tf.config.list_physical_devices('GPU')\n",
    "print(\"Num GPUs Available: \", len(physical_devices))\n",
    "tf.config.experimental.set_memory_growth(physical_devices[0], True)"
   ]
  },
  {
   "cell_type": "code",
   "execution_count": 8,
   "id": "a7299c04",
   "metadata": {},
   "outputs": [],
   "source": [
    "### Hyperparameter config\n",
    "\n",
    "init_lr = 1e-4\n",
    "epochs = 50\n",
    "early_stop = 7\n",
    "seed = 53\n",
    "drop_out = 0.5\n",
    "weight_decay = 1e-4\n",
    "\n",
    "batch_size=4\n",
    "test_batch_size=4"
   ]
  },
  {
   "cell_type": "code",
   "execution_count": 9,
   "id": "ff1c697e",
   "metadata": {},
   "outputs": [
    {
     "name": "stderr",
     "output_type": "stream",
     "text": [
      "2023-12-27 22:50:11.948023: I tensorflow/core/common_runtime/gpu/gpu_device.cc:1635] Created device /job:localhost/replica:0/task:0/device:GPU:0 with 10534 MB memory:  -> device: 0, name: NVIDIA GeForce GTX 1080 Ti, pci bus id: 0000:0e:00.0, compute capability: 6.1\n"
     ]
    },
    {
     "name": "stdout",
     "output_type": "stream",
     "text": [
      "Model: \"3DCNN_Metis_DWI\"\n",
      "_________________________________________________________________\n",
      " Layer (type)                Output Shape              Param #   \n",
      "=================================================================\n",
      " inp0 (InputLayer)           [(None, 91, 109, 91, 1)]  0         \n",
      "                                                                 \n",
      " conv3d (Conv3D)             (None, 91, 109, 91, 32)   896       \n",
      "                                                                 \n",
      " instance_normalization (Ins  (None, 91, 109, 91, 32)  0         \n",
      " tanceNormalization)                                             \n",
      "                                                                 \n",
      " max_pooling3d (MaxPooling3D  (None, 45, 54, 45, 32)   0         \n",
      " )                                                               \n",
      "                                                                 \n",
      " tf.nn.relu (TFOpLambda)     (None, 45, 54, 45, 32)    0         \n",
      "                                                                 \n",
      " conv3d_1 (Conv3D)           (None, 45, 54, 45, 64)    55360     \n",
      "                                                                 \n",
      " instance_normalization_1 (I  (None, 45, 54, 45, 64)   0         \n",
      " nstanceNormalization)                                           \n",
      "                                                                 \n",
      " max_pooling3d_1 (MaxPooling  (None, 22, 27, 22, 64)   0         \n",
      " 3D)                                                             \n",
      "                                                                 \n",
      " tf.nn.relu_1 (TFOpLambda)   (None, 22, 27, 22, 64)    0         \n",
      "                                                                 \n",
      " conv3d_2 (Conv3D)           (None, 22, 27, 22, 128)   221312    \n",
      "                                                                 \n",
      " instance_normalization_2 (I  (None, 22, 27, 22, 128)  0         \n",
      " nstanceNormalization)                                           \n",
      "                                                                 \n",
      " max_pooling3d_2 (MaxPooling  (None, 11, 13, 11, 128)  0         \n",
      " 3D)                                                             \n",
      "                                                                 \n",
      " tf.nn.relu_2 (TFOpLambda)   (None, 11, 13, 11, 128)   0         \n",
      "                                                                 \n",
      " conv3d_3 (Conv3D)           (None, 11, 13, 11, 256)   884992    \n",
      "                                                                 \n",
      " instance_normalization_3 (I  (None, 11, 13, 11, 256)  0         \n",
      " nstanceNormalization)                                           \n",
      "                                                                 \n",
      " max_pooling3d_3 (MaxPooling  (None, 5, 6, 5, 256)     0         \n",
      " 3D)                                                             \n",
      "                                                                 \n",
      " tf.nn.relu_3 (TFOpLambda)   (None, 5, 6, 5, 256)      0         \n",
      "                                                                 \n",
      " conv3d_4 (Conv3D)           (None, 5, 6, 5, 256)      1769728   \n",
      "                                                                 \n",
      " instance_normalization_4 (I  (None, 5, 6, 5, 256)     0         \n",
      " nstanceNormalization)                                           \n",
      "                                                                 \n",
      " max_pooling3d_4 (MaxPooling  (None, 2, 3, 2, 256)     0         \n",
      " 3D)                                                             \n",
      "                                                                 \n",
      " tf.nn.relu_4 (TFOpLambda)   (None, 2, 3, 2, 256)      0         \n",
      "                                                                 \n",
      " conv3d_5 (Conv3D)           (None, 2, 3, 2, 64)       16448     \n",
      "                                                                 \n",
      " instance_normalization_5 (I  (None, 2, 3, 2, 64)      0         \n",
      " nstanceNormalization)                                           \n",
      "                                                                 \n",
      " tf.nn.relu_5 (TFOpLambda)   (None, 2, 3, 2, 64)       0         \n",
      "                                                                 \n",
      " average_pooling3d (AverageP  (None, 1, 1, 1, 64)      0         \n",
      " ooling3D)                                                       \n",
      "                                                                 \n",
      " drop (Dropout)              (None, 1, 1, 1, 64)       0         \n",
      "                                                                 \n",
      " flatten1 (Flatten)          (None, 64)                0         \n",
      "                                                                 \n",
      " endlayer (Dense)            (None, 32)                2080      \n",
      "                                                                 \n",
      " diagnosis (Dense)           (None, 3)                 99        \n",
      "                                                                 \n",
      "=================================================================\n",
      "Total params: 2,950,915\n",
      "Trainable params: 2,950,915\n",
      "Non-trainable params: 0\n",
      "_________________________________________________________________\n"
     ]
    }
   ],
   "source": [
    "def getCNN(width = 91,height = 109, depth = 91):\n",
    "    \n",
    "    def conv_block(inp,filt,name):\n",
    "        inp = tf.keras.layers.Conv3D(filt,3,strides=1,padding='same')(inp)\n",
    "        inp = tfa.layers.InstanceNormalization(center=False,scale=False)(inp)\n",
    "        inp = tf.keras.layers.MaxPooling3D(2,strides=2,padding = 'valid')(inp)\n",
    "        inp = tf.nn.relu(inp)\n",
    "        return inp\n",
    "    \n",
    "    img0 = tf.keras.Input((91,109,91,1),name='inp0')\n",
    "    inp0 = conv_block(img0,32,'conv_block1')\n",
    "    inp0 = conv_block(inp0,64,'conv_block2')\n",
    "    inp0 = conv_block(inp0,128,'conv_block3')\n",
    "    inp0 = conv_block(inp0,256,'conv_block4')\n",
    "    inp0 = conv_block(inp0,256,'conv_block5')\n",
    "    \n",
    "    ##LAST LAYER\n",
    "    \n",
    "    inp0 = tf.keras.layers.Conv3D(64,1,strides=1,padding='same')(inp0)\n",
    "    inp0 = tfa.layers.InstanceNormalization(center=False,scale=False)(inp0)\n",
    "    inp0 = tf.nn.relu(inp0)\n",
    "    inp0 = tf.keras.layers.AveragePooling3D(2,2,'valid')(inp0)\n",
    "    \n",
    "    inp0 = tf.keras.layers.Dropout(rate=0.2,name='drop')(inp0)\n",
    "    \n",
    "    out0 = tf.keras.layers.Flatten(name='flatten1')(inp0)\n",
    "    out0 = tf.keras.layers.Dense(units=32,activation='relu',name='endlayer')(out0)\n",
    "    out0 = tf.keras.layers.Dense(units=3,activation='softmax',name='diagnosis')(out0)\n",
    "    \n",
    "    model = keras.Model(img0,out0,name='3DCNN_Metis_DWI')\n",
    "    return model\n",
    "\n",
    "model = getCNN()\n",
    "model.summary()\n",
    "    "
   ]
  },
  {
   "cell_type": "code",
   "execution_count": 10,
   "id": "c731d670",
   "metadata": {},
   "outputs": [],
   "source": [
    "from tensorflow.keras import regularizers"
   ]
  },
  {
   "cell_type": "code",
   "execution_count": 25,
   "id": "282cae06",
   "metadata": {},
   "outputs": [
    {
     "name": "stdout",
     "output_type": "stream",
     "text": [
      "Model: \"3DCNN_Metis_T1\"\n",
      "_________________________________________________________________\n",
      " Layer (type)                Output Shape              Param #   \n",
      "=================================================================\n",
      " inp0 (InputLayer)           [(None, 91, 109, 91, 1)]  0         \n",
      "                                                                 \n",
      " conv3d_6 (Conv3D)           (None, 91, 109, 91, 32)   896       \n",
      "                                                                 \n",
      " instance_normalization_6 (I  (None, 91, 109, 91, 32)  0         \n",
      " nstanceNormalization)                                           \n",
      "                                                                 \n",
      " max_pooling3d_5 (MaxPooling  (None, 45, 54, 45, 32)   0         \n",
      " 3D)                                                             \n",
      "                                                                 \n",
      " tf.nn.relu_6 (TFOpLambda)   (None, 45, 54, 45, 32)    0         \n",
      "                                                                 \n",
      " conv3d_7 (Conv3D)           (None, 45, 54, 45, 64)    55360     \n",
      "                                                                 \n",
      " instance_normalization_7 (I  (None, 45, 54, 45, 64)   0         \n",
      " nstanceNormalization)                                           \n",
      "                                                                 \n",
      " max_pooling3d_6 (MaxPooling  (None, 22, 27, 22, 64)   0         \n",
      " 3D)                                                             \n",
      "                                                                 \n",
      " tf.nn.relu_7 (TFOpLambda)   (None, 22, 27, 22, 64)    0         \n",
      "                                                                 \n",
      " conv3d_8 (Conv3D)           (None, 22, 27, 22, 128)   221312    \n",
      "                                                                 \n",
      " instance_normalization_8 (I  (None, 22, 27, 22, 128)  0         \n",
      " nstanceNormalization)                                           \n",
      "                                                                 \n",
      " max_pooling3d_7 (MaxPooling  (None, 11, 13, 11, 128)  0         \n",
      " 3D)                                                             \n",
      "                                                                 \n",
      " tf.nn.relu_8 (TFOpLambda)   (None, 11, 13, 11, 128)   0         \n",
      "                                                                 \n",
      " conv3d_9 (Conv3D)           (None, 11, 13, 11, 256)   884992    \n",
      "                                                                 \n",
      " instance_normalization_9 (I  (None, 11, 13, 11, 256)  0         \n",
      " nstanceNormalization)                                           \n",
      "                                                                 \n",
      " max_pooling3d_8 (MaxPooling  (None, 5, 6, 5, 256)     0         \n",
      " 3D)                                                             \n",
      "                                                                 \n",
      " tf.nn.relu_9 (TFOpLambda)   (None, 5, 6, 5, 256)      0         \n",
      "                                                                 \n",
      " conv3d_10 (Conv3D)          (None, 5, 6, 5, 256)      1769728   \n",
      "                                                                 \n",
      " instance_normalization_10 (  (None, 5, 6, 5, 256)     0         \n",
      " InstanceNormalization)                                          \n",
      "                                                                 \n",
      " max_pooling3d_9 (MaxPooling  (None, 2, 3, 2, 256)     0         \n",
      " 3D)                                                             \n",
      "                                                                 \n",
      " tf.nn.relu_10 (TFOpLambda)  (None, 2, 3, 2, 256)      0         \n",
      "                                                                 \n",
      " conv3d_11 (Conv3D)          (None, 2, 3, 2, 64)       16448     \n",
      "                                                                 \n",
      " instance_normalization_11 (  (None, 2, 3, 2, 64)      0         \n",
      " InstanceNormalization)                                          \n",
      "                                                                 \n",
      " tf.nn.relu_11 (TFOpLambda)  (None, 2, 3, 2, 64)       0         \n",
      "                                                                 \n",
      " average_pooling3d_1 (Averag  (None, 1, 1, 1, 64)      0         \n",
      " ePooling3D)                                                     \n",
      "                                                                 \n",
      " drop (Dropout)              (None, 1, 1, 1, 64)       0         \n",
      "                                                                 \n",
      " flatten1 (Flatten)          (None, 64)                0         \n",
      "                                                                 \n",
      " endlayer (Dense)            (None, 32)                2080      \n",
      "                                                                 \n",
      " diagnosis (Dense)           (None, 3)                 99        \n",
      "                                                                 \n",
      "=================================================================\n",
      "Total params: 2,950,915\n",
      "Trainable params: 2,950,915\n",
      "Non-trainable params: 0\n",
      "_________________________________________________________________\n"
     ]
    }
   ],
   "source": [
    "def getCNN(width = 91,height = 109, depth = 91):\n",
    "    \n",
    "    def conv_block(inp,filt,name,krn):\n",
    "        if(krn):\n",
    "            inp = tf.keras.layers.Conv3D(filt,3,strides=1,padding='same',kernel_regularizer=regularizers.L2(1e-3))(inp)\n",
    "        else:\n",
    "            inp = tf.keras.layers.Conv3D(filt,3,strides=1,padding='same')(inp)\n",
    "        inp = tfa.layers.InstanceNormalization(center=False,scale=False)(inp)\n",
    "        inp = tf.keras.layers.MaxPooling3D(2,strides=2,padding = 'valid')(inp)\n",
    "        inp = tf.nn.relu(inp)\n",
    "        return inp\n",
    "    \n",
    "    img0 = tf.keras.Input((91,109,91,1),name='inp0')\n",
    "    inp0 = conv_block(img0,32,'conv_block1',False)\n",
    "    inp0 = conv_block(inp0,64,'conv_block2',False)\n",
    "    inp0 = conv_block(inp0,128,'conv_block3',False)\n",
    "    inp0 = conv_block(inp0,256,'conv_block4',False)\n",
    "    inp0 = conv_block(inp0,256,'conv_block5',False)\n",
    "    \n",
    "    ##LAST LAYER\n",
    "    \n",
    "    inp0 = tf.keras.layers.Conv3D(64,1,strides=1,padding='same')(inp0)\n",
    "    inp0 = tfa.layers.InstanceNormalization(center=False,scale=False)(inp0)\n",
    "    inp0 = tf.nn.relu(inp0)\n",
    "    inp0 = tf.keras.layers.AveragePooling3D(2,2,'valid')(inp0)\n",
    "    \n",
    "    inp0 = tf.keras.layers.Dropout(rate=0.2,name='drop')(inp0)   #### removedrop out , L1 and L2\n",
    "\n",
    "    out0 = tf.keras.layers.Flatten(name='flatten1')(inp0)\n",
    "    out0 = tf.keras.layers.Dense(units=32,activation='relu',name='endlayer')(out0)\n",
    "    out0 = tf.keras.layers.Dense(units=3,activation='softmax',name='diagnosis')(out0)\n",
    "    \n",
    "    model = keras.Model(img0,out0,name='3DCNN_Metis_T1')\n",
    "    return model\n",
    "\n",
    "model = getCNN()\n",
    "model.summary()\n",
    "    "
   ]
  },
  {
   "cell_type": "code",
   "execution_count": 26,
   "id": "2c5cde9c",
   "metadata": {},
   "outputs": [
    {
     "data": {
      "text/plain": [
       "777"
      ]
     },
     "execution_count": 26,
     "metadata": {},
     "output_type": "execute_result"
    }
   ],
   "source": [
    "len(t1dwistr)"
   ]
  },
  {
   "cell_type": "code",
   "execution_count": 27,
   "id": "438552ec",
   "metadata": {},
   "outputs": [],
   "source": [
    "dwi = df.loc[conddwi,:]"
   ]
  },
  {
   "cell_type": "code",
   "execution_count": 28,
   "id": "ffc00ea1",
   "metadata": {},
   "outputs": [
    {
     "data": {
      "text/plain": [
       "934"
      ]
     },
     "execution_count": 28,
     "metadata": {},
     "output_type": "execute_result"
    }
   ],
   "source": [
    "len(dwi)"
   ]
  },
  {
   "cell_type": "code",
   "execution_count": 29,
   "id": "07158213",
   "metadata": {},
   "outputs": [],
   "source": [
    "train = dwi.drop(t1dwistr.index)"
   ]
  },
  {
   "cell_type": "code",
   "execution_count": 30,
   "id": "e68268fb",
   "metadata": {},
   "outputs": [
    {
     "data": {
      "text/plain": [
       "157"
      ]
     },
     "execution_count": 30,
     "metadata": {},
     "output_type": "execute_result"
    }
   ],
   "source": [
    "len(train)"
   ]
  },
  {
   "cell_type": "code",
   "execution_count": 31,
   "id": "5e42e910",
   "metadata": {},
   "outputs": [
    {
     "data": {
      "text/plain": [
       "(543, 155, 79)"
      ]
     },
     "execution_count": 31,
     "metadata": {},
     "output_type": "execute_result"
    }
   ],
   "source": [
    "p = (np.ceil(0.7*len(t1dwistr))-1).astype(int)\n",
    "q = (np.ceil(0.9*len(t1dwistr))-2).astype(int)\n",
    "r = len(t1dwistr)\n",
    "trainn = p\n",
    "valn  = r - q\n",
    "testn   = q - p\n",
    "trainn, testn, valn\n",
    "trainall = t1dwistr[:p]\n",
    "testall  = t1dwistr[p:q]\n",
    "valall   = t1dwistr[q:]\n",
    "len(trainall), len(testall), len(valall)"
   ]
  },
  {
   "cell_type": "code",
   "execution_count": 32,
   "id": "5df80f7e",
   "metadata": {},
   "outputs": [],
   "source": [
    "datamix = [train,trainall,valall]\n",
    "alltrain = pd.concat(datamix)\n",
    "alltrain = alltrain.sort_values(by = ['SubjID'])"
   ]
  },
  {
   "cell_type": "code",
   "execution_count": 33,
   "id": "f7066eeb",
   "metadata": {},
   "outputs": [
    {
     "data": {
      "text/plain": [
       "779"
      ]
     },
     "execution_count": 33,
     "metadata": {},
     "output_type": "execute_result"
    }
   ],
   "source": [
    "len(alltrain)"
   ]
  },
  {
   "cell_type": "code",
   "execution_count": 34,
   "id": "ec6bec0a",
   "metadata": {},
   "outputs": [
    {
     "data": {
      "text/plain": [
       "(623, 156)"
      ]
     },
     "execution_count": 34,
     "metadata": {},
     "output_type": "execute_result"
    }
   ],
   "source": [
    "p = (np.ceil(0.8*len(alltrain))-1).astype(int)\n",
    "p, len(alltrain)-p, \n",
    "# p = p - 2"
   ]
  },
  {
   "cell_type": "code",
   "execution_count": 35,
   "id": "b1b64563",
   "metadata": {},
   "outputs": [
    {
     "data": {
      "text/plain": [
       "(623, 156)"
      ]
     },
     "execution_count": 35,
     "metadata": {},
     "output_type": "execute_result"
    }
   ],
   "source": [
    "trainn = alltrain[:p]\n",
    "valn   = alltrain[p:]\n",
    "len(trainn),len(valn)"
   ]
  },
  {
   "cell_type": "code",
   "execution_count": 40,
   "id": "04ac1927",
   "metadata": {},
   "outputs": [
    {
     "data": {
      "text/plain": [
       "155"
      ]
     },
     "execution_count": 40,
     "metadata": {},
     "output_type": "execute_result"
    }
   ],
   "source": [
    "len(testall)"
   ]
  },
  {
   "cell_type": "code",
   "execution_count": 36,
   "id": "af9d98c1",
   "metadata": {},
   "outputs": [
    {
     "data": {
      "text/plain": [
       "96"
      ]
     },
     "execution_count": 36,
     "metadata": {},
     "output_type": "execute_result"
    }
   ],
   "source": [
    "len(valn[valn.DX == 0])"
   ]
  },
  {
   "cell_type": "code",
   "execution_count": 37,
   "id": "d0c8de0a",
   "metadata": {},
   "outputs": [
    {
     "data": {
      "text/plain": [
       "80.12727272727271"
      ]
     },
     "execution_count": 37,
     "metadata": {},
     "output_type": "execute_result"
    }
   ],
   "source": [
    "valn[valn.DX == 2].loc[:,'AGE_at_scan'].mean()"
   ]
  },
  {
   "cell_type": "code",
   "execution_count": 39,
   "id": "4022fd3b",
   "metadata": {},
   "outputs": [],
   "source": [
    "for i in trainn['SubjID']:\n",
    "    for j in testall['SubjID']:\n",
    "        if i == j:\n",
    "            print(i)"
   ]
  },
  {
   "cell_type": "code",
   "execution_count": null,
   "id": "b8480ad7",
   "metadata": {},
   "outputs": [],
   "source": [
    "import seaborn as sns\n",
    "sns.histplot(data=trainn.DX)\n",
    "sns.histplot(data=testall.DX)"
   ]
  },
  {
   "cell_type": "code",
   "execution_count": null,
   "id": "8a9a30a8",
   "metadata": {},
   "outputs": [],
   "source": [
    "class DataGenerator(tf.keras.utils.Sequence):\n",
    "    def rotate(self,vol):\n",
    "        def scipy_rotate(vol):\n",
    "            angles = [-20,-10,-5,0,5,10,20]\n",
    "            angle = pyrandom.choice(angles)\n",
    "            vol = ndimage.rotate(vol,angle,reshape=False)\n",
    "            vol[vol<0] = 0\n",
    "            vol[vol>1] = 1\n",
    "            return vol\n",
    "        aug_vol = tf.numpy_function(scipy_rotate,[vol],tf.float32)\n",
    "        return aug_vol\n",
    "\n",
    "    def preprocessing(self,vol):\n",
    "        if(self.isTrain):\n",
    "            vol1 = self.rotate(vol)\n",
    "            vol1 = tf.expand_dims(vol1,axis=3)\n",
    "        else:\n",
    "            vol1 = tf.expand_dims(vol,axis=3)\n",
    "        return vol1\n",
    "    \n",
    "    def read_scan(self,path):\n",
    "        scan = nib.load(path)\n",
    "        volume = scan.get_fdata()\n",
    "        min = np.amax(volume)\n",
    "        max = np.amin(volume)\n",
    "        volume = (volume - min) / (max - min)\n",
    "        volume = volume.astype(\"float32\")\n",
    "        return volume\n",
    "\n",
    "    def __init__(self, data, batch_size, sample_weights=None,isTrain=True):\n",
    "        self.data = data\n",
    "        self.batch_size = batch_size\n",
    "        self.sample_weights = sample_weights\n",
    "        self.isTrain = isTrain\n",
    "\n",
    "    def __len__(self):\n",
    "        return (np.ceil(len(self.data) / float(self.batch_size))).astype(np.int)\n",
    "\n",
    "    def __getitem__(self, idx):\n",
    "        dwi  = self.data['DWI_Matched_File_FA_Path_ENIGMATBSSspace_2MM'].tolist()\n",
    "        labels = self.data['DX']\n",
    "        labels = keras.utils.to_categorical(labels)\n",
    "        \n",
    "        batch_dwi = dwi[idx * self.batch_size: (idx + 1) * self.batch_size]\n",
    "        batch_y = labels[idx * self.batch_size: (idx + 1) * self.batch_size]\n",
    "     \n",
    "        dwi_imgs = np.asarray([self.preprocessing(self.read_scan(path)) for path in batch_dwi])\n",
    "        \n",
    "        return (dwi_imgs, np.array(batch_y))\n",
    "    \n",
    "    def on_epoch_end(self):\n",
    "        if(self.isTrain):\n",
    "            self.data = self.data.sample(frac=1)"
   ]
  },
  {
   "cell_type": "code",
   "execution_count": null,
   "id": "80f86dfe",
   "metadata": {},
   "outputs": [],
   "source": [
    "dg_train = DataGenerator(trainn,batch_size,isTrain=True)\n",
    "dg_val = DataGenerator(valn,batch_size,isTrain=False)"
   ]
  },
  {
   "cell_type": "code",
   "execution_count": null,
   "id": "5b293cbf",
   "metadata": {},
   "outputs": [],
   "source": [
    "dg_testall = DataGenerator(testall,batch_size,isTrain=False)"
   ]
  },
  {
   "cell_type": "code",
   "execution_count": 88,
   "id": "791f80c8",
   "metadata": {},
   "outputs": [
    {
     "name": "stderr",
     "output_type": "stream",
     "text": [
      "/tmp/ipykernel_28908/4266871908.py:37: DeprecationWarning: `np.int` is a deprecated alias for the builtin `int`. To silence this warning, use `int` by itself. Doing this will not modify any behavior and is safe. When replacing `np.int`, you may wish to use e.g. `np.int64` or `np.int32` to specify the precision. If you wish to review your current use, check the release note link for additional information.\n",
      "Deprecated in NumPy 1.20; for more details and guidance: https://numpy.org/devdocs/release/1.20.0-notes.html#deprecations\n",
      "  return (np.ceil(len(self.data) / float(self.batch_size))).astype(np.int)\n"
     ]
    },
    {
     "name": "stdout",
     "output_type": "stream",
     "text": [
      "Epoch 1/200\n"
     ]
    },
    {
     "name": "stderr",
     "output_type": "stream",
     "text": [
      "2023-11-12 06:37:49.164250: I tensorflow/core/common_runtime/executor.cc:1197] [/device:CPU:0] (DEBUG INFO) Executor start aborting (this does not indicate an error and you can ignore this message): INVALID_ARGUMENT: You must feed a value for placeholder tensor 'Placeholder/_0' with dtype int32\n",
      "\t [[{{node Placeholder/_0}}]]\n"
     ]
    },
    {
     "name": "stdout",
     "output_type": "stream",
     "text": [
      "156/156 [==============================] - ETA: 0s - loss: 0.6441 - auc: 0.8828 - Precision: 0.7806 - Recall: 0.5827 - categorical_accuracy: 0.7255"
     ]
    },
    {
     "name": "stderr",
     "output_type": "stream",
     "text": [
      "2023-11-12 06:39:47.585616: I tensorflow/core/common_runtime/executor.cc:1197] [/device:CPU:0] (DEBUG INFO) Executor start aborting (this does not indicate an error and you can ignore this message): INVALID_ARGUMENT: You must feed a value for placeholder tensor 'Placeholder/_0' with dtype int32\n",
      "\t [[{{node Placeholder/_0}}]]\n"
     ]
    },
    {
     "name": "stdout",
     "output_type": "stream",
     "text": [
      "156/156 [==============================] - 125s 802ms/step - loss: 0.6441 - auc: 0.8828 - Precision: 0.7806 - Recall: 0.5827 - categorical_accuracy: 0.7255 - val_loss: 0.7968 - val_auc: 0.8126 - val_Precision: 0.7130 - val_Recall: 0.5256 - val_categorical_accuracy: 0.6090\n",
      "Epoch 2/200\n",
      "156/156 [==============================] - 126s 806ms/step - loss: 0.6094 - auc: 0.8918 - Precision: 0.7612 - Recall: 0.6549 - categorical_accuracy: 0.7271 - val_loss: 0.8297 - val_auc: 0.7946 - val_Precision: 0.6562 - val_Recall: 0.5385 - val_categorical_accuracy: 0.5962\n",
      "Epoch 3/200\n",
      "156/156 [==============================] - 126s 809ms/step - loss: 0.6119 - auc: 0.8897 - Precision: 0.7429 - Recall: 0.6726 - categorical_accuracy: 0.7271 - val_loss: 0.7616 - val_auc: 0.8254 - val_Precision: 0.6370 - val_Recall: 0.5962 - val_categorical_accuracy: 0.6410\n",
      "Epoch 4/200\n",
      "156/156 [==============================] - 123s 790ms/step - loss: 0.5788 - auc: 0.9016 - Precision: 0.7592 - Recall: 0.6982 - categorical_accuracy: 0.7352 - val_loss: 0.8312 - val_auc: 0.7897 - val_Precision: 0.5931 - val_Recall: 0.5513 - val_categorical_accuracy: 0.5769\n",
      "Epoch 5/200\n",
      "156/156 [==============================] - 125s 799ms/step - loss: 0.6014 - auc: 0.8951 - Precision: 0.7331 - Recall: 0.6966 - categorical_accuracy: 0.7159 - val_loss: 0.8542 - val_auc: 0.7934 - val_Precision: 0.5862 - val_Recall: 0.5449 - val_categorical_accuracy: 0.5705\n",
      "Epoch 6/200\n",
      "156/156 [==============================] - 122s 778ms/step - loss: 0.5791 - auc: 0.9014 - Precision: 0.7475 - Recall: 0.7223 - categorical_accuracy: 0.7368 - val_loss: 0.8177 - val_auc: 0.8123 - val_Precision: 0.6376 - val_Recall: 0.6090 - val_categorical_accuracy: 0.6282\n",
      "Epoch 7/200\n",
      "156/156 [==============================] - 125s 800ms/step - loss: 0.5455 - auc: 0.9104 - Precision: 0.7529 - Recall: 0.7335 - categorical_accuracy: 0.7528 - val_loss: 0.9105 - val_auc: 0.7735 - val_Precision: 0.5510 - val_Recall: 0.5192 - val_categorical_accuracy: 0.5385\n",
      "Epoch 8/200\n",
      "156/156 [==============================] - 125s 799ms/step - loss: 0.5579 - auc: 0.9113 - Precision: 0.7741 - Recall: 0.7480 - categorical_accuracy: 0.7624 - val_loss: 0.7976 - val_auc: 0.8129 - val_Precision: 0.6174 - val_Recall: 0.5897 - val_categorical_accuracy: 0.6026\n",
      "Epoch 9/200\n",
      "156/156 [==============================] - 125s 803ms/step - loss: 0.5304 - auc: 0.9186 - Precision: 0.7862 - Recall: 0.7673 - categorical_accuracy: 0.7785 - val_loss: 0.8609 - val_auc: 0.8093 - val_Precision: 0.6078 - val_Recall: 0.5962 - val_categorical_accuracy: 0.6090\n",
      "Epoch 10/200\n",
      "156/156 [==============================] - 125s 802ms/step - loss: 0.5183 - auc: 0.9228 - Precision: 0.7732 - Recall: 0.7608 - categorical_accuracy: 0.7640 - val_loss: 0.8622 - val_auc: 0.8103 - val_Precision: 0.6154 - val_Recall: 0.6154 - val_categorical_accuracy: 0.6154\n",
      "Epoch 11/200\n",
      "156/156 [==============================] - 124s 795ms/step - loss: 0.5392 - auc: 0.9162 - Precision: 0.7694 - Recall: 0.7496 - categorical_accuracy: 0.7624 - val_loss: 0.8987 - val_auc: 0.8017 - val_Precision: 0.5817 - val_Recall: 0.5705 - val_categorical_accuracy: 0.5769\n",
      "Epoch 12/200\n",
      "156/156 [==============================] - 125s 802ms/step - loss: 0.5204 - auc: 0.9204 - Precision: 0.7598 - Recall: 0.7464 - categorical_accuracy: 0.7528 - val_loss: 0.9702 - val_auc: 0.7468 - val_Precision: 0.5548 - val_Recall: 0.5513 - val_categorical_accuracy: 0.5577\n",
      "Epoch 13/200\n",
      "156/156 [==============================] - 123s 788ms/step - loss: 0.4914 - auc: 0.9322 - Precision: 0.7935 - Recall: 0.7897 - categorical_accuracy: 0.7929 - val_loss: 0.9295 - val_auc: 0.7833 - val_Precision: 0.5806 - val_Recall: 0.5769 - val_categorical_accuracy: 0.5769\n",
      "Epoch 14/200\n",
      "156/156 [==============================] - 122s 783ms/step - loss: 0.4534 - auc: 0.9434 - Precision: 0.8295 - Recall: 0.8202 - categorical_accuracy: 0.8250 - val_loss: 0.9371 - val_auc: 0.7814 - val_Precision: 0.5695 - val_Recall: 0.5513 - val_categorical_accuracy: 0.5641\n",
      "Epoch 15/200\n",
      "156/156 [==============================] - 124s 796ms/step - loss: 0.4685 - auc: 0.9359 - Precision: 0.7967 - Recall: 0.7865 - categorical_accuracy: 0.7913 - val_loss: 0.9537 - val_auc: 0.8037 - val_Precision: 0.6129 - val_Recall: 0.6090 - val_categorical_accuracy: 0.6154\n",
      "Epoch 16/200\n",
      "156/156 [==============================] - 124s 796ms/step - loss: 0.4438 - auc: 0.9421 - Precision: 0.7961 - Recall: 0.7897 - categorical_accuracy: 0.7929 - val_loss: 1.0903 - val_auc: 0.7398 - val_Precision: 0.5390 - val_Recall: 0.5321 - val_categorical_accuracy: 0.5385\n",
      "Epoch 17/200\n",
      "156/156 [==============================] - 125s 803ms/step - loss: 0.4082 - auc: 0.9523 - Precision: 0.8382 - Recall: 0.8315 - categorical_accuracy: 0.8347 - val_loss: 1.2895 - val_auc: 0.6729 - val_Precision: 0.4416 - val_Recall: 0.4359 - val_categorical_accuracy: 0.4359\n",
      "Epoch 18/200\n",
      "156/156 [==============================] - 127s 813ms/step - loss: 0.4454 - auc: 0.9428 - Precision: 0.8107 - Recall: 0.8042 - categorical_accuracy: 0.8106 - val_loss: 0.9057 - val_auc: 0.8257 - val_Precision: 0.6090 - val_Recall: 0.6090 - val_categorical_accuracy: 0.6090\n",
      "Epoch 19/200\n",
      "156/156 [==============================] - 125s 797ms/step - loss: 0.3868 - auc: 0.9561 - Precision: 0.8428 - Recall: 0.8347 - categorical_accuracy: 0.8395 - val_loss: 1.0611 - val_auc: 0.8192 - val_Precision: 0.5935 - val_Recall: 0.5897 - val_categorical_accuracy: 0.5962\n",
      "Epoch 20/200\n",
      "156/156 [==============================] - 122s 781ms/step - loss: 0.3950 - auc: 0.9542 - Precision: 0.8430 - Recall: 0.8363 - categorical_accuracy: 0.8411 - val_loss: 1.1631 - val_auc: 0.8266 - val_Precision: 0.6410 - val_Recall: 0.6410 - val_categorical_accuracy: 0.6410\n",
      "Epoch 21/200\n",
      "156/156 [==============================] - 121s 774ms/step - loss: 0.3771 - auc: 0.9583 - Precision: 0.8457 - Recall: 0.8443 - categorical_accuracy: 0.8459 - val_loss: 1.5600 - val_auc: 0.6286 - val_Precision: 0.4194 - val_Recall: 0.4167 - val_categorical_accuracy: 0.4167\n",
      "Epoch 22/200\n",
      "156/156 [==============================] - 118s 758ms/step - loss: 0.3287 - auc: 0.9678 - Precision: 0.8583 - Recall: 0.8555 - categorical_accuracy: 0.8571 - val_loss: 1.2825 - val_auc: 0.7279 - val_Precision: 0.5097 - val_Recall: 0.5064 - val_categorical_accuracy: 0.5064\n",
      "Epoch 23/200\n",
      "156/156 [==============================] - ETA: 0s - loss: 0.3779 - auc: 0.9607 - Precision: 0.8441 - Recall: 0.8427 - categorical_accuracy: 0.8427Restoring model weights from the end of the best epoch: 3.\n",
      "156/156 [==============================] - 120s 768ms/step - loss: 0.3779 - auc: 0.9607 - Precision: 0.8441 - Recall: 0.8427 - categorical_accuracy: 0.8427 - val_loss: 1.4126 - val_auc: 0.6804 - val_Precision: 0.4423 - val_Recall: 0.4423 - val_categorical_accuracy: 0.4423\n",
      "Epoch 23: early stopping\n"
     ]
    },
    {
     "name": "stderr",
     "output_type": "stream",
     "text": [
      "2023-11-12 07:25:20.397116: I tensorflow/core/common_runtime/executor.cc:1197] [/device:CPU:0] (DEBUG INFO) Executor start aborting (this does not indicate an error and you can ignore this message): INVALID_ARGUMENT: You must feed a value for placeholder tensor 'inputs' with dtype float and shape [?,1,1,1,64]\n",
      "\t [[{{node inputs}}]]\n",
      "2023-11-12 07:25:21.685931: I tensorflow/core/common_runtime/executor.cc:1197] [/device:CPU:0] (DEBUG INFO) Executor start aborting (this does not indicate an error and you can ignore this message): INVALID_ARGUMENT: You must feed a value for placeholder tensor 'inputs' with dtype float and shape [?,1,1,1,64]\n",
      "\t [[{{node inputs}}]]\n",
      "WARNING:absl:Found untraced functions such as _jit_compiled_convolution_op, _jit_compiled_convolution_op, _jit_compiled_convolution_op, _jit_compiled_convolution_op, _jit_compiled_convolution_op while saving (showing 5 of 6). These functions will not be directly callable after loading.\n"
     ]
    },
    {
     "name": "stdout",
     "output_type": "stream",
     "text": [
      "INFO:tensorflow:Assets written to: /lfs1/ashaji/Imputation_Problem/ISBI/AD/final_models/only_DWIagain/assets\n"
     ]
    },
    {
     "name": "stderr",
     "output_type": "stream",
     "text": [
      "INFO:tensorflow:Assets written to: /lfs1/ashaji/Imputation_Problem/ISBI/AD/final_models/only_DWIagain/assets\n"
     ]
    }
   ],
   "source": [
    "# lr_schedule = keras.optimizers.schedules.ExponentialDecay(\n",
    "#     1e-2,decay_steps=1000,decay_rate=0.96,staircase=True\n",
    "# )\n",
    "# the_metrics=[tf.keras.metrics.AUC(name='auc'), tf.keras.metrics.Precision(name=\"Precision\"), tf.keras.metrics.Recall(name=\"Recall\"),tf.keras.metrics.CategoricalAccuracy(name=\"categorical_accuracy\")]\n",
    "# model = getCNN()\n",
    "# model.compile(\n",
    "#     loss='categorical_crossentropy',\n",
    "#     optimizer = keras.optimizers.AdamW(learning_rate=1e-3,weight_decay=1e-4),\n",
    "#     metrics = the_metrics\n",
    "# )\n",
    "# filepath = '/lfs1/ashaji/Imputation_Problem/further/DWI/modelonlyDWI-epoch{epoch:02d}-val_loss{val_loss:.2f}'\n",
    "# check = keras.callbacks.ModelCheckpoint(filepath,monitor='val_loss',verbose=1,save_best_only=True,mode='auto')\n",
    "# early = keras.callbacks.EarlyStopping(monitor='val_loss',patience = 20, verbose = 1, restore_best_weights = True)\n",
    "\n",
    "history = model.fit(\n",
    "    dg_train,\n",
    "    validation_data = dg_val,\n",
    "    epochs = 200,\n",
    "    verbose = 1,\n",
    "    callbacks = [early]\n",
    ")\n",
    "model.save('/lfs1/ashaji/Imputation_Problem/ISBI/AD/final_models/only_DWIagain')"
   ]
  },
  {
   "cell_type": "code",
   "execution_count": 91,
   "id": "cfab4165",
   "metadata": {},
   "outputs": [
    {
     "name": "stderr",
     "output_type": "stream",
     "text": [
      "WARNING:root:The given value for groups will be overwritten.\n",
      "WARNING:root:The given value for groups will be overwritten.\n",
      "WARNING:root:The given value for groups will be overwritten.\n",
      "WARNING:root:The given value for groups will be overwritten.\n",
      "WARNING:root:The given value for groups will be overwritten.\n",
      "WARNING:root:The given value for groups will be overwritten.\n"
     ]
    }
   ],
   "source": [
    "model = keras.models.load_model('/lfs1/ashaji/Imputation_Problem/ISBI/AD/final_models/only_DWIagain')"
   ]
  },
  {
   "cell_type": "code",
   "execution_count": 92,
   "id": "a21b6463",
   "metadata": {},
   "outputs": [],
   "source": [
    "import sklearn.metrics as skm"
   ]
  },
  {
   "cell_type": "code",
   "execution_count": 93,
   "id": "b2587ce1",
   "metadata": {},
   "outputs": [
    {
     "name": "stderr",
     "output_type": "stream",
     "text": [
      "/tmp/ipykernel_28908/4266871908.py:37: DeprecationWarning: `np.int` is a deprecated alias for the builtin `int`. To silence this warning, use `int` by itself. Doing this will not modify any behavior and is safe. When replacing `np.int`, you may wish to use e.g. `np.int64` or `np.int32` to specify the precision. If you wish to review your current use, check the release note link for additional information.\n",
      "Deprecated in NumPy 1.20; for more details and guidance: https://numpy.org/devdocs/release/1.20.0-notes.html#deprecations\n",
      "  return (np.ceil(len(self.data) / float(self.batch_size))).astype(np.int)\n"
     ]
    },
    {
     "name": "stdout",
     "output_type": "stream",
     "text": [
      "1/1 [==============================] - 0s 432ms/step\n",
      "1/1 [==============================] - 0s 46ms/step\n",
      "1/1 [==============================] - 0s 63ms/step\n",
      "1/1 [==============================] - 0s 56ms/step\n",
      "1/1 [==============================] - 0s 62ms/step\n",
      "1/1 [==============================] - 0s 69ms/step\n",
      "1/1 [==============================] - 0s 51ms/step\n",
      "1/1 [==============================] - 0s 51ms/step\n",
      "1/1 [==============================] - 0s 45ms/step\n",
      "1/1 [==============================] - 0s 48ms/step\n",
      "1/1 [==============================] - 0s 53ms/step\n",
      "1/1 [==============================] - 0s 46ms/step\n",
      "1/1 [==============================] - 0s 46ms/step\n",
      "1/1 [==============================] - 0s 40ms/step\n",
      "1/1 [==============================] - 0s 45ms/step\n",
      "1/1 [==============================] - 0s 48ms/step\n",
      "1/1 [==============================] - 0s 55ms/step\n",
      "1/1 [==============================] - 0s 41ms/step\n",
      "1/1 [==============================] - 0s 46ms/step\n",
      "1/1 [==============================] - 0s 63ms/step\n",
      "1/1 [==============================] - 0s 64ms/step\n",
      "1/1 [==============================] - 0s 39ms/step\n",
      "1/1 [==============================] - 0s 47ms/step\n",
      "1/1 [==============================] - 0s 39ms/step\n",
      "1/1 [==============================] - 0s 45ms/step\n",
      "1/1 [==============================] - 0s 43ms/step\n",
      "1/1 [==============================] - 0s 42ms/step\n",
      "1/1 [==============================] - 0s 40ms/step\n",
      "1/1 [==============================] - 0s 46ms/step\n",
      "1/1 [==============================] - 0s 69ms/step\n",
      "1/1 [==============================] - 0s 47ms/step\n",
      "1/1 [==============================] - 0s 49ms/step\n",
      "1/1 [==============================] - 0s 47ms/step\n",
      "1/1 [==============================] - 0s 41ms/step\n",
      "1/1 [==============================] - 0s 50ms/step\n",
      "1/1 [==============================] - 0s 38ms/step\n",
      "1/1 [==============================] - 0s 44ms/step\n",
      "1/1 [==============================] - 0s 38ms/step\n",
      "1/1 [==============================] - 0s 55ms/step\n"
     ]
    }
   ],
   "source": [
    "y_true = []\n",
    "y_pred = []\n",
    "for img,lbl in dg_testall:\n",
    "    for i in lbl:\n",
    "        y_true.append(i)\n",
    "    x = model.predict(img)\n",
    "    for i in x:\n",
    "        y_pred.append(i)"
   ]
  },
  {
   "cell_type": "code",
   "execution_count": 94,
   "id": "4539f58c",
   "metadata": {},
   "outputs": [],
   "source": [
    "y_true = np.array(y_true)\n",
    "y_pred = np.array(y_pred)"
   ]
  },
  {
   "cell_type": "code",
   "execution_count": 95,
   "id": "cfb479b9",
   "metadata": {},
   "outputs": [],
   "source": [
    "yt = np.argmax(y_true,1)"
   ]
  },
  {
   "cell_type": "code",
   "execution_count": 96,
   "id": "450526bc",
   "metadata": {},
   "outputs": [],
   "source": [
    "yp = np.argmax(y_pred,1)"
   ]
  },
  {
   "cell_type": "code",
   "execution_count": 97,
   "id": "60b196ae",
   "metadata": {},
   "outputs": [],
   "source": [
    "acc = skm.accuracy_score(yt,yp)"
   ]
  },
  {
   "cell_type": "code",
   "execution_count": 98,
   "id": "e55f30f8",
   "metadata": {},
   "outputs": [
    {
     "data": {
      "text/plain": [
       "0.5612903225806452"
      ]
     },
     "execution_count": 98,
     "metadata": {},
     "output_type": "execute_result"
    }
   ],
   "source": [
    "acc"
   ]
  },
  {
   "cell_type": "code",
   "execution_count": 99,
   "id": "dca7f81a",
   "metadata": {},
   "outputs": [],
   "source": [
    "bal_acc = skm.balanced_accuracy_score(yt,yp)"
   ]
  },
  {
   "cell_type": "code",
   "execution_count": 100,
   "id": "97d7e068",
   "metadata": {},
   "outputs": [
    {
     "data": {
      "text/plain": [
       "0.4599294572918938"
      ]
     },
     "execution_count": 100,
     "metadata": {},
     "output_type": "execute_result"
    }
   ],
   "source": [
    "bal_acc"
   ]
  },
  {
   "cell_type": "code",
   "execution_count": 101,
   "id": "b0668d21",
   "metadata": {},
   "outputs": [],
   "source": [
    "mic_auc = skm.roc_auc_score(yt,y_pred,average='micro',multi_class='ovr')"
   ]
  },
  {
   "cell_type": "code",
   "execution_count": 102,
   "id": "81e0da44",
   "metadata": {},
   "outputs": [
    {
     "data": {
      "text/plain": [
       "0.7858480749219563"
      ]
     },
     "execution_count": 102,
     "metadata": {},
     "output_type": "execute_result"
    }
   ],
   "source": [
    "mic_auc"
   ]
  },
  {
   "cell_type": "code",
   "execution_count": 103,
   "id": "db93a8ad",
   "metadata": {},
   "outputs": [],
   "source": [
    "mac_auc = skm.roc_auc_score(yt,y_pred,average='macro',multi_class='ovr')"
   ]
  },
  {
   "cell_type": "code",
   "execution_count": 104,
   "id": "d51c1e37",
   "metadata": {},
   "outputs": [
    {
     "data": {
      "text/plain": [
       "0.7406539468248847"
      ]
     },
     "execution_count": 104,
     "metadata": {},
     "output_type": "execute_result"
    }
   ],
   "source": [
    "mac_auc"
   ]
  },
  {
   "cell_type": "code",
   "execution_count": 89,
   "id": "dea34dcc",
   "metadata": {},
   "outputs": [
    {
     "name": "stderr",
     "output_type": "stream",
     "text": [
      "/tmp/ipykernel_28908/4266871908.py:37: DeprecationWarning: `np.int` is a deprecated alias for the builtin `int`. To silence this warning, use `int` by itself. Doing this will not modify any behavior and is safe. When replacing `np.int`, you may wish to use e.g. `np.int64` or `np.int32` to specify the precision. If you wish to review your current use, check the release note link for additional information.\n",
      "Deprecated in NumPy 1.20; for more details and guidance: https://numpy.org/devdocs/release/1.20.0-notes.html#deprecations\n",
      "  return (np.ceil(len(self.data) / float(self.batch_size))).astype(np.int)\n",
      "2023-11-12 12:20:13.542566: I tensorflow/core/common_runtime/executor.cc:1197] [/device:CPU:0] (DEBUG INFO) Executor start aborting (this does not indicate an error and you can ignore this message): INVALID_ARGUMENT: You must feed a value for placeholder tensor 'Placeholder/_0' with dtype int32\n",
      "\t [[{{node Placeholder/_0}}]]\n"
     ]
    },
    {
     "name": "stdout",
     "output_type": "stream",
     "text": [
      "39/39 [==============================] - 11s 282ms/step - loss: 0.8897 - auc: 0.7862 - Precision: 0.5548 - Recall: 0.5226 - categorical_accuracy: 0.5613\n"
     ]
    },
    {
     "data": {
      "text/plain": [
       "[0.8896594643592834,\n",
       " 0.7862122654914856,\n",
       " 0.5547945499420166,\n",
       " 0.522580623626709,\n",
       " 0.5612903237342834]"
      ]
     },
     "execution_count": 89,
     "metadata": {},
     "output_type": "execute_result"
    }
   ],
   "source": [
    "model.evaluate(dg_testall)"
   ]
  },
  {
   "cell_type": "code",
   "execution_count": 90,
   "id": "3067630f",
   "metadata": {},
   "outputs": [],
   "source": [
    "import sklearn.metrics as skm"
   ]
  },
  {
   "cell_type": "code",
   "execution_count": null,
   "id": "3af2e084",
   "metadata": {},
   "outputs": [],
   "source": [
    "y_true = []\n",
    "y_pred = []\n",
    "for img,lbl in dg_testall:\n",
    "    for i in lbl:\n",
    "        y_true.append(i)\n",
    "    x = model.predict(img)\n",
    "    for i in x:\n",
    "        y_pred.append(i)"
   ]
  },
  {
   "cell_type": "code",
   "execution_count": 53,
   "id": "fbdb89e0",
   "metadata": {},
   "outputs": [
    {
     "name": "stderr",
     "output_type": "stream",
     "text": [
      "/tmp/ipykernel_6971/3036273271.py:33: DeprecationWarning: `np.int` is a deprecated alias for the builtin `int`. To silence this warning, use `int` by itself. Doing this will not modify any behavior and is safe. When replacing `np.int`, you may wish to use e.g. `np.int64` or `np.int32` to specify the precision. If you wish to review your current use, check the release note link for additional information.\n",
      "Deprecated in NumPy 1.20; for more details and guidance: https://numpy.org/devdocs/release/1.20.0-notes.html#deprecations\n",
      "  return (np.ceil(len(self.data) / float(self.batch_size))).astype(np.int)\n",
      "2023-11-06 07:20:49.809337: I tensorflow/core/common_runtime/executor.cc:1197] [/device:CPU:0] (DEBUG INFO) Executor start aborting (this does not indicate an error and you can ignore this message): INVALID_ARGUMENT: You must feed a value for placeholder tensor 'Placeholder/_0' with dtype int32\n",
      "\t [[{{node Placeholder/_0}}]]\n"
     ]
    },
    {
     "name": "stdout",
     "output_type": "stream",
     "text": [
      "39/39 [==============================] - 30s 772ms/step\n"
     ]
    }
   ],
   "source": [
    "y_true = np.array(testall['DX'])\n",
    "y_pred = model.predict(dg_testall)\n",
    "y_pred = np.array(y_pred)"
   ]
  },
  {
   "cell_type": "code",
   "execution_count": 63,
   "id": "4e9503c0",
   "metadata": {},
   "outputs": [],
   "source": [
    "y_predarg[1]=1"
   ]
  },
  {
   "cell_type": "code",
   "execution_count": 66,
   "id": "a9616aac",
   "metadata": {},
   "outputs": [],
   "source": [
    "y_predarg = np.array(y_predarg)"
   ]
  },
  {
   "cell_type": "code",
   "execution_count": 71,
   "id": "89652b02",
   "metadata": {},
   "outputs": [],
   "source": [
    "cm = skm.confusion_matrix(X,y)"
   ]
  },
  {
   "cell_type": "code",
   "execution_count": 72,
   "id": "efb2fad7",
   "metadata": {},
   "outputs": [
    {
     "data": {
      "text/plain": [
       "<sklearn.metrics._plot.confusion_matrix.ConfusionMatrixDisplay at 0x7f6555edeb90>"
      ]
     },
     "execution_count": 72,
     "metadata": {},
     "output_type": "execute_result"
    },
    {
     "data": {
      "image/png": "[encoded data removed]",
      "text/plain": [
       "<Figure size 640x480 with 1 Axes>"
      ]
     },
     "metadata": {},
     "output_type": "display_data"
    },
    {
     "data": {
      "image/png": "[encoded data removed]",
      "text/plain": [
       "<Figure size 640x480 with 2 Axes>"
      ]
     },
     "metadata": {},
     "output_type": "display_data"
    }
   ],
   "source": [
    "color = 'white'\n",
    "matrix = skm.ConfusionMatrixDisplay(cm)\n",
    "plt.xlabel('Predicted Label', color=color)\n",
    "plt.ylabel('True Label', color=color)\n",
    "matrix.plot(cmap=plt.cm.Blues)"
   ]
  },
  {
   "cell_type": "code",
   "execution_count": 74,
   "id": "e97edcae",
   "metadata": {},
   "outputs": [
    {
     "data": {
      "text/plain": [
       "0.49032258064516127"
      ]
     },
     "execution_count": 74,
     "metadata": {},
     "output_type": "execute_result"
    }
   ],
   "source": [
    "acc = skm.accuracy_score(X,y)\n",
    "acc"
   ]
  },
  {
   "cell_type": "code",
   "execution_count": 75,
   "id": "979c40dd",
   "metadata": {},
   "outputs": [
    {
     "data": {
      "text/plain": [
       "0.3330183487191202"
      ]
     },
     "execution_count": 75,
     "metadata": {},
     "output_type": "execute_result"
    }
   ],
   "source": [
    "bal_acc = skm.balanced_accuracy_score(X,y)\n",
    "bal_acc"
   ]
  }
 ],
 "metadata": {
  "kernelspec": {
   "display_name": "Python 3 (ipykernel)",
   "language": "python",
   "name": "python3"
  },
  "language_info": {
   "codemirror_mode": {
    "name": "ipython",
    "version": 3
   },
   "file_extension": ".py",
   "mimetype": "text/x-python",
   "name": "python",
   "nbconvert_exporter": "python",
   "pygments_lexer": "ipython3",
   "version": "3.10.4"
  }
 },
 "nbformat": 4,
 "nbformat_minor": 5
}
