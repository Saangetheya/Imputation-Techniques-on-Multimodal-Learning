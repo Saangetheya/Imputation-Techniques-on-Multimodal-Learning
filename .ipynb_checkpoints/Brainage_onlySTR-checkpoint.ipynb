{
 "cells": [
  {
   "cell_type": "code",
   "execution_count": 1,
   "id": "8c762754",
   "metadata": {},
   "outputs": [
    {
     "name": "stderr",
     "output_type": "stream",
     "text": [
      "2023-12-24 10:53:24.577893: I tensorflow/core/platform/cpu_feature_guard.cc:182] This TensorFlow binary is optimized to use available CPU instructions in performance-critical operations.\n",
      "To enable the following instructions: AVX2 FMA, in other operations, rebuild TensorFlow with the appropriate compiler flags.\n",
      "2023-12-24 10:53:25.524749: W tensorflow/compiler/tf2tensorrt/utils/py_utils.cc:38] TF-TRT Warning: Could not find TensorRT\n"
     ]
    }
   ],
   "source": [
    "import pandas as pd\n",
    "import tensorflow as tf\n",
    "import numpy as np\n",
    "import os"
   ]
  },
  {
   "cell_type": "code",
   "execution_count": 2,
   "id": "79bf7731",
   "metadata": {},
   "outputs": [],
   "source": [
    "def checkfilepath(filepath):\n",
    "    return os.path.exists(filepath)\n",
    "\n",
    "def read_nifti_file(filepath):\n",
    "    scan = nib.load(filepath)\n",
    "    data = scan.get_fdata()\n",
    "    return data\n",
    "\n",
    "def normalize(volume):\n",
    "    dmin = np.amin(volume)\n",
    "    dmax = np.amax(volume)\n",
    "    davg = np.average(volume)\n",
    "    volume = (volume-dmin)/davg\n",
    "    return volume\n",
    "\n",
    "def process_scan(path):\n",
    "    vol = read_nifti_file(path)\n",
    "    vol = normalize(vol)\n",
    "    return vol\n"
   ]
  },
  {
   "cell_type": "code",
   "execution_count": 3,
   "id": "c8c96090",
   "metadata": {},
   "outputs": [],
   "source": [
    "df = pd.read_excel('/lfs1/ashaji/Imputation_Problem/data/ADNI_final.xlsx', engine='openpyxl')\n",
    "df['SubjID'].replace('',np.nan,inplace=True)\n",
    "df['AGE_at_scan'].replace('',np.nan,inplace=True)\n",
    "df.dropna(subset=['SubjID','AGE_at_scan'], inplace=True)\n",
    "df = df.reset_index(drop=True)\n",
    "df.loc[df['SEX']=='M','SEX'] = 1\n",
    "df.loc[df['SEX']=='F','SEX'] = 0\n",
    "condCN = df['DX'] == 'CN'\n",
    "df = df.sort_values(by = ['SubjID'])\n",
    "df = df.loc[condCN,:]\n",
    "# df = df.sample(frac = 1)\n",
    "df = df.reset_index(drop=True)"
   ]
  },
  {
   "cell_type": "code",
   "execution_count": 4,
   "id": "a6a0b80d",
   "metadata": {},
   "outputs": [],
   "source": [
    "df['SEX'].replace('',np.nan,inplace=True)\n",
    "df['CDRSB'].replace('',np.nan,inplace=True)\n",
    "df['ADAS11'].replace('',np.nan,inplace=True)\n",
    "df['ADAS13'].replace('',np.nan,inplace=True)\n",
    "df['MMSE'].replace('',np.nan,inplace=True)\n",
    "df['MOCA'].replace('',np.nan,inplace=True)\n",
    "df['APOE A1'].replace('',np.nan,inplace=True)\n",
    "df['APOE A2'].replace('',np.nan,inplace=True)\n",
    "# df.dropna(subset=['SEX','CDRSB','ADAS11','ADAS13','MMSE','MOCA','APOE A1','APOE A2'], inplace=True)"
   ]
  },
  {
   "cell_type": "code",
   "execution_count": 5,
   "id": "1e285c44",
   "metadata": {},
   "outputs": [],
   "source": [
    "cond = [checkfilepath(str(x)) for x in df['ACCEL_DL_6DOF_2MM_T1']]\n",
    "cond0 = df['ACCEL_Preprocessed for DL?']=='yes'"
   ]
  },
  {
   "cell_type": "code",
   "execution_count": 6,
   "id": "61b216b9",
   "metadata": {},
   "outputs": [],
   "source": [
    "conddwi = [checkfilepath(str(x)) for x in df['DWI_Matched_File_FA_Path_ENIGMATBSSspace']]"
   ]
  },
  {
   "cell_type": "code",
   "execution_count": 7,
   "id": "12777351",
   "metadata": {},
   "outputs": [],
   "source": [
    "cond2 = df['SEX'].isnull()\n",
    "cond2 = np.invert(cond2)\n",
    "cond3 = df['CDRSB'].isnull()\n",
    "cond3 = np.invert(cond3)\n",
    "cond4 = df['ADAS11'].isnull()\n",
    "cond4 = np.invert(cond4)\n",
    "cond5 = df['ADAS13'].isnull()\n",
    "cond5 = np.invert(cond5)\n",
    "cond6 = df['MMSE'].isnull()\n",
    "cond6 = np.invert(cond6)\n",
    "cond7 = df['MOCA'].isnull()\n",
    "cond7 = np.invert(cond7)\n",
    "cond8 = df['APOE A1'].isnull()\n",
    "cond8 = np.invert(cond8)\n",
    "cond9 = df['APOE A2'].isnull()\n",
    "cond9 = np.invert(cond9)"
   ]
  },
  {
   "cell_type": "code",
   "execution_count": 8,
   "id": "cba2009b",
   "metadata": {},
   "outputs": [],
   "source": [
    "condt1 = [cond[i] & cond0[i]  for i in range(len(cond))]"
   ]
  },
  {
   "cell_type": "code",
   "execution_count": 9,
   "id": "b315bdac",
   "metadata": {},
   "outputs": [],
   "source": [
    "condstr = cond2 & cond3 & cond4 & cond5 & cond6 & cond7 & cond8 & cond9"
   ]
  },
  {
   "cell_type": "code",
   "execution_count": 10,
   "id": "965ba225",
   "metadata": {},
   "outputs": [
    {
     "data": {
      "text/plain": [
       "458"
      ]
     },
     "execution_count": 10,
     "metadata": {},
     "output_type": "execute_result"
    }
   ],
   "source": [
    "t1dwistr = df.loc[[(condt1[i] and conddwi[i] and condstr[i]) for i in range(len(condt1))]  , :]\n",
    "len(t1dwistr)"
   ]
  },
  {
   "cell_type": "code",
   "execution_count": 11,
   "id": "967d9c4b",
   "metadata": {},
   "outputs": [
    {
     "data": {
      "text/plain": [
       "1255"
      ]
     },
     "execution_count": 11,
     "metadata": {},
     "output_type": "execute_result"
    }
   ],
   "source": [
    "t1dwi_str = df.loc[[(condt1[i] and not conddwi[i] and condstr[i]) for i in range(len(condt1))] , :]\n",
    "len(t1dwi_str)"
   ]
  },
  {
   "cell_type": "code",
   "execution_count": 12,
   "id": "f9d91643",
   "metadata": {},
   "outputs": [
    {
     "data": {
      "text/plain": [
       "329"
      ]
     },
     "execution_count": 12,
     "metadata": {},
     "output_type": "execute_result"
    }
   ],
   "source": [
    "t1dwi_str_ = df.loc[[(condt1[i] and not conddwi[i] and not condstr[i]) for i in range(len(condt1))] , :]\n",
    "len(t1dwi_str_)"
   ]
  },
  {
   "cell_type": "code",
   "execution_count": 13,
   "id": "4a040442",
   "metadata": {},
   "outputs": [
    {
     "data": {
      "text/plain": [
       "107"
      ]
     },
     "execution_count": 13,
     "metadata": {},
     "output_type": "execute_result"
    }
   ],
   "source": [
    "t1_dwi_str = df.loc[[(not condt1[i] and not conddwi[i] and condstr[i]) for i in range(len(condt1))] , :]\n",
    "len(t1_dwi_str)"
   ]
  },
  {
   "cell_type": "code",
   "execution_count": 14,
   "id": "003fd754",
   "metadata": {},
   "outputs": [
    {
     "data": {
      "text/plain": [
       "74"
      ]
     },
     "execution_count": 14,
     "metadata": {},
     "output_type": "execute_result"
    }
   ],
   "source": [
    "t1dwistr_ = df.loc[[(condt1[i] and conddwi[i] and not condstr[i]) for i in range(len(condt1))] , :]\n",
    "len(t1dwistr_)"
   ]
  },
  {
   "cell_type": "code",
   "execution_count": 15,
   "id": "1792665e",
   "metadata": {},
   "outputs": [
    {
     "data": {
      "text/plain": [
       "0"
      ]
     },
     "execution_count": 15,
     "metadata": {},
     "output_type": "execute_result"
    }
   ],
   "source": [
    "t1_dwistr_ = df.loc[[(not condt1[i] and conddwi[i] and not condstr[i]) for i in range(len(condt1))] , :]\n",
    "len(t1_dwistr_)"
   ]
  },
  {
   "cell_type": "code",
   "execution_count": 16,
   "id": "aa0c7946",
   "metadata": {},
   "outputs": [
    {
     "data": {
      "text/plain": [
       "13"
      ]
     },
     "execution_count": 16,
     "metadata": {},
     "output_type": "execute_result"
    }
   ],
   "source": [
    "t1_dwistr = df.loc[[(not condt1[i] and conddwi[i] and condstr[i]) for i in range(len(condt1))] , :]\n",
    "len(t1_dwistr)"
   ]
  },
  {
   "cell_type": "code",
   "execution_count": 17,
   "id": "f5dd92dd",
   "metadata": {},
   "outputs": [
    {
     "data": {
      "text/plain": [
       "329"
      ]
     },
     "execution_count": 17,
     "metadata": {},
     "output_type": "execute_result"
    }
   ],
   "source": [
    "t1dwi_str_ = df.loc[[(condt1[i] and not conddwi[i] and not condstr[i]) for i in range(len(condt1))] , :]\n",
    "len(t1dwi_str_)"
   ]
  },
  {
   "cell_type": "code",
   "execution_count": 18,
   "id": "ccff7cb2",
   "metadata": {},
   "outputs": [
    {
     "data": {
      "text/html": [
       "<div>\n",
       "<style scoped>\n",
       "    .dataframe tbody tr th:only-of-type {\n",
       "        vertical-align: middle;\n",
       "    }\n",
       "\n",
       "    .dataframe tbody tr th {\n",
       "        vertical-align: top;\n",
       "    }\n",
       "\n",
       "    .dataframe thead th {\n",
       "        text-align: right;\n",
       "    }\n",
       "</style>\n",
       "<table border=\"1\" class=\"dataframe\">\n",
       "  <thead>\n",
       "    <tr style=\"text-align: right;\">\n",
       "      <th></th>\n",
       "      <th>SubjID</th>\n",
       "      <th>RID</th>\n",
       "      <th>NONACCEL_T1_SCAN_FILENAME</th>\n",
       "      <th>NONACCEL_T1_IMAGEID</th>\n",
       "      <th>NONACCEL_Path to RAW nifti</th>\n",
       "      <th>NONACCEL_Preprocessed for DL?</th>\n",
       "      <th>NONACCEL_DL_6DOF_2MM_T1</th>\n",
       "      <th>NONACCEL_DL_6DOF_2MM_MASK</th>\n",
       "      <th>NONACCEL_DL_6DOF_2MM_GM</th>\n",
       "      <th>NONACCEL_DL_6DOF_2MM_WM</th>\n",
       "      <th>...</th>\n",
       "      <th>DWI_Matched_File_L1_Path_ENIGMATBSSspace</th>\n",
       "      <th>DWI_Matched_File_MD_Path_ENIGMATBSSspace</th>\n",
       "      <th>DWI_Matched_File_RD_Path_ENIGMATBSSspace</th>\n",
       "      <th>T1_Path_ENIGMATBSSspace</th>\n",
       "      <th>DWI_Matched_File_FA_Path_ENIGMATBSSspace_2MM</th>\n",
       "      <th>DWI_Matched_File_L1_Path_ENIGMATBSSspace_2MM</th>\n",
       "      <th>DWI_Matched_File_MD_Path_ENIGMATBSSspace_2MM</th>\n",
       "      <th>DWI_Matched_File_RD_Path_ENIGMATBSSspace_2MM</th>\n",
       "      <th>T1_Path_ENIGMATBSSspace_2MM</th>\n",
       "      <th>DWI Preprocessing Pipeline (old=ADNI2 - new=ADNI3)</th>\n",
       "    </tr>\n",
       "  </thead>\n",
       "  <tbody>\n",
       "    <tr>\n",
       "      <th>0</th>\n",
       "      <td>002_S_0295</td>\n",
       "      <td>295</td>\n",
       "      <td>002_S_0295_20060418_A1_T1_1.5T_nonaccel_Preproc</td>\n",
       "      <td>45108.0</td>\n",
       "      <td>/nas/bioint-data/neuroimaging-data/ADNI/Organi...</td>\n",
       "      <td>yes</td>\n",
       "      <td>/nas/bioint-data/neuroimaging-data/ADNI/6DOF/0...</td>\n",
       "      <td>/nas/bioint-data/neuroimaging-data/ADNI/6DOF/0...</td>\n",
       "      <td>/nas/bioint-data/neuroimaging-data/ADNI/6DOF/0...</td>\n",
       "      <td>/nas/bioint-data/neuroimaging-data/ADNI/6DOF/0...</td>\n",
       "      <td>...</td>\n",
       "      <td>NaN</td>\n",
       "      <td>NaN</td>\n",
       "      <td>NaN</td>\n",
       "      <td>NaN</td>\n",
       "      <td>NaN</td>\n",
       "      <td>NaN</td>\n",
       "      <td>NaN</td>\n",
       "      <td>NaN</td>\n",
       "      <td>NaN</td>\n",
       "      <td>NaN</td>\n",
       "    </tr>\n",
       "    <tr>\n",
       "      <th>1</th>\n",
       "      <td>002_S_0295</td>\n",
       "      <td>295</td>\n",
       "      <td>002_S_0295_20061102_A1_T1_1.5T_nonaccel_Preproc</td>\n",
       "      <td>40966.0</td>\n",
       "      <td>/nas/bioint-data/neuroimaging-data/ADNI/Organi...</td>\n",
       "      <td>yes</td>\n",
       "      <td>/nas/bioint-data/neuroimaging-data/ADNI/6DOF/0...</td>\n",
       "      <td>/nas/bioint-data/neuroimaging-data/ADNI/6DOF/0...</td>\n",
       "      <td>/nas/bioint-data/neuroimaging-data/ADNI/6DOF/0...</td>\n",
       "      <td>/nas/bioint-data/neuroimaging-data/ADNI/6DOF/0...</td>\n",
       "      <td>...</td>\n",
       "      <td>NaN</td>\n",
       "      <td>NaN</td>\n",
       "      <td>NaN</td>\n",
       "      <td>NaN</td>\n",
       "      <td>NaN</td>\n",
       "      <td>NaN</td>\n",
       "      <td>NaN</td>\n",
       "      <td>NaN</td>\n",
       "      <td>NaN</td>\n",
       "      <td>NaN</td>\n",
       "    </tr>\n",
       "    <tr>\n",
       "      <th>2</th>\n",
       "      <td>002_S_0295</td>\n",
       "      <td>295</td>\n",
       "      <td>002_S_0295_20070525_A1_T1_1.5T_nonaccel_Preproc</td>\n",
       "      <td>64025.0</td>\n",
       "      <td>/nas/bioint-data/neuroimaging-data/ADNI/Organi...</td>\n",
       "      <td>yes</td>\n",
       "      <td>/nas/bioint-data/neuroimaging-data/ADNI/6DOF/0...</td>\n",
       "      <td>/nas/bioint-data/neuroimaging-data/ADNI/6DOF/0...</td>\n",
       "      <td>/nas/bioint-data/neuroimaging-data/ADNI/6DOF/0...</td>\n",
       "      <td>/nas/bioint-data/neuroimaging-data/ADNI/6DOF/0...</td>\n",
       "      <td>...</td>\n",
       "      <td>NaN</td>\n",
       "      <td>NaN</td>\n",
       "      <td>NaN</td>\n",
       "      <td>NaN</td>\n",
       "      <td>NaN</td>\n",
       "      <td>NaN</td>\n",
       "      <td>NaN</td>\n",
       "      <td>NaN</td>\n",
       "      <td>NaN</td>\n",
       "      <td>NaN</td>\n",
       "    </tr>\n",
       "    <tr>\n",
       "      <th>3</th>\n",
       "      <td>002_S_0295</td>\n",
       "      <td>295</td>\n",
       "      <td>002_S_0295_20080723_A1_T1_1.5T_nonaccel_Preproc</td>\n",
       "      <td>123685.0</td>\n",
       "      <td>/nas/bioint-data/neuroimaging-data/ADNI/Organi...</td>\n",
       "      <td>yes</td>\n",
       "      <td>/nas/bioint-data/neuroimaging-data/ADNI/6DOF/0...</td>\n",
       "      <td>/nas/bioint-data/neuroimaging-data/ADNI/6DOF/0...</td>\n",
       "      <td>/nas/bioint-data/neuroimaging-data/ADNI/6DOF/0...</td>\n",
       "      <td>/nas/bioint-data/neuroimaging-data/ADNI/6DOF/0...</td>\n",
       "      <td>...</td>\n",
       "      <td>NaN</td>\n",
       "      <td>NaN</td>\n",
       "      <td>NaN</td>\n",
       "      <td>NaN</td>\n",
       "      <td>NaN</td>\n",
       "      <td>NaN</td>\n",
       "      <td>NaN</td>\n",
       "      <td>NaN</td>\n",
       "      <td>NaN</td>\n",
       "      <td>NaN</td>\n",
       "    </tr>\n",
       "    <tr>\n",
       "      <th>4</th>\n",
       "      <td>002_S_0295</td>\n",
       "      <td>295</td>\n",
       "      <td>002_S_0295_20090522_A1_T1_1.5T_nonaccel_Preproc</td>\n",
       "      <td>150177.0</td>\n",
       "      <td>/nas/bioint-data/neuroimaging-data/ADNI/Organi...</td>\n",
       "      <td>yes</td>\n",
       "      <td>/nas/bioint-data/neuroimaging-data/ADNI/6DOF/0...</td>\n",
       "      <td>/nas/bioint-data/neuroimaging-data/ADNI/6DOF/0...</td>\n",
       "      <td>/nas/bioint-data/neuroimaging-data/ADNI/6DOF/0...</td>\n",
       "      <td>/nas/bioint-data/neuroimaging-data/ADNI/6DOF/0...</td>\n",
       "      <td>...</td>\n",
       "      <td>NaN</td>\n",
       "      <td>NaN</td>\n",
       "      <td>NaN</td>\n",
       "      <td>NaN</td>\n",
       "      <td>NaN</td>\n",
       "      <td>NaN</td>\n",
       "      <td>NaN</td>\n",
       "      <td>NaN</td>\n",
       "      <td>NaN</td>\n",
       "      <td>NaN</td>\n",
       "    </tr>\n",
       "    <tr>\n",
       "      <th>5</th>\n",
       "      <td>002_S_0295</td>\n",
       "      <td>295</td>\n",
       "      <td>002_S_0295_20100513_A1_T1_1.5T_nonaccel_Preproc</td>\n",
       "      <td>291869.0</td>\n",
       "      <td>/nas/bioint-data/neuroimaging-data/ADNI/Organi...</td>\n",
       "      <td>yes</td>\n",
       "      <td>/nas/bioint-data/neuroimaging-data/ADNI/6DOF/0...</td>\n",
       "      <td>/nas/bioint-data/neuroimaging-data/ADNI/6DOF/0...</td>\n",
       "      <td>/nas/bioint-data/neuroimaging-data/ADNI/6DOF/0...</td>\n",
       "      <td>/nas/bioint-data/neuroimaging-data/ADNI/6DOF/0...</td>\n",
       "      <td>...</td>\n",
       "      <td>NaN</td>\n",
       "      <td>NaN</td>\n",
       "      <td>NaN</td>\n",
       "      <td>NaN</td>\n",
       "      <td>NaN</td>\n",
       "      <td>NaN</td>\n",
       "      <td>NaN</td>\n",
       "      <td>NaN</td>\n",
       "      <td>NaN</td>\n",
       "      <td>NaN</td>\n",
       "    </tr>\n",
       "    <tr>\n",
       "      <th>6</th>\n",
       "      <td>002_S_0295</td>\n",
       "      <td>295</td>\n",
       "      <td>002_S_0295_20110602_A2_T1_3T_nonaccel_Preproc</td>\n",
       "      <td>241350.0</td>\n",
       "      <td>/nas/bioint-data/neuroimaging-data/ADNI/Organi...</td>\n",
       "      <td>yes</td>\n",
       "      <td>/nas/bioint-data/neuroimaging-data/ADNI/6DOF/0...</td>\n",
       "      <td>/nas/bioint-data/neuroimaging-data/ADNI/6DOF/0...</td>\n",
       "      <td>/nas/bioint-data/neuroimaging-data/ADNI/6DOF/0...</td>\n",
       "      <td>/nas/bioint-data/neuroimaging-data/ADNI/6DOF/0...</td>\n",
       "      <td>...</td>\n",
       "      <td>NaN</td>\n",
       "      <td>NaN</td>\n",
       "      <td>NaN</td>\n",
       "      <td>NaN</td>\n",
       "      <td>NaN</td>\n",
       "      <td>NaN</td>\n",
       "      <td>NaN</td>\n",
       "      <td>NaN</td>\n",
       "      <td>NaN</td>\n",
       "      <td>NaN</td>\n",
       "    </tr>\n",
       "    <tr>\n",
       "      <th>7</th>\n",
       "      <td>002_S_0295</td>\n",
       "      <td>295</td>\n",
       "      <td>002_S_0295_20120510_A2_T1_3T_nonaccel_Preproc</td>\n",
       "      <td>308078.0</td>\n",
       "      <td>/nas/bioint-data/neuroimaging-data/ADNI/Organi...</td>\n",
       "      <td>yes</td>\n",
       "      <td>/nas/bioint-data/neuroimaging-data/ADNI/6DOF/0...</td>\n",
       "      <td>/nas/bioint-data/neuroimaging-data/ADNI/6DOF/0...</td>\n",
       "      <td>/nas/bioint-data/neuroimaging-data/ADNI/6DOF/0...</td>\n",
       "      <td>/nas/bioint-data/neuroimaging-data/ADNI/6DOF/0...</td>\n",
       "      <td>...</td>\n",
       "      <td>NaN</td>\n",
       "      <td>NaN</td>\n",
       "      <td>NaN</td>\n",
       "      <td>NaN</td>\n",
       "      <td>NaN</td>\n",
       "      <td>NaN</td>\n",
       "      <td>NaN</td>\n",
       "      <td>NaN</td>\n",
       "      <td>NaN</td>\n",
       "      <td>NaN</td>\n",
       "    </tr>\n",
       "    <tr>\n",
       "      <th>8</th>\n",
       "      <td>002_S_0413</td>\n",
       "      <td>413</td>\n",
       "      <td>NaN</td>\n",
       "      <td>NaN</td>\n",
       "      <td>NaN</td>\n",
       "      <td>NaN</td>\n",
       "      <td>NaN</td>\n",
       "      <td>NaN</td>\n",
       "      <td>NaN</td>\n",
       "      <td>NaN</td>\n",
       "      <td>...</td>\n",
       "      <td>/nas/bioint-data/neuroimaging-data/ADNI/Organi...</td>\n",
       "      <td>/nas/bioint-data/neuroimaging-data/ADNI/Organi...</td>\n",
       "      <td>/nas/bioint-data/neuroimaging-data/ADNI/Organi...</td>\n",
       "      <td>/nas/bioint-data/neuroimaging-data/ADNI/Organi...</td>\n",
       "      <td>/nas/bioint-data/neuroimaging-data/ADNI/Organi...</td>\n",
       "      <td>/nas/bioint-data/neuroimaging-data/ADNI/Organi...</td>\n",
       "      <td>/nas/bioint-data/neuroimaging-data/ADNI/Organi...</td>\n",
       "      <td>/nas/bioint-data/neuroimaging-data/ADNI/Organi...</td>\n",
       "      <td>/nas/bioint-data/neuroimaging-data/ADNI/Organi...</td>\n",
       "      <td>ADNI3</td>\n",
       "    </tr>\n",
       "    <tr>\n",
       "      <th>9</th>\n",
       "      <td>002_S_0413</td>\n",
       "      <td>413</td>\n",
       "      <td>002_S_0413_20150609_A2_T1_3T_nonaccel_Preproc</td>\n",
       "      <td>649030.0</td>\n",
       "      <td>/nas/bioint-data/neuroimaging-data/ADNI/Organi...</td>\n",
       "      <td>yes</td>\n",
       "      <td>/nas/bioint-data/neuroimaging-data/ADNI/6DOF/0...</td>\n",
       "      <td>/nas/bioint-data/neuroimaging-data/ADNI/6DOF/0...</td>\n",
       "      <td>/nas/bioint-data/neuroimaging-data/ADNI/6DOF/0...</td>\n",
       "      <td>/nas/bioint-data/neuroimaging-data/ADNI/6DOF/0...</td>\n",
       "      <td>...</td>\n",
       "      <td>NaN</td>\n",
       "      <td>NaN</td>\n",
       "      <td>NaN</td>\n",
       "      <td>NaN</td>\n",
       "      <td>NaN</td>\n",
       "      <td>NaN</td>\n",
       "      <td>NaN</td>\n",
       "      <td>NaN</td>\n",
       "      <td>NaN</td>\n",
       "      <td>NaN</td>\n",
       "    </tr>\n",
       "    <tr>\n",
       "      <th>10</th>\n",
       "      <td>002_S_0413</td>\n",
       "      <td>413</td>\n",
       "      <td>002_S_0413_20140501_A2_T1_3T_nonaccel_Preproc</td>\n",
       "      <td>424741.0</td>\n",
       "      <td>/nas/bioint-data/neuroimaging-data/ADNI/Organi...</td>\n",
       "      <td>yes</td>\n",
       "      <td>/nas/bioint-data/neuroimaging-data/ADNI/6DOF/0...</td>\n",
       "      <td>/nas/bioint-data/neuroimaging-data/ADNI/6DOF/0...</td>\n",
       "      <td>/nas/bioint-data/neuroimaging-data/ADNI/6DOF/0...</td>\n",
       "      <td>/nas/bioint-data/neuroimaging-data/ADNI/6DOF/0...</td>\n",
       "      <td>...</td>\n",
       "      <td>NaN</td>\n",
       "      <td>NaN</td>\n",
       "      <td>NaN</td>\n",
       "      <td>NaN</td>\n",
       "      <td>NaN</td>\n",
       "      <td>NaN</td>\n",
       "      <td>NaN</td>\n",
       "      <td>NaN</td>\n",
       "      <td>NaN</td>\n",
       "      <td>NaN</td>\n",
       "    </tr>\n",
       "    <tr>\n",
       "      <th>11</th>\n",
       "      <td>002_S_0413</td>\n",
       "      <td>413</td>\n",
       "      <td>002_S_0413_20130510_A2_T1_3T_nonaccel_Preproc</td>\n",
       "      <td>373133.0</td>\n",
       "      <td>/nas/bioint-data/neuroimaging-data/ADNI/Organi...</td>\n",
       "      <td>yes</td>\n",
       "      <td>/nas/bioint-data/neuroimaging-data/ADNI/6DOF/0...</td>\n",
       "      <td>/nas/bioint-data/neuroimaging-data/ADNI/6DOF/0...</td>\n",
       "      <td>/nas/bioint-data/neuroimaging-data/ADNI/6DOF/0...</td>\n",
       "      <td>/nas/bioint-data/neuroimaging-data/ADNI/6DOF/0...</td>\n",
       "      <td>...</td>\n",
       "      <td>NaN</td>\n",
       "      <td>NaN</td>\n",
       "      <td>NaN</td>\n",
       "      <td>NaN</td>\n",
       "      <td>NaN</td>\n",
       "      <td>NaN</td>\n",
       "      <td>NaN</td>\n",
       "      <td>NaN</td>\n",
       "      <td>NaN</td>\n",
       "      <td>NaN</td>\n",
       "    </tr>\n",
       "    <tr>\n",
       "      <th>12</th>\n",
       "      <td>002_S_0413</td>\n",
       "      <td>413</td>\n",
       "      <td>002_S_0413_20120515_A2_T1_3T_nonaccel_Preproc</td>\n",
       "      <td>312701.0</td>\n",
       "      <td>/nas/bioint-data/neuroimaging-data/ADNI/Organi...</td>\n",
       "      <td>yes</td>\n",
       "      <td>/nas/bioint-data/neuroimaging-data/ADNI/6DOF/0...</td>\n",
       "      <td>/nas/bioint-data/neuroimaging-data/ADNI/6DOF/0...</td>\n",
       "      <td>/nas/bioint-data/neuroimaging-data/ADNI/6DOF/0...</td>\n",
       "      <td>/nas/bioint-data/neuroimaging-data/ADNI/6DOF/0...</td>\n",
       "      <td>...</td>\n",
       "      <td>NaN</td>\n",
       "      <td>NaN</td>\n",
       "      <td>NaN</td>\n",
       "      <td>NaN</td>\n",
       "      <td>NaN</td>\n",
       "      <td>NaN</td>\n",
       "      <td>NaN</td>\n",
       "      <td>NaN</td>\n",
       "      <td>NaN</td>\n",
       "      <td>NaN</td>\n",
       "    </tr>\n",
       "    <tr>\n",
       "      <th>13</th>\n",
       "      <td>002_S_0413</td>\n",
       "      <td>413</td>\n",
       "      <td>002_S_0413_20110616_A2_T1_3T_nonaccel_Preproc</td>\n",
       "      <td>242895.0</td>\n",
       "      <td>/nas/bioint-data/neuroimaging-data/ADNI/Organi...</td>\n",
       "      <td>yes</td>\n",
       "      <td>/nas/bioint-data/neuroimaging-data/ADNI/6DOF/0...</td>\n",
       "      <td>/nas/bioint-data/neuroimaging-data/ADNI/6DOF/0...</td>\n",
       "      <td>/nas/bioint-data/neuroimaging-data/ADNI/6DOF/0...</td>\n",
       "      <td>/nas/bioint-data/neuroimaging-data/ADNI/6DOF/0...</td>\n",
       "      <td>...</td>\n",
       "      <td>NaN</td>\n",
       "      <td>NaN</td>\n",
       "      <td>NaN</td>\n",
       "      <td>NaN</td>\n",
       "      <td>NaN</td>\n",
       "      <td>NaN</td>\n",
       "      <td>NaN</td>\n",
       "      <td>NaN</td>\n",
       "      <td>NaN</td>\n",
       "      <td>NaN</td>\n",
       "    </tr>\n",
       "    <tr>\n",
       "      <th>14</th>\n",
       "      <td>002_S_0413</td>\n",
       "      <td>413</td>\n",
       "      <td>NaN</td>\n",
       "      <td>NaN</td>\n",
       "      <td>NaN</td>\n",
       "      <td>NaN</td>\n",
       "      <td>NaN</td>\n",
       "      <td>NaN</td>\n",
       "      <td>NaN</td>\n",
       "      <td>NaN</td>\n",
       "      <td>...</td>\n",
       "      <td>/nas/bioint-data/neuroimaging-data/ADNI/Organi...</td>\n",
       "      <td>/nas/bioint-data/neuroimaging-data/ADNI/Organi...</td>\n",
       "      <td>/nas/bioint-data/neuroimaging-data/ADNI/Organi...</td>\n",
       "      <td>/nas/bioint-data/neuroimaging-data/ADNI/Organi...</td>\n",
       "      <td>/nas/bioint-data/neuroimaging-data/ADNI/Organi...</td>\n",
       "      <td>/nas/bioint-data/neuroimaging-data/ADNI/Organi...</td>\n",
       "      <td>/nas/bioint-data/neuroimaging-data/ADNI/Organi...</td>\n",
       "      <td>/nas/bioint-data/neuroimaging-data/ADNI/Organi...</td>\n",
       "      <td>/nas/bioint-data/neuroimaging-data/ADNI/Organi...</td>\n",
       "      <td>ADNI3</td>\n",
       "    </tr>\n",
       "    <tr>\n",
       "      <th>15</th>\n",
       "      <td>002_S_0413</td>\n",
       "      <td>413</td>\n",
       "      <td>002_S_0413_20090504_A1_T1_1.5T_nonaccel_Preproc</td>\n",
       "      <td>149740.0</td>\n",
       "      <td>/nas/bioint-data/neuroimaging-data/ADNI/Organi...</td>\n",
       "      <td>yes</td>\n",
       "      <td>/nas/bioint-data/neuroimaging-data/ADNI/6DOF/0...</td>\n",
       "      <td>/nas/bioint-data/neuroimaging-data/ADNI/6DOF/0...</td>\n",
       "      <td>/nas/bioint-data/neuroimaging-data/ADNI/6DOF/0...</td>\n",
       "      <td>/nas/bioint-data/neuroimaging-data/ADNI/6DOF/0...</td>\n",
       "      <td>...</td>\n",
       "      <td>NaN</td>\n",
       "      <td>NaN</td>\n",
       "      <td>NaN</td>\n",
       "      <td>NaN</td>\n",
       "      <td>NaN</td>\n",
       "      <td>NaN</td>\n",
       "      <td>NaN</td>\n",
       "      <td>NaN</td>\n",
       "      <td>NaN</td>\n",
       "      <td>NaN</td>\n",
       "    </tr>\n",
       "    <tr>\n",
       "      <th>16</th>\n",
       "      <td>002_S_0413</td>\n",
       "      <td>413</td>\n",
       "      <td>002_S_0413_20080731_A1_T1_1.5T_nonaccel_Preproc</td>\n",
       "      <td>120917.0</td>\n",
       "      <td>/nas/bioint-data/neuroimaging-data/ADNI/Organi...</td>\n",
       "      <td>yes</td>\n",
       "      <td>/nas/bioint-data/neuroimaging-data/ADNI/6DOF/0...</td>\n",
       "      <td>/nas/bioint-data/neuroimaging-data/ADNI/6DOF/0...</td>\n",
       "      <td>/nas/bioint-data/neuroimaging-data/ADNI/6DOF/0...</td>\n",
       "      <td>/nas/bioint-data/neuroimaging-data/ADNI/6DOF/0...</td>\n",
       "      <td>...</td>\n",
       "      <td>NaN</td>\n",
       "      <td>NaN</td>\n",
       "      <td>NaN</td>\n",
       "      <td>NaN</td>\n",
       "      <td>NaN</td>\n",
       "      <td>NaN</td>\n",
       "      <td>NaN</td>\n",
       "      <td>NaN</td>\n",
       "      <td>NaN</td>\n",
       "      <td>NaN</td>\n",
       "    </tr>\n",
       "    <tr>\n",
       "      <th>17</th>\n",
       "      <td>002_S_0413</td>\n",
       "      <td>413</td>\n",
       "      <td>002_S_0413_20070601_A1_T1_1.5T_nonaccel_Preproc</td>\n",
       "      <td>60008.0</td>\n",
       "      <td>/nas/bioint-data/neuroimaging-data/ADNI/Organi...</td>\n",
       "      <td>yes</td>\n",
       "      <td>/nas/bioint-data/neuroimaging-data/ADNI/6DOF/0...</td>\n",
       "      <td>/nas/bioint-data/neuroimaging-data/ADNI/6DOF/0...</td>\n",
       "      <td>/nas/bioint-data/neuroimaging-data/ADNI/6DOF/0...</td>\n",
       "      <td>/nas/bioint-data/neuroimaging-data/ADNI/6DOF/0...</td>\n",
       "      <td>...</td>\n",
       "      <td>NaN</td>\n",
       "      <td>NaN</td>\n",
       "      <td>NaN</td>\n",
       "      <td>NaN</td>\n",
       "      <td>NaN</td>\n",
       "      <td>NaN</td>\n",
       "      <td>NaN</td>\n",
       "      <td>NaN</td>\n",
       "      <td>NaN</td>\n",
       "      <td>NaN</td>\n",
       "    </tr>\n",
       "    <tr>\n",
       "      <th>18</th>\n",
       "      <td>002_S_0413</td>\n",
       "      <td>413</td>\n",
       "      <td>002_S_0413_20061115_A1_T1_1.5T_nonaccel_Preproc</td>\n",
       "      <td>79122.0</td>\n",
       "      <td>/nas/bioint-data/neuroimaging-data/ADNI/Organi...</td>\n",
       "      <td>yes</td>\n",
       "      <td>/nas/bioint-data/neuroimaging-data/ADNI/6DOF/0...</td>\n",
       "      <td>/nas/bioint-data/neuroimaging-data/ADNI/6DOF/0...</td>\n",
       "      <td>/nas/bioint-data/neuroimaging-data/ADNI/6DOF/0...</td>\n",
       "      <td>/nas/bioint-data/neuroimaging-data/ADNI/6DOF/0...</td>\n",
       "      <td>...</td>\n",
       "      <td>NaN</td>\n",
       "      <td>NaN</td>\n",
       "      <td>NaN</td>\n",
       "      <td>NaN</td>\n",
       "      <td>NaN</td>\n",
       "      <td>NaN</td>\n",
       "      <td>NaN</td>\n",
       "      <td>NaN</td>\n",
       "      <td>NaN</td>\n",
       "      <td>NaN</td>\n",
       "    </tr>\n",
       "    <tr>\n",
       "      <th>19</th>\n",
       "      <td>002_S_0413</td>\n",
       "      <td>413</td>\n",
       "      <td>002_S_0413_20100506_A1_T1_1.5T_nonaccel_Preproc</td>\n",
       "      <td>291873.0</td>\n",
       "      <td>/nas/bioint-data/neuroimaging-data/ADNI/Organi...</td>\n",
       "      <td>yes</td>\n",
       "      <td>/nas/bioint-data/neuroimaging-data/ADNI/6DOF/0...</td>\n",
       "      <td>/nas/bioint-data/neuroimaging-data/ADNI/6DOF/0...</td>\n",
       "      <td>/nas/bioint-data/neuroimaging-data/ADNI/6DOF/0...</td>\n",
       "      <td>/nas/bioint-data/neuroimaging-data/ADNI/6DOF/0...</td>\n",
       "      <td>...</td>\n",
       "      <td>NaN</td>\n",
       "      <td>NaN</td>\n",
       "      <td>NaN</td>\n",
       "      <td>NaN</td>\n",
       "      <td>NaN</td>\n",
       "      <td>NaN</td>\n",
       "      <td>NaN</td>\n",
       "      <td>NaN</td>\n",
       "      <td>NaN</td>\n",
       "      <td>NaN</td>\n",
       "    </tr>\n",
       "  </tbody>\n",
       "</table>\n",
       "<p>20 rows × 121 columns</p>\n",
       "</div>"
      ],
      "text/plain": [
       "        SubjID  RID                        NONACCEL_T1_SCAN_FILENAME  \\\n",
       "0   002_S_0295  295  002_S_0295_20060418_A1_T1_1.5T_nonaccel_Preproc   \n",
       "1   002_S_0295  295  002_S_0295_20061102_A1_T1_1.5T_nonaccel_Preproc   \n",
       "2   002_S_0295  295  002_S_0295_20070525_A1_T1_1.5T_nonaccel_Preproc   \n",
       "3   002_S_0295  295  002_S_0295_20080723_A1_T1_1.5T_nonaccel_Preproc   \n",
       "4   002_S_0295  295  002_S_0295_20090522_A1_T1_1.5T_nonaccel_Preproc   \n",
       "5   002_S_0295  295  002_S_0295_20100513_A1_T1_1.5T_nonaccel_Preproc   \n",
       "6   002_S_0295  295    002_S_0295_20110602_A2_T1_3T_nonaccel_Preproc   \n",
       "7   002_S_0295  295    002_S_0295_20120510_A2_T1_3T_nonaccel_Preproc   \n",
       "8   002_S_0413  413                                              NaN   \n",
       "9   002_S_0413  413    002_S_0413_20150609_A2_T1_3T_nonaccel_Preproc   \n",
       "10  002_S_0413  413    002_S_0413_20140501_A2_T1_3T_nonaccel_Preproc   \n",
       "11  002_S_0413  413    002_S_0413_20130510_A2_T1_3T_nonaccel_Preproc   \n",
       "12  002_S_0413  413    002_S_0413_20120515_A2_T1_3T_nonaccel_Preproc   \n",
       "13  002_S_0413  413    002_S_0413_20110616_A2_T1_3T_nonaccel_Preproc   \n",
       "14  002_S_0413  413                                              NaN   \n",
       "15  002_S_0413  413  002_S_0413_20090504_A1_T1_1.5T_nonaccel_Preproc   \n",
       "16  002_S_0413  413  002_S_0413_20080731_A1_T1_1.5T_nonaccel_Preproc   \n",
       "17  002_S_0413  413  002_S_0413_20070601_A1_T1_1.5T_nonaccel_Preproc   \n",
       "18  002_S_0413  413  002_S_0413_20061115_A1_T1_1.5T_nonaccel_Preproc   \n",
       "19  002_S_0413  413  002_S_0413_20100506_A1_T1_1.5T_nonaccel_Preproc   \n",
       "\n",
       "    NONACCEL_T1_IMAGEID                         NONACCEL_Path to RAW nifti  \\\n",
       "0               45108.0  /nas/bioint-data/neuroimaging-data/ADNI/Organi...   \n",
       "1               40966.0  /nas/bioint-data/neuroimaging-data/ADNI/Organi...   \n",
       "2               64025.0  /nas/bioint-data/neuroimaging-data/ADNI/Organi...   \n",
       "3              123685.0  /nas/bioint-data/neuroimaging-data/ADNI/Organi...   \n",
       "4              150177.0  /nas/bioint-data/neuroimaging-data/ADNI/Organi...   \n",
       "5              291869.0  /nas/bioint-data/neuroimaging-data/ADNI/Organi...   \n",
       "6              241350.0  /nas/bioint-data/neuroimaging-data/ADNI/Organi...   \n",
       "7              308078.0  /nas/bioint-data/neuroimaging-data/ADNI/Organi...   \n",
       "8                   NaN                                                NaN   \n",
       "9              649030.0  /nas/bioint-data/neuroimaging-data/ADNI/Organi...   \n",
       "10             424741.0  /nas/bioint-data/neuroimaging-data/ADNI/Organi...   \n",
       "11             373133.0  /nas/bioint-data/neuroimaging-data/ADNI/Organi...   \n",
       "12             312701.0  /nas/bioint-data/neuroimaging-data/ADNI/Organi...   \n",
       "13             242895.0  /nas/bioint-data/neuroimaging-data/ADNI/Organi...   \n",
       "14                  NaN                                                NaN   \n",
       "15             149740.0  /nas/bioint-data/neuroimaging-data/ADNI/Organi...   \n",
       "16             120917.0  /nas/bioint-data/neuroimaging-data/ADNI/Organi...   \n",
       "17              60008.0  /nas/bioint-data/neuroimaging-data/ADNI/Organi...   \n",
       "18              79122.0  /nas/bioint-data/neuroimaging-data/ADNI/Organi...   \n",
       "19             291873.0  /nas/bioint-data/neuroimaging-data/ADNI/Organi...   \n",
       "\n",
       "   NONACCEL_Preprocessed for DL?  \\\n",
       "0                            yes   \n",
       "1                            yes   \n",
       "2                            yes   \n",
       "3                            yes   \n",
       "4                            yes   \n",
       "5                            yes   \n",
       "6                            yes   \n",
       "7                            yes   \n",
       "8                            NaN   \n",
       "9                            yes   \n",
       "10                           yes   \n",
       "11                           yes   \n",
       "12                           yes   \n",
       "13                           yes   \n",
       "14                           NaN   \n",
       "15                           yes   \n",
       "16                           yes   \n",
       "17                           yes   \n",
       "18                           yes   \n",
       "19                           yes   \n",
       "\n",
       "                              NONACCEL_DL_6DOF_2MM_T1  \\\n",
       "0   /nas/bioint-data/neuroimaging-data/ADNI/6DOF/0...   \n",
       "1   /nas/bioint-data/neuroimaging-data/ADNI/6DOF/0...   \n",
       "2   /nas/bioint-data/neuroimaging-data/ADNI/6DOF/0...   \n",
       "3   /nas/bioint-data/neuroimaging-data/ADNI/6DOF/0...   \n",
       "4   /nas/bioint-data/neuroimaging-data/ADNI/6DOF/0...   \n",
       "5   /nas/bioint-data/neuroimaging-data/ADNI/6DOF/0...   \n",
       "6   /nas/bioint-data/neuroimaging-data/ADNI/6DOF/0...   \n",
       "7   /nas/bioint-data/neuroimaging-data/ADNI/6DOF/0...   \n",
       "8                                                 NaN   \n",
       "9   /nas/bioint-data/neuroimaging-data/ADNI/6DOF/0...   \n",
       "10  /nas/bioint-data/neuroimaging-data/ADNI/6DOF/0...   \n",
       "11  /nas/bioint-data/neuroimaging-data/ADNI/6DOF/0...   \n",
       "12  /nas/bioint-data/neuroimaging-data/ADNI/6DOF/0...   \n",
       "13  /nas/bioint-data/neuroimaging-data/ADNI/6DOF/0...   \n",
       "14                                                NaN   \n",
       "15  /nas/bioint-data/neuroimaging-data/ADNI/6DOF/0...   \n",
       "16  /nas/bioint-data/neuroimaging-data/ADNI/6DOF/0...   \n",
       "17  /nas/bioint-data/neuroimaging-data/ADNI/6DOF/0...   \n",
       "18  /nas/bioint-data/neuroimaging-data/ADNI/6DOF/0...   \n",
       "19  /nas/bioint-data/neuroimaging-data/ADNI/6DOF/0...   \n",
       "\n",
       "                            NONACCEL_DL_6DOF_2MM_MASK  \\\n",
       "0   /nas/bioint-data/neuroimaging-data/ADNI/6DOF/0...   \n",
       "1   /nas/bioint-data/neuroimaging-data/ADNI/6DOF/0...   \n",
       "2   /nas/bioint-data/neuroimaging-data/ADNI/6DOF/0...   \n",
       "3   /nas/bioint-data/neuroimaging-data/ADNI/6DOF/0...   \n",
       "4   /nas/bioint-data/neuroimaging-data/ADNI/6DOF/0...   \n",
       "5   /nas/bioint-data/neuroimaging-data/ADNI/6DOF/0...   \n",
       "6   /nas/bioint-data/neuroimaging-data/ADNI/6DOF/0...   \n",
       "7   /nas/bioint-data/neuroimaging-data/ADNI/6DOF/0...   \n",
       "8                                                 NaN   \n",
       "9   /nas/bioint-data/neuroimaging-data/ADNI/6DOF/0...   \n",
       "10  /nas/bioint-data/neuroimaging-data/ADNI/6DOF/0...   \n",
       "11  /nas/bioint-data/neuroimaging-data/ADNI/6DOF/0...   \n",
       "12  /nas/bioint-data/neuroimaging-data/ADNI/6DOF/0...   \n",
       "13  /nas/bioint-data/neuroimaging-data/ADNI/6DOF/0...   \n",
       "14                                                NaN   \n",
       "15  /nas/bioint-data/neuroimaging-data/ADNI/6DOF/0...   \n",
       "16  /nas/bioint-data/neuroimaging-data/ADNI/6DOF/0...   \n",
       "17  /nas/bioint-data/neuroimaging-data/ADNI/6DOF/0...   \n",
       "18  /nas/bioint-data/neuroimaging-data/ADNI/6DOF/0...   \n",
       "19  /nas/bioint-data/neuroimaging-data/ADNI/6DOF/0...   \n",
       "\n",
       "                              NONACCEL_DL_6DOF_2MM_GM  \\\n",
       "0   /nas/bioint-data/neuroimaging-data/ADNI/6DOF/0...   \n",
       "1   /nas/bioint-data/neuroimaging-data/ADNI/6DOF/0...   \n",
       "2   /nas/bioint-data/neuroimaging-data/ADNI/6DOF/0...   \n",
       "3   /nas/bioint-data/neuroimaging-data/ADNI/6DOF/0...   \n",
       "4   /nas/bioint-data/neuroimaging-data/ADNI/6DOF/0...   \n",
       "5   /nas/bioint-data/neuroimaging-data/ADNI/6DOF/0...   \n",
       "6   /nas/bioint-data/neuroimaging-data/ADNI/6DOF/0...   \n",
       "7   /nas/bioint-data/neuroimaging-data/ADNI/6DOF/0...   \n",
       "8                                                 NaN   \n",
       "9   /nas/bioint-data/neuroimaging-data/ADNI/6DOF/0...   \n",
       "10  /nas/bioint-data/neuroimaging-data/ADNI/6DOF/0...   \n",
       "11  /nas/bioint-data/neuroimaging-data/ADNI/6DOF/0...   \n",
       "12  /nas/bioint-data/neuroimaging-data/ADNI/6DOF/0...   \n",
       "13  /nas/bioint-data/neuroimaging-data/ADNI/6DOF/0...   \n",
       "14                                                NaN   \n",
       "15  /nas/bioint-data/neuroimaging-data/ADNI/6DOF/0...   \n",
       "16  /nas/bioint-data/neuroimaging-data/ADNI/6DOF/0...   \n",
       "17  /nas/bioint-data/neuroimaging-data/ADNI/6DOF/0...   \n",
       "18  /nas/bioint-data/neuroimaging-data/ADNI/6DOF/0...   \n",
       "19  /nas/bioint-data/neuroimaging-data/ADNI/6DOF/0...   \n",
       "\n",
       "                              NONACCEL_DL_6DOF_2MM_WM  ...  \\\n",
       "0   /nas/bioint-data/neuroimaging-data/ADNI/6DOF/0...  ...   \n",
       "1   /nas/bioint-data/neuroimaging-data/ADNI/6DOF/0...  ...   \n",
       "2   /nas/bioint-data/neuroimaging-data/ADNI/6DOF/0...  ...   \n",
       "3   /nas/bioint-data/neuroimaging-data/ADNI/6DOF/0...  ...   \n",
       "4   /nas/bioint-data/neuroimaging-data/ADNI/6DOF/0...  ...   \n",
       "5   /nas/bioint-data/neuroimaging-data/ADNI/6DOF/0...  ...   \n",
       "6   /nas/bioint-data/neuroimaging-data/ADNI/6DOF/0...  ...   \n",
       "7   /nas/bioint-data/neuroimaging-data/ADNI/6DOF/0...  ...   \n",
       "8                                                 NaN  ...   \n",
       "9   /nas/bioint-data/neuroimaging-data/ADNI/6DOF/0...  ...   \n",
       "10  /nas/bioint-data/neuroimaging-data/ADNI/6DOF/0...  ...   \n",
       "11  /nas/bioint-data/neuroimaging-data/ADNI/6DOF/0...  ...   \n",
       "12  /nas/bioint-data/neuroimaging-data/ADNI/6DOF/0...  ...   \n",
       "13  /nas/bioint-data/neuroimaging-data/ADNI/6DOF/0...  ...   \n",
       "14                                                NaN  ...   \n",
       "15  /nas/bioint-data/neuroimaging-data/ADNI/6DOF/0...  ...   \n",
       "16  /nas/bioint-data/neuroimaging-data/ADNI/6DOF/0...  ...   \n",
       "17  /nas/bioint-data/neuroimaging-data/ADNI/6DOF/0...  ...   \n",
       "18  /nas/bioint-data/neuroimaging-data/ADNI/6DOF/0...  ...   \n",
       "19  /nas/bioint-data/neuroimaging-data/ADNI/6DOF/0...  ...   \n",
       "\n",
       "             DWI_Matched_File_L1_Path_ENIGMATBSSspace  \\\n",
       "0                                                 NaN   \n",
       "1                                                 NaN   \n",
       "2                                                 NaN   \n",
       "3                                                 NaN   \n",
       "4                                                 NaN   \n",
       "5                                                 NaN   \n",
       "6                                                 NaN   \n",
       "7                                                 NaN   \n",
       "8   /nas/bioint-data/neuroimaging-data/ADNI/Organi...   \n",
       "9                                                 NaN   \n",
       "10                                                NaN   \n",
       "11                                                NaN   \n",
       "12                                                NaN   \n",
       "13                                                NaN   \n",
       "14  /nas/bioint-data/neuroimaging-data/ADNI/Organi...   \n",
       "15                                                NaN   \n",
       "16                                                NaN   \n",
       "17                                                NaN   \n",
       "18                                                NaN   \n",
       "19                                                NaN   \n",
       "\n",
       "             DWI_Matched_File_MD_Path_ENIGMATBSSspace  \\\n",
       "0                                                 NaN   \n",
       "1                                                 NaN   \n",
       "2                                                 NaN   \n",
       "3                                                 NaN   \n",
       "4                                                 NaN   \n",
       "5                                                 NaN   \n",
       "6                                                 NaN   \n",
       "7                                                 NaN   \n",
       "8   /nas/bioint-data/neuroimaging-data/ADNI/Organi...   \n",
       "9                                                 NaN   \n",
       "10                                                NaN   \n",
       "11                                                NaN   \n",
       "12                                                NaN   \n",
       "13                                                NaN   \n",
       "14  /nas/bioint-data/neuroimaging-data/ADNI/Organi...   \n",
       "15                                                NaN   \n",
       "16                                                NaN   \n",
       "17                                                NaN   \n",
       "18                                                NaN   \n",
       "19                                                NaN   \n",
       "\n",
       "             DWI_Matched_File_RD_Path_ENIGMATBSSspace  \\\n",
       "0                                                 NaN   \n",
       "1                                                 NaN   \n",
       "2                                                 NaN   \n",
       "3                                                 NaN   \n",
       "4                                                 NaN   \n",
       "5                                                 NaN   \n",
       "6                                                 NaN   \n",
       "7                                                 NaN   \n",
       "8   /nas/bioint-data/neuroimaging-data/ADNI/Organi...   \n",
       "9                                                 NaN   \n",
       "10                                                NaN   \n",
       "11                                                NaN   \n",
       "12                                                NaN   \n",
       "13                                                NaN   \n",
       "14  /nas/bioint-data/neuroimaging-data/ADNI/Organi...   \n",
       "15                                                NaN   \n",
       "16                                                NaN   \n",
       "17                                                NaN   \n",
       "18                                                NaN   \n",
       "19                                                NaN   \n",
       "\n",
       "                              T1_Path_ENIGMATBSSspace  \\\n",
       "0                                                 NaN   \n",
       "1                                                 NaN   \n",
       "2                                                 NaN   \n",
       "3                                                 NaN   \n",
       "4                                                 NaN   \n",
       "5                                                 NaN   \n",
       "6                                                 NaN   \n",
       "7                                                 NaN   \n",
       "8   /nas/bioint-data/neuroimaging-data/ADNI/Organi...   \n",
       "9                                                 NaN   \n",
       "10                                                NaN   \n",
       "11                                                NaN   \n",
       "12                                                NaN   \n",
       "13                                                NaN   \n",
       "14  /nas/bioint-data/neuroimaging-data/ADNI/Organi...   \n",
       "15                                                NaN   \n",
       "16                                                NaN   \n",
       "17                                                NaN   \n",
       "18                                                NaN   \n",
       "19                                                NaN   \n",
       "\n",
       "         DWI_Matched_File_FA_Path_ENIGMATBSSspace_2MM  \\\n",
       "0                                                 NaN   \n",
       "1                                                 NaN   \n",
       "2                                                 NaN   \n",
       "3                                                 NaN   \n",
       "4                                                 NaN   \n",
       "5                                                 NaN   \n",
       "6                                                 NaN   \n",
       "7                                                 NaN   \n",
       "8   /nas/bioint-data/neuroimaging-data/ADNI/Organi...   \n",
       "9                                                 NaN   \n",
       "10                                                NaN   \n",
       "11                                                NaN   \n",
       "12                                                NaN   \n",
       "13                                                NaN   \n",
       "14  /nas/bioint-data/neuroimaging-data/ADNI/Organi...   \n",
       "15                                                NaN   \n",
       "16                                                NaN   \n",
       "17                                                NaN   \n",
       "18                                                NaN   \n",
       "19                                                NaN   \n",
       "\n",
       "         DWI_Matched_File_L1_Path_ENIGMATBSSspace_2MM  \\\n",
       "0                                                 NaN   \n",
       "1                                                 NaN   \n",
       "2                                                 NaN   \n",
       "3                                                 NaN   \n",
       "4                                                 NaN   \n",
       "5                                                 NaN   \n",
       "6                                                 NaN   \n",
       "7                                                 NaN   \n",
       "8   /nas/bioint-data/neuroimaging-data/ADNI/Organi...   \n",
       "9                                                 NaN   \n",
       "10                                                NaN   \n",
       "11                                                NaN   \n",
       "12                                                NaN   \n",
       "13                                                NaN   \n",
       "14  /nas/bioint-data/neuroimaging-data/ADNI/Organi...   \n",
       "15                                                NaN   \n",
       "16                                                NaN   \n",
       "17                                                NaN   \n",
       "18                                                NaN   \n",
       "19                                                NaN   \n",
       "\n",
       "         DWI_Matched_File_MD_Path_ENIGMATBSSspace_2MM  \\\n",
       "0                                                 NaN   \n",
       "1                                                 NaN   \n",
       "2                                                 NaN   \n",
       "3                                                 NaN   \n",
       "4                                                 NaN   \n",
       "5                                                 NaN   \n",
       "6                                                 NaN   \n",
       "7                                                 NaN   \n",
       "8   /nas/bioint-data/neuroimaging-data/ADNI/Organi...   \n",
       "9                                                 NaN   \n",
       "10                                                NaN   \n",
       "11                                                NaN   \n",
       "12                                                NaN   \n",
       "13                                                NaN   \n",
       "14  /nas/bioint-data/neuroimaging-data/ADNI/Organi...   \n",
       "15                                                NaN   \n",
       "16                                                NaN   \n",
       "17                                                NaN   \n",
       "18                                                NaN   \n",
       "19                                                NaN   \n",
       "\n",
       "         DWI_Matched_File_RD_Path_ENIGMATBSSspace_2MM  \\\n",
       "0                                                 NaN   \n",
       "1                                                 NaN   \n",
       "2                                                 NaN   \n",
       "3                                                 NaN   \n",
       "4                                                 NaN   \n",
       "5                                                 NaN   \n",
       "6                                                 NaN   \n",
       "7                                                 NaN   \n",
       "8   /nas/bioint-data/neuroimaging-data/ADNI/Organi...   \n",
       "9                                                 NaN   \n",
       "10                                                NaN   \n",
       "11                                                NaN   \n",
       "12                                                NaN   \n",
       "13                                                NaN   \n",
       "14  /nas/bioint-data/neuroimaging-data/ADNI/Organi...   \n",
       "15                                                NaN   \n",
       "16                                                NaN   \n",
       "17                                                NaN   \n",
       "18                                                NaN   \n",
       "19                                                NaN   \n",
       "\n",
       "                          T1_Path_ENIGMATBSSspace_2MM  \\\n",
       "0                                                 NaN   \n",
       "1                                                 NaN   \n",
       "2                                                 NaN   \n",
       "3                                                 NaN   \n",
       "4                                                 NaN   \n",
       "5                                                 NaN   \n",
       "6                                                 NaN   \n",
       "7                                                 NaN   \n",
       "8   /nas/bioint-data/neuroimaging-data/ADNI/Organi...   \n",
       "9                                                 NaN   \n",
       "10                                                NaN   \n",
       "11                                                NaN   \n",
       "12                                                NaN   \n",
       "13                                                NaN   \n",
       "14  /nas/bioint-data/neuroimaging-data/ADNI/Organi...   \n",
       "15                                                NaN   \n",
       "16                                                NaN   \n",
       "17                                                NaN   \n",
       "18                                                NaN   \n",
       "19                                                NaN   \n",
       "\n",
       "   DWI Preprocessing Pipeline (old=ADNI2 - new=ADNI3)  \n",
       "0                                                 NaN  \n",
       "1                                                 NaN  \n",
       "2                                                 NaN  \n",
       "3                                                 NaN  \n",
       "4                                                 NaN  \n",
       "5                                                 NaN  \n",
       "6                                                 NaN  \n",
       "7                                                 NaN  \n",
       "8                                               ADNI3  \n",
       "9                                                 NaN  \n",
       "10                                                NaN  \n",
       "11                                                NaN  \n",
       "12                                                NaN  \n",
       "13                                                NaN  \n",
       "14                                              ADNI3  \n",
       "15                                                NaN  \n",
       "16                                                NaN  \n",
       "17                                                NaN  \n",
       "18                                                NaN  \n",
       "19                                                NaN  \n",
       "\n",
       "[20 rows x 121 columns]"
      ]
     },
     "execution_count": 18,
     "metadata": {},
     "output_type": "execute_result"
    }
   ],
   "source": [
    "df = df.reset_index(drop=True)\n",
    "df.head(20)"
   ]
  },
  {
   "cell_type": "code",
   "execution_count": 19,
   "id": "d3b84b4e",
   "metadata": {},
   "outputs": [
    {
     "name": "stderr",
     "output_type": "stream",
     "text": [
      "/lfs1/ashaji/condawork/lib/python3.10/site-packages/tensorflow_addons/utils/tfa_eol_msg.py:23: UserWarning: \n",
      "\n",
      "TensorFlow Addons (TFA) has ended development and introduction of new features.\n",
      "TFA has entered a minimal maintenance and release mode until a planned end of life in May 2024.\n",
      "Please modify downstream libraries to take dependencies from other repositories in our TensorFlow community (e.g. Keras, Keras-CV, and Keras-NLP). \n",
      "\n",
      "For more information see: https://github.com/tensorflow/addons/issues/2807 \n",
      "\n",
      "  warnings.warn(\n"
     ]
    },
    {
     "name": "stdout",
     "output_type": "stream",
     "text": [
      "Num GPUs Available:  1\n"
     ]
    }
   ],
   "source": [
    "import nibabel as nib\n",
    "from tensorflow import keras\n",
    "from tensorflow.keras import layers\n",
    "import random as pyrandom\n",
    "import tensorflow_addons as tfa\n",
    "from tensorflow.keras.preprocessing import image_dataset_from_directory\n",
    "\n",
    "import nibabel as nib\n",
    "from scipy import ndimage\n",
    "import matplotlib.pyplot as plt\n",
    "from sklearn.metrics import roc_curve, precision_recall_curve, accuracy_score, f1_score, precision_score, recall_score, auc, roc_auc_score\n",
    "from sklearn.utils import class_weight\n",
    "from sklearn.metrics import mean_squared_error, mean_absolute_error, r2_score\n",
    "\n",
    "os.environ[\"CUDA_DEVICE_ORDER\"]=\"PCI_BUS_ID\"\n",
    "os.environ[\"CUDA_VISIBLE_DEVICES\"]= \"5\"\n",
    "\n",
    "physical_devices = tf.config.list_physical_devices('GPU')\n",
    "print(\"Num GPUs Available: \", len(physical_devices))\n",
    "tf.config.experimental.set_memory_growth(physical_devices[0], True)"
   ]
  },
  {
   "cell_type": "code",
   "execution_count": 20,
   "id": "8ecfe125",
   "metadata": {},
   "outputs": [],
   "source": [
    "### Hyperparameter config\n",
    "\n",
    "init_lr = 1e-4\n",
    "epochs = 50\n",
    "early_stop = 100\n",
    "seed = 53\n",
    "drop_out = 0.5\n",
    "weight_decay = 1e-4\n",
    "\n",
    "batch_size=4\n",
    "test_batch_size=4"
   ]
  },
  {
   "cell_type": "code",
   "execution_count": 21,
   "id": "13f147a5",
   "metadata": {},
   "outputs": [
    {
     "name": "stderr",
     "output_type": "stream",
     "text": [
      "2023-12-24 10:53:53.880124: I tensorflow/core/common_runtime/gpu/gpu_device.cc:1635] Created device /job:localhost/replica:0/task:0/device:GPU:0 with 10534 MB memory:  -> device: 0, name: NVIDIA GeForce GTX 1080 Ti, pci bus id: 0000:0d:00.0, compute capability: 6.1\n"
     ]
    },
    {
     "name": "stdout",
     "output_type": "stream",
     "text": [
      "Model: \"8ANN\"\n",
      "_________________________________________________________________\n",
      " Layer (type)                Output Shape              Param #   \n",
      "=================================================================\n",
      " inp2 (InputLayer)           [(None, 8)]               0         \n",
      "                                                                 \n",
      " dense (Dense)               (None, 32)                288       \n",
      "                                                                 \n",
      " instance_normalization (Ins  (None, 32)               0         \n",
      " tanceNormalization)                                             \n",
      "                                                                 \n",
      " tf.nn.relu (TFOpLambda)     (None, 32)                0         \n",
      "                                                                 \n",
      " dense_1 (Dense)             (None, 16)                528       \n",
      "                                                                 \n",
      " instance_normalization_1 (I  (None, 16)               0         \n",
      " nstanceNormalization)                                           \n",
      "                                                                 \n",
      " tf.nn.relu_1 (TFOpLambda)   (None, 16)                0         \n",
      "                                                                 \n",
      " dense_2 (Dense)             (None, 1)                 17        \n",
      "                                                                 \n",
      "=================================================================\n",
      "Total params: 833\n",
      "Trainable params: 833\n",
      "Non-trainable params: 0\n",
      "_________________________________________________________________\n"
     ]
    }
   ],
   "source": [
    "def getCNN(width = 91,height = 109, depth = 91):\n",
    "    \n",
    "    def ann_block(inp,num,name):\n",
    "        inp = tf.keras.layers.Dense(num)(inp)\n",
    "        inp = tfa.layers.InstanceNormalization(center=False,scale=False)(inp)\n",
    "        inp = tf.nn.relu(inp)\n",
    "        return inp\n",
    "    \n",
    "    ##############\n",
    "    \n",
    "    strct = tf.keras.Input((8),name='inp2')\n",
    "    inp2 = ann_block(strct,32,'ann1')\n",
    "    inp2 = ann_block(inp2,16,'ann2')\n",
    "    \n",
    "    #LAST LAYER\n",
    "    out2 = tf.keras.layers.Dense(1)(inp2)\n",
    "    ##############\n",
    "    \n",
    "    model = keras.Model(strct,out2,name='8ANN')\n",
    "    return model\n",
    "\n",
    "model = getCNN()\n",
    "model.summary()\n",
    "    "
   ]
  },
  {
   "cell_type": "code",
   "execution_count": 22,
   "id": "6a09741c",
   "metadata": {},
   "outputs": [
    {
     "data": {
      "text/plain": [
       "458"
      ]
     },
     "execution_count": 22,
     "metadata": {},
     "output_type": "execute_result"
    }
   ],
   "source": [
    "len(t1dwistr)"
   ]
  },
  {
   "cell_type": "code",
   "execution_count": 23,
   "id": "52ef9225",
   "metadata": {},
   "outputs": [],
   "source": [
    "strdata = df.loc[condstr,:]"
   ]
  },
  {
   "cell_type": "code",
   "execution_count": 24,
   "id": "26f01441",
   "metadata": {},
   "outputs": [
    {
     "data": {
      "text/plain": [
       "1833"
      ]
     },
     "execution_count": 24,
     "metadata": {},
     "output_type": "execute_result"
    }
   ],
   "source": [
    "len(strdata)"
   ]
  },
  {
   "cell_type": "code",
   "execution_count": 26,
   "id": "fc881bed",
   "metadata": {},
   "outputs": [
    {
     "data": {
      "text/plain": [
       "(320, 91, 47)"
      ]
     },
     "execution_count": 26,
     "metadata": {},
     "output_type": "execute_result"
    }
   ],
   "source": [
    "p = (np.ceil(0.7*len(dwi))-1).astype(int)\n",
    "q = (np.ceil(0.9*len(dwi))-2).astype(int)\n",
    "r = len(dwi)\n",
    "train = dwi[:p]\n",
    "test  = dwi[p:q]\n",
    "val   = dwi[q:]\n",
    "len(train), len(test), len(val)"
   ]
  },
  {
   "cell_type": "code",
   "execution_count": 28,
   "id": "ff0d3bf9",
   "metadata": {},
   "outputs": [],
   "source": [
    "datamix = [train,trainall,valall]\n",
    "alltrain = pd.concat(datamix)\n",
    "alltrain = alltrain.sort_values(by = ['SubjID'])"
   ]
  },
  {
   "cell_type": "code",
   "execution_count": 29,
   "id": "ecafa909",
   "metadata": {},
   "outputs": [
    {
     "data": {
      "text/plain": [
       "1742"
      ]
     },
     "execution_count": 29,
     "metadata": {},
     "output_type": "execute_result"
    }
   ],
   "source": [
    "len(alltrain)"
   ]
  },
  {
   "cell_type": "code",
   "execution_count": 30,
   "id": "b04f0e43",
   "metadata": {},
   "outputs": [],
   "source": [
    "p = (np.ceil(0.8*len(alltrain))-1).astype(int)\n",
    "p, len(alltrain)-p, \n",
    "p = p - 1"
   ]
  },
  {
   "cell_type": "code",
   "execution_count": 31,
   "id": "54412062",
   "metadata": {},
   "outputs": [
    {
     "data": {
      "text/plain": [
       "(1392, 350)"
      ]
     },
     "execution_count": 31,
     "metadata": {},
     "output_type": "execute_result"
    }
   ],
   "source": [
    "trainn = alltrain[:p]\n",
    "valn   = alltrain[p:]\n",
    "len(trainn),len(valn)"
   ]
  },
  {
   "cell_type": "code",
   "execution_count": 32,
   "id": "b1cafb95",
   "metadata": {},
   "outputs": [
    {
     "name": "stderr",
     "output_type": "stream",
     "text": [
      "/tmp/ipykernel_2361/1461102791.py:1: SettingWithCopyWarning: \n",
      "A value is trying to be set on a copy of a slice from a DataFrame\n",
      "\n",
      "See the caveats in the documentation: https://pandas.pydata.org/pandas-docs/stable/user_guide/indexing.html#returning-a-view-versus-a-copy\n",
      "  trainn.drop(trainn[(trainn['SubjID']=='100_S_6493') ].index,inplace = True)\n"
     ]
    }
   ],
   "source": [
    "trainn.drop(trainn[(trainn['SubjID']=='100_S_6493') ].index,inplace = True)"
   ]
  },
  {
   "cell_type": "code",
   "execution_count": 38,
   "id": "14cb69f4",
   "metadata": {},
   "outputs": [
    {
     "data": {
      "text/plain": [
       "0"
      ]
     },
     "execution_count": 38,
     "metadata": {},
     "output_type": "execute_result"
    }
   ],
   "source": [
    "count = 0\n",
    "arr = []\n",
    "for i in trainn['SubjID'].drop_duplicates():\n",
    "    for j in valn['SubjID'].drop_duplicates():\n",
    "        if i == j:\n",
    "            arr.append(i)\n",
    "            count += 1\n",
    "count"
   ]
  },
  {
   "cell_type": "code",
   "execution_count": 36,
   "id": "a57d9042",
   "metadata": {},
   "outputs": [
    {
     "name": "stderr",
     "output_type": "stream",
     "text": [
      "/tmp/ipykernel_2361/1768496244.py:2: SettingWithCopyWarning: \n",
      "A value is trying to be set on a copy of a slice from a DataFrame\n",
      "\n",
      "See the caveats in the documentation: https://pandas.pydata.org/pandas-docs/stable/user_guide/indexing.html#returning-a-view-versus-a-copy\n",
      "  trainn.drop(trainn[(trainn['SubjID']==i) ].index,inplace = True)\n"
     ]
    }
   ],
   "source": [
    "for i in arr:\n",
    "    trainn.drop(trainn[(trainn['SubjID']==i) ].index,inplace = True)"
   ]
  },
  {
   "cell_type": "code",
   "execution_count": 39,
   "id": "11d96789",
   "metadata": {},
   "outputs": [
    {
     "name": "stdout",
     "output_type": "stream",
     "text": [
      "True\n"
     ]
    }
   ],
   "source": [
    "def checkTestAll(testall = testall):\n",
    "    file = open('/lfs1/ashaji/Imputation_Problem/organized/DST/tester.txt','r')\n",
    "    x = ''\n",
    "    for i in testall['SubjID']:\n",
    "        x += str(i+'\\n')\n",
    "    print(x==file.read())\n",
    "checkTestAll()"
   ]
  },
  {
   "cell_type": "code",
   "execution_count": 40,
   "id": "c836442a",
   "metadata": {},
   "outputs": [],
   "source": [
    "class DataGenerator(tf.keras.utils.Sequence):\n",
    "    def rotate(self,vol):\n",
    "        def scipy_rotate(vol):\n",
    "            angles = [-20,-10,-5,0,5,10,20]\n",
    "            angle = pyrandom.choice(angles)\n",
    "            vol = ndimage.rotate(vol,angle,reshape=False)\n",
    "            vol[vol<0] = 0\n",
    "            vol[vol>1] = 1\n",
    "            return vol\n",
    "        aug_vol = tf.numpy_function(scipy_rotate,[vol],tf.float32)\n",
    "        return aug_vol\n",
    "\n",
    "    def preprocessing(self,vol):\n",
    "        if(self.isTrain):\n",
    "            vol1 = self.rotate(vol)\n",
    "            vol1 = tf.expand_dims(vol1,axis=3)\n",
    "        else:\n",
    "            vol1 = tf.expand_dims(vol,axis=3)\n",
    "        return vol1\n",
    "    \n",
    "    def read_scan(self,path):\n",
    "        scan = nib.load(path)\n",
    "        volume = scan.get_fdata()\n",
    "        min = np.amax(volume)\n",
    "        max = np.amin(volume)\n",
    "        volume = (volume - min) / (max - min)\n",
    "        volume = volume.astype(\"float32\")\n",
    "        return volume\n",
    "\n",
    "    def __init__(self, data, batch_size, sample_weights=None, isTrain = True):\n",
    "        self.data = data\n",
    "        self.batch_size = batch_size\n",
    "        self.sample_weights = sample_weights\n",
    "        self.isTrain = isTrain\n",
    "\n",
    "    def __len__(self):\n",
    "        return (np.ceil(len(self.data) / float(self.batch_size))).astype(np.int)\n",
    "\n",
    "    def __getitem__(self, idx):\n",
    "        ann = self.data[['SEX','CDRSB','ADAS11','ADAS13','MMSE','MOCA','APOE A1','APOE A2']].values.tolist()\n",
    "        labels = self.data['AGE_at_scan'].astype(np.float32)\n",
    "        \n",
    "        batch_ann = ann[idx * self.batch_size: (idx + 1) * self.batch_size]\n",
    "        batch_y = labels[idx * self.batch_size: (idx + 1) * self.batch_size]\n",
    "     \n",
    "        str_data = np.asarray(batch_ann)\n",
    "        \n",
    "        return (str_data, np.array(batch_y))\n",
    "    \n",
    "    def on_epoch_end(self):\n",
    "        if(self.isTrain):\n",
    "            self.data = self.data.sample(frac=1)"
   ]
  },
  {
   "cell_type": "code",
   "execution_count": 41,
   "id": "3b54a970",
   "metadata": {},
   "outputs": [],
   "source": [
    "dg_train = DataGenerator(trainn,batch_size)\n",
    "dg_val = DataGenerator(valn,batch_size,isTrain=False)\n",
    "dg_testall = DataGenerator(testall,batch_size,isTrain=False)"
   ]
  },
  {
   "cell_type": "code",
   "execution_count": 44,
   "id": "0b24b9b5",
   "metadata": {},
   "outputs": [
    {
     "name": "stdout",
     "output_type": "stream",
     "text": [
      "Epoch 1/2000\n"
     ]
    },
    {
     "name": "stderr",
     "output_type": "stream",
     "text": [
      "/tmp/ipykernel_2361/3680906809.py:37: DeprecationWarning: `np.int` is a deprecated alias for the builtin `int`. To silence this warning, use `int` by itself. Doing this will not modify any behavior and is safe. When replacing `np.int`, you may wish to use e.g. `np.int64` or `np.int32` to specify the precision. If you wish to review your current use, check the release note link for additional information.\n",
      "Deprecated in NumPy 1.20; for more details and guidance: https://numpy.org/devdocs/release/1.20.0-notes.html#deprecations\n",
      "  return (np.ceil(len(self.data) / float(self.batch_size))).astype(np.int)\n",
      "/tmp/ipykernel_2361/3680906809.py:37: DeprecationWarning: `np.int` is a deprecated alias for the builtin `int`. To silence this warning, use `int` by itself. Doing this will not modify any behavior and is safe. When replacing `np.int`, you may wish to use e.g. `np.int64` or `np.int32` to specify the precision. If you wish to review your current use, check the release note link for additional information.\n",
      "Deprecated in NumPy 1.20; for more details and guidance: https://numpy.org/devdocs/release/1.20.0-notes.html#deprecations\n",
      "  return (np.ceil(len(self.data) / float(self.batch_size))).astype(np.int)\n",
      "2023-12-02 14:59:23.444172: I tensorflow/core/common_runtime/executor.cc:1197] [/device:CPU:0] (DEBUG INFO) Executor start aborting (this does not indicate an error and you can ignore this message): INVALID_ARGUMENT: You must feed a value for placeholder tensor 'Placeholder/_0' with dtype int32\n",
      "\t [[{{node Placeholder/_0}}]]\n"
     ]
    },
    {
     "name": "stdout",
     "output_type": "stream",
     "text": [
      "342/344 [============================>.] - ETA: 0s - loss: 48.0016 - rmse: 6.9283 - mae: 5.5418"
     ]
    },
    {
     "name": "stderr",
     "output_type": "stream",
     "text": [
      "/tmp/ipykernel_2361/3680906809.py:37: DeprecationWarning: `np.int` is a deprecated alias for the builtin `int`. To silence this warning, use `int` by itself. Doing this will not modify any behavior and is safe. When replacing `np.int`, you may wish to use e.g. `np.int64` or `np.int32` to specify the precision. If you wish to review your current use, check the release note link for additional information.\n",
      "Deprecated in NumPy 1.20; for more details and guidance: https://numpy.org/devdocs/release/1.20.0-notes.html#deprecations\n",
      "  return (np.ceil(len(self.data) / float(self.batch_size))).astype(np.int)\n",
      "/tmp/ipykernel_2361/3680906809.py:37: DeprecationWarning: `np.int` is a deprecated alias for the builtin `int`. To silence this warning, use `int` by itself. Doing this will not modify any behavior and is safe. When replacing `np.int`, you may wish to use e.g. `np.int64` or `np.int32` to specify the precision. If you wish to review your current use, check the release note link for additional information.\n",
      "Deprecated in NumPy 1.20; for more details and guidance: https://numpy.org/devdocs/release/1.20.0-notes.html#deprecations\n",
      "  return (np.ceil(len(self.data) / float(self.batch_size))).astype(np.int)\n",
      "2023-12-02 14:59:26.948250: I tensorflow/core/common_runtime/executor.cc:1197] [/device:CPU:0] (DEBUG INFO) Executor start aborting (this does not indicate an error and you can ignore this message): INVALID_ARGUMENT: You must feed a value for placeholder tensor 'Placeholder/_0' with dtype int32\n",
      "\t [[{{node Placeholder/_0}}]]\n"
     ]
    },
    {
     "name": "stdout",
     "output_type": "stream",
     "text": [
      "344/344 [==============================] - 4s 6ms/step - loss: 47.9042 - rmse: 6.9213 - mae: 5.5375 - val_loss: 39.7836 - val_rmse: 6.3074 - val_mae: 5.3122\n",
      "Epoch 2/2000\n",
      " 34/344 [=>............................] - ETA: 1s - loss: 44.9931 - rmse: 6.7077 - mae: 5.3051"
     ]
    },
    {
     "name": "stderr",
     "output_type": "stream",
     "text": [
      "/tmp/ipykernel_2361/3680906809.py:37: DeprecationWarning: `np.int` is a deprecated alias for the builtin `int`. To silence this warning, use `int` by itself. Doing this will not modify any behavior and is safe. When replacing `np.int`, you may wish to use e.g. `np.int64` or `np.int32` to specify the precision. If you wish to review your current use, check the release note link for additional information.\n",
      "Deprecated in NumPy 1.20; for more details and guidance: https://numpy.org/devdocs/release/1.20.0-notes.html#deprecations\n",
      "  return (np.ceil(len(self.data) / float(self.batch_size))).astype(np.int)\n"
     ]
    },
    {
     "name": "stdout",
     "output_type": "stream",
     "text": [
      "337/344 [============================>.] - ETA: 0s - loss: 47.4247 - rmse: 6.8866 - mae: 5.5353"
     ]
    },
    {
     "name": "stderr",
     "output_type": "stream",
     "text": [
      "/tmp/ipykernel_2361/3680906809.py:37: DeprecationWarning: `np.int` is a deprecated alias for the builtin `int`. To silence this warning, use `int` by itself. Doing this will not modify any behavior and is safe. When replacing `np.int`, you may wish to use e.g. `np.int64` or `np.int32` to specify the precision. If you wish to review your current use, check the release note link for additional information.\n",
      "Deprecated in NumPy 1.20; for more details and guidance: https://numpy.org/devdocs/release/1.20.0-notes.html#deprecations\n",
      "  return (np.ceil(len(self.data) / float(self.batch_size))).astype(np.int)\n"
     ]
    },
    {
     "name": "stdout",
     "output_type": "stream",
     "text": [
      "344/344 [==============================] - 2s 6ms/step - loss: 47.3134 - rmse: 6.8785 - mae: 5.5317 - val_loss: 40.1304 - val_rmse: 6.3349 - val_mae: 5.3313\n",
      "Epoch 3/2000\n",
      " 22/344 [>.............................] - ETA: 1s - loss: 51.2705 - rmse: 7.1603 - mae: 5.8622"
     ]
    },
    {
     "name": "stderr",
     "output_type": "stream",
     "text": [
      "/tmp/ipykernel_2361/3680906809.py:37: DeprecationWarning: `np.int` is a deprecated alias for the builtin `int`. To silence this warning, use `int` by itself. Doing this will not modify any behavior and is safe. When replacing `np.int`, you may wish to use e.g. `np.int64` or `np.int32` to specify the precision. If you wish to review your current use, check the release note link for additional information.\n",
      "Deprecated in NumPy 1.20; for more details and guidance: https://numpy.org/devdocs/release/1.20.0-notes.html#deprecations\n",
      "  return (np.ceil(len(self.data) / float(self.batch_size))).astype(np.int)\n"
     ]
    },
    {
     "name": "stdout",
     "output_type": "stream",
     "text": [
      "341/344 [============================>.] - ETA: 0s - loss: 47.1281 - rmse: 6.8650 - mae: 5.5267"
     ]
    },
    {
     "name": "stderr",
     "output_type": "stream",
     "text": [
      "/tmp/ipykernel_2361/3680906809.py:37: DeprecationWarning: `np.int` is a deprecated alias for the builtin `int`. To silence this warning, use `int` by itself. Doing this will not modify any behavior and is safe. When replacing `np.int`, you may wish to use e.g. `np.int64` or `np.int32` to specify the precision. If you wish to review your current use, check the release note link for additional information.\n",
      "Deprecated in NumPy 1.20; for more details and guidance: https://numpy.org/devdocs/release/1.20.0-notes.html#deprecations\n",
      "  return (np.ceil(len(self.data) / float(self.batch_size))).astype(np.int)\n"
     ]
    },
    {
     "name": "stdout",
     "output_type": "stream",
     "text": [
      "344/344 [==============================] - 2s 6ms/step - loss: 47.2307 - rmse: 6.8725 - mae: 5.5416 - val_loss: 40.3601 - val_rmse: 6.3530 - val_mae: 5.3452\n",
      "Epoch 4/2000\n",
      " 33/344 [=>............................] - ETA: 1s - loss: 51.9755 - rmse: 7.2094 - mae: 5.6459"
     ]
    },
    {
     "name": "stderr",
     "output_type": "stream",
     "text": [
      "/tmp/ipykernel_2361/3680906809.py:37: DeprecationWarning: `np.int` is a deprecated alias for the builtin `int`. To silence this warning, use `int` by itself. Doing this will not modify any behavior and is safe. When replacing `np.int`, you may wish to use e.g. `np.int64` or `np.int32` to specify the precision. If you wish to review your current use, check the release note link for additional information.\n",
      "Deprecated in NumPy 1.20; for more details and guidance: https://numpy.org/devdocs/release/1.20.0-notes.html#deprecations\n",
      "  return (np.ceil(len(self.data) / float(self.batch_size))).astype(np.int)\n"
     ]
    },
    {
     "name": "stdout",
     "output_type": "stream",
     "text": [
      "341/344 [============================>.] - ETA: 0s - loss: 47.2889 - rmse: 6.8767 - mae: 5.5517"
     ]
    },
    {
     "name": "stderr",
     "output_type": "stream",
     "text": [
      "/tmp/ipykernel_2361/3680906809.py:37: DeprecationWarning: `np.int` is a deprecated alias for the builtin `int`. To silence this warning, use `int` by itself. Doing this will not modify any behavior and is safe. When replacing `np.int`, you may wish to use e.g. `np.int64` or `np.int32` to specify the precision. If you wish to review your current use, check the release note link for additional information.\n",
      "Deprecated in NumPy 1.20; for more details and guidance: https://numpy.org/devdocs/release/1.20.0-notes.html#deprecations\n",
      "  return (np.ceil(len(self.data) / float(self.batch_size))).astype(np.int)\n"
     ]
    },
    {
     "name": "stdout",
     "output_type": "stream",
     "text": [
      "344/344 [==============================] - 2s 6ms/step - loss: 47.2440 - rmse: 6.8734 - mae: 5.5492 - val_loss: 40.4050 - val_rmse: 6.3565 - val_mae: 5.3478\n",
      "Epoch 5/2000\n",
      " 23/344 [=>............................] - ETA: 1s - loss: 37.6381 - rmse: 6.1350 - mae: 5.1820"
     ]
    },
    {
     "name": "stderr",
     "output_type": "stream",
     "text": [
      "/tmp/ipykernel_2361/3680906809.py:37: DeprecationWarning: `np.int` is a deprecated alias for the builtin `int`. To silence this warning, use `int` by itself. Doing this will not modify any behavior and is safe. When replacing `np.int`, you may wish to use e.g. `np.int64` or `np.int32` to specify the precision. If you wish to review your current use, check the release note link for additional information.\n",
      "Deprecated in NumPy 1.20; for more details and guidance: https://numpy.org/devdocs/release/1.20.0-notes.html#deprecations\n",
      "  return (np.ceil(len(self.data) / float(self.batch_size))).astype(np.int)\n"
     ]
    },
    {
     "name": "stdout",
     "output_type": "stream",
     "text": [
      "339/344 [============================>.] - ETA: 0s - loss: 47.4981 - rmse: 6.8919 - mae: 5.5615"
     ]
    },
    {
     "name": "stderr",
     "output_type": "stream",
     "text": [
      "/tmp/ipykernel_2361/3680906809.py:37: DeprecationWarning: `np.int` is a deprecated alias for the builtin `int`. To silence this warning, use `int` by itself. Doing this will not modify any behavior and is safe. When replacing `np.int`, you may wish to use e.g. `np.int64` or `np.int32` to specify the precision. If you wish to review your current use, check the release note link for additional information.\n",
      "Deprecated in NumPy 1.20; for more details and guidance: https://numpy.org/devdocs/release/1.20.0-notes.html#deprecations\n",
      "  return (np.ceil(len(self.data) / float(self.batch_size))).astype(np.int)\n"
     ]
    },
    {
     "name": "stdout",
     "output_type": "stream",
     "text": [
      "344/344 [==============================] - 2s 5ms/step - loss: 47.2414 - rmse: 6.8732 - mae: 5.5505 - val_loss: 40.3974 - val_rmse: 6.3559 - val_mae: 5.3474\n",
      "Epoch 6/2000\n",
      " 30/344 [=>............................] - ETA: 1s - loss: 39.6749 - rmse: 6.2988 - mae: 4.8811"
     ]
    },
    {
     "name": "stderr",
     "output_type": "stream",
     "text": [
      "/tmp/ipykernel_2361/3680906809.py:37: DeprecationWarning: `np.int` is a deprecated alias for the builtin `int`. To silence this warning, use `int` by itself. Doing this will not modify any behavior and is safe. When replacing `np.int`, you may wish to use e.g. `np.int64` or `np.int32` to specify the precision. If you wish to review your current use, check the release note link for additional information.\n",
      "Deprecated in NumPy 1.20; for more details and guidance: https://numpy.org/devdocs/release/1.20.0-notes.html#deprecations\n",
      "  return (np.ceil(len(self.data) / float(self.batch_size))).astype(np.int)\n"
     ]
    },
    {
     "name": "stdout",
     "output_type": "stream",
     "text": [
      "341/344 [============================>.] - ETA: 0s - loss: 47.4117 - rmse: 6.8856 - mae: 5.5625"
     ]
    },
    {
     "name": "stderr",
     "output_type": "stream",
     "text": [
      "/tmp/ipykernel_2361/3680906809.py:37: DeprecationWarning: `np.int` is a deprecated alias for the builtin `int`. To silence this warning, use `int` by itself. Doing this will not modify any behavior and is safe. When replacing `np.int`, you may wish to use e.g. `np.int64` or `np.int32` to specify the precision. If you wish to review your current use, check the release note link for additional information.\n",
      "Deprecated in NumPy 1.20; for more details and guidance: https://numpy.org/devdocs/release/1.20.0-notes.html#deprecations\n",
      "  return (np.ceil(len(self.data) / float(self.batch_size))).astype(np.int)\n"
     ]
    },
    {
     "name": "stdout",
     "output_type": "stream",
     "text": [
      "344/344 [==============================] - 2s 6ms/step - loss: 47.2279 - rmse: 6.8723 - mae: 5.5477 - val_loss: 40.4471 - val_rmse: 6.3598 - val_mae: 5.3503\n",
      "Epoch 7/2000\n",
      " 34/344 [=>............................] - ETA: 1s - loss: 46.6889 - rmse: 6.8329 - mae: 5.6083"
     ]
    },
    {
     "name": "stderr",
     "output_type": "stream",
     "text": [
      "/tmp/ipykernel_2361/3680906809.py:37: DeprecationWarning: `np.int` is a deprecated alias for the builtin `int`. To silence this warning, use `int` by itself. Doing this will not modify any behavior and is safe. When replacing `np.int`, you may wish to use e.g. `np.int64` or `np.int32` to specify the precision. If you wish to review your current use, check the release note link for additional information.\n",
      "Deprecated in NumPy 1.20; for more details and guidance: https://numpy.org/devdocs/release/1.20.0-notes.html#deprecations\n",
      "  return (np.ceil(len(self.data) / float(self.batch_size))).astype(np.int)\n"
     ]
    },
    {
     "name": "stdout",
     "output_type": "stream",
     "text": [
      "337/344 [============================>.] - ETA: 0s - loss: 47.4455 - rmse: 6.8881 - mae: 5.5603"
     ]
    },
    {
     "name": "stderr",
     "output_type": "stream",
     "text": [
      "/tmp/ipykernel_2361/3680906809.py:37: DeprecationWarning: `np.int` is a deprecated alias for the builtin `int`. To silence this warning, use `int` by itself. Doing this will not modify any behavior and is safe. When replacing `np.int`, you may wish to use e.g. `np.int64` or `np.int32` to specify the precision. If you wish to review your current use, check the release note link for additional information.\n",
      "Deprecated in NumPy 1.20; for more details and guidance: https://numpy.org/devdocs/release/1.20.0-notes.html#deprecations\n",
      "  return (np.ceil(len(self.data) / float(self.batch_size))).astype(np.int)\n"
     ]
    },
    {
     "name": "stdout",
     "output_type": "stream",
     "text": [
      "344/344 [==============================] - 2s 5ms/step - loss: 47.2350 - rmse: 6.8728 - mae: 5.5495 - val_loss: 40.3826 - val_rmse: 6.3547 - val_mae: 5.3465\n",
      "Epoch 8/2000\n",
      " 36/344 [==>...........................] - ETA: 1s - loss: 46.4440 - rmse: 6.8150 - mae: 5.6225"
     ]
    },
    {
     "name": "stderr",
     "output_type": "stream",
     "text": [
      "/tmp/ipykernel_2361/3680906809.py:37: DeprecationWarning: `np.int` is a deprecated alias for the builtin `int`. To silence this warning, use `int` by itself. Doing this will not modify any behavior and is safe. When replacing `np.int`, you may wish to use e.g. `np.int64` or `np.int32` to specify the precision. If you wish to review your current use, check the release note link for additional information.\n",
      "Deprecated in NumPy 1.20; for more details and guidance: https://numpy.org/devdocs/release/1.20.0-notes.html#deprecations\n",
      "  return (np.ceil(len(self.data) / float(self.batch_size))).astype(np.int)\n"
     ]
    },
    {
     "name": "stdout",
     "output_type": "stream",
     "text": [
      "335/344 [============================>.] - ETA: 0s - loss: 47.4192 - rmse: 6.8862 - mae: 5.5519"
     ]
    },
    {
     "name": "stderr",
     "output_type": "stream",
     "text": [
      "/tmp/ipykernel_2361/3680906809.py:37: DeprecationWarning: `np.int` is a deprecated alias for the builtin `int`. To silence this warning, use `int` by itself. Doing this will not modify any behavior and is safe. When replacing `np.int`, you may wish to use e.g. `np.int64` or `np.int32` to specify the precision. If you wish to review your current use, check the release note link for additional information.\n",
      "Deprecated in NumPy 1.20; for more details and guidance: https://numpy.org/devdocs/release/1.20.0-notes.html#deprecations\n",
      "  return (np.ceil(len(self.data) / float(self.batch_size))).astype(np.int)\n"
     ]
    },
    {
     "name": "stdout",
     "output_type": "stream",
     "text": [
      "344/344 [==============================] - 2s 6ms/step - loss: 47.2338 - rmse: 6.8727 - mae: 5.5496 - val_loss: 40.4535 - val_rmse: 6.3603 - val_mae: 5.3506\n",
      "Epoch 9/2000\n",
      " 32/344 [=>............................] - ETA: 1s - loss: 51.6307 - rmse: 7.1855 - mae: 5.9429"
     ]
    },
    {
     "name": "stderr",
     "output_type": "stream",
     "text": [
      "/tmp/ipykernel_2361/3680906809.py:37: DeprecationWarning: `np.int` is a deprecated alias for the builtin `int`. To silence this warning, use `int` by itself. Doing this will not modify any behavior and is safe. When replacing `np.int`, you may wish to use e.g. `np.int64` or `np.int32` to specify the precision. If you wish to review your current use, check the release note link for additional information.\n",
      "Deprecated in NumPy 1.20; for more details and guidance: https://numpy.org/devdocs/release/1.20.0-notes.html#deprecations\n",
      "  return (np.ceil(len(self.data) / float(self.batch_size))).astype(np.int)\n"
     ]
    },
    {
     "name": "stdout",
     "output_type": "stream",
     "text": [
      "343/344 [============================>.] - ETA: 0s - loss: 47.2208 - rmse: 6.8717 - mae: 5.5484"
     ]
    },
    {
     "name": "stderr",
     "output_type": "stream",
     "text": [
      "/tmp/ipykernel_2361/3680906809.py:37: DeprecationWarning: `np.int` is a deprecated alias for the builtin `int`. To silence this warning, use `int` by itself. Doing this will not modify any behavior and is safe. When replacing `np.int`, you may wish to use e.g. `np.int64` or `np.int32` to specify the precision. If you wish to review your current use, check the release note link for additional information.\n",
      "Deprecated in NumPy 1.20; for more details and guidance: https://numpy.org/devdocs/release/1.20.0-notes.html#deprecations\n",
      "  return (np.ceil(len(self.data) / float(self.batch_size))).astype(np.int)\n"
     ]
    },
    {
     "name": "stdout",
     "output_type": "stream",
     "text": [
      "344/344 [==============================] - 2s 5ms/step - loss: 47.2287 - rmse: 6.8723 - mae: 5.5499 - val_loss: 40.4235 - val_rmse: 6.3580 - val_mae: 5.3489\n",
      "Epoch 10/2000\n",
      " 35/344 [==>...........................] - ETA: 1s - loss: 42.3717 - rmse: 6.5094 - mae: 5.1349"
     ]
    },
    {
     "name": "stderr",
     "output_type": "stream",
     "text": [
      "/tmp/ipykernel_2361/3680906809.py:37: DeprecationWarning: `np.int` is a deprecated alias for the builtin `int`. To silence this warning, use `int` by itself. Doing this will not modify any behavior and is safe. When replacing `np.int`, you may wish to use e.g. `np.int64` or `np.int32` to specify the precision. If you wish to review your current use, check the release note link for additional information.\n",
      "Deprecated in NumPy 1.20; for more details and guidance: https://numpy.org/devdocs/release/1.20.0-notes.html#deprecations\n",
      "  return (np.ceil(len(self.data) / float(self.batch_size))).astype(np.int)\n"
     ]
    },
    {
     "name": "stdout",
     "output_type": "stream",
     "text": [
      "343/344 [============================>.] - ETA: 0s - loss: 47.3155 - rmse: 6.8786 - mae: 5.5557"
     ]
    },
    {
     "name": "stderr",
     "output_type": "stream",
     "text": [
      "/tmp/ipykernel_2361/3680906809.py:37: DeprecationWarning: `np.int` is a deprecated alias for the builtin `int`. To silence this warning, use `int` by itself. Doing this will not modify any behavior and is safe. When replacing `np.int`, you may wish to use e.g. `np.int64` or `np.int32` to specify the precision. If you wish to review your current use, check the release note link for additional information.\n",
      "Deprecated in NumPy 1.20; for more details and guidance: https://numpy.org/devdocs/release/1.20.0-notes.html#deprecations\n",
      "  return (np.ceil(len(self.data) / float(self.batch_size))).astype(np.int)\n"
     ]
    },
    {
     "name": "stdout",
     "output_type": "stream",
     "text": [
      "344/344 [==============================] - 2s 6ms/step - loss: 47.2314 - rmse: 6.8725 - mae: 5.5508 - val_loss: 40.3740 - val_rmse: 6.3541 - val_mae: 5.3460\n",
      "Epoch 11/2000\n",
      " 23/344 [=>............................] - ETA: 1s - loss: 44.6437 - rmse: 6.6816 - mae: 5.5216"
     ]
    },
    {
     "name": "stderr",
     "output_type": "stream",
     "text": [
      "/tmp/ipykernel_2361/3680906809.py:37: DeprecationWarning: `np.int` is a deprecated alias for the builtin `int`. To silence this warning, use `int` by itself. Doing this will not modify any behavior and is safe. When replacing `np.int`, you may wish to use e.g. `np.int64` or `np.int32` to specify the precision. If you wish to review your current use, check the release note link for additional information.\n",
      "Deprecated in NumPy 1.20; for more details and guidance: https://numpy.org/devdocs/release/1.20.0-notes.html#deprecations\n",
      "  return (np.ceil(len(self.data) / float(self.batch_size))).astype(np.int)\n"
     ]
    },
    {
     "name": "stdout",
     "output_type": "stream",
     "text": [
      "340/344 [============================>.] - ETA: 0s - loss: 47.3108 - rmse: 6.8783 - mae: 5.5465"
     ]
    },
    {
     "name": "stderr",
     "output_type": "stream",
     "text": [
      "/tmp/ipykernel_2361/3680906809.py:37: DeprecationWarning: `np.int` is a deprecated alias for the builtin `int`. To silence this warning, use `int` by itself. Doing this will not modify any behavior and is safe. When replacing `np.int`, you may wish to use e.g. `np.int64` or `np.int32` to specify the precision. If you wish to review your current use, check the release note link for additional information.\n",
      "Deprecated in NumPy 1.20; for more details and guidance: https://numpy.org/devdocs/release/1.20.0-notes.html#deprecations\n",
      "  return (np.ceil(len(self.data) / float(self.batch_size))).astype(np.int)\n"
     ]
    },
    {
     "name": "stdout",
     "output_type": "stream",
     "text": [
      "344/344 [==============================] - 2s 6ms/step - loss: 47.2297 - rmse: 6.8724 - mae: 5.5476 - val_loss: 40.4679 - val_rmse: 6.3614 - val_mae: 5.3515\n",
      "Epoch 12/2000\n",
      " 22/344 [>.............................] - ETA: 1s - loss: 46.1297 - rmse: 6.7919 - mae: 5.5553"
     ]
    },
    {
     "name": "stderr",
     "output_type": "stream",
     "text": [
      "/tmp/ipykernel_2361/3680906809.py:37: DeprecationWarning: `np.int` is a deprecated alias for the builtin `int`. To silence this warning, use `int` by itself. Doing this will not modify any behavior and is safe. When replacing `np.int`, you may wish to use e.g. `np.int64` or `np.int32` to specify the precision. If you wish to review your current use, check the release note link for additional information.\n",
      "Deprecated in NumPy 1.20; for more details and guidance: https://numpy.org/devdocs/release/1.20.0-notes.html#deprecations\n",
      "  return (np.ceil(len(self.data) / float(self.batch_size))).astype(np.int)\n"
     ]
    },
    {
     "name": "stdout",
     "output_type": "stream",
     "text": [
      "336/344 [============================>.] - ETA: 0s - loss: 46.9302 - rmse: 6.8506 - mae: 5.5302"
     ]
    },
    {
     "name": "stderr",
     "output_type": "stream",
     "text": [
      "/tmp/ipykernel_2361/3680906809.py:37: DeprecationWarning: `np.int` is a deprecated alias for the builtin `int`. To silence this warning, use `int` by itself. Doing this will not modify any behavior and is safe. When replacing `np.int`, you may wish to use e.g. `np.int64` or `np.int32` to specify the precision. If you wish to review your current use, check the release note link for additional information.\n",
      "Deprecated in NumPy 1.20; for more details and guidance: https://numpy.org/devdocs/release/1.20.0-notes.html#deprecations\n",
      "  return (np.ceil(len(self.data) / float(self.batch_size))).astype(np.int)\n"
     ]
    },
    {
     "name": "stdout",
     "output_type": "stream",
     "text": [
      "344/344 [==============================] - 2s 7ms/step - loss: 47.2316 - rmse: 6.8725 - mae: 5.5536 - val_loss: 40.4248 - val_rmse: 6.3580 - val_mae: 5.3490\n",
      "Epoch 13/2000\n",
      " 34/344 [=>............................] - ETA: 1s - loss: 55.4892 - rmse: 7.4491 - mae: 6.0762"
     ]
    },
    {
     "name": "stderr",
     "output_type": "stream",
     "text": [
      "/tmp/ipykernel_2361/3680906809.py:37: DeprecationWarning: `np.int` is a deprecated alias for the builtin `int`. To silence this warning, use `int` by itself. Doing this will not modify any behavior and is safe. When replacing `np.int`, you may wish to use e.g. `np.int64` or `np.int32` to specify the precision. If you wish to review your current use, check the release note link for additional information.\n",
      "Deprecated in NumPy 1.20; for more details and guidance: https://numpy.org/devdocs/release/1.20.0-notes.html#deprecations\n",
      "  return (np.ceil(len(self.data) / float(self.batch_size))).astype(np.int)\n"
     ]
    },
    {
     "name": "stdout",
     "output_type": "stream",
     "text": [
      "342/344 [============================>.] - ETA: 0s - loss: 47.2254 - rmse: 6.8721 - mae: 5.5488"
     ]
    },
    {
     "name": "stderr",
     "output_type": "stream",
     "text": [
      "/tmp/ipykernel_2361/3680906809.py:37: DeprecationWarning: `np.int` is a deprecated alias for the builtin `int`. To silence this warning, use `int` by itself. Doing this will not modify any behavior and is safe. When replacing `np.int`, you may wish to use e.g. `np.int64` or `np.int32` to specify the precision. If you wish to review your current use, check the release note link for additional information.\n",
      "Deprecated in NumPy 1.20; for more details and guidance: https://numpy.org/devdocs/release/1.20.0-notes.html#deprecations\n",
      "  return (np.ceil(len(self.data) / float(self.batch_size))).astype(np.int)\n"
     ]
    },
    {
     "name": "stdout",
     "output_type": "stream",
     "text": [
      "344/344 [==============================] - 2s 5ms/step - loss: 47.2312 - rmse: 6.8725 - mae: 5.5508 - val_loss: 40.2928 - val_rmse: 6.3477 - val_mae: 5.3411\n",
      "Epoch 14/2000\n",
      " 34/344 [=>............................] - ETA: 1s - loss: 51.4991 - rmse: 7.1763 - mae: 5.9156"
     ]
    },
    {
     "name": "stderr",
     "output_type": "stream",
     "text": [
      "/tmp/ipykernel_2361/3680906809.py:37: DeprecationWarning: `np.int` is a deprecated alias for the builtin `int`. To silence this warning, use `int` by itself. Doing this will not modify any behavior and is safe. When replacing `np.int`, you may wish to use e.g. `np.int64` or `np.int32` to specify the precision. If you wish to review your current use, check the release note link for additional information.\n",
      "Deprecated in NumPy 1.20; for more details and guidance: https://numpy.org/devdocs/release/1.20.0-notes.html#deprecations\n",
      "  return (np.ceil(len(self.data) / float(self.batch_size))).astype(np.int)\n"
     ]
    },
    {
     "name": "stdout",
     "output_type": "stream",
     "text": [
      "341/344 [============================>.] - ETA: 0s - loss: 47.1058 - rmse: 6.8634 - mae: 5.5355"
     ]
    },
    {
     "name": "stderr",
     "output_type": "stream",
     "text": [
      "/tmp/ipykernel_2361/3680906809.py:37: DeprecationWarning: `np.int` is a deprecated alias for the builtin `int`. To silence this warning, use `int` by itself. Doing this will not modify any behavior and is safe. When replacing `np.int`, you may wish to use e.g. `np.int64` or `np.int32` to specify the precision. If you wish to review your current use, check the release note link for additional information.\n",
      "Deprecated in NumPy 1.20; for more details and guidance: https://numpy.org/devdocs/release/1.20.0-notes.html#deprecations\n",
      "  return (np.ceil(len(self.data) / float(self.batch_size))).astype(np.int)\n"
     ]
    },
    {
     "name": "stdout",
     "output_type": "stream",
     "text": [
      "344/344 [==============================] - 2s 6ms/step - loss: 47.2357 - rmse: 6.8728 - mae: 5.5464 - val_loss: 40.3967 - val_rmse: 6.3558 - val_mae: 5.3473\n",
      "Epoch 15/2000\n",
      " 38/344 [==>...........................] - ETA: 1s - loss: 49.5921 - rmse: 7.0422 - mae: 5.6853"
     ]
    },
    {
     "name": "stderr",
     "output_type": "stream",
     "text": [
      "/tmp/ipykernel_2361/3680906809.py:37: DeprecationWarning: `np.int` is a deprecated alias for the builtin `int`. To silence this warning, use `int` by itself. Doing this will not modify any behavior and is safe. When replacing `np.int`, you may wish to use e.g. `np.int64` or `np.int32` to specify the precision. If you wish to review your current use, check the release note link for additional information.\n",
      "Deprecated in NumPy 1.20; for more details and guidance: https://numpy.org/devdocs/release/1.20.0-notes.html#deprecations\n",
      "  return (np.ceil(len(self.data) / float(self.batch_size))).astype(np.int)\n"
     ]
    },
    {
     "name": "stdout",
     "output_type": "stream",
     "text": [
      "338/344 [============================>.] - ETA: 0s - loss: 47.5336 - rmse: 6.8945 - mae: 5.5774"
     ]
    },
    {
     "name": "stderr",
     "output_type": "stream",
     "text": [
      "/tmp/ipykernel_2361/3680906809.py:37: DeprecationWarning: `np.int` is a deprecated alias for the builtin `int`. To silence this warning, use `int` by itself. Doing this will not modify any behavior and is safe. When replacing `np.int`, you may wish to use e.g. `np.int64` or `np.int32` to specify the precision. If you wish to review your current use, check the release note link for additional information.\n",
      "Deprecated in NumPy 1.20; for more details and guidance: https://numpy.org/devdocs/release/1.20.0-notes.html#deprecations\n",
      "  return (np.ceil(len(self.data) / float(self.batch_size))).astype(np.int)\n"
     ]
    },
    {
     "name": "stdout",
     "output_type": "stream",
     "text": [
      "344/344 [==============================] - 2s 5ms/step - loss: 47.2332 - rmse: 6.8726 - mae: 5.5505 - val_loss: 40.4466 - val_rmse: 6.3598 - val_mae: 5.3502\n",
      "Epoch 16/2000\n",
      " 34/344 [=>............................] - ETA: 1s - loss: 46.6910 - rmse: 6.8331 - mae: 5.6012"
     ]
    },
    {
     "name": "stderr",
     "output_type": "stream",
     "text": [
      "/tmp/ipykernel_2361/3680906809.py:37: DeprecationWarning: `np.int` is a deprecated alias for the builtin `int`. To silence this warning, use `int` by itself. Doing this will not modify any behavior and is safe. When replacing `np.int`, you may wish to use e.g. `np.int64` or `np.int32` to specify the precision. If you wish to review your current use, check the release note link for additional information.\n",
      "Deprecated in NumPy 1.20; for more details and guidance: https://numpy.org/devdocs/release/1.20.0-notes.html#deprecations\n",
      "  return (np.ceil(len(self.data) / float(self.batch_size))).astype(np.int)\n"
     ]
    },
    {
     "name": "stdout",
     "output_type": "stream",
     "text": [
      "336/344 [============================>.] - ETA: 0s - loss: 47.2721 - rmse: 6.8755 - mae: 5.5545"
     ]
    },
    {
     "name": "stderr",
     "output_type": "stream",
     "text": [
      "/tmp/ipykernel_2361/3680906809.py:37: DeprecationWarning: `np.int` is a deprecated alias for the builtin `int`. To silence this warning, use `int` by itself. Doing this will not modify any behavior and is safe. When replacing `np.int`, you may wish to use e.g. `np.int64` or `np.int32` to specify the precision. If you wish to review your current use, check the release note link for additional information.\n",
      "Deprecated in NumPy 1.20; for more details and guidance: https://numpy.org/devdocs/release/1.20.0-notes.html#deprecations\n",
      "  return (np.ceil(len(self.data) / float(self.batch_size))).astype(np.int)\n"
     ]
    },
    {
     "name": "stdout",
     "output_type": "stream",
     "text": [
      "344/344 [==============================] - 2s 6ms/step - loss: 47.2318 - rmse: 6.8725 - mae: 5.5531 - val_loss: 40.3743 - val_rmse: 6.3541 - val_mae: 5.3460\n",
      "Epoch 17/2000\n",
      " 36/344 [==>...........................] - ETA: 1s - loss: 45.9259 - rmse: 6.7769 - mae: 5.6587"
     ]
    },
    {
     "name": "stderr",
     "output_type": "stream",
     "text": [
      "/tmp/ipykernel_2361/3680906809.py:37: DeprecationWarning: `np.int` is a deprecated alias for the builtin `int`. To silence this warning, use `int` by itself. Doing this will not modify any behavior and is safe. When replacing `np.int`, you may wish to use e.g. `np.int64` or `np.int32` to specify the precision. If you wish to review your current use, check the release note link for additional information.\n",
      "Deprecated in NumPy 1.20; for more details and guidance: https://numpy.org/devdocs/release/1.20.0-notes.html#deprecations\n",
      "  return (np.ceil(len(self.data) / float(self.batch_size))).astype(np.int)\n"
     ]
    },
    {
     "name": "stdout",
     "output_type": "stream",
     "text": [
      "333/344 [============================>.] - ETA: 0s - loss: 47.4611 - rmse: 6.8892 - mae: 5.5603"
     ]
    },
    {
     "name": "stderr",
     "output_type": "stream",
     "text": [
      "/tmp/ipykernel_2361/3680906809.py:37: DeprecationWarning: `np.int` is a deprecated alias for the builtin `int`. To silence this warning, use `int` by itself. Doing this will not modify any behavior and is safe. When replacing `np.int`, you may wish to use e.g. `np.int64` or `np.int32` to specify the precision. If you wish to review your current use, check the release note link for additional information.\n",
      "Deprecated in NumPy 1.20; for more details and guidance: https://numpy.org/devdocs/release/1.20.0-notes.html#deprecations\n",
      "  return (np.ceil(len(self.data) / float(self.batch_size))).astype(np.int)\n"
     ]
    },
    {
     "name": "stdout",
     "output_type": "stream",
     "text": [
      "344/344 [==============================] - 2s 6ms/step - loss: 47.2249 - rmse: 6.8720 - mae: 5.5460 - val_loss: 40.4376 - val_rmse: 6.3591 - val_mae: 5.3497\n",
      "Epoch 18/2000\n",
      " 33/344 [=>............................] - ETA: 1s - loss: 47.2313 - rmse: 6.8725 - mae: 5.7562"
     ]
    },
    {
     "name": "stderr",
     "output_type": "stream",
     "text": [
      "/tmp/ipykernel_2361/3680906809.py:37: DeprecationWarning: `np.int` is a deprecated alias for the builtin `int`. To silence this warning, use `int` by itself. Doing this will not modify any behavior and is safe. When replacing `np.int`, you may wish to use e.g. `np.int64` or `np.int32` to specify the precision. If you wish to review your current use, check the release note link for additional information.\n",
      "Deprecated in NumPy 1.20; for more details and guidance: https://numpy.org/devdocs/release/1.20.0-notes.html#deprecations\n",
      "  return (np.ceil(len(self.data) / float(self.batch_size))).astype(np.int)\n"
     ]
    },
    {
     "name": "stdout",
     "output_type": "stream",
     "text": [
      "344/344 [==============================] - ETA: 0s - loss: 47.2397 - rmse: 6.8731 - mae: 5.5508"
     ]
    },
    {
     "name": "stderr",
     "output_type": "stream",
     "text": [
      "/tmp/ipykernel_2361/3680906809.py:37: DeprecationWarning: `np.int` is a deprecated alias for the builtin `int`. To silence this warning, use `int` by itself. Doing this will not modify any behavior and is safe. When replacing `np.int`, you may wish to use e.g. `np.int64` or `np.int32` to specify the precision. If you wish to review your current use, check the release note link for additional information.\n",
      "Deprecated in NumPy 1.20; for more details and guidance: https://numpy.org/devdocs/release/1.20.0-notes.html#deprecations\n",
      "  return (np.ceil(len(self.data) / float(self.batch_size))).astype(np.int)\n"
     ]
    },
    {
     "name": "stdout",
     "output_type": "stream",
     "text": [
      "344/344 [==============================] - 2s 7ms/step - loss: 47.2397 - rmse: 6.8731 - mae: 5.5508 - val_loss: 40.4255 - val_rmse: 6.3581 - val_mae: 5.3490\n",
      "Epoch 19/2000\n",
      " 36/344 [==>...........................] - ETA: 1s - loss: 48.4111 - rmse: 6.9578 - mae: 5.6643"
     ]
    },
    {
     "name": "stderr",
     "output_type": "stream",
     "text": [
      "/tmp/ipykernel_2361/3680906809.py:37: DeprecationWarning: `np.int` is a deprecated alias for the builtin `int`. To silence this warning, use `int` by itself. Doing this will not modify any behavior and is safe. When replacing `np.int`, you may wish to use e.g. `np.int64` or `np.int32` to specify the precision. If you wish to review your current use, check the release note link for additional information.\n",
      "Deprecated in NumPy 1.20; for more details and guidance: https://numpy.org/devdocs/release/1.20.0-notes.html#deprecations\n",
      "  return (np.ceil(len(self.data) / float(self.batch_size))).astype(np.int)\n"
     ]
    },
    {
     "name": "stdout",
     "output_type": "stream",
     "text": [
      "339/344 [============================>.] - ETA: 0s - loss: 46.8053 - rmse: 6.8414 - mae: 5.5260"
     ]
    },
    {
     "name": "stderr",
     "output_type": "stream",
     "text": [
      "/tmp/ipykernel_2361/3680906809.py:37: DeprecationWarning: `np.int` is a deprecated alias for the builtin `int`. To silence this warning, use `int` by itself. Doing this will not modify any behavior and is safe. When replacing `np.int`, you may wish to use e.g. `np.int64` or `np.int32` to specify the precision. If you wish to review your current use, check the release note link for additional information.\n",
      "Deprecated in NumPy 1.20; for more details and guidance: https://numpy.org/devdocs/release/1.20.0-notes.html#deprecations\n",
      "  return (np.ceil(len(self.data) / float(self.batch_size))).astype(np.int)\n"
     ]
    },
    {
     "name": "stdout",
     "output_type": "stream",
     "text": [
      "344/344 [==============================] - 2s 6ms/step - loss: 47.2504 - rmse: 6.8739 - mae: 5.5529 - val_loss: 40.3459 - val_rmse: 6.3518 - val_mae: 5.3443\n",
      "Epoch 20/2000\n",
      " 33/344 [=>............................] - ETA: 1s - loss: 50.8296 - rmse: 7.1295 - mae: 5.8159"
     ]
    },
    {
     "name": "stderr",
     "output_type": "stream",
     "text": [
      "/tmp/ipykernel_2361/3680906809.py:37: DeprecationWarning: `np.int` is a deprecated alias for the builtin `int`. To silence this warning, use `int` by itself. Doing this will not modify any behavior and is safe. When replacing `np.int`, you may wish to use e.g. `np.int64` or `np.int32` to specify the precision. If you wish to review your current use, check the release note link for additional information.\n",
      "Deprecated in NumPy 1.20; for more details and guidance: https://numpy.org/devdocs/release/1.20.0-notes.html#deprecations\n",
      "  return (np.ceil(len(self.data) / float(self.batch_size))).astype(np.int)\n"
     ]
    },
    {
     "name": "stdout",
     "output_type": "stream",
     "text": [
      "336/344 [============================>.] - ETA: 0s - loss: 47.2673 - rmse: 6.8751 - mae: 5.5454"
     ]
    },
    {
     "name": "stderr",
     "output_type": "stream",
     "text": [
      "/tmp/ipykernel_2361/3680906809.py:37: DeprecationWarning: `np.int` is a deprecated alias for the builtin `int`. To silence this warning, use `int` by itself. Doing this will not modify any behavior and is safe. When replacing `np.int`, you may wish to use e.g. `np.int64` or `np.int32` to specify the precision. If you wish to review your current use, check the release note link for additional information.\n",
      "Deprecated in NumPy 1.20; for more details and guidance: https://numpy.org/devdocs/release/1.20.0-notes.html#deprecations\n",
      "  return (np.ceil(len(self.data) / float(self.batch_size))).astype(np.int)\n"
     ]
    },
    {
     "name": "stdout",
     "output_type": "stream",
     "text": [
      "344/344 [==============================] - 2s 6ms/step - loss: 47.2411 - rmse: 6.8732 - mae: 5.5509 - val_loss: 40.3617 - val_rmse: 6.3531 - val_mae: 5.3453\n",
      "Epoch 21/2000\n",
      " 34/344 [=>............................] - ETA: 1s - loss: 51.3922 - rmse: 7.1688 - mae: 5.8123"
     ]
    },
    {
     "name": "stderr",
     "output_type": "stream",
     "text": [
      "/tmp/ipykernel_2361/3680906809.py:37: DeprecationWarning: `np.int` is a deprecated alias for the builtin `int`. To silence this warning, use `int` by itself. Doing this will not modify any behavior and is safe. When replacing `np.int`, you may wish to use e.g. `np.int64` or `np.int32` to specify the precision. If you wish to review your current use, check the release note link for additional information.\n",
      "Deprecated in NumPy 1.20; for more details and guidance: https://numpy.org/devdocs/release/1.20.0-notes.html#deprecations\n",
      "  return (np.ceil(len(self.data) / float(self.batch_size))).astype(np.int)\n"
     ]
    },
    {
     "name": "stdout",
     "output_type": "stream",
     "text": [
      "339/344 [============================>.] - ETA: 0s - loss: 47.3149 - rmse: 6.8786 - mae: 5.5553"
     ]
    },
    {
     "name": "stderr",
     "output_type": "stream",
     "text": [
      "/tmp/ipykernel_2361/3680906809.py:37: DeprecationWarning: `np.int` is a deprecated alias for the builtin `int`. To silence this warning, use `int` by itself. Doing this will not modify any behavior and is safe. When replacing `np.int`, you may wish to use e.g. `np.int64` or `np.int32` to specify the precision. If you wish to review your current use, check the release note link for additional information.\n",
      "Deprecated in NumPy 1.20; for more details and guidance: https://numpy.org/devdocs/release/1.20.0-notes.html#deprecations\n",
      "  return (np.ceil(len(self.data) / float(self.batch_size))).astype(np.int)\n"
     ]
    },
    {
     "name": "stdout",
     "output_type": "stream",
     "text": [
      "344/344 [==============================] - 2s 6ms/step - loss: 47.2356 - rmse: 6.8728 - mae: 5.5482 - val_loss: 40.3717 - val_rmse: 6.3539 - val_mae: 5.3459\n",
      "Epoch 22/2000\n",
      " 30/344 [=>............................] - ETA: 1s - loss: 39.3084 - rmse: 6.2696 - mae: 5.0386"
     ]
    },
    {
     "name": "stderr",
     "output_type": "stream",
     "text": [
      "/tmp/ipykernel_2361/3680906809.py:37: DeprecationWarning: `np.int` is a deprecated alias for the builtin `int`. To silence this warning, use `int` by itself. Doing this will not modify any behavior and is safe. When replacing `np.int`, you may wish to use e.g. `np.int64` or `np.int32` to specify the precision. If you wish to review your current use, check the release note link for additional information.\n",
      "Deprecated in NumPy 1.20; for more details and guidance: https://numpy.org/devdocs/release/1.20.0-notes.html#deprecations\n",
      "  return (np.ceil(len(self.data) / float(self.batch_size))).astype(np.int)\n"
     ]
    },
    {
     "name": "stdout",
     "output_type": "stream",
     "text": [
      "338/344 [============================>.] - ETA: 0s - loss: 47.2595 - rmse: 6.8746 - mae: 5.5510"
     ]
    },
    {
     "name": "stderr",
     "output_type": "stream",
     "text": [
      "/tmp/ipykernel_2361/3680906809.py:37: DeprecationWarning: `np.int` is a deprecated alias for the builtin `int`. To silence this warning, use `int` by itself. Doing this will not modify any behavior and is safe. When replacing `np.int`, you may wish to use e.g. `np.int64` or `np.int32` to specify the precision. If you wish to review your current use, check the release note link for additional information.\n",
      "Deprecated in NumPy 1.20; for more details and guidance: https://numpy.org/devdocs/release/1.20.0-notes.html#deprecations\n",
      "  return (np.ceil(len(self.data) / float(self.batch_size))).astype(np.int)\n"
     ]
    },
    {
     "name": "stdout",
     "output_type": "stream",
     "text": [
      "344/344 [==============================] - 2s 6ms/step - loss: 47.2358 - rmse: 6.8728 - mae: 5.5512 - val_loss: 40.3908 - val_rmse: 6.3554 - val_mae: 5.3470\n",
      "Epoch 23/2000\n",
      " 34/344 [=>............................] - ETA: 1s - loss: 49.1069 - rmse: 7.0076 - mae: 5.4677"
     ]
    },
    {
     "name": "stderr",
     "output_type": "stream",
     "text": [
      "/tmp/ipykernel_2361/3680906809.py:37: DeprecationWarning: `np.int` is a deprecated alias for the builtin `int`. To silence this warning, use `int` by itself. Doing this will not modify any behavior and is safe. When replacing `np.int`, you may wish to use e.g. `np.int64` or `np.int32` to specify the precision. If you wish to review your current use, check the release note link for additional information.\n",
      "Deprecated in NumPy 1.20; for more details and guidance: https://numpy.org/devdocs/release/1.20.0-notes.html#deprecations\n",
      "  return (np.ceil(len(self.data) / float(self.batch_size))).astype(np.int)\n"
     ]
    },
    {
     "name": "stdout",
     "output_type": "stream",
     "text": [
      "339/344 [============================>.] - ETA: 0s - loss: 47.1784 - rmse: 6.8687 - mae: 5.5484"
     ]
    },
    {
     "name": "stderr",
     "output_type": "stream",
     "text": [
      "/tmp/ipykernel_2361/3680906809.py:37: DeprecationWarning: `np.int` is a deprecated alias for the builtin `int`. To silence this warning, use `int` by itself. Doing this will not modify any behavior and is safe. When replacing `np.int`, you may wish to use e.g. `np.int64` or `np.int32` to specify the precision. If you wish to review your current use, check the release note link for additional information.\n",
      "Deprecated in NumPy 1.20; for more details and guidance: https://numpy.org/devdocs/release/1.20.0-notes.html#deprecations\n",
      "  return (np.ceil(len(self.data) / float(self.batch_size))).astype(np.int)\n"
     ]
    },
    {
     "name": "stdout",
     "output_type": "stream",
     "text": [
      "344/344 [==============================] - 2s 6ms/step - loss: 47.2437 - rmse: 6.8734 - mae: 5.5506 - val_loss: 40.3850 - val_rmse: 6.3549 - val_mae: 5.3467\n",
      "Epoch 24/2000\n",
      " 37/344 [==>...........................] - ETA: 1s - loss: 48.2712 - rmse: 6.9477 - mae: 5.7117"
     ]
    },
    {
     "name": "stderr",
     "output_type": "stream",
     "text": [
      "/tmp/ipykernel_2361/3680906809.py:37: DeprecationWarning: `np.int` is a deprecated alias for the builtin `int`. To silence this warning, use `int` by itself. Doing this will not modify any behavior and is safe. When replacing `np.int`, you may wish to use e.g. `np.int64` or `np.int32` to specify the precision. If you wish to review your current use, check the release note link for additional information.\n",
      "Deprecated in NumPy 1.20; for more details and guidance: https://numpy.org/devdocs/release/1.20.0-notes.html#deprecations\n",
      "  return (np.ceil(len(self.data) / float(self.batch_size))).astype(np.int)\n"
     ]
    },
    {
     "name": "stdout",
     "output_type": "stream",
     "text": [
      "344/344 [==============================] - ETA: 0s - loss: 47.2329 - rmse: 6.8726 - mae: 5.5492"
     ]
    },
    {
     "name": "stderr",
     "output_type": "stream",
     "text": [
      "/tmp/ipykernel_2361/3680906809.py:37: DeprecationWarning: `np.int` is a deprecated alias for the builtin `int`. To silence this warning, use `int` by itself. Doing this will not modify any behavior and is safe. When replacing `np.int`, you may wish to use e.g. `np.int64` or `np.int32` to specify the precision. If you wish to review your current use, check the release note link for additional information.\n",
      "Deprecated in NumPy 1.20; for more details and guidance: https://numpy.org/devdocs/release/1.20.0-notes.html#deprecations\n",
      "  return (np.ceil(len(self.data) / float(self.batch_size))).astype(np.int)\n"
     ]
    },
    {
     "name": "stdout",
     "output_type": "stream",
     "text": [
      "344/344 [==============================] - 2s 7ms/step - loss: 47.2329 - rmse: 6.8726 - mae: 5.5492 - val_loss: 40.3611 - val_rmse: 6.3530 - val_mae: 5.3453\n",
      "Epoch 25/2000\n",
      " 35/344 [==>...........................] - ETA: 1s - loss: 48.4392 - rmse: 6.9598 - mae: 5.6547"
     ]
    },
    {
     "name": "stderr",
     "output_type": "stream",
     "text": [
      "/tmp/ipykernel_2361/3680906809.py:37: DeprecationWarning: `np.int` is a deprecated alias for the builtin `int`. To silence this warning, use `int` by itself. Doing this will not modify any behavior and is safe. When replacing `np.int`, you may wish to use e.g. `np.int64` or `np.int32` to specify the precision. If you wish to review your current use, check the release note link for additional information.\n",
      "Deprecated in NumPy 1.20; for more details and guidance: https://numpy.org/devdocs/release/1.20.0-notes.html#deprecations\n",
      "  return (np.ceil(len(self.data) / float(self.batch_size))).astype(np.int)\n"
     ]
    },
    {
     "name": "stdout",
     "output_type": "stream",
     "text": [
      "340/344 [============================>.] - ETA: 0s - loss: 47.5976 - rmse: 6.8991 - mae: 5.5737"
     ]
    },
    {
     "name": "stderr",
     "output_type": "stream",
     "text": [
      "/tmp/ipykernel_2361/3680906809.py:37: DeprecationWarning: `np.int` is a deprecated alias for the builtin `int`. To silence this warning, use `int` by itself. Doing this will not modify any behavior and is safe. When replacing `np.int`, you may wish to use e.g. `np.int64` or `np.int32` to specify the precision. If you wish to review your current use, check the release note link for additional information.\n",
      "Deprecated in NumPy 1.20; for more details and guidance: https://numpy.org/devdocs/release/1.20.0-notes.html#deprecations\n",
      "  return (np.ceil(len(self.data) / float(self.batch_size))).astype(np.int)\n"
     ]
    },
    {
     "name": "stdout",
     "output_type": "stream",
     "text": [
      "344/344 [==============================] - 2s 6ms/step - loss: 47.2439 - rmse: 6.8734 - mae: 5.5480 - val_loss: 40.4595 - val_rmse: 6.3608 - val_mae: 5.3510\n",
      "Epoch 26/2000\n",
      " 37/344 [==>...........................] - ETA: 1s - loss: 40.1025 - rmse: 6.3327 - mae: 5.0188"
     ]
    },
    {
     "name": "stderr",
     "output_type": "stream",
     "text": [
      "/tmp/ipykernel_2361/3680906809.py:37: DeprecationWarning: `np.int` is a deprecated alias for the builtin `int`. To silence this warning, use `int` by itself. Doing this will not modify any behavior and is safe. When replacing `np.int`, you may wish to use e.g. `np.int64` or `np.int32` to specify the precision. If you wish to review your current use, check the release note link for additional information.\n",
      "Deprecated in NumPy 1.20; for more details and guidance: https://numpy.org/devdocs/release/1.20.0-notes.html#deprecations\n",
      "  return (np.ceil(len(self.data) / float(self.batch_size))).astype(np.int)\n"
     ]
    },
    {
     "name": "stdout",
     "output_type": "stream",
     "text": [
      "335/344 [============================>.] - ETA: 0s - loss: 47.1533 - rmse: 6.8668 - mae: 5.5430"
     ]
    },
    {
     "name": "stderr",
     "output_type": "stream",
     "text": [
      "/tmp/ipykernel_2361/3680906809.py:37: DeprecationWarning: `np.int` is a deprecated alias for the builtin `int`. To silence this warning, use `int` by itself. Doing this will not modify any behavior and is safe. When replacing `np.int`, you may wish to use e.g. `np.int64` or `np.int32` to specify the precision. If you wish to review your current use, check the release note link for additional information.\n",
      "Deprecated in NumPy 1.20; for more details and guidance: https://numpy.org/devdocs/release/1.20.0-notes.html#deprecations\n",
      "  return (np.ceil(len(self.data) / float(self.batch_size))).astype(np.int)\n"
     ]
    },
    {
     "name": "stdout",
     "output_type": "stream",
     "text": [
      "344/344 [==============================] - 2s 6ms/step - loss: 47.2363 - rmse: 6.8729 - mae: 5.5533 - val_loss: 40.4245 - val_rmse: 6.3580 - val_mae: 5.3489\n",
      "Epoch 27/2000\n",
      " 35/344 [==>...........................] - ETA: 1s - loss: 57.0937 - rmse: 7.5560 - mae: 6.0111"
     ]
    },
    {
     "name": "stderr",
     "output_type": "stream",
     "text": [
      "/tmp/ipykernel_2361/3680906809.py:37: DeprecationWarning: `np.int` is a deprecated alias for the builtin `int`. To silence this warning, use `int` by itself. Doing this will not modify any behavior and is safe. When replacing `np.int`, you may wish to use e.g. `np.int64` or `np.int32` to specify the precision. If you wish to review your current use, check the release note link for additional information.\n",
      "Deprecated in NumPy 1.20; for more details and guidance: https://numpy.org/devdocs/release/1.20.0-notes.html#deprecations\n",
      "  return (np.ceil(len(self.data) / float(self.batch_size))).astype(np.int)\n"
     ]
    },
    {
     "name": "stdout",
     "output_type": "stream",
     "text": [
      "343/344 [============================>.] - ETA: 0s - loss: 47.3024 - rmse: 6.8777 - mae: 5.5533"
     ]
    },
    {
     "name": "stderr",
     "output_type": "stream",
     "text": [
      "/tmp/ipykernel_2361/3680906809.py:37: DeprecationWarning: `np.int` is a deprecated alias for the builtin `int`. To silence this warning, use `int` by itself. Doing this will not modify any behavior and is safe. When replacing `np.int`, you may wish to use e.g. `np.int64` or `np.int32` to specify the precision. If you wish to review your current use, check the release note link for additional information.\n",
      "Deprecated in NumPy 1.20; for more details and guidance: https://numpy.org/devdocs/release/1.20.0-notes.html#deprecations\n",
      "  return (np.ceil(len(self.data) / float(self.batch_size))).astype(np.int)\n"
     ]
    },
    {
     "name": "stdout",
     "output_type": "stream",
     "text": [
      "344/344 [==============================] - 2s 6ms/step - loss: 47.2394 - rmse: 6.8731 - mae: 5.5484 - val_loss: 40.4118 - val_rmse: 6.3570 - val_mae: 5.3482\n",
      "Epoch 28/2000\n",
      " 34/344 [=>............................] - ETA: 1s - loss: 42.4863 - rmse: 6.5182 - mae: 5.1966"
     ]
    },
    {
     "name": "stderr",
     "output_type": "stream",
     "text": [
      "/tmp/ipykernel_2361/3680906809.py:37: DeprecationWarning: `np.int` is a deprecated alias for the builtin `int`. To silence this warning, use `int` by itself. Doing this will not modify any behavior and is safe. When replacing `np.int`, you may wish to use e.g. `np.int64` or `np.int32` to specify the precision. If you wish to review your current use, check the release note link for additional information.\n",
      "Deprecated in NumPy 1.20; for more details and guidance: https://numpy.org/devdocs/release/1.20.0-notes.html#deprecations\n",
      "  return (np.ceil(len(self.data) / float(self.batch_size))).astype(np.int)\n"
     ]
    },
    {
     "name": "stdout",
     "output_type": "stream",
     "text": [
      "339/344 [============================>.] - ETA: 0s - loss: 46.6955 - rmse: 6.8334 - mae: 5.5293"
     ]
    },
    {
     "name": "stderr",
     "output_type": "stream",
     "text": [
      "/tmp/ipykernel_2361/3680906809.py:37: DeprecationWarning: `np.int` is a deprecated alias for the builtin `int`. To silence this warning, use `int` by itself. Doing this will not modify any behavior and is safe. When replacing `np.int`, you may wish to use e.g. `np.int64` or `np.int32` to specify the precision. If you wish to review your current use, check the release note link for additional information.\n",
      "Deprecated in NumPy 1.20; for more details and guidance: https://numpy.org/devdocs/release/1.20.0-notes.html#deprecations\n",
      "  return (np.ceil(len(self.data) / float(self.batch_size))).astype(np.int)\n"
     ]
    },
    {
     "name": "stdout",
     "output_type": "stream",
     "text": [
      "344/344 [==============================] - 2s 6ms/step - loss: 47.2305 - rmse: 6.8724 - mae: 5.5523 - val_loss: 40.3790 - val_rmse: 6.3544 - val_mae: 5.3463\n",
      "Epoch 29/2000\n",
      " 34/344 [=>............................] - ETA: 1s - loss: 51.0846 - rmse: 7.1473 - mae: 5.6072"
     ]
    },
    {
     "name": "stderr",
     "output_type": "stream",
     "text": [
      "/tmp/ipykernel_2361/3680906809.py:37: DeprecationWarning: `np.int` is a deprecated alias for the builtin `int`. To silence this warning, use `int` by itself. Doing this will not modify any behavior and is safe. When replacing `np.int`, you may wish to use e.g. `np.int64` or `np.int32` to specify the precision. If you wish to review your current use, check the release note link for additional information.\n",
      "Deprecated in NumPy 1.20; for more details and guidance: https://numpy.org/devdocs/release/1.20.0-notes.html#deprecations\n",
      "  return (np.ceil(len(self.data) / float(self.batch_size))).astype(np.int)\n"
     ]
    },
    {
     "name": "stdout",
     "output_type": "stream",
     "text": [
      "338/344 [============================>.] - ETA: 0s - loss: 47.1533 - rmse: 6.8668 - mae: 5.5398"
     ]
    },
    {
     "name": "stderr",
     "output_type": "stream",
     "text": [
      "/tmp/ipykernel_2361/3680906809.py:37: DeprecationWarning: `np.int` is a deprecated alias for the builtin `int`. To silence this warning, use `int` by itself. Doing this will not modify any behavior and is safe. When replacing `np.int`, you may wish to use e.g. `np.int64` or `np.int32` to specify the precision. If you wish to review your current use, check the release note link for additional information.\n",
      "Deprecated in NumPy 1.20; for more details and guidance: https://numpy.org/devdocs/release/1.20.0-notes.html#deprecations\n",
      "  return (np.ceil(len(self.data) / float(self.batch_size))).astype(np.int)\n"
     ]
    },
    {
     "name": "stdout",
     "output_type": "stream",
     "text": [
      "344/344 [==============================] - 2s 6ms/step - loss: 47.2296 - rmse: 6.8724 - mae: 5.5521 - val_loss: 40.2861 - val_rmse: 6.3471 - val_mae: 5.3407\n",
      "Epoch 30/2000\n",
      " 31/344 [=>............................] - ETA: 1s - loss: 54.0027 - rmse: 7.3487 - mae: 6.0999"
     ]
    },
    {
     "name": "stderr",
     "output_type": "stream",
     "text": [
      "/tmp/ipykernel_2361/3680906809.py:37: DeprecationWarning: `np.int` is a deprecated alias for the builtin `int`. To silence this warning, use `int` by itself. Doing this will not modify any behavior and is safe. When replacing `np.int`, you may wish to use e.g. `np.int64` or `np.int32` to specify the precision. If you wish to review your current use, check the release note link for additional information.\n",
      "Deprecated in NumPy 1.20; for more details and guidance: https://numpy.org/devdocs/release/1.20.0-notes.html#deprecations\n",
      "  return (np.ceil(len(self.data) / float(self.batch_size))).astype(np.int)\n"
     ]
    },
    {
     "name": "stdout",
     "output_type": "stream",
     "text": [
      "342/344 [============================>.] - ETA: 0s - loss: 47.0304 - rmse: 6.8579 - mae: 5.5415"
     ]
    },
    {
     "name": "stderr",
     "output_type": "stream",
     "text": [
      "/tmp/ipykernel_2361/3680906809.py:37: DeprecationWarning: `np.int` is a deprecated alias for the builtin `int`. To silence this warning, use `int` by itself. Doing this will not modify any behavior and is safe. When replacing `np.int`, you may wish to use e.g. `np.int64` or `np.int32` to specify the precision. If you wish to review your current use, check the release note link for additional information.\n",
      "Deprecated in NumPy 1.20; for more details and guidance: https://numpy.org/devdocs/release/1.20.0-notes.html#deprecations\n",
      "  return (np.ceil(len(self.data) / float(self.batch_size))).astype(np.int)\n"
     ]
    },
    {
     "name": "stdout",
     "output_type": "stream",
     "text": [
      "344/344 [==============================] - 2s 7ms/step - loss: 47.2365 - rmse: 6.8729 - mae: 5.5460 - val_loss: 40.3633 - val_rmse: 6.3532 - val_mae: 5.3454\n",
      "Epoch 31/2000\n",
      " 36/344 [==>...........................] - ETA: 1s - loss: 48.6433 - rmse: 6.9745 - mae: 5.6793"
     ]
    },
    {
     "name": "stderr",
     "output_type": "stream",
     "text": [
      "/tmp/ipykernel_2361/3680906809.py:37: DeprecationWarning: `np.int` is a deprecated alias for the builtin `int`. To silence this warning, use `int` by itself. Doing this will not modify any behavior and is safe. When replacing `np.int`, you may wish to use e.g. `np.int64` or `np.int32` to specify the precision. If you wish to review your current use, check the release note link for additional information.\n",
      "Deprecated in NumPy 1.20; for more details and guidance: https://numpy.org/devdocs/release/1.20.0-notes.html#deprecations\n",
      "  return (np.ceil(len(self.data) / float(self.batch_size))).astype(np.int)\n"
     ]
    },
    {
     "name": "stdout",
     "output_type": "stream",
     "text": [
      "337/344 [============================>.] - ETA: 0s - loss: 47.0870 - rmse: 6.8620 - mae: 5.5412"
     ]
    },
    {
     "name": "stderr",
     "output_type": "stream",
     "text": [
      "/tmp/ipykernel_2361/3680906809.py:37: DeprecationWarning: `np.int` is a deprecated alias for the builtin `int`. To silence this warning, use `int` by itself. Doing this will not modify any behavior and is safe. When replacing `np.int`, you may wish to use e.g. `np.int64` or `np.int32` to specify the precision. If you wish to review your current use, check the release note link for additional information.\n",
      "Deprecated in NumPy 1.20; for more details and guidance: https://numpy.org/devdocs/release/1.20.0-notes.html#deprecations\n",
      "  return (np.ceil(len(self.data) / float(self.batch_size))).astype(np.int)\n"
     ]
    },
    {
     "name": "stdout",
     "output_type": "stream",
     "text": [
      "344/344 [==============================] - 2s 6ms/step - loss: 47.2476 - rmse: 6.8737 - mae: 5.5522 - val_loss: 40.3196 - val_rmse: 6.3498 - val_mae: 5.3428\n",
      "Epoch 32/2000\n",
      " 41/344 [==>...........................] - ETA: 1s - loss: 47.4499 - rmse: 6.8884 - mae: 5.3525"
     ]
    },
    {
     "name": "stderr",
     "output_type": "stream",
     "text": [
      "/tmp/ipykernel_2361/3680906809.py:37: DeprecationWarning: `np.int` is a deprecated alias for the builtin `int`. To silence this warning, use `int` by itself. Doing this will not modify any behavior and is safe. When replacing `np.int`, you may wish to use e.g. `np.int64` or `np.int32` to specify the precision. If you wish to review your current use, check the release note link for additional information.\n",
      "Deprecated in NumPy 1.20; for more details and guidance: https://numpy.org/devdocs/release/1.20.0-notes.html#deprecations\n",
      "  return (np.ceil(len(self.data) / float(self.batch_size))).astype(np.int)\n"
     ]
    },
    {
     "name": "stdout",
     "output_type": "stream",
     "text": [
      "344/344 [==============================] - ETA: 0s - loss: 47.2405 - rmse: 6.8732 - mae: 5.5505"
     ]
    },
    {
     "name": "stderr",
     "output_type": "stream",
     "text": [
      "/tmp/ipykernel_2361/3680906809.py:37: DeprecationWarning: `np.int` is a deprecated alias for the builtin `int`. To silence this warning, use `int` by itself. Doing this will not modify any behavior and is safe. When replacing `np.int`, you may wish to use e.g. `np.int64` or `np.int32` to specify the precision. If you wish to review your current use, check the release note link for additional information.\n",
      "Deprecated in NumPy 1.20; for more details and guidance: https://numpy.org/devdocs/release/1.20.0-notes.html#deprecations\n",
      "  return (np.ceil(len(self.data) / float(self.batch_size))).astype(np.int)\n"
     ]
    },
    {
     "name": "stdout",
     "output_type": "stream",
     "text": [
      "344/344 [==============================] - 2s 6ms/step - loss: 47.2405 - rmse: 6.8732 - mae: 5.5505 - val_loss: 40.4254 - val_rmse: 6.3581 - val_mae: 5.3490\n",
      "Epoch 33/2000\n",
      " 32/344 [=>............................] - ETA: 1s - loss: 51.2146 - rmse: 7.1564 - mae: 5.7710 "
     ]
    },
    {
     "name": "stderr",
     "output_type": "stream",
     "text": [
      "/tmp/ipykernel_2361/3680906809.py:37: DeprecationWarning: `np.int` is a deprecated alias for the builtin `int`. To silence this warning, use `int` by itself. Doing this will not modify any behavior and is safe. When replacing `np.int`, you may wish to use e.g. `np.int64` or `np.int32` to specify the precision. If you wish to review your current use, check the release note link for additional information.\n",
      "Deprecated in NumPy 1.20; for more details and guidance: https://numpy.org/devdocs/release/1.20.0-notes.html#deprecations\n",
      "  return (np.ceil(len(self.data) / float(self.batch_size))).astype(np.int)\n"
     ]
    },
    {
     "name": "stdout",
     "output_type": "stream",
     "text": [
      "340/344 [============================>.] - ETA: 0s - loss: 46.9010 - rmse: 6.8484 - mae: 5.5314"
     ]
    },
    {
     "name": "stderr",
     "output_type": "stream",
     "text": [
      "/tmp/ipykernel_2361/3680906809.py:37: DeprecationWarning: `np.int` is a deprecated alias for the builtin `int`. To silence this warning, use `int` by itself. Doing this will not modify any behavior and is safe. When replacing `np.int`, you may wish to use e.g. `np.int64` or `np.int32` to specify the precision. If you wish to review your current use, check the release note link for additional information.\n",
      "Deprecated in NumPy 1.20; for more details and guidance: https://numpy.org/devdocs/release/1.20.0-notes.html#deprecations\n",
      "  return (np.ceil(len(self.data) / float(self.batch_size))).astype(np.int)\n"
     ]
    },
    {
     "name": "stdout",
     "output_type": "stream",
     "text": [
      "344/344 [==============================] - 2s 6ms/step - loss: 47.2309 - rmse: 6.8725 - mae: 5.5517 - val_loss: 40.3824 - val_rmse: 6.3547 - val_mae: 5.3465\n",
      "Epoch 34/2000\n",
      " 36/344 [==>...........................] - ETA: 1s - loss: 52.3827 - rmse: 7.2376 - mae: 6.0202"
     ]
    },
    {
     "name": "stderr",
     "output_type": "stream",
     "text": [
      "/tmp/ipykernel_2361/3680906809.py:37: DeprecationWarning: `np.int` is a deprecated alias for the builtin `int`. To silence this warning, use `int` by itself. Doing this will not modify any behavior and is safe. When replacing `np.int`, you may wish to use e.g. `np.int64` or `np.int32` to specify the precision. If you wish to review your current use, check the release note link for additional information.\n",
      "Deprecated in NumPy 1.20; for more details and guidance: https://numpy.org/devdocs/release/1.20.0-notes.html#deprecations\n",
      "  return (np.ceil(len(self.data) / float(self.batch_size))).astype(np.int)\n"
     ]
    },
    {
     "name": "stdout",
     "output_type": "stream",
     "text": [
      "341/344 [============================>.] - ETA: 0s - loss: 47.0002 - rmse: 6.8557 - mae: 5.5383"
     ]
    },
    {
     "name": "stderr",
     "output_type": "stream",
     "text": [
      "/tmp/ipykernel_2361/3680906809.py:37: DeprecationWarning: `np.int` is a deprecated alias for the builtin `int`. To silence this warning, use `int` by itself. Doing this will not modify any behavior and is safe. When replacing `np.int`, you may wish to use e.g. `np.int64` or `np.int32` to specify the precision. If you wish to review your current use, check the release note link for additional information.\n",
      "Deprecated in NumPy 1.20; for more details and guidance: https://numpy.org/devdocs/release/1.20.0-notes.html#deprecations\n",
      "  return (np.ceil(len(self.data) / float(self.batch_size))).astype(np.int)\n"
     ]
    },
    {
     "name": "stdout",
     "output_type": "stream",
     "text": [
      "344/344 [==============================] - 2s 5ms/step - loss: 47.2272 - rmse: 6.8722 - mae: 5.5514 - val_loss: 40.3343 - val_rmse: 6.3509 - val_mae: 5.3437\n",
      "Epoch 35/2000\n",
      " 35/344 [==>...........................] - ETA: 1s - loss: 45.7227 - rmse: 6.7619 - mae: 5.4494"
     ]
    },
    {
     "name": "stderr",
     "output_type": "stream",
     "text": [
      "/tmp/ipykernel_2361/3680906809.py:37: DeprecationWarning: `np.int` is a deprecated alias for the builtin `int`. To silence this warning, use `int` by itself. Doing this will not modify any behavior and is safe. When replacing `np.int`, you may wish to use e.g. `np.int64` or `np.int32` to specify the precision. If you wish to review your current use, check the release note link for additional information.\n",
      "Deprecated in NumPy 1.20; for more details and guidance: https://numpy.org/devdocs/release/1.20.0-notes.html#deprecations\n",
      "  return (np.ceil(len(self.data) / float(self.batch_size))).astype(np.int)\n"
     ]
    },
    {
     "name": "stdout",
     "output_type": "stream",
     "text": [
      "338/344 [============================>.] - ETA: 0s - loss: 47.3142 - rmse: 6.8785 - mae: 5.5553"
     ]
    },
    {
     "name": "stderr",
     "output_type": "stream",
     "text": [
      "/tmp/ipykernel_2361/3680906809.py:37: DeprecationWarning: `np.int` is a deprecated alias for the builtin `int`. To silence this warning, use `int` by itself. Doing this will not modify any behavior and is safe. When replacing `np.int`, you may wish to use e.g. `np.int64` or `np.int32` to specify the precision. If you wish to review your current use, check the release note link for additional information.\n",
      "Deprecated in NumPy 1.20; for more details and guidance: https://numpy.org/devdocs/release/1.20.0-notes.html#deprecations\n",
      "  return (np.ceil(len(self.data) / float(self.batch_size))).astype(np.int)\n"
     ]
    },
    {
     "name": "stdout",
     "output_type": "stream",
     "text": [
      "344/344 [==============================] - 2s 5ms/step - loss: 47.2275 - rmse: 6.8722 - mae: 5.5483 - val_loss: 40.3021 - val_rmse: 6.3484 - val_mae: 5.3417\n",
      "Epoch 36/2000\n",
      " 37/344 [==>...........................] - ETA: 1s - loss: 46.8798 - rmse: 6.8469 - mae: 5.2255"
     ]
    },
    {
     "name": "stderr",
     "output_type": "stream",
     "text": [
      "/tmp/ipykernel_2361/3680906809.py:37: DeprecationWarning: `np.int` is a deprecated alias for the builtin `int`. To silence this warning, use `int` by itself. Doing this will not modify any behavior and is safe. When replacing `np.int`, you may wish to use e.g. `np.int64` or `np.int32` to specify the precision. If you wish to review your current use, check the release note link for additional information.\n",
      "Deprecated in NumPy 1.20; for more details and guidance: https://numpy.org/devdocs/release/1.20.0-notes.html#deprecations\n",
      "  return (np.ceil(len(self.data) / float(self.batch_size))).astype(np.int)\n"
     ]
    },
    {
     "name": "stdout",
     "output_type": "stream",
     "text": [
      "343/344 [============================>.] - ETA: 0s - loss: 47.2547 - rmse: 6.8742 - mae: 5.5497"
     ]
    },
    {
     "name": "stderr",
     "output_type": "stream",
     "text": [
      "/tmp/ipykernel_2361/3680906809.py:37: DeprecationWarning: `np.int` is a deprecated alias for the builtin `int`. To silence this warning, use `int` by itself. Doing this will not modify any behavior and is safe. When replacing `np.int`, you may wish to use e.g. `np.int64` or `np.int32` to specify the precision. If you wish to review your current use, check the release note link for additional information.\n",
      "Deprecated in NumPy 1.20; for more details and guidance: https://numpy.org/devdocs/release/1.20.0-notes.html#deprecations\n",
      "  return (np.ceil(len(self.data) / float(self.batch_size))).astype(np.int)\n"
     ]
    },
    {
     "name": "stdout",
     "output_type": "stream",
     "text": [
      "344/344 [==============================] - 2s 6ms/step - loss: 47.2484 - rmse: 6.8737 - mae: 5.5516 - val_loss: 40.3029 - val_rmse: 6.3485 - val_mae: 5.3417\n",
      "Epoch 37/2000\n",
      " 37/344 [==>...........................] - ETA: 1s - loss: 54.4262 - rmse: 7.3774 - mae: 6.0243"
     ]
    },
    {
     "name": "stderr",
     "output_type": "stream",
     "text": [
      "/tmp/ipykernel_2361/3680906809.py:37: DeprecationWarning: `np.int` is a deprecated alias for the builtin `int`. To silence this warning, use `int` by itself. Doing this will not modify any behavior and is safe. When replacing `np.int`, you may wish to use e.g. `np.int64` or `np.int32` to specify the precision. If you wish to review your current use, check the release note link for additional information.\n",
      "Deprecated in NumPy 1.20; for more details and guidance: https://numpy.org/devdocs/release/1.20.0-notes.html#deprecations\n",
      "  return (np.ceil(len(self.data) / float(self.batch_size))).astype(np.int)\n"
     ]
    },
    {
     "name": "stdout",
     "output_type": "stream",
     "text": [
      "336/344 [============================>.] - ETA: 0s - loss: 46.6057 - rmse: 6.8268 - mae: 5.5073"
     ]
    },
    {
     "name": "stderr",
     "output_type": "stream",
     "text": [
      "/tmp/ipykernel_2361/3680906809.py:37: DeprecationWarning: `np.int` is a deprecated alias for the builtin `int`. To silence this warning, use `int` by itself. Doing this will not modify any behavior and is safe. When replacing `np.int`, you may wish to use e.g. `np.int64` or `np.int32` to specify the precision. If you wish to review your current use, check the release note link for additional information.\n",
      "Deprecated in NumPy 1.20; for more details and guidance: https://numpy.org/devdocs/release/1.20.0-notes.html#deprecations\n",
      "  return (np.ceil(len(self.data) / float(self.batch_size))).astype(np.int)\n"
     ]
    },
    {
     "name": "stdout",
     "output_type": "stream",
     "text": [
      "344/344 [==============================] - 2s 6ms/step - loss: 47.2420 - rmse: 6.8733 - mae: 5.5481 - val_loss: 40.3376 - val_rmse: 6.3512 - val_mae: 5.3438\n",
      "Epoch 38/2000\n",
      " 33/344 [=>............................] - ETA: 1s - loss: 43.5652 - rmse: 6.6004 - mae: 5.5416"
     ]
    },
    {
     "name": "stderr",
     "output_type": "stream",
     "text": [
      "/tmp/ipykernel_2361/3680906809.py:37: DeprecationWarning: `np.int` is a deprecated alias for the builtin `int`. To silence this warning, use `int` by itself. Doing this will not modify any behavior and is safe. When replacing `np.int`, you may wish to use e.g. `np.int64` or `np.int32` to specify the precision. If you wish to review your current use, check the release note link for additional information.\n",
      "Deprecated in NumPy 1.20; for more details and guidance: https://numpy.org/devdocs/release/1.20.0-notes.html#deprecations\n",
      "  return (np.ceil(len(self.data) / float(self.batch_size))).astype(np.int)\n"
     ]
    },
    {
     "name": "stdout",
     "output_type": "stream",
     "text": [
      "342/344 [============================>.] - ETA: 0s - loss: 47.0334 - rmse: 6.8581 - mae: 5.5362"
     ]
    },
    {
     "name": "stderr",
     "output_type": "stream",
     "text": [
      "/tmp/ipykernel_2361/3680906809.py:37: DeprecationWarning: `np.int` is a deprecated alias for the builtin `int`. To silence this warning, use `int` by itself. Doing this will not modify any behavior and is safe. When replacing `np.int`, you may wish to use e.g. `np.int64` or `np.int32` to specify the precision. If you wish to review your current use, check the release note link for additional information.\n",
      "Deprecated in NumPy 1.20; for more details and guidance: https://numpy.org/devdocs/release/1.20.0-notes.html#deprecations\n",
      "  return (np.ceil(len(self.data) / float(self.batch_size))).astype(np.int)\n"
     ]
    },
    {
     "name": "stdout",
     "output_type": "stream",
     "text": [
      "344/344 [==============================] - 2s 6ms/step - loss: 47.2406 - rmse: 6.8732 - mae: 5.5473 - val_loss: 40.3558 - val_rmse: 6.3526 - val_mae: 5.3449\n",
      "Epoch 39/2000\n",
      " 32/344 [=>............................] - ETA: 1s - loss: 48.2771 - rmse: 6.9482 - mae: 5.4426"
     ]
    },
    {
     "name": "stderr",
     "output_type": "stream",
     "text": [
      "/tmp/ipykernel_2361/3680906809.py:37: DeprecationWarning: `np.int` is a deprecated alias for the builtin `int`. To silence this warning, use `int` by itself. Doing this will not modify any behavior and is safe. When replacing `np.int`, you may wish to use e.g. `np.int64` or `np.int32` to specify the precision. If you wish to review your current use, check the release note link for additional information.\n",
      "Deprecated in NumPy 1.20; for more details and guidance: https://numpy.org/devdocs/release/1.20.0-notes.html#deprecations\n",
      "  return (np.ceil(len(self.data) / float(self.batch_size))).astype(np.int)\n"
     ]
    },
    {
     "name": "stdout",
     "output_type": "stream",
     "text": [
      "343/344 [============================>.] - ETA: 0s - loss: 47.2530 - rmse: 6.8741 - mae: 5.5461"
     ]
    },
    {
     "name": "stderr",
     "output_type": "stream",
     "text": [
      "/tmp/ipykernel_2361/3680906809.py:37: DeprecationWarning: `np.int` is a deprecated alias for the builtin `int`. To silence this warning, use `int` by itself. Doing this will not modify any behavior and is safe. When replacing `np.int`, you may wish to use e.g. `np.int64` or `np.int32` to specify the precision. If you wish to review your current use, check the release note link for additional information.\n",
      "Deprecated in NumPy 1.20; for more details and guidance: https://numpy.org/devdocs/release/1.20.0-notes.html#deprecations\n",
      "  return (np.ceil(len(self.data) / float(self.batch_size))).astype(np.int)\n"
     ]
    },
    {
     "name": "stdout",
     "output_type": "stream",
     "text": [
      "344/344 [==============================] - 2s 5ms/step - loss: 47.2242 - rmse: 6.8720 - mae: 5.5457 - val_loss: 40.4654 - val_rmse: 6.3612 - val_mae: 5.3513\n",
      "Epoch 40/2000\n",
      " 34/344 [=>............................] - ETA: 1s - loss: 52.1774 - rmse: 7.2234 - mae: 5.8833"
     ]
    },
    {
     "name": "stderr",
     "output_type": "stream",
     "text": [
      "/tmp/ipykernel_2361/3680906809.py:37: DeprecationWarning: `np.int` is a deprecated alias for the builtin `int`. To silence this warning, use `int` by itself. Doing this will not modify any behavior and is safe. When replacing `np.int`, you may wish to use e.g. `np.int64` or `np.int32` to specify the precision. If you wish to review your current use, check the release note link for additional information.\n",
      "Deprecated in NumPy 1.20; for more details and guidance: https://numpy.org/devdocs/release/1.20.0-notes.html#deprecations\n",
      "  return (np.ceil(len(self.data) / float(self.batch_size))).astype(np.int)\n"
     ]
    },
    {
     "name": "stdout",
     "output_type": "stream",
     "text": [
      "335/344 [============================>.] - ETA: 0s - loss: 47.6352 - rmse: 6.9018 - mae: 5.5804"
     ]
    },
    {
     "name": "stderr",
     "output_type": "stream",
     "text": [
      "/tmp/ipykernel_2361/3680906809.py:37: DeprecationWarning: `np.int` is a deprecated alias for the builtin `int`. To silence this warning, use `int` by itself. Doing this will not modify any behavior and is safe. When replacing `np.int`, you may wish to use e.g. `np.int64` or `np.int32` to specify the precision. If you wish to review your current use, check the release note link for additional information.\n",
      "Deprecated in NumPy 1.20; for more details and guidance: https://numpy.org/devdocs/release/1.20.0-notes.html#deprecations\n",
      "  return (np.ceil(len(self.data) / float(self.batch_size))).astype(np.int)\n"
     ]
    },
    {
     "name": "stdout",
     "output_type": "stream",
     "text": [
      "344/344 [==============================] - 2s 5ms/step - loss: 47.2309 - rmse: 6.8725 - mae: 5.5533 - val_loss: 40.4308 - val_rmse: 6.3585 - val_mae: 5.3493\n",
      "Epoch 41/2000\n",
      " 37/344 [==>...........................] - ETA: 1s - loss: 48.0705 - rmse: 6.9333 - mae: 5.7164"
     ]
    },
    {
     "name": "stderr",
     "output_type": "stream",
     "text": [
      "/tmp/ipykernel_2361/3680906809.py:37: DeprecationWarning: `np.int` is a deprecated alias for the builtin `int`. To silence this warning, use `int` by itself. Doing this will not modify any behavior and is safe. When replacing `np.int`, you may wish to use e.g. `np.int64` or `np.int32` to specify the precision. If you wish to review your current use, check the release note link for additional information.\n",
      "Deprecated in NumPy 1.20; for more details and guidance: https://numpy.org/devdocs/release/1.20.0-notes.html#deprecations\n",
      "  return (np.ceil(len(self.data) / float(self.batch_size))).astype(np.int)\n"
     ]
    },
    {
     "name": "stdout",
     "output_type": "stream",
     "text": [
      "340/344 [============================>.] - ETA: 0s - loss: 46.9985 - rmse: 6.8555 - mae: 5.5425"
     ]
    },
    {
     "name": "stderr",
     "output_type": "stream",
     "text": [
      "/tmp/ipykernel_2361/3680906809.py:37: DeprecationWarning: `np.int` is a deprecated alias for the builtin `int`. To silence this warning, use `int` by itself. Doing this will not modify any behavior and is safe. When replacing `np.int`, you may wish to use e.g. `np.int64` or `np.int32` to specify the precision. If you wish to review your current use, check the release note link for additional information.\n",
      "Deprecated in NumPy 1.20; for more details and guidance: https://numpy.org/devdocs/release/1.20.0-notes.html#deprecations\n",
      "  return (np.ceil(len(self.data) / float(self.batch_size))).astype(np.int)\n"
     ]
    },
    {
     "name": "stdout",
     "output_type": "stream",
     "text": [
      "344/344 [==============================] - 2s 6ms/step - loss: 47.2365 - rmse: 6.8729 - mae: 5.5473 - val_loss: 40.4499 - val_rmse: 6.3600 - val_mae: 5.3504\n",
      "Epoch 42/2000\n",
      " 31/344 [=>............................] - ETA: 1s - loss: 48.1511 - rmse: 6.9391 - mae: 5.6373"
     ]
    },
    {
     "name": "stderr",
     "output_type": "stream",
     "text": [
      "/tmp/ipykernel_2361/3680906809.py:37: DeprecationWarning: `np.int` is a deprecated alias for the builtin `int`. To silence this warning, use `int` by itself. Doing this will not modify any behavior and is safe. When replacing `np.int`, you may wish to use e.g. `np.int64` or `np.int32` to specify the precision. If you wish to review your current use, check the release note link for additional information.\n",
      "Deprecated in NumPy 1.20; for more details and guidance: https://numpy.org/devdocs/release/1.20.0-notes.html#deprecations\n",
      "  return (np.ceil(len(self.data) / float(self.batch_size))).astype(np.int)\n"
     ]
    },
    {
     "name": "stdout",
     "output_type": "stream",
     "text": [
      "334/344 [============================>.] - ETA: 0s - loss: 47.5676 - rmse: 6.8969 - mae: 5.5673"
     ]
    },
    {
     "name": "stderr",
     "output_type": "stream",
     "text": [
      "/tmp/ipykernel_2361/3680906809.py:37: DeprecationWarning: `np.int` is a deprecated alias for the builtin `int`. To silence this warning, use `int` by itself. Doing this will not modify any behavior and is safe. When replacing `np.int`, you may wish to use e.g. `np.int64` or `np.int32` to specify the precision. If you wish to review your current use, check the release note link for additional information.\n",
      "Deprecated in NumPy 1.20; for more details and guidance: https://numpy.org/devdocs/release/1.20.0-notes.html#deprecations\n",
      "  return (np.ceil(len(self.data) / float(self.batch_size))).astype(np.int)\n"
     ]
    },
    {
     "name": "stdout",
     "output_type": "stream",
     "text": [
      "344/344 [==============================] - 2s 7ms/step - loss: 47.2299 - rmse: 6.8724 - mae: 5.5520 - val_loss: 40.4198 - val_rmse: 6.3577 - val_mae: 5.3487\n",
      "Epoch 43/2000\n",
      " 30/344 [=>............................] - ETA: 1s - loss: 52.9109 - rmse: 7.2740 - mae: 5.8846"
     ]
    },
    {
     "name": "stderr",
     "output_type": "stream",
     "text": [
      "/tmp/ipykernel_2361/3680906809.py:37: DeprecationWarning: `np.int` is a deprecated alias for the builtin `int`. To silence this warning, use `int` by itself. Doing this will not modify any behavior and is safe. When replacing `np.int`, you may wish to use e.g. `np.int64` or `np.int32` to specify the precision. If you wish to review your current use, check the release note link for additional information.\n",
      "Deprecated in NumPy 1.20; for more details and guidance: https://numpy.org/devdocs/release/1.20.0-notes.html#deprecations\n",
      "  return (np.ceil(len(self.data) / float(self.batch_size))).astype(np.int)\n"
     ]
    },
    {
     "name": "stdout",
     "output_type": "stream",
     "text": [
      "344/344 [==============================] - ETA: 0s - loss: 47.2323 - rmse: 6.8726 - mae: 5.5516"
     ]
    },
    {
     "name": "stderr",
     "output_type": "stream",
     "text": [
      "/tmp/ipykernel_2361/3680906809.py:37: DeprecationWarning: `np.int` is a deprecated alias for the builtin `int`. To silence this warning, use `int` by itself. Doing this will not modify any behavior and is safe. When replacing `np.int`, you may wish to use e.g. `np.int64` or `np.int32` to specify the precision. If you wish to review your current use, check the release note link for additional information.\n",
      "Deprecated in NumPy 1.20; for more details and guidance: https://numpy.org/devdocs/release/1.20.0-notes.html#deprecations\n",
      "  return (np.ceil(len(self.data) / float(self.batch_size))).astype(np.int)\n"
     ]
    },
    {
     "name": "stdout",
     "output_type": "stream",
     "text": [
      "344/344 [==============================] - 2s 6ms/step - loss: 47.2323 - rmse: 6.8726 - mae: 5.5516 - val_loss: 40.3481 - val_rmse: 6.3520 - val_mae: 5.3445\n",
      "Epoch 44/2000\n",
      " 36/344 [==>...........................] - ETA: 1s - loss: 41.7824 - rmse: 6.4639 - mae: 5.1396"
     ]
    },
    {
     "name": "stderr",
     "output_type": "stream",
     "text": [
      "/tmp/ipykernel_2361/3680906809.py:37: DeprecationWarning: `np.int` is a deprecated alias for the builtin `int`. To silence this warning, use `int` by itself. Doing this will not modify any behavior and is safe. When replacing `np.int`, you may wish to use e.g. `np.int64` or `np.int32` to specify the precision. If you wish to review your current use, check the release note link for additional information.\n",
      "Deprecated in NumPy 1.20; for more details and guidance: https://numpy.org/devdocs/release/1.20.0-notes.html#deprecations\n",
      "  return (np.ceil(len(self.data) / float(self.batch_size))).astype(np.int)\n"
     ]
    },
    {
     "name": "stdout",
     "output_type": "stream",
     "text": [
      "338/344 [============================>.] - ETA: 0s - loss: 46.9150 - rmse: 6.8495 - mae: 5.5178"
     ]
    },
    {
     "name": "stderr",
     "output_type": "stream",
     "text": [
      "/tmp/ipykernel_2361/3680906809.py:37: DeprecationWarning: `np.int` is a deprecated alias for the builtin `int`. To silence this warning, use `int` by itself. Doing this will not modify any behavior and is safe. When replacing `np.int`, you may wish to use e.g. `np.int64` or `np.int32` to specify the precision. If you wish to review your current use, check the release note link for additional information.\n",
      "Deprecated in NumPy 1.20; for more details and guidance: https://numpy.org/devdocs/release/1.20.0-notes.html#deprecations\n",
      "  return (np.ceil(len(self.data) / float(self.batch_size))).astype(np.int)\n"
     ]
    },
    {
     "name": "stdout",
     "output_type": "stream",
     "text": [
      "344/344 [==============================] - 2s 6ms/step - loss: 47.2287 - rmse: 6.8723 - mae: 5.5437 - val_loss: 40.3889 - val_rmse: 6.3552 - val_mae: 5.3469\n",
      "Epoch 45/2000\n",
      " 32/344 [=>............................] - ETA: 1s - loss: 47.4360 - rmse: 6.8874 - mae: 5.5281"
     ]
    },
    {
     "name": "stderr",
     "output_type": "stream",
     "text": [
      "/tmp/ipykernel_2361/3680906809.py:37: DeprecationWarning: `np.int` is a deprecated alias for the builtin `int`. To silence this warning, use `int` by itself. Doing this will not modify any behavior and is safe. When replacing `np.int`, you may wish to use e.g. `np.int64` or `np.int32` to specify the precision. If you wish to review your current use, check the release note link for additional information.\n",
      "Deprecated in NumPy 1.20; for more details and guidance: https://numpy.org/devdocs/release/1.20.0-notes.html#deprecations\n",
      "  return (np.ceil(len(self.data) / float(self.batch_size))).astype(np.int)\n"
     ]
    },
    {
     "name": "stdout",
     "output_type": "stream",
     "text": [
      "336/344 [============================>.] - ETA: 0s - loss: 47.7925 - rmse: 6.9132 - mae: 5.5882"
     ]
    },
    {
     "name": "stderr",
     "output_type": "stream",
     "text": [
      "/tmp/ipykernel_2361/3680906809.py:37: DeprecationWarning: `np.int` is a deprecated alias for the builtin `int`. To silence this warning, use `int` by itself. Doing this will not modify any behavior and is safe. When replacing `np.int`, you may wish to use e.g. `np.int64` or `np.int32` to specify the precision. If you wish to review your current use, check the release note link for additional information.\n",
      "Deprecated in NumPy 1.20; for more details and guidance: https://numpy.org/devdocs/release/1.20.0-notes.html#deprecations\n",
      "  return (np.ceil(len(self.data) / float(self.batch_size))).astype(np.int)\n"
     ]
    },
    {
     "name": "stdout",
     "output_type": "stream",
     "text": [
      "344/344 [==============================] - 2s 5ms/step - loss: 47.2452 - rmse: 6.8735 - mae: 5.5531 - val_loss: 40.3719 - val_rmse: 6.3539 - val_mae: 5.3459\n",
      "Epoch 46/2000\n",
      " 34/344 [=>............................] - ETA: 1s - loss: 50.5589 - rmse: 7.1105 - mae: 5.9061"
     ]
    },
    {
     "name": "stderr",
     "output_type": "stream",
     "text": [
      "/tmp/ipykernel_2361/3680906809.py:37: DeprecationWarning: `np.int` is a deprecated alias for the builtin `int`. To silence this warning, use `int` by itself. Doing this will not modify any behavior and is safe. When replacing `np.int`, you may wish to use e.g. `np.int64` or `np.int32` to specify the precision. If you wish to review your current use, check the release note link for additional information.\n",
      "Deprecated in NumPy 1.20; for more details and guidance: https://numpy.org/devdocs/release/1.20.0-notes.html#deprecations\n",
      "  return (np.ceil(len(self.data) / float(self.batch_size))).astype(np.int)\n"
     ]
    },
    {
     "name": "stdout",
     "output_type": "stream",
     "text": [
      "341/344 [============================>.] - ETA: 0s - loss: 47.1950 - rmse: 6.8699 - mae: 5.5477"
     ]
    },
    {
     "name": "stderr",
     "output_type": "stream",
     "text": [
      "/tmp/ipykernel_2361/3680906809.py:37: DeprecationWarning: `np.int` is a deprecated alias for the builtin `int`. To silence this warning, use `int` by itself. Doing this will not modify any behavior and is safe. When replacing `np.int`, you may wish to use e.g. `np.int64` or `np.int32` to specify the precision. If you wish to review your current use, check the release note link for additional information.\n",
      "Deprecated in NumPy 1.20; for more details and guidance: https://numpy.org/devdocs/release/1.20.0-notes.html#deprecations\n",
      "  return (np.ceil(len(self.data) / float(self.batch_size))).astype(np.int)\n"
     ]
    },
    {
     "name": "stdout",
     "output_type": "stream",
     "text": [
      "344/344 [==============================] - 2s 6ms/step - loss: 47.2389 - rmse: 6.8731 - mae: 5.5503 - val_loss: 40.4443 - val_rmse: 6.3596 - val_mae: 5.3501\n",
      "Epoch 47/2000\n",
      " 22/344 [>.............................] - ETA: 1s - loss: 49.4405 - rmse: 7.0314 - mae: 5.8117"
     ]
    },
    {
     "name": "stderr",
     "output_type": "stream",
     "text": [
      "/tmp/ipykernel_2361/3680906809.py:37: DeprecationWarning: `np.int` is a deprecated alias for the builtin `int`. To silence this warning, use `int` by itself. Doing this will not modify any behavior and is safe. When replacing `np.int`, you may wish to use e.g. `np.int64` or `np.int32` to specify the precision. If you wish to review your current use, check the release note link for additional information.\n",
      "Deprecated in NumPy 1.20; for more details and guidance: https://numpy.org/devdocs/release/1.20.0-notes.html#deprecations\n",
      "  return (np.ceil(len(self.data) / float(self.batch_size))).astype(np.int)\n"
     ]
    },
    {
     "name": "stdout",
     "output_type": "stream",
     "text": [
      "338/344 [============================>.] - ETA: 0s - loss: 47.2330 - rmse: 6.8726 - mae: 5.5462"
     ]
    },
    {
     "name": "stderr",
     "output_type": "stream",
     "text": [
      "/tmp/ipykernel_2361/3680906809.py:37: DeprecationWarning: `np.int` is a deprecated alias for the builtin `int`. To silence this warning, use `int` by itself. Doing this will not modify any behavior and is safe. When replacing `np.int`, you may wish to use e.g. `np.int64` or `np.int32` to specify the precision. If you wish to review your current use, check the release note link for additional information.\n",
      "Deprecated in NumPy 1.20; for more details and guidance: https://numpy.org/devdocs/release/1.20.0-notes.html#deprecations\n",
      "  return (np.ceil(len(self.data) / float(self.batch_size))).astype(np.int)\n"
     ]
    },
    {
     "name": "stdout",
     "output_type": "stream",
     "text": [
      "344/344 [==============================] - 2s 6ms/step - loss: 47.2221 - rmse: 6.8718 - mae: 5.5460 - val_loss: 40.4387 - val_rmse: 6.3591 - val_mae: 5.3498\n",
      "Epoch 48/2000\n",
      " 32/344 [=>............................] - ETA: 1s - loss: 42.7447 - rmse: 6.5379 - mae: 5.2865"
     ]
    },
    {
     "name": "stderr",
     "output_type": "stream",
     "text": [
      "/tmp/ipykernel_2361/3680906809.py:37: DeprecationWarning: `np.int` is a deprecated alias for the builtin `int`. To silence this warning, use `int` by itself. Doing this will not modify any behavior and is safe. When replacing `np.int`, you may wish to use e.g. `np.int64` or `np.int32` to specify the precision. If you wish to review your current use, check the release note link for additional information.\n",
      "Deprecated in NumPy 1.20; for more details and guidance: https://numpy.org/devdocs/release/1.20.0-notes.html#deprecations\n",
      "  return (np.ceil(len(self.data) / float(self.batch_size))).astype(np.int)\n"
     ]
    },
    {
     "name": "stdout",
     "output_type": "stream",
     "text": [
      "336/344 [============================>.] - ETA: 0s - loss: 47.4911 - rmse: 6.8914 - mae: 5.5634"
     ]
    },
    {
     "name": "stderr",
     "output_type": "stream",
     "text": [
      "/tmp/ipykernel_2361/3680906809.py:37: DeprecationWarning: `np.int` is a deprecated alias for the builtin `int`. To silence this warning, use `int` by itself. Doing this will not modify any behavior and is safe. When replacing `np.int`, you may wish to use e.g. `np.int64` or `np.int32` to specify the precision. If you wish to review your current use, check the release note link for additional information.\n",
      "Deprecated in NumPy 1.20; for more details and guidance: https://numpy.org/devdocs/release/1.20.0-notes.html#deprecations\n",
      "  return (np.ceil(len(self.data) / float(self.batch_size))).astype(np.int)\n"
     ]
    },
    {
     "name": "stdout",
     "output_type": "stream",
     "text": [
      "344/344 [==============================] - 2s 7ms/step - loss: 47.2518 - rmse: 6.8740 - mae: 5.5443 - val_loss: 40.5923 - val_rmse: 6.3712 - val_mae: 5.3585\n",
      "Epoch 49/2000\n",
      " 30/344 [=>............................] - ETA: 1s - loss: 57.3558 - rmse: 7.5734 - mae: 6.1613"
     ]
    },
    {
     "name": "stderr",
     "output_type": "stream",
     "text": [
      "/tmp/ipykernel_2361/3680906809.py:37: DeprecationWarning: `np.int` is a deprecated alias for the builtin `int`. To silence this warning, use `int` by itself. Doing this will not modify any behavior and is safe. When replacing `np.int`, you may wish to use e.g. `np.int64` or `np.int32` to specify the precision. If you wish to review your current use, check the release note link for additional information.\n",
      "Deprecated in NumPy 1.20; for more details and guidance: https://numpy.org/devdocs/release/1.20.0-notes.html#deprecations\n",
      "  return (np.ceil(len(self.data) / float(self.batch_size))).astype(np.int)\n"
     ]
    },
    {
     "name": "stdout",
     "output_type": "stream",
     "text": [
      "344/344 [==============================] - ETA: 0s - loss: 47.2381 - rmse: 6.8730 - mae: 5.5576"
     ]
    },
    {
     "name": "stderr",
     "output_type": "stream",
     "text": [
      "/tmp/ipykernel_2361/3680906809.py:37: DeprecationWarning: `np.int` is a deprecated alias for the builtin `int`. To silence this warning, use `int` by itself. Doing this will not modify any behavior and is safe. When replacing `np.int`, you may wish to use e.g. `np.int64` or `np.int32` to specify the precision. If you wish to review your current use, check the release note link for additional information.\n",
      "Deprecated in NumPy 1.20; for more details and guidance: https://numpy.org/devdocs/release/1.20.0-notes.html#deprecations\n",
      "  return (np.ceil(len(self.data) / float(self.batch_size))).astype(np.int)\n"
     ]
    },
    {
     "name": "stdout",
     "output_type": "stream",
     "text": [
      "344/344 [==============================] - 2s 6ms/step - loss: 47.2381 - rmse: 6.8730 - mae: 5.5576 - val_loss: 40.3911 - val_rmse: 6.3554 - val_mae: 5.3470\n",
      "Epoch 50/2000\n",
      " 34/344 [=>............................] - ETA: 1s - loss: 46.3258 - rmse: 6.8063 - mae: 5.4113"
     ]
    },
    {
     "name": "stderr",
     "output_type": "stream",
     "text": [
      "/tmp/ipykernel_2361/3680906809.py:37: DeprecationWarning: `np.int` is a deprecated alias for the builtin `int`. To silence this warning, use `int` by itself. Doing this will not modify any behavior and is safe. When replacing `np.int`, you may wish to use e.g. `np.int64` or `np.int32` to specify the precision. If you wish to review your current use, check the release note link for additional information.\n",
      "Deprecated in NumPy 1.20; for more details and guidance: https://numpy.org/devdocs/release/1.20.0-notes.html#deprecations\n",
      "  return (np.ceil(len(self.data) / float(self.batch_size))).astype(np.int)\n"
     ]
    },
    {
     "name": "stdout",
     "output_type": "stream",
     "text": [
      "335/344 [============================>.] - ETA: 0s - loss: 47.5703 - rmse: 6.8971 - mae: 5.5651"
     ]
    },
    {
     "name": "stderr",
     "output_type": "stream",
     "text": [
      "/tmp/ipykernel_2361/3680906809.py:37: DeprecationWarning: `np.int` is a deprecated alias for the builtin `int`. To silence this warning, use `int` by itself. Doing this will not modify any behavior and is safe. When replacing `np.int`, you may wish to use e.g. `np.int64` or `np.int32` to specify the precision. If you wish to review your current use, check the release note link for additional information.\n",
      "Deprecated in NumPy 1.20; for more details and guidance: https://numpy.org/devdocs/release/1.20.0-notes.html#deprecations\n",
      "  return (np.ceil(len(self.data) / float(self.batch_size))).astype(np.int)\n"
     ]
    },
    {
     "name": "stdout",
     "output_type": "stream",
     "text": [
      "344/344 [==============================] - 2s 5ms/step - loss: 47.2309 - rmse: 6.8725 - mae: 5.5475 - val_loss: 40.4203 - val_rmse: 6.3577 - val_mae: 5.3487\n",
      "Epoch 51/2000\n",
      " 34/344 [=>............................] - ETA: 1s - loss: 61.2283 - rmse: 7.8249 - mae: 6.4654"
     ]
    },
    {
     "name": "stderr",
     "output_type": "stream",
     "text": [
      "/tmp/ipykernel_2361/3680906809.py:37: DeprecationWarning: `np.int` is a deprecated alias for the builtin `int`. To silence this warning, use `int` by itself. Doing this will not modify any behavior and is safe. When replacing `np.int`, you may wish to use e.g. `np.int64` or `np.int32` to specify the precision. If you wish to review your current use, check the release note link for additional information.\n",
      "Deprecated in NumPy 1.20; for more details and guidance: https://numpy.org/devdocs/release/1.20.0-notes.html#deprecations\n",
      "  return (np.ceil(len(self.data) / float(self.batch_size))).astype(np.int)\n"
     ]
    },
    {
     "name": "stdout",
     "output_type": "stream",
     "text": [
      "344/344 [==============================] - ETA: 0s - loss: 47.2337 - rmse: 6.8727 - mae: 5.5506"
     ]
    },
    {
     "name": "stderr",
     "output_type": "stream",
     "text": [
      "/tmp/ipykernel_2361/3680906809.py:37: DeprecationWarning: `np.int` is a deprecated alias for the builtin `int`. To silence this warning, use `int` by itself. Doing this will not modify any behavior and is safe. When replacing `np.int`, you may wish to use e.g. `np.int64` or `np.int32` to specify the precision. If you wish to review your current use, check the release note link for additional information.\n",
      "Deprecated in NumPy 1.20; for more details and guidance: https://numpy.org/devdocs/release/1.20.0-notes.html#deprecations\n",
      "  return (np.ceil(len(self.data) / float(self.batch_size))).astype(np.int)\n"
     ]
    },
    {
     "name": "stdout",
     "output_type": "stream",
     "text": [
      "344/344 [==============================] - 2s 6ms/step - loss: 47.2337 - rmse: 6.8727 - mae: 5.5506 - val_loss: 40.3654 - val_rmse: 6.3534 - val_mae: 5.3455\n",
      "Epoch 52/2000\n",
      " 22/344 [>.............................] - ETA: 1s - loss: 51.0865 - rmse: 7.1475 - mae: 5.7973"
     ]
    },
    {
     "name": "stderr",
     "output_type": "stream",
     "text": [
      "/tmp/ipykernel_2361/3680906809.py:37: DeprecationWarning: `np.int` is a deprecated alias for the builtin `int`. To silence this warning, use `int` by itself. Doing this will not modify any behavior and is safe. When replacing `np.int`, you may wish to use e.g. `np.int64` or `np.int32` to specify the precision. If you wish to review your current use, check the release note link for additional information.\n",
      "Deprecated in NumPy 1.20; for more details and guidance: https://numpy.org/devdocs/release/1.20.0-notes.html#deprecations\n",
      "  return (np.ceil(len(self.data) / float(self.batch_size))).astype(np.int)\n"
     ]
    },
    {
     "name": "stdout",
     "output_type": "stream",
     "text": [
      "339/344 [============================>.] - ETA: 0s - loss: 46.8670 - rmse: 6.8459 - mae: 5.5188"
     ]
    },
    {
     "name": "stderr",
     "output_type": "stream",
     "text": [
      "/tmp/ipykernel_2361/3680906809.py:37: DeprecationWarning: `np.int` is a deprecated alias for the builtin `int`. To silence this warning, use `int` by itself. Doing this will not modify any behavior and is safe. When replacing `np.int`, you may wish to use e.g. `np.int64` or `np.int32` to specify the precision. If you wish to review your current use, check the release note link for additional information.\n",
      "Deprecated in NumPy 1.20; for more details and guidance: https://numpy.org/devdocs/release/1.20.0-notes.html#deprecations\n",
      "  return (np.ceil(len(self.data) / float(self.batch_size))).astype(np.int)\n"
     ]
    },
    {
     "name": "stdout",
     "output_type": "stream",
     "text": [
      "344/344 [==============================] - 2s 6ms/step - loss: 47.2279 - rmse: 6.8723 - mae: 5.5494 - val_loss: 40.3745 - val_rmse: 6.3541 - val_mae: 5.3460\n",
      "Epoch 53/2000\n",
      " 32/344 [=>............................] - ETA: 1s - loss: 47.5636 - rmse: 6.8966 - mae: 5.5555"
     ]
    },
    {
     "name": "stderr",
     "output_type": "stream",
     "text": [
      "/tmp/ipykernel_2361/3680906809.py:37: DeprecationWarning: `np.int` is a deprecated alias for the builtin `int`. To silence this warning, use `int` by itself. Doing this will not modify any behavior and is safe. When replacing `np.int`, you may wish to use e.g. `np.int64` or `np.int32` to specify the precision. If you wish to review your current use, check the release note link for additional information.\n",
      "Deprecated in NumPy 1.20; for more details and guidance: https://numpy.org/devdocs/release/1.20.0-notes.html#deprecations\n",
      "  return (np.ceil(len(self.data) / float(self.batch_size))).astype(np.int)\n"
     ]
    },
    {
     "name": "stdout",
     "output_type": "stream",
     "text": [
      "344/344 [==============================] - ETA: 0s - loss: 47.2310 - rmse: 6.8725 - mae: 5.5501"
     ]
    },
    {
     "name": "stderr",
     "output_type": "stream",
     "text": [
      "/tmp/ipykernel_2361/3680906809.py:37: DeprecationWarning: `np.int` is a deprecated alias for the builtin `int`. To silence this warning, use `int` by itself. Doing this will not modify any behavior and is safe. When replacing `np.int`, you may wish to use e.g. `np.int64` or `np.int32` to specify the precision. If you wish to review your current use, check the release note link for additional information.\n",
      "Deprecated in NumPy 1.20; for more details and guidance: https://numpy.org/devdocs/release/1.20.0-notes.html#deprecations\n",
      "  return (np.ceil(len(self.data) / float(self.batch_size))).astype(np.int)\n"
     ]
    },
    {
     "name": "stdout",
     "output_type": "stream",
     "text": [
      "344/344 [==============================] - 2s 6ms/step - loss: 47.2310 - rmse: 6.8725 - mae: 5.5501 - val_loss: 40.4102 - val_rmse: 6.3569 - val_mae: 5.3481\n",
      "Epoch 54/2000\n",
      " 35/344 [==>...........................] - ETA: 1s - loss: 54.2940 - rmse: 7.3684 - mae: 6.1517"
     ]
    },
    {
     "name": "stderr",
     "output_type": "stream",
     "text": [
      "/tmp/ipykernel_2361/3680906809.py:37: DeprecationWarning: `np.int` is a deprecated alias for the builtin `int`. To silence this warning, use `int` by itself. Doing this will not modify any behavior and is safe. When replacing `np.int`, you may wish to use e.g. `np.int64` or `np.int32` to specify the precision. If you wish to review your current use, check the release note link for additional information.\n",
      "Deprecated in NumPy 1.20; for more details and guidance: https://numpy.org/devdocs/release/1.20.0-notes.html#deprecations\n",
      "  return (np.ceil(len(self.data) / float(self.batch_size))).astype(np.int)\n"
     ]
    },
    {
     "name": "stdout",
     "output_type": "stream",
     "text": [
      "336/344 [============================>.] - ETA: 0s - loss: 47.1238 - rmse: 6.8647 - mae: 5.5414"
     ]
    },
    {
     "name": "stderr",
     "output_type": "stream",
     "text": [
      "/tmp/ipykernel_2361/3680906809.py:37: DeprecationWarning: `np.int` is a deprecated alias for the builtin `int`. To silence this warning, use `int` by itself. Doing this will not modify any behavior and is safe. When replacing `np.int`, you may wish to use e.g. `np.int64` or `np.int32` to specify the precision. If you wish to review your current use, check the release note link for additional information.\n",
      "Deprecated in NumPy 1.20; for more details and guidance: https://numpy.org/devdocs/release/1.20.0-notes.html#deprecations\n",
      "  return (np.ceil(len(self.data) / float(self.batch_size))).astype(np.int)\n"
     ]
    },
    {
     "name": "stdout",
     "output_type": "stream",
     "text": [
      "344/344 [==============================] - 2s 7ms/step - loss: 47.2371 - rmse: 6.8729 - mae: 5.5494 - val_loss: 40.3367 - val_rmse: 6.3511 - val_mae: 5.3438\n",
      "Epoch 55/2000\n",
      " 34/344 [=>............................] - ETA: 1s - loss: 45.3161 - rmse: 6.7317 - mae: 5.6587"
     ]
    },
    {
     "name": "stderr",
     "output_type": "stream",
     "text": [
      "/tmp/ipykernel_2361/3680906809.py:37: DeprecationWarning: `np.int` is a deprecated alias for the builtin `int`. To silence this warning, use `int` by itself. Doing this will not modify any behavior and is safe. When replacing `np.int`, you may wish to use e.g. `np.int64` or `np.int32` to specify the precision. If you wish to review your current use, check the release note link for additional information.\n",
      "Deprecated in NumPy 1.20; for more details and guidance: https://numpy.org/devdocs/release/1.20.0-notes.html#deprecations\n",
      "  return (np.ceil(len(self.data) / float(self.batch_size))).astype(np.int)\n"
     ]
    },
    {
     "name": "stdout",
     "output_type": "stream",
     "text": [
      "339/344 [============================>.] - ETA: 0s - loss: 47.4787 - rmse: 6.8905 - mae: 5.5735"
     ]
    },
    {
     "name": "stderr",
     "output_type": "stream",
     "text": [
      "/tmp/ipykernel_2361/3680906809.py:37: DeprecationWarning: `np.int` is a deprecated alias for the builtin `int`. To silence this warning, use `int` by itself. Doing this will not modify any behavior and is safe. When replacing `np.int`, you may wish to use e.g. `np.int64` or `np.int32` to specify the precision. If you wish to review your current use, check the release note link for additional information.\n",
      "Deprecated in NumPy 1.20; for more details and guidance: https://numpy.org/devdocs/release/1.20.0-notes.html#deprecations\n",
      "  return (np.ceil(len(self.data) / float(self.batch_size))).astype(np.int)\n"
     ]
    },
    {
     "name": "stdout",
     "output_type": "stream",
     "text": [
      "344/344 [==============================] - 2s 6ms/step - loss: 47.2307 - rmse: 6.8725 - mae: 5.5526 - val_loss: 40.3439 - val_rmse: 6.3517 - val_mae: 5.3442\n",
      "Epoch 56/2000\n",
      " 30/344 [=>............................] - ETA: 1s - loss: 50.1782 - rmse: 7.0837 - mae: 5.6550"
     ]
    },
    {
     "name": "stderr",
     "output_type": "stream",
     "text": [
      "/tmp/ipykernel_2361/3680906809.py:37: DeprecationWarning: `np.int` is a deprecated alias for the builtin `int`. To silence this warning, use `int` by itself. Doing this will not modify any behavior and is safe. When replacing `np.int`, you may wish to use e.g. `np.int64` or `np.int32` to specify the precision. If you wish to review your current use, check the release note link for additional information.\n",
      "Deprecated in NumPy 1.20; for more details and guidance: https://numpy.org/devdocs/release/1.20.0-notes.html#deprecations\n",
      "  return (np.ceil(len(self.data) / float(self.batch_size))).astype(np.int)\n"
     ]
    },
    {
     "name": "stdout",
     "output_type": "stream",
     "text": [
      "344/344 [==============================] - ETA: 0s - loss: 47.2324 - rmse: 6.8726 - mae: 5.5473"
     ]
    },
    {
     "name": "stderr",
     "output_type": "stream",
     "text": [
      "/tmp/ipykernel_2361/3680906809.py:37: DeprecationWarning: `np.int` is a deprecated alias for the builtin `int`. To silence this warning, use `int` by itself. Doing this will not modify any behavior and is safe. When replacing `np.int`, you may wish to use e.g. `np.int64` or `np.int32` to specify the precision. If you wish to review your current use, check the release note link for additional information.\n",
      "Deprecated in NumPy 1.20; for more details and guidance: https://numpy.org/devdocs/release/1.20.0-notes.html#deprecations\n",
      "  return (np.ceil(len(self.data) / float(self.batch_size))).astype(np.int)\n"
     ]
    },
    {
     "name": "stdout",
     "output_type": "stream",
     "text": [
      "344/344 [==============================] - 2s 6ms/step - loss: 47.2324 - rmse: 6.8726 - mae: 5.5473 - val_loss: 40.3754 - val_rmse: 6.3542 - val_mae: 5.3461\n",
      "Epoch 57/2000\n",
      " 37/344 [==>...........................] - ETA: 1s - loss: 58.7759 - rmse: 7.6665 - mae: 6.2496"
     ]
    },
    {
     "name": "stderr",
     "output_type": "stream",
     "text": [
      "/tmp/ipykernel_2361/3680906809.py:37: DeprecationWarning: `np.int` is a deprecated alias for the builtin `int`. To silence this warning, use `int` by itself. Doing this will not modify any behavior and is safe. When replacing `np.int`, you may wish to use e.g. `np.int64` or `np.int32` to specify the precision. If you wish to review your current use, check the release note link for additional information.\n",
      "Deprecated in NumPy 1.20; for more details and guidance: https://numpy.org/devdocs/release/1.20.0-notes.html#deprecations\n",
      "  return (np.ceil(len(self.data) / float(self.batch_size))).astype(np.int)\n"
     ]
    },
    {
     "name": "stdout",
     "output_type": "stream",
     "text": [
      "344/344 [==============================] - ETA: 0s - loss: 47.2306 - rmse: 6.8725 - mae: 5.5481"
     ]
    },
    {
     "name": "stderr",
     "output_type": "stream",
     "text": [
      "/tmp/ipykernel_2361/3680906809.py:37: DeprecationWarning: `np.int` is a deprecated alias for the builtin `int`. To silence this warning, use `int` by itself. Doing this will not modify any behavior and is safe. When replacing `np.int`, you may wish to use e.g. `np.int64` or `np.int32` to specify the precision. If you wish to review your current use, check the release note link for additional information.\n",
      "Deprecated in NumPy 1.20; for more details and guidance: https://numpy.org/devdocs/release/1.20.0-notes.html#deprecations\n",
      "  return (np.ceil(len(self.data) / float(self.batch_size))).astype(np.int)\n"
     ]
    },
    {
     "name": "stdout",
     "output_type": "stream",
     "text": [
      "344/344 [==============================] - 2s 6ms/step - loss: 47.2306 - rmse: 6.8725 - mae: 5.5481 - val_loss: 40.4465 - val_rmse: 6.3598 - val_mae: 5.3502\n",
      "Epoch 58/2000\n",
      " 37/344 [==>...........................] - ETA: 1s - loss: 43.4635 - rmse: 6.5927 - mae: 5.2229"
     ]
    },
    {
     "name": "stderr",
     "output_type": "stream",
     "text": [
      "/tmp/ipykernel_2361/3680906809.py:37: DeprecationWarning: `np.int` is a deprecated alias for the builtin `int`. To silence this warning, use `int` by itself. Doing this will not modify any behavior and is safe. When replacing `np.int`, you may wish to use e.g. `np.int64` or `np.int32` to specify the precision. If you wish to review your current use, check the release note link for additional information.\n",
      "Deprecated in NumPy 1.20; for more details and guidance: https://numpy.org/devdocs/release/1.20.0-notes.html#deprecations\n",
      "  return (np.ceil(len(self.data) / float(self.batch_size))).astype(np.int)\n"
     ]
    },
    {
     "name": "stdout",
     "output_type": "stream",
     "text": [
      "343/344 [============================>.] - ETA: 0s - loss: 47.2694 - rmse: 6.8753 - mae: 5.5520"
     ]
    },
    {
     "name": "stderr",
     "output_type": "stream",
     "text": [
      "/tmp/ipykernel_2361/3680906809.py:37: DeprecationWarning: `np.int` is a deprecated alias for the builtin `int`. To silence this warning, use `int` by itself. Doing this will not modify any behavior and is safe. When replacing `np.int`, you may wish to use e.g. `np.int64` or `np.int32` to specify the precision. If you wish to review your current use, check the release note link for additional information.\n",
      "Deprecated in NumPy 1.20; for more details and guidance: https://numpy.org/devdocs/release/1.20.0-notes.html#deprecations\n",
      "  return (np.ceil(len(self.data) / float(self.batch_size))).astype(np.int)\n"
     ]
    },
    {
     "name": "stdout",
     "output_type": "stream",
     "text": [
      "344/344 [==============================] - 2s 6ms/step - loss: 47.2374 - rmse: 6.8729 - mae: 5.5512 - val_loss: 40.4094 - val_rmse: 6.3568 - val_mae: 5.3481\n",
      "Epoch 59/2000\n",
      " 35/344 [==>...........................] - ETA: 1s - loss: 52.7745 - rmse: 7.2646 - mae: 5.9281"
     ]
    },
    {
     "name": "stderr",
     "output_type": "stream",
     "text": [
      "/tmp/ipykernel_2361/3680906809.py:37: DeprecationWarning: `np.int` is a deprecated alias for the builtin `int`. To silence this warning, use `int` by itself. Doing this will not modify any behavior and is safe. When replacing `np.int`, you may wish to use e.g. `np.int64` or `np.int32` to specify the precision. If you wish to review your current use, check the release note link for additional information.\n",
      "Deprecated in NumPy 1.20; for more details and guidance: https://numpy.org/devdocs/release/1.20.0-notes.html#deprecations\n",
      "  return (np.ceil(len(self.data) / float(self.batch_size))).astype(np.int)\n"
     ]
    },
    {
     "name": "stdout",
     "output_type": "stream",
     "text": [
      "341/344 [============================>.] - ETA: 0s - loss: 47.4269 - rmse: 6.8867 - mae: 5.5619"
     ]
    },
    {
     "name": "stderr",
     "output_type": "stream",
     "text": [
      "/tmp/ipykernel_2361/3680906809.py:37: DeprecationWarning: `np.int` is a deprecated alias for the builtin `int`. To silence this warning, use `int` by itself. Doing this will not modify any behavior and is safe. When replacing `np.int`, you may wish to use e.g. `np.int64` or `np.int32` to specify the precision. If you wish to review your current use, check the release note link for additional information.\n",
      "Deprecated in NumPy 1.20; for more details and guidance: https://numpy.org/devdocs/release/1.20.0-notes.html#deprecations\n",
      "  return (np.ceil(len(self.data) / float(self.batch_size))).astype(np.int)\n"
     ]
    },
    {
     "name": "stdout",
     "output_type": "stream",
     "text": [
      "344/344 [==============================] - 2s 6ms/step - loss: 47.2476 - rmse: 6.8737 - mae: 5.5523 - val_loss: 40.3212 - val_rmse: 6.3499 - val_mae: 5.3428\n",
      "Epoch 60/2000\n",
      " 35/344 [==>...........................] - ETA: 1s - loss: 39.9586 - rmse: 6.3213 - mae: 4.9322"
     ]
    },
    {
     "name": "stderr",
     "output_type": "stream",
     "text": [
      "/tmp/ipykernel_2361/3680906809.py:37: DeprecationWarning: `np.int` is a deprecated alias for the builtin `int`. To silence this warning, use `int` by itself. Doing this will not modify any behavior and is safe. When replacing `np.int`, you may wish to use e.g. `np.int64` or `np.int32` to specify the precision. If you wish to review your current use, check the release note link for additional information.\n",
      "Deprecated in NumPy 1.20; for more details and guidance: https://numpy.org/devdocs/release/1.20.0-notes.html#deprecations\n",
      "  return (np.ceil(len(self.data) / float(self.batch_size))).astype(np.int)\n"
     ]
    },
    {
     "name": "stdout",
     "output_type": "stream",
     "text": [
      "344/344 [==============================] - ETA: 0s - loss: 47.2366 - rmse: 6.8729 - mae: 5.5520"
     ]
    },
    {
     "name": "stderr",
     "output_type": "stream",
     "text": [
      "/tmp/ipykernel_2361/3680906809.py:37: DeprecationWarning: `np.int` is a deprecated alias for the builtin `int`. To silence this warning, use `int` by itself. Doing this will not modify any behavior and is safe. When replacing `np.int`, you may wish to use e.g. `np.int64` or `np.int32` to specify the precision. If you wish to review your current use, check the release note link for additional information.\n",
      "Deprecated in NumPy 1.20; for more details and guidance: https://numpy.org/devdocs/release/1.20.0-notes.html#deprecations\n",
      "  return (np.ceil(len(self.data) / float(self.batch_size))).astype(np.int)\n"
     ]
    },
    {
     "name": "stdout",
     "output_type": "stream",
     "text": [
      "344/344 [==============================] - 2s 7ms/step - loss: 47.2366 - rmse: 6.8729 - mae: 5.5520 - val_loss: 40.3450 - val_rmse: 6.3518 - val_mae: 5.3443\n",
      "Epoch 61/2000\n",
      " 43/344 [==>...........................] - ETA: 1s - loss: 48.4352 - rmse: 6.9595 - mae: 5.4975"
     ]
    },
    {
     "name": "stderr",
     "output_type": "stream",
     "text": [
      "/tmp/ipykernel_2361/3680906809.py:37: DeprecationWarning: `np.int` is a deprecated alias for the builtin `int`. To silence this warning, use `int` by itself. Doing this will not modify any behavior and is safe. When replacing `np.int`, you may wish to use e.g. `np.int64` or `np.int32` to specify the precision. If you wish to review your current use, check the release note link for additional information.\n",
      "Deprecated in NumPy 1.20; for more details and guidance: https://numpy.org/devdocs/release/1.20.0-notes.html#deprecations\n",
      "  return (np.ceil(len(self.data) / float(self.batch_size))).astype(np.int)\n"
     ]
    },
    {
     "name": "stdout",
     "output_type": "stream",
     "text": [
      "331/344 [===========================>..] - ETA: 0s - loss: 47.0424 - rmse: 6.8587 - mae: 5.5314"
     ]
    },
    {
     "name": "stderr",
     "output_type": "stream",
     "text": [
      "/tmp/ipykernel_2361/3680906809.py:37: DeprecationWarning: `np.int` is a deprecated alias for the builtin `int`. To silence this warning, use `int` by itself. Doing this will not modify any behavior and is safe. When replacing `np.int`, you may wish to use e.g. `np.int64` or `np.int32` to specify the precision. If you wish to review your current use, check the release note link for additional information.\n",
      "Deprecated in NumPy 1.20; for more details and guidance: https://numpy.org/devdocs/release/1.20.0-notes.html#deprecations\n",
      "  return (np.ceil(len(self.data) / float(self.batch_size))).astype(np.int)\n"
     ]
    },
    {
     "name": "stdout",
     "output_type": "stream",
     "text": [
      "344/344 [==============================] - 2s 5ms/step - loss: 47.2349 - rmse: 6.8728 - mae: 5.5487 - val_loss: 40.3689 - val_rmse: 6.3536 - val_mae: 5.3457\n",
      "Epoch 62/2000\n",
      " 31/344 [=>............................] - ETA: 1s - loss: 49.0278 - rmse: 7.0020 - mae: 5.8290"
     ]
    },
    {
     "name": "stderr",
     "output_type": "stream",
     "text": [
      "/tmp/ipykernel_2361/3680906809.py:37: DeprecationWarning: `np.int` is a deprecated alias for the builtin `int`. To silence this warning, use `int` by itself. Doing this will not modify any behavior and is safe. When replacing `np.int`, you may wish to use e.g. `np.int64` or `np.int32` to specify the precision. If you wish to review your current use, check the release note link for additional information.\n",
      "Deprecated in NumPy 1.20; for more details and guidance: https://numpy.org/devdocs/release/1.20.0-notes.html#deprecations\n",
      "  return (np.ceil(len(self.data) / float(self.batch_size))).astype(np.int)\n"
     ]
    },
    {
     "name": "stdout",
     "output_type": "stream",
     "text": [
      "335/344 [============================>.] - ETA: 0s - loss: 47.3590 - rmse: 6.8818 - mae: 5.5534"
     ]
    },
    {
     "name": "stderr",
     "output_type": "stream",
     "text": [
      "/tmp/ipykernel_2361/3680906809.py:37: DeprecationWarning: `np.int` is a deprecated alias for the builtin `int`. To silence this warning, use `int` by itself. Doing this will not modify any behavior and is safe. When replacing `np.int`, you may wish to use e.g. `np.int64` or `np.int32` to specify the precision. If you wish to review your current use, check the release note link for additional information.\n",
      "Deprecated in NumPy 1.20; for more details and guidance: https://numpy.org/devdocs/release/1.20.0-notes.html#deprecations\n",
      "  return (np.ceil(len(self.data) / float(self.batch_size))).astype(np.int)\n"
     ]
    },
    {
     "name": "stdout",
     "output_type": "stream",
     "text": [
      "344/344 [==============================] - 2s 6ms/step - loss: 47.2332 - rmse: 6.8726 - mae: 5.5477 - val_loss: 40.4612 - val_rmse: 6.3609 - val_mae: 5.3511\n",
      "Epoch 63/2000\n",
      " 34/344 [=>............................] - ETA: 1s - loss: 48.8049 - rmse: 6.9860 - mae: 5.8102"
     ]
    },
    {
     "name": "stderr",
     "output_type": "stream",
     "text": [
      "/tmp/ipykernel_2361/3680906809.py:37: DeprecationWarning: `np.int` is a deprecated alias for the builtin `int`. To silence this warning, use `int` by itself. Doing this will not modify any behavior and is safe. When replacing `np.int`, you may wish to use e.g. `np.int64` or `np.int32` to specify the precision. If you wish to review your current use, check the release note link for additional information.\n",
      "Deprecated in NumPy 1.20; for more details and guidance: https://numpy.org/devdocs/release/1.20.0-notes.html#deprecations\n",
      "  return (np.ceil(len(self.data) / float(self.batch_size))).astype(np.int)\n"
     ]
    },
    {
     "name": "stdout",
     "output_type": "stream",
     "text": [
      "335/344 [============================>.] - ETA: 0s - loss: 47.4469 - rmse: 6.8882 - mae: 5.5709"
     ]
    },
    {
     "name": "stderr",
     "output_type": "stream",
     "text": [
      "/tmp/ipykernel_2361/3680906809.py:37: DeprecationWarning: `np.int` is a deprecated alias for the builtin `int`. To silence this warning, use `int` by itself. Doing this will not modify any behavior and is safe. When replacing `np.int`, you may wish to use e.g. `np.int64` or `np.int32` to specify the precision. If you wish to review your current use, check the release note link for additional information.\n",
      "Deprecated in NumPy 1.20; for more details and guidance: https://numpy.org/devdocs/release/1.20.0-notes.html#deprecations\n",
      "  return (np.ceil(len(self.data) / float(self.batch_size))).astype(np.int)\n"
     ]
    },
    {
     "name": "stdout",
     "output_type": "stream",
     "text": [
      "344/344 [==============================] - 2s 6ms/step - loss: 47.2299 - rmse: 6.8724 - mae: 5.5539 - val_loss: 40.3724 - val_rmse: 6.3539 - val_mae: 5.3459\n",
      "Epoch 64/2000\n",
      " 40/344 [==>...........................] - ETA: 1s - loss: 40.0835 - rmse: 6.3311 - mae: 5.2464"
     ]
    },
    {
     "name": "stderr",
     "output_type": "stream",
     "text": [
      "/tmp/ipykernel_2361/3680906809.py:37: DeprecationWarning: `np.int` is a deprecated alias for the builtin `int`. To silence this warning, use `int` by itself. Doing this will not modify any behavior and is safe. When replacing `np.int`, you may wish to use e.g. `np.int64` or `np.int32` to specify the precision. If you wish to review your current use, check the release note link for additional information.\n",
      "Deprecated in NumPy 1.20; for more details and guidance: https://numpy.org/devdocs/release/1.20.0-notes.html#deprecations\n",
      "  return (np.ceil(len(self.data) / float(self.batch_size))).astype(np.int)\n"
     ]
    },
    {
     "name": "stdout",
     "output_type": "stream",
     "text": [
      "338/344 [============================>.] - ETA: 0s - loss: 47.2489 - rmse: 6.8738 - mae: 5.5358"
     ]
    },
    {
     "name": "stderr",
     "output_type": "stream",
     "text": [
      "/tmp/ipykernel_2361/3680906809.py:37: DeprecationWarning: `np.int` is a deprecated alias for the builtin `int`. To silence this warning, use `int` by itself. Doing this will not modify any behavior and is safe. When replacing `np.int`, you may wish to use e.g. `np.int64` or `np.int32` to specify the precision. If you wish to review your current use, check the release note link for additional information.\n",
      "Deprecated in NumPy 1.20; for more details and guidance: https://numpy.org/devdocs/release/1.20.0-notes.html#deprecations\n",
      "  return (np.ceil(len(self.data) / float(self.batch_size))).astype(np.int)\n"
     ]
    },
    {
     "name": "stdout",
     "output_type": "stream",
     "text": [
      "344/344 [==============================] - 2s 6ms/step - loss: 47.2108 - rmse: 6.8710 - mae: 5.5406 - val_loss: 40.5311 - val_rmse: 6.3664 - val_mae: 5.3551\n",
      "Epoch 65/2000\n",
      " 32/344 [=>............................] - ETA: 1s - loss: 35.9208 - rmse: 5.9934 - mae: 4.8552"
     ]
    },
    {
     "name": "stderr",
     "output_type": "stream",
     "text": [
      "/tmp/ipykernel_2361/3680906809.py:37: DeprecationWarning: `np.int` is a deprecated alias for the builtin `int`. To silence this warning, use `int` by itself. Doing this will not modify any behavior and is safe. When replacing `np.int`, you may wish to use e.g. `np.int64` or `np.int32` to specify the precision. If you wish to review your current use, check the release note link for additional information.\n",
      "Deprecated in NumPy 1.20; for more details and guidance: https://numpy.org/devdocs/release/1.20.0-notes.html#deprecations\n",
      "  return (np.ceil(len(self.data) / float(self.batch_size))).astype(np.int)\n"
     ]
    },
    {
     "name": "stdout",
     "output_type": "stream",
     "text": [
      "335/344 [============================>.] - ETA: 0s - loss: 46.7380 - rmse: 6.8365 - mae: 5.5247"
     ]
    },
    {
     "name": "stderr",
     "output_type": "stream",
     "text": [
      "/tmp/ipykernel_2361/3680906809.py:37: DeprecationWarning: `np.int` is a deprecated alias for the builtin `int`. To silence this warning, use `int` by itself. Doing this will not modify any behavior and is safe. When replacing `np.int`, you may wish to use e.g. `np.int64` or `np.int32` to specify the precision. If you wish to review your current use, check the release note link for additional information.\n",
      "Deprecated in NumPy 1.20; for more details and guidance: https://numpy.org/devdocs/release/1.20.0-notes.html#deprecations\n",
      "  return (np.ceil(len(self.data) / float(self.batch_size))).astype(np.int)\n"
     ]
    },
    {
     "name": "stdout",
     "output_type": "stream",
     "text": [
      "344/344 [==============================] - 2s 6ms/step - loss: 47.2470 - rmse: 6.8736 - mae: 5.5502 - val_loss: 40.4928 - val_rmse: 6.3634 - val_mae: 5.3529\n",
      "Epoch 66/2000\n",
      " 35/344 [==>...........................] - ETA: 1s - loss: 53.4474 - rmse: 7.3108 - mae: 5.8932"
     ]
    },
    {
     "name": "stderr",
     "output_type": "stream",
     "text": [
      "/tmp/ipykernel_2361/3680906809.py:37: DeprecationWarning: `np.int` is a deprecated alias for the builtin `int`. To silence this warning, use `int` by itself. Doing this will not modify any behavior and is safe. When replacing `np.int`, you may wish to use e.g. `np.int64` or `np.int32` to specify the precision. If you wish to review your current use, check the release note link for additional information.\n",
      "Deprecated in NumPy 1.20; for more details and guidance: https://numpy.org/devdocs/release/1.20.0-notes.html#deprecations\n",
      "  return (np.ceil(len(self.data) / float(self.batch_size))).astype(np.int)\n"
     ]
    },
    {
     "name": "stdout",
     "output_type": "stream",
     "text": [
      "337/344 [============================>.] - ETA: 0s - loss: 47.5331 - rmse: 6.8944 - mae: 5.5697"
     ]
    },
    {
     "name": "stderr",
     "output_type": "stream",
     "text": [
      "/tmp/ipykernel_2361/3680906809.py:37: DeprecationWarning: `np.int` is a deprecated alias for the builtin `int`. To silence this warning, use `int` by itself. Doing this will not modify any behavior and is safe. When replacing `np.int`, you may wish to use e.g. `np.int64` or `np.int32` to specify the precision. If you wish to review your current use, check the release note link for additional information.\n",
      "Deprecated in NumPy 1.20; for more details and guidance: https://numpy.org/devdocs/release/1.20.0-notes.html#deprecations\n",
      "  return (np.ceil(len(self.data) / float(self.batch_size))).astype(np.int)\n"
     ]
    },
    {
     "name": "stdout",
     "output_type": "stream",
     "text": [
      "344/344 [==============================] - 3s 7ms/step - loss: 47.2357 - rmse: 6.8728 - mae: 5.5513 - val_loss: 40.4632 - val_rmse: 6.3611 - val_mae: 5.3512\n",
      "Epoch 67/2000\n",
      " 34/344 [=>............................] - ETA: 1s - loss: 46.7453 - rmse: 6.8370 - mae: 5.2688"
     ]
    },
    {
     "name": "stderr",
     "output_type": "stream",
     "text": [
      "/tmp/ipykernel_2361/3680906809.py:37: DeprecationWarning: `np.int` is a deprecated alias for the builtin `int`. To silence this warning, use `int` by itself. Doing this will not modify any behavior and is safe. When replacing `np.int`, you may wish to use e.g. `np.int64` or `np.int32` to specify the precision. If you wish to review your current use, check the release note link for additional information.\n",
      "Deprecated in NumPy 1.20; for more details and guidance: https://numpy.org/devdocs/release/1.20.0-notes.html#deprecations\n",
      "  return (np.ceil(len(self.data) / float(self.batch_size))).astype(np.int)\n"
     ]
    },
    {
     "name": "stdout",
     "output_type": "stream",
     "text": [
      "343/344 [============================>.] - ETA: 0s - loss: 47.3090 - rmse: 6.8782 - mae: 5.5550"
     ]
    },
    {
     "name": "stderr",
     "output_type": "stream",
     "text": [
      "/tmp/ipykernel_2361/3680906809.py:37: DeprecationWarning: `np.int` is a deprecated alias for the builtin `int`. To silence this warning, use `int` by itself. Doing this will not modify any behavior and is safe. When replacing `np.int`, you may wish to use e.g. `np.int64` or `np.int32` to specify the precision. If you wish to review your current use, check the release note link for additional information.\n",
      "Deprecated in NumPy 1.20; for more details and guidance: https://numpy.org/devdocs/release/1.20.0-notes.html#deprecations\n",
      "  return (np.ceil(len(self.data) / float(self.batch_size))).astype(np.int)\n"
     ]
    },
    {
     "name": "stdout",
     "output_type": "stream",
     "text": [
      "344/344 [==============================] - 2s 6ms/step - loss: 47.2358 - rmse: 6.8728 - mae: 5.5496 - val_loss: 40.4075 - val_rmse: 6.3567 - val_mae: 5.3480\n",
      "Epoch 68/2000\n",
      " 32/344 [=>............................] - ETA: 1s - loss: 57.9066 - rmse: 7.6096 - mae: 6.0904  "
     ]
    },
    {
     "name": "stderr",
     "output_type": "stream",
     "text": [
      "/tmp/ipykernel_2361/3680906809.py:37: DeprecationWarning: `np.int` is a deprecated alias for the builtin `int`. To silence this warning, use `int` by itself. Doing this will not modify any behavior and is safe. When replacing `np.int`, you may wish to use e.g. `np.int64` or `np.int32` to specify the precision. If you wish to review your current use, check the release note link for additional information.\n",
      "Deprecated in NumPy 1.20; for more details and guidance: https://numpy.org/devdocs/release/1.20.0-notes.html#deprecations\n",
      "  return (np.ceil(len(self.data) / float(self.batch_size))).astype(np.int)\n"
     ]
    },
    {
     "name": "stdout",
     "output_type": "stream",
     "text": [
      "337/344 [============================>.] - ETA: 0s - loss: 47.0435 - rmse: 6.8588 - mae: 5.5457"
     ]
    },
    {
     "name": "stderr",
     "output_type": "stream",
     "text": [
      "/tmp/ipykernel_2361/3680906809.py:37: DeprecationWarning: `np.int` is a deprecated alias for the builtin `int`. To silence this warning, use `int` by itself. Doing this will not modify any behavior and is safe. When replacing `np.int`, you may wish to use e.g. `np.int64` or `np.int32` to specify the precision. If you wish to review your current use, check the release note link for additional information.\n",
      "Deprecated in NumPy 1.20; for more details and guidance: https://numpy.org/devdocs/release/1.20.0-notes.html#deprecations\n",
      "  return (np.ceil(len(self.data) / float(self.batch_size))).astype(np.int)\n"
     ]
    },
    {
     "name": "stdout",
     "output_type": "stream",
     "text": [
      "344/344 [==============================] - 2s 5ms/step - loss: 47.2317 - rmse: 6.8725 - mae: 5.5530 - val_loss: 40.3714 - val_rmse: 6.3539 - val_mae: 5.3459\n",
      "Epoch 69/2000\n",
      " 33/344 [=>............................] - ETA: 1s - loss: 44.8145 - rmse: 6.6944 - mae: 5.3842"
     ]
    },
    {
     "name": "stderr",
     "output_type": "stream",
     "text": [
      "/tmp/ipykernel_2361/3680906809.py:37: DeprecationWarning: `np.int` is a deprecated alias for the builtin `int`. To silence this warning, use `int` by itself. Doing this will not modify any behavior and is safe. When replacing `np.int`, you may wish to use e.g. `np.int64` or `np.int32` to specify the precision. If you wish to review your current use, check the release note link for additional information.\n",
      "Deprecated in NumPy 1.20; for more details and guidance: https://numpy.org/devdocs/release/1.20.0-notes.html#deprecations\n",
      "  return (np.ceil(len(self.data) / float(self.batch_size))).astype(np.int)\n"
     ]
    },
    {
     "name": "stdout",
     "output_type": "stream",
     "text": [
      "337/344 [============================>.] - ETA: 0s - loss: 47.1173 - rmse: 6.8642 - mae: 5.5386"
     ]
    },
    {
     "name": "stderr",
     "output_type": "stream",
     "text": [
      "/tmp/ipykernel_2361/3680906809.py:37: DeprecationWarning: `np.int` is a deprecated alias for the builtin `int`. To silence this warning, use `int` by itself. Doing this will not modify any behavior and is safe. When replacing `np.int`, you may wish to use e.g. `np.int64` or `np.int32` to specify the precision. If you wish to review your current use, check the release note link for additional information.\n",
      "Deprecated in NumPy 1.20; for more details and guidance: https://numpy.org/devdocs/release/1.20.0-notes.html#deprecations\n",
      "  return (np.ceil(len(self.data) / float(self.batch_size))).astype(np.int)\n"
     ]
    },
    {
     "name": "stdout",
     "output_type": "stream",
     "text": [
      "344/344 [==============================] - 2s 6ms/step - loss: 47.2251 - rmse: 6.8721 - mae: 5.5467 - val_loss: 40.4323 - val_rmse: 6.3586 - val_mae: 5.3494\n",
      "Epoch 70/2000\n",
      " 22/344 [>.............................] - ETA: 1s - loss: 53.5336 - rmse: 7.3167 - mae: 6.1373"
     ]
    },
    {
     "name": "stderr",
     "output_type": "stream",
     "text": [
      "/tmp/ipykernel_2361/3680906809.py:37: DeprecationWarning: `np.int` is a deprecated alias for the builtin `int`. To silence this warning, use `int` by itself. Doing this will not modify any behavior and is safe. When replacing `np.int`, you may wish to use e.g. `np.int64` or `np.int32` to specify the precision. If you wish to review your current use, check the release note link for additional information.\n",
      "Deprecated in NumPy 1.20; for more details and guidance: https://numpy.org/devdocs/release/1.20.0-notes.html#deprecations\n",
      "  return (np.ceil(len(self.data) / float(self.batch_size))).astype(np.int)\n"
     ]
    },
    {
     "name": "stdout",
     "output_type": "stream",
     "text": [
      "340/344 [============================>.] - ETA: 0s - loss: 46.9975 - rmse: 6.8555 - mae: 5.5317"
     ]
    },
    {
     "name": "stderr",
     "output_type": "stream",
     "text": [
      "/tmp/ipykernel_2361/3680906809.py:37: DeprecationWarning: `np.int` is a deprecated alias for the builtin `int`. To silence this warning, use `int` by itself. Doing this will not modify any behavior and is safe. When replacing `np.int`, you may wish to use e.g. `np.int64` or `np.int32` to specify the precision. If you wish to review your current use, check the release note link for additional information.\n",
      "Deprecated in NumPy 1.20; for more details and guidance: https://numpy.org/devdocs/release/1.20.0-notes.html#deprecations\n",
      "  return (np.ceil(len(self.data) / float(self.batch_size))).astype(np.int)\n"
     ]
    },
    {
     "name": "stdout",
     "output_type": "stream",
     "text": [
      "344/344 [==============================] - 2s 6ms/step - loss: 47.2322 - rmse: 6.8726 - mae: 5.5486 - val_loss: 40.4325 - val_rmse: 6.3587 - val_mae: 5.3494\n",
      "Epoch 71/2000\n",
      " 32/344 [=>............................] - ETA: 1s - loss: 44.7844 - rmse: 6.6921 - mae: 5.3338"
     ]
    },
    {
     "name": "stderr",
     "output_type": "stream",
     "text": [
      "/tmp/ipykernel_2361/3680906809.py:37: DeprecationWarning: `np.int` is a deprecated alias for the builtin `int`. To silence this warning, use `int` by itself. Doing this will not modify any behavior and is safe. When replacing `np.int`, you may wish to use e.g. `np.int64` or `np.int32` to specify the precision. If you wish to review your current use, check the release note link for additional information.\n",
      "Deprecated in NumPy 1.20; for more details and guidance: https://numpy.org/devdocs/release/1.20.0-notes.html#deprecations\n",
      "  return (np.ceil(len(self.data) / float(self.batch_size))).astype(np.int)\n"
     ]
    },
    {
     "name": "stdout",
     "output_type": "stream",
     "text": [
      "343/344 [============================>.] - ETA: 0s - loss: 47.1975 - rmse: 6.8700 - mae: 5.5481"
     ]
    },
    {
     "name": "stderr",
     "output_type": "stream",
     "text": [
      "/tmp/ipykernel_2361/3680906809.py:37: DeprecationWarning: `np.int` is a deprecated alias for the builtin `int`. To silence this warning, use `int` by itself. Doing this will not modify any behavior and is safe. When replacing `np.int`, you may wish to use e.g. `np.int64` or `np.int32` to specify the precision. If you wish to review your current use, check the release note link for additional information.\n",
      "Deprecated in NumPy 1.20; for more details and guidance: https://numpy.org/devdocs/release/1.20.0-notes.html#deprecations\n",
      "  return (np.ceil(len(self.data) / float(self.batch_size))).astype(np.int)\n"
     ]
    },
    {
     "name": "stdout",
     "output_type": "stream",
     "text": [
      "344/344 [==============================] - 2s 6ms/step - loss: 47.2422 - rmse: 6.8733 - mae: 5.5524 - val_loss: 40.4161 - val_rmse: 6.3574 - val_mae: 5.3485\n",
      "Epoch 72/2000\n",
      " 21/344 [>.............................] - ETA: 1s - loss: 57.9464 - rmse: 7.6123 - mae: 6.0901"
     ]
    },
    {
     "name": "stderr",
     "output_type": "stream",
     "text": [
      "/tmp/ipykernel_2361/3680906809.py:37: DeprecationWarning: `np.int` is a deprecated alias for the builtin `int`. To silence this warning, use `int` by itself. Doing this will not modify any behavior and is safe. When replacing `np.int`, you may wish to use e.g. `np.int64` or `np.int32` to specify the precision. If you wish to review your current use, check the release note link for additional information.\n",
      "Deprecated in NumPy 1.20; for more details and guidance: https://numpy.org/devdocs/release/1.20.0-notes.html#deprecations\n",
      "  return (np.ceil(len(self.data) / float(self.batch_size))).astype(np.int)\n"
     ]
    },
    {
     "name": "stdout",
     "output_type": "stream",
     "text": [
      "338/344 [============================>.] - ETA: 0s - loss: 47.5247 - rmse: 6.8938 - mae: 5.5773"
     ]
    },
    {
     "name": "stderr",
     "output_type": "stream",
     "text": [
      "/tmp/ipykernel_2361/3680906809.py:37: DeprecationWarning: `np.int` is a deprecated alias for the builtin `int`. To silence this warning, use `int` by itself. Doing this will not modify any behavior and is safe. When replacing `np.int`, you may wish to use e.g. `np.int64` or `np.int32` to specify the precision. If you wish to review your current use, check the release note link for additional information.\n",
      "Deprecated in NumPy 1.20; for more details and guidance: https://numpy.org/devdocs/release/1.20.0-notes.html#deprecations\n",
      "  return (np.ceil(len(self.data) / float(self.batch_size))).astype(np.int)\n"
     ]
    },
    {
     "name": "stdout",
     "output_type": "stream",
     "text": [
      "344/344 [==============================] - 2s 7ms/step - loss: 47.2370 - rmse: 6.8729 - mae: 5.5563 - val_loss: 40.3288 - val_rmse: 6.3505 - val_mae: 5.3433\n",
      "Epoch 73/2000\n",
      " 33/344 [=>............................] - ETA: 1s - loss: 45.7840 - rmse: 6.7664 - mae: 5.3912"
     ]
    },
    {
     "name": "stderr",
     "output_type": "stream",
     "text": [
      "/tmp/ipykernel_2361/3680906809.py:37: DeprecationWarning: `np.int` is a deprecated alias for the builtin `int`. To silence this warning, use `int` by itself. Doing this will not modify any behavior and is safe. When replacing `np.int`, you may wish to use e.g. `np.int64` or `np.int32` to specify the precision. If you wish to review your current use, check the release note link for additional information.\n",
      "Deprecated in NumPy 1.20; for more details and guidance: https://numpy.org/devdocs/release/1.20.0-notes.html#deprecations\n",
      "  return (np.ceil(len(self.data) / float(self.batch_size))).astype(np.int)\n"
     ]
    },
    {
     "name": "stdout",
     "output_type": "stream",
     "text": [
      "340/344 [============================>.] - ETA: 0s - loss: 47.5233 - rmse: 6.8937 - mae: 5.5686"
     ]
    },
    {
     "name": "stderr",
     "output_type": "stream",
     "text": [
      "/tmp/ipykernel_2361/3680906809.py:37: DeprecationWarning: `np.int` is a deprecated alias for the builtin `int`. To silence this warning, use `int` by itself. Doing this will not modify any behavior and is safe. When replacing `np.int`, you may wish to use e.g. `np.int64` or `np.int32` to specify the precision. If you wish to review your current use, check the release note link for additional information.\n",
      "Deprecated in NumPy 1.20; for more details and guidance: https://numpy.org/devdocs/release/1.20.0-notes.html#deprecations\n",
      "  return (np.ceil(len(self.data) / float(self.batch_size))).astype(np.int)\n"
     ]
    },
    {
     "name": "stdout",
     "output_type": "stream",
     "text": [
      "344/344 [==============================] - 2s 6ms/step - loss: 47.2384 - rmse: 6.8730 - mae: 5.5486 - val_loss: 40.3163 - val_rmse: 6.3495 - val_mae: 5.3426\n",
      "Epoch 74/2000\n",
      " 34/344 [=>............................] - ETA: 1s - loss: 58.5003 - rmse: 7.6486 - mae: 6.1218 "
     ]
    },
    {
     "name": "stderr",
     "output_type": "stream",
     "text": [
      "/tmp/ipykernel_2361/3680906809.py:37: DeprecationWarning: `np.int` is a deprecated alias for the builtin `int`. To silence this warning, use `int` by itself. Doing this will not modify any behavior and is safe. When replacing `np.int`, you may wish to use e.g. `np.int64` or `np.int32` to specify the precision. If you wish to review your current use, check the release note link for additional information.\n",
      "Deprecated in NumPy 1.20; for more details and guidance: https://numpy.org/devdocs/release/1.20.0-notes.html#deprecations\n",
      "  return (np.ceil(len(self.data) / float(self.batch_size))).astype(np.int)\n"
     ]
    },
    {
     "name": "stdout",
     "output_type": "stream",
     "text": [
      "340/344 [============================>.] - ETA: 0s - loss: 47.1738 - rmse: 6.8683 - mae: 5.5418"
     ]
    },
    {
     "name": "stderr",
     "output_type": "stream",
     "text": [
      "/tmp/ipykernel_2361/3680906809.py:37: DeprecationWarning: `np.int` is a deprecated alias for the builtin `int`. To silence this warning, use `int` by itself. Doing this will not modify any behavior and is safe. When replacing `np.int`, you may wish to use e.g. `np.int64` or `np.int32` to specify the precision. If you wish to review your current use, check the release note link for additional information.\n",
      "Deprecated in NumPy 1.20; for more details and guidance: https://numpy.org/devdocs/release/1.20.0-notes.html#deprecations\n",
      "  return (np.ceil(len(self.data) / float(self.batch_size))).astype(np.int)\n"
     ]
    },
    {
     "name": "stdout",
     "output_type": "stream",
     "text": [
      "344/344 [==============================] - 2s 6ms/step - loss: 47.2339 - rmse: 6.8727 - mae: 5.5464 - val_loss: 40.3931 - val_rmse: 6.3556 - val_mae: 5.3471\n",
      "Epoch 75/2000\n",
      " 36/344 [==>...........................] - ETA: 1s - loss: 40.2700 - rmse: 6.3459 - mae: 5.0776"
     ]
    },
    {
     "name": "stderr",
     "output_type": "stream",
     "text": [
      "/tmp/ipykernel_2361/3680906809.py:37: DeprecationWarning: `np.int` is a deprecated alias for the builtin `int`. To silence this warning, use `int` by itself. Doing this will not modify any behavior and is safe. When replacing `np.int`, you may wish to use e.g. `np.int64` or `np.int32` to specify the precision. If you wish to review your current use, check the release note link for additional information.\n",
      "Deprecated in NumPy 1.20; for more details and guidance: https://numpy.org/devdocs/release/1.20.0-notes.html#deprecations\n",
      "  return (np.ceil(len(self.data) / float(self.batch_size))).astype(np.int)\n"
     ]
    },
    {
     "name": "stdout",
     "output_type": "stream",
     "text": [
      "337/344 [============================>.] - ETA: 0s - loss: 47.4029 - rmse: 6.8850 - mae: 5.5538"
     ]
    },
    {
     "name": "stderr",
     "output_type": "stream",
     "text": [
      "/tmp/ipykernel_2361/3680906809.py:37: DeprecationWarning: `np.int` is a deprecated alias for the builtin `int`. To silence this warning, use `int` by itself. Doing this will not modify any behavior and is safe. When replacing `np.int`, you may wish to use e.g. `np.int64` or `np.int32` to specify the precision. If you wish to review your current use, check the release note link for additional information.\n",
      "Deprecated in NumPy 1.20; for more details and guidance: https://numpy.org/devdocs/release/1.20.0-notes.html#deprecations\n",
      "  return (np.ceil(len(self.data) / float(self.batch_size))).astype(np.int)\n"
     ]
    },
    {
     "name": "stdout",
     "output_type": "stream",
     "text": [
      "344/344 [==============================] - 2s 6ms/step - loss: 47.2464 - rmse: 6.8736 - mae: 5.5468 - val_loss: 40.4651 - val_rmse: 6.3612 - val_mae: 5.3513\n",
      "Epoch 76/2000\n",
      " 43/344 [==>...........................] - ETA: 1s - loss: 41.8642 - rmse: 6.4703 - mae: 5.1826"
     ]
    },
    {
     "name": "stderr",
     "output_type": "stream",
     "text": [
      "/tmp/ipykernel_2361/3680906809.py:37: DeprecationWarning: `np.int` is a deprecated alias for the builtin `int`. To silence this warning, use `int` by itself. Doing this will not modify any behavior and is safe. When replacing `np.int`, you may wish to use e.g. `np.int64` or `np.int32` to specify the precision. If you wish to review your current use, check the release note link for additional information.\n",
      "Deprecated in NumPy 1.20; for more details and guidance: https://numpy.org/devdocs/release/1.20.0-notes.html#deprecations\n",
      "  return (np.ceil(len(self.data) / float(self.batch_size))).astype(np.int)\n"
     ]
    },
    {
     "name": "stdout",
     "output_type": "stream",
     "text": [
      "338/344 [============================>.] - ETA: 0s - loss: 47.2174 - rmse: 6.8715 - mae: 5.5518"
     ]
    },
    {
     "name": "stderr",
     "output_type": "stream",
     "text": [
      "/tmp/ipykernel_2361/3680906809.py:37: DeprecationWarning: `np.int` is a deprecated alias for the builtin `int`. To silence this warning, use `int` by itself. Doing this will not modify any behavior and is safe. When replacing `np.int`, you may wish to use e.g. `np.int64` or `np.int32` to specify the precision. If you wish to review your current use, check the release note link for additional information.\n",
      "Deprecated in NumPy 1.20; for more details and guidance: https://numpy.org/devdocs/release/1.20.0-notes.html#deprecations\n",
      "  return (np.ceil(len(self.data) / float(self.batch_size))).astype(np.int)\n"
     ]
    },
    {
     "name": "stdout",
     "output_type": "stream",
     "text": [
      "344/344 [==============================] - 2s 6ms/step - loss: 47.2242 - rmse: 6.8720 - mae: 5.5526 - val_loss: 40.4012 - val_rmse: 6.3562 - val_mae: 5.3476\n",
      "Epoch 77/2000\n",
      " 29/344 [=>............................] - ETA: 1s - loss: 49.5349 - rmse: 7.0381 - mae: 5.6852"
     ]
    },
    {
     "name": "stderr",
     "output_type": "stream",
     "text": [
      "/tmp/ipykernel_2361/3680906809.py:37: DeprecationWarning: `np.int` is a deprecated alias for the builtin `int`. To silence this warning, use `int` by itself. Doing this will not modify any behavior and is safe. When replacing `np.int`, you may wish to use e.g. `np.int64` or `np.int32` to specify the precision. If you wish to review your current use, check the release note link for additional information.\n",
      "Deprecated in NumPy 1.20; for more details and guidance: https://numpy.org/devdocs/release/1.20.0-notes.html#deprecations\n",
      "  return (np.ceil(len(self.data) / float(self.batch_size))).astype(np.int)\n"
     ]
    },
    {
     "name": "stdout",
     "output_type": "stream",
     "text": [
      "340/344 [============================>.] - ETA: 0s - loss: 47.3717 - rmse: 6.8827 - mae: 5.5589"
     ]
    },
    {
     "name": "stderr",
     "output_type": "stream",
     "text": [
      "/tmp/ipykernel_2361/3680906809.py:37: DeprecationWarning: `np.int` is a deprecated alias for the builtin `int`. To silence this warning, use `int` by itself. Doing this will not modify any behavior and is safe. When replacing `np.int`, you may wish to use e.g. `np.int64` or `np.int32` to specify the precision. If you wish to review your current use, check the release note link for additional information.\n",
      "Deprecated in NumPy 1.20; for more details and guidance: https://numpy.org/devdocs/release/1.20.0-notes.html#deprecations\n",
      "  return (np.ceil(len(self.data) / float(self.batch_size))).astype(np.int)\n"
     ]
    },
    {
     "name": "stdout",
     "output_type": "stream",
     "text": [
      "344/344 [==============================] - 2s 6ms/step - loss: 47.2282 - rmse: 6.8723 - mae: 5.5486 - val_loss: 40.3762 - val_rmse: 6.3542 - val_mae: 5.3461\n",
      "Epoch 78/2000\n",
      " 37/344 [==>...........................] - ETA: 1s - loss: 46.5164 - rmse: 6.8203 - mae: 5.5967"
     ]
    },
    {
     "name": "stderr",
     "output_type": "stream",
     "text": [
      "/tmp/ipykernel_2361/3680906809.py:37: DeprecationWarning: `np.int` is a deprecated alias for the builtin `int`. To silence this warning, use `int` by itself. Doing this will not modify any behavior and is safe. When replacing `np.int`, you may wish to use e.g. `np.int64` or `np.int32` to specify the precision. If you wish to review your current use, check the release note link for additional information.\n",
      "Deprecated in NumPy 1.20; for more details and guidance: https://numpy.org/devdocs/release/1.20.0-notes.html#deprecations\n",
      "  return (np.ceil(len(self.data) / float(self.batch_size))).astype(np.int)\n"
     ]
    },
    {
     "name": "stdout",
     "output_type": "stream",
     "text": [
      "338/344 [============================>.] - ETA: 0s - loss: 46.7840 - rmse: 6.8399 - mae: 5.5195"
     ]
    },
    {
     "name": "stderr",
     "output_type": "stream",
     "text": [
      "/tmp/ipykernel_2361/3680906809.py:37: DeprecationWarning: `np.int` is a deprecated alias for the builtin `int`. To silence this warning, use `int` by itself. Doing this will not modify any behavior and is safe. When replacing `np.int`, you may wish to use e.g. `np.int64` or `np.int32` to specify the precision. If you wish to review your current use, check the release note link for additional information.\n",
      "Deprecated in NumPy 1.20; for more details and guidance: https://numpy.org/devdocs/release/1.20.0-notes.html#deprecations\n",
      "  return (np.ceil(len(self.data) / float(self.batch_size))).astype(np.int)\n"
     ]
    },
    {
     "name": "stdout",
     "output_type": "stream",
     "text": [
      "344/344 [==============================] - 2s 7ms/step - loss: 47.2323 - rmse: 6.8726 - mae: 5.5470 - val_loss: 40.4684 - val_rmse: 6.3615 - val_mae: 5.3515\n",
      "Epoch 79/2000\n",
      " 37/344 [==>...........................] - ETA: 1s - loss: 38.1302 - rmse: 6.1750 - mae: 5.0370"
     ]
    },
    {
     "name": "stderr",
     "output_type": "stream",
     "text": [
      "/tmp/ipykernel_2361/3680906809.py:37: DeprecationWarning: `np.int` is a deprecated alias for the builtin `int`. To silence this warning, use `int` by itself. Doing this will not modify any behavior and is safe. When replacing `np.int`, you may wish to use e.g. `np.int64` or `np.int32` to specify the precision. If you wish to review your current use, check the release note link for additional information.\n",
      "Deprecated in NumPy 1.20; for more details and guidance: https://numpy.org/devdocs/release/1.20.0-notes.html#deprecations\n",
      "  return (np.ceil(len(self.data) / float(self.batch_size))).astype(np.int)\n"
     ]
    },
    {
     "name": "stdout",
     "output_type": "stream",
     "text": [
      "340/344 [============================>.] - ETA: 0s - loss: 47.4672 - rmse: 6.8896 - mae: 5.5660"
     ]
    },
    {
     "name": "stderr",
     "output_type": "stream",
     "text": [
      "/tmp/ipykernel_2361/3680906809.py:37: DeprecationWarning: `np.int` is a deprecated alias for the builtin `int`. To silence this warning, use `int` by itself. Doing this will not modify any behavior and is safe. When replacing `np.int`, you may wish to use e.g. `np.int64` or `np.int32` to specify the precision. If you wish to review your current use, check the release note link for additional information.\n",
      "Deprecated in NumPy 1.20; for more details and guidance: https://numpy.org/devdocs/release/1.20.0-notes.html#deprecations\n",
      "  return (np.ceil(len(self.data) / float(self.batch_size))).astype(np.int)\n"
     ]
    },
    {
     "name": "stdout",
     "output_type": "stream",
     "text": [
      "344/344 [==============================] - 2s 5ms/step - loss: 47.2392 - rmse: 6.8731 - mae: 5.5542 - val_loss: 40.4254 - val_rmse: 6.3581 - val_mae: 5.3490\n",
      "Epoch 80/2000\n",
      " 33/344 [=>............................] - ETA: 1s - loss: 48.6039 - rmse: 6.9716 - mae: 5.6756"
     ]
    },
    {
     "name": "stderr",
     "output_type": "stream",
     "text": [
      "/tmp/ipykernel_2361/3680906809.py:37: DeprecationWarning: `np.int` is a deprecated alias for the builtin `int`. To silence this warning, use `int` by itself. Doing this will not modify any behavior and is safe. When replacing `np.int`, you may wish to use e.g. `np.int64` or `np.int32` to specify the precision. If you wish to review your current use, check the release note link for additional information.\n",
      "Deprecated in NumPy 1.20; for more details and guidance: https://numpy.org/devdocs/release/1.20.0-notes.html#deprecations\n",
      "  return (np.ceil(len(self.data) / float(self.batch_size))).astype(np.int)\n"
     ]
    },
    {
     "name": "stdout",
     "output_type": "stream",
     "text": [
      "336/344 [============================>.] - ETA: 0s - loss: 46.9617 - rmse: 6.8529 - mae: 5.5373"
     ]
    },
    {
     "name": "stderr",
     "output_type": "stream",
     "text": [
      "/tmp/ipykernel_2361/3680906809.py:37: DeprecationWarning: `np.int` is a deprecated alias for the builtin `int`. To silence this warning, use `int` by itself. Doing this will not modify any behavior and is safe. When replacing `np.int`, you may wish to use e.g. `np.int64` or `np.int32` to specify the precision. If you wish to review your current use, check the release note link for additional information.\n",
      "Deprecated in NumPy 1.20; for more details and guidance: https://numpy.org/devdocs/release/1.20.0-notes.html#deprecations\n",
      "  return (np.ceil(len(self.data) / float(self.batch_size))).astype(np.int)\n"
     ]
    },
    {
     "name": "stdout",
     "output_type": "stream",
     "text": [
      "344/344 [==============================] - 2s 6ms/step - loss: 47.2234 - rmse: 6.8719 - mae: 5.5498 - val_loss: 40.3508 - val_rmse: 6.3522 - val_mae: 5.3446\n",
      "Epoch 81/2000\n",
      " 34/344 [=>............................] - ETA: 1s - loss: 39.7910 - rmse: 6.3080 - mae: 5.0585"
     ]
    },
    {
     "name": "stderr",
     "output_type": "stream",
     "text": [
      "/tmp/ipykernel_2361/3680906809.py:37: DeprecationWarning: `np.int` is a deprecated alias for the builtin `int`. To silence this warning, use `int` by itself. Doing this will not modify any behavior and is safe. When replacing `np.int`, you may wish to use e.g. `np.int64` or `np.int32` to specify the precision. If you wish to review your current use, check the release note link for additional information.\n",
      "Deprecated in NumPy 1.20; for more details and guidance: https://numpy.org/devdocs/release/1.20.0-notes.html#deprecations\n",
      "  return (np.ceil(len(self.data) / float(self.batch_size))).astype(np.int)\n"
     ]
    },
    {
     "name": "stdout",
     "output_type": "stream",
     "text": [
      "337/344 [============================>.] - ETA: 0s - loss: 47.6599 - rmse: 6.9036 - mae: 5.5738"
     ]
    },
    {
     "name": "stderr",
     "output_type": "stream",
     "text": [
      "/tmp/ipykernel_2361/3680906809.py:37: DeprecationWarning: `np.int` is a deprecated alias for the builtin `int`. To silence this warning, use `int` by itself. Doing this will not modify any behavior and is safe. When replacing `np.int`, you may wish to use e.g. `np.int64` or `np.int32` to specify the precision. If you wish to review your current use, check the release note link for additional information.\n",
      "Deprecated in NumPy 1.20; for more details and guidance: https://numpy.org/devdocs/release/1.20.0-notes.html#deprecations\n",
      "  return (np.ceil(len(self.data) / float(self.batch_size))).astype(np.int)\n"
     ]
    },
    {
     "name": "stdout",
     "output_type": "stream",
     "text": [
      "344/344 [==============================] - 2s 5ms/step - loss: 47.2371 - rmse: 6.8729 - mae: 5.5497 - val_loss: 40.4498 - val_rmse: 6.3600 - val_mae: 5.3504\n",
      "Epoch 82/2000\n",
      " 26/344 [=>............................] - ETA: 1s - loss: 51.7185 - rmse: 7.1916 - mae: 5.8467"
     ]
    },
    {
     "name": "stderr",
     "output_type": "stream",
     "text": [
      "/tmp/ipykernel_2361/3680906809.py:37: DeprecationWarning: `np.int` is a deprecated alias for the builtin `int`. To silence this warning, use `int` by itself. Doing this will not modify any behavior and is safe. When replacing `np.int`, you may wish to use e.g. `np.int64` or `np.int32` to specify the precision. If you wish to review your current use, check the release note link for additional information.\n",
      "Deprecated in NumPy 1.20; for more details and guidance: https://numpy.org/devdocs/release/1.20.0-notes.html#deprecations\n",
      "  return (np.ceil(len(self.data) / float(self.batch_size))).astype(np.int)\n"
     ]
    },
    {
     "name": "stdout",
     "output_type": "stream",
     "text": [
      "339/344 [============================>.] - ETA: 0s - loss: 47.4826 - rmse: 6.8908 - mae: 5.5688"
     ]
    },
    {
     "name": "stderr",
     "output_type": "stream",
     "text": [
      "/tmp/ipykernel_2361/3680906809.py:37: DeprecationWarning: `np.int` is a deprecated alias for the builtin `int`. To silence this warning, use `int` by itself. Doing this will not modify any behavior and is safe. When replacing `np.int`, you may wish to use e.g. `np.int64` or `np.int32` to specify the precision. If you wish to review your current use, check the release note link for additional information.\n",
      "Deprecated in NumPy 1.20; for more details and guidance: https://numpy.org/devdocs/release/1.20.0-notes.html#deprecations\n",
      "  return (np.ceil(len(self.data) / float(self.batch_size))).astype(np.int)\n"
     ]
    },
    {
     "name": "stdout",
     "output_type": "stream",
     "text": [
      "344/344 [==============================] - 2s 5ms/step - loss: 47.2344 - rmse: 6.8727 - mae: 5.5524 - val_loss: 40.3762 - val_rmse: 6.3542 - val_mae: 5.3461\n",
      "Epoch 83/2000\n",
      " 36/344 [==>...........................] - ETA: 1s - loss: 52.4483 - rmse: 7.2421 - mae: 5.8628"
     ]
    },
    {
     "name": "stderr",
     "output_type": "stream",
     "text": [
      "/tmp/ipykernel_2361/3680906809.py:37: DeprecationWarning: `np.int` is a deprecated alias for the builtin `int`. To silence this warning, use `int` by itself. Doing this will not modify any behavior and is safe. When replacing `np.int`, you may wish to use e.g. `np.int64` or `np.int32` to specify the precision. If you wish to review your current use, check the release note link for additional information.\n",
      "Deprecated in NumPy 1.20; for more details and guidance: https://numpy.org/devdocs/release/1.20.0-notes.html#deprecations\n",
      "  return (np.ceil(len(self.data) / float(self.batch_size))).astype(np.int)\n"
     ]
    },
    {
     "name": "stdout",
     "output_type": "stream",
     "text": [
      "341/344 [============================>.] - ETA: 0s - loss: 47.3229 - rmse: 6.8792 - mae: 5.5512"
     ]
    },
    {
     "name": "stderr",
     "output_type": "stream",
     "text": [
      "/tmp/ipykernel_2361/3680906809.py:37: DeprecationWarning: `np.int` is a deprecated alias for the builtin `int`. To silence this warning, use `int` by itself. Doing this will not modify any behavior and is safe. When replacing `np.int`, you may wish to use e.g. `np.int64` or `np.int32` to specify the precision. If you wish to review your current use, check the release note link for additional information.\n",
      "Deprecated in NumPy 1.20; for more details and guidance: https://numpy.org/devdocs/release/1.20.0-notes.html#deprecations\n",
      "  return (np.ceil(len(self.data) / float(self.batch_size))).astype(np.int)\n"
     ]
    },
    {
     "name": "stdout",
     "output_type": "stream",
     "text": [
      "344/344 [==============================] - 2s 6ms/step - loss: 47.2537 - rmse: 6.8741 - mae: 5.5480 - val_loss: 40.3524 - val_rmse: 6.3524 - val_mae: 5.3447\n",
      "Epoch 84/2000\n",
      " 33/344 [=>............................] - ETA: 1s - loss: 46.2121 - rmse: 6.7980 - mae: 5.4768"
     ]
    },
    {
     "name": "stderr",
     "output_type": "stream",
     "text": [
      "/tmp/ipykernel_2361/3680906809.py:37: DeprecationWarning: `np.int` is a deprecated alias for the builtin `int`. To silence this warning, use `int` by itself. Doing this will not modify any behavior and is safe. When replacing `np.int`, you may wish to use e.g. `np.int64` or `np.int32` to specify the precision. If you wish to review your current use, check the release note link for additional information.\n",
      "Deprecated in NumPy 1.20; for more details and guidance: https://numpy.org/devdocs/release/1.20.0-notes.html#deprecations\n",
      "  return (np.ceil(len(self.data) / float(self.batch_size))).astype(np.int)\n"
     ]
    },
    {
     "name": "stdout",
     "output_type": "stream",
     "text": [
      "339/344 [============================>.] - ETA: 0s - loss: 47.5140 - rmse: 6.8930 - mae: 5.5654"
     ]
    },
    {
     "name": "stderr",
     "output_type": "stream",
     "text": [
      "/tmp/ipykernel_2361/3680906809.py:37: DeprecationWarning: `np.int` is a deprecated alias for the builtin `int`. To silence this warning, use `int` by itself. Doing this will not modify any behavior and is safe. When replacing `np.int`, you may wish to use e.g. `np.int64` or `np.int32` to specify the precision. If you wish to review your current use, check the release note link for additional information.\n",
      "Deprecated in NumPy 1.20; for more details and guidance: https://numpy.org/devdocs/release/1.20.0-notes.html#deprecations\n",
      "  return (np.ceil(len(self.data) / float(self.batch_size))).astype(np.int)\n"
     ]
    },
    {
     "name": "stdout",
     "output_type": "stream",
     "text": [
      "344/344 [==============================] - 2s 7ms/step - loss: 47.2378 - rmse: 6.8730 - mae: 5.5509 - val_loss: 40.4380 - val_rmse: 6.3591 - val_mae: 5.3497\n",
      "Epoch 85/2000\n",
      " 36/344 [==>...........................] - ETA: 1s - loss: 47.8956 - rmse: 6.9207 - mae: 5.6898"
     ]
    },
    {
     "name": "stderr",
     "output_type": "stream",
     "text": [
      "/tmp/ipykernel_2361/3680906809.py:37: DeprecationWarning: `np.int` is a deprecated alias for the builtin `int`. To silence this warning, use `int` by itself. Doing this will not modify any behavior and is safe. When replacing `np.int`, you may wish to use e.g. `np.int64` or `np.int32` to specify the precision. If you wish to review your current use, check the release note link for additional information.\n",
      "Deprecated in NumPy 1.20; for more details and guidance: https://numpy.org/devdocs/release/1.20.0-notes.html#deprecations\n",
      "  return (np.ceil(len(self.data) / float(self.batch_size))).astype(np.int)\n"
     ]
    },
    {
     "name": "stdout",
     "output_type": "stream",
     "text": [
      "343/344 [============================>.] - ETA: 0s - loss: 47.3152 - rmse: 6.8786 - mae: 5.5554"
     ]
    },
    {
     "name": "stderr",
     "output_type": "stream",
     "text": [
      "/tmp/ipykernel_2361/3680906809.py:37: DeprecationWarning: `np.int` is a deprecated alias for the builtin `int`. To silence this warning, use `int` by itself. Doing this will not modify any behavior and is safe. When replacing `np.int`, you may wish to use e.g. `np.int64` or `np.int32` to specify the precision. If you wish to review your current use, check the release note link for additional information.\n",
      "Deprecated in NumPy 1.20; for more details and guidance: https://numpy.org/devdocs/release/1.20.0-notes.html#deprecations\n",
      "  return (np.ceil(len(self.data) / float(self.batch_size))).astype(np.int)\n"
     ]
    },
    {
     "name": "stdout",
     "output_type": "stream",
     "text": [
      "344/344 [==============================] - 2s 6ms/step - loss: 47.2378 - rmse: 6.8730 - mae: 5.5513 - val_loss: 40.3570 - val_rmse: 6.3527 - val_mae: 5.3450\n",
      "Epoch 86/2000\n",
      " 32/344 [=>............................] - ETA: 1s - loss: 51.3953 - rmse: 7.1691 - mae: 5.9194"
     ]
    },
    {
     "name": "stderr",
     "output_type": "stream",
     "text": [
      "/tmp/ipykernel_2361/3680906809.py:37: DeprecationWarning: `np.int` is a deprecated alias for the builtin `int`. To silence this warning, use `int` by itself. Doing this will not modify any behavior and is safe. When replacing `np.int`, you may wish to use e.g. `np.int64` or `np.int32` to specify the precision. If you wish to review your current use, check the release note link for additional information.\n",
      "Deprecated in NumPy 1.20; for more details and guidance: https://numpy.org/devdocs/release/1.20.0-notes.html#deprecations\n",
      "  return (np.ceil(len(self.data) / float(self.batch_size))).astype(np.int)\n"
     ]
    },
    {
     "name": "stdout",
     "output_type": "stream",
     "text": [
      "334/344 [============================>.] - ETA: 0s - loss: 47.4527 - rmse: 6.8886 - mae: 5.5583"
     ]
    },
    {
     "name": "stderr",
     "output_type": "stream",
     "text": [
      "/tmp/ipykernel_2361/3680906809.py:37: DeprecationWarning: `np.int` is a deprecated alias for the builtin `int`. To silence this warning, use `int` by itself. Doing this will not modify any behavior and is safe. When replacing `np.int`, you may wish to use e.g. `np.int64` or `np.int32` to specify the precision. If you wish to review your current use, check the release note link for additional information.\n",
      "Deprecated in NumPy 1.20; for more details and guidance: https://numpy.org/devdocs/release/1.20.0-notes.html#deprecations\n",
      "  return (np.ceil(len(self.data) / float(self.batch_size))).astype(np.int)\n"
     ]
    },
    {
     "name": "stdout",
     "output_type": "stream",
     "text": [
      "344/344 [==============================] - 2s 5ms/step - loss: 47.2336 - rmse: 6.8727 - mae: 5.5476 - val_loss: 40.4134 - val_rmse: 6.3572 - val_mae: 5.3483\n",
      "Epoch 87/2000\n",
      " 34/344 [=>............................] - ETA: 1s - loss: 42.9841 - rmse: 6.5562 - mae: 5.3509"
     ]
    },
    {
     "name": "stderr",
     "output_type": "stream",
     "text": [
      "/tmp/ipykernel_2361/3680906809.py:37: DeprecationWarning: `np.int` is a deprecated alias for the builtin `int`. To silence this warning, use `int` by itself. Doing this will not modify any behavior and is safe. When replacing `np.int`, you may wish to use e.g. `np.int64` or `np.int32` to specify the precision. If you wish to review your current use, check the release note link for additional information.\n",
      "Deprecated in NumPy 1.20; for more details and guidance: https://numpy.org/devdocs/release/1.20.0-notes.html#deprecations\n",
      "  return (np.ceil(len(self.data) / float(self.batch_size))).astype(np.int)\n"
     ]
    },
    {
     "name": "stdout",
     "output_type": "stream",
     "text": [
      "336/344 [============================>.] - ETA: 0s - loss: 46.9678 - rmse: 6.8533 - mae: 5.5301"
     ]
    },
    {
     "name": "stderr",
     "output_type": "stream",
     "text": [
      "/tmp/ipykernel_2361/3680906809.py:37: DeprecationWarning: `np.int` is a deprecated alias for the builtin `int`. To silence this warning, use `int` by itself. Doing this will not modify any behavior and is safe. When replacing `np.int`, you may wish to use e.g. `np.int64` or `np.int32` to specify the precision. If you wish to review your current use, check the release note link for additional information.\n",
      "Deprecated in NumPy 1.20; for more details and guidance: https://numpy.org/devdocs/release/1.20.0-notes.html#deprecations\n",
      "  return (np.ceil(len(self.data) / float(self.batch_size))).astype(np.int)\n"
     ]
    },
    {
     "name": "stdout",
     "output_type": "stream",
     "text": [
      "344/344 [==============================] - 2s 6ms/step - loss: 47.2240 - rmse: 6.8720 - mae: 5.5484 - val_loss: 40.4666 - val_rmse: 6.3613 - val_mae: 5.3514\n",
      "Epoch 88/2000\n",
      " 34/344 [=>............................] - ETA: 1s - loss: 40.6163 - rmse: 6.3731 - mae: 5.2066"
     ]
    },
    {
     "name": "stderr",
     "output_type": "stream",
     "text": [
      "/tmp/ipykernel_2361/3680906809.py:37: DeprecationWarning: `np.int` is a deprecated alias for the builtin `int`. To silence this warning, use `int` by itself. Doing this will not modify any behavior and is safe. When replacing `np.int`, you may wish to use e.g. `np.int64` or `np.int32` to specify the precision. If you wish to review your current use, check the release note link for additional information.\n",
      "Deprecated in NumPy 1.20; for more details and guidance: https://numpy.org/devdocs/release/1.20.0-notes.html#deprecations\n",
      "  return (np.ceil(len(self.data) / float(self.batch_size))).astype(np.int)\n"
     ]
    },
    {
     "name": "stdout",
     "output_type": "stream",
     "text": [
      "343/344 [============================>.] - ETA: 0s - loss: 47.1958 - rmse: 6.8699 - mae: 5.5475"
     ]
    },
    {
     "name": "stderr",
     "output_type": "stream",
     "text": [
      "/tmp/ipykernel_2361/3680906809.py:37: DeprecationWarning: `np.int` is a deprecated alias for the builtin `int`. To silence this warning, use `int` by itself. Doing this will not modify any behavior and is safe. When replacing `np.int`, you may wish to use e.g. `np.int64` or `np.int32` to specify the precision. If you wish to review your current use, check the release note link for additional information.\n",
      "Deprecated in NumPy 1.20; for more details and guidance: https://numpy.org/devdocs/release/1.20.0-notes.html#deprecations\n",
      "  return (np.ceil(len(self.data) / float(self.batch_size))).astype(np.int)\n"
     ]
    },
    {
     "name": "stdout",
     "output_type": "stream",
     "text": [
      "344/344 [==============================] - 2s 6ms/step - loss: 47.2419 - rmse: 6.8733 - mae: 5.5510 - val_loss: 40.5056 - val_rmse: 6.3644 - val_mae: 5.3537\n",
      "Epoch 89/2000\n",
      " 33/344 [=>............................] - ETA: 1s - loss: 43.2607 - rmse: 6.5773 - mae: 5.2012"
     ]
    },
    {
     "name": "stderr",
     "output_type": "stream",
     "text": [
      "/tmp/ipykernel_2361/3680906809.py:37: DeprecationWarning: `np.int` is a deprecated alias for the builtin `int`. To silence this warning, use `int` by itself. Doing this will not modify any behavior and is safe. When replacing `np.int`, you may wish to use e.g. `np.int64` or `np.int32` to specify the precision. If you wish to review your current use, check the release note link for additional information.\n",
      "Deprecated in NumPy 1.20; for more details and guidance: https://numpy.org/devdocs/release/1.20.0-notes.html#deprecations\n",
      "  return (np.ceil(len(self.data) / float(self.batch_size))).astype(np.int)\n"
     ]
    },
    {
     "name": "stdout",
     "output_type": "stream",
     "text": [
      "343/344 [============================>.] - ETA: 0s - loss: 47.3399 - rmse: 6.8804 - mae: 5.5567"
     ]
    },
    {
     "name": "stderr",
     "output_type": "stream",
     "text": [
      "/tmp/ipykernel_2361/3680906809.py:37: DeprecationWarning: `np.int` is a deprecated alias for the builtin `int`. To silence this warning, use `int` by itself. Doing this will not modify any behavior and is safe. When replacing `np.int`, you may wish to use e.g. `np.int64` or `np.int32` to specify the precision. If you wish to review your current use, check the release note link for additional information.\n",
      "Deprecated in NumPy 1.20; for more details and guidance: https://numpy.org/devdocs/release/1.20.0-notes.html#deprecations\n",
      "  return (np.ceil(len(self.data) / float(self.batch_size))).astype(np.int)\n"
     ]
    },
    {
     "name": "stdout",
     "output_type": "stream",
     "text": [
      "344/344 [==============================] - 2s 6ms/step - loss: 47.2447 - rmse: 6.8735 - mae: 5.5503 - val_loss: 40.4899 - val_rmse: 6.3632 - val_mae: 5.3528\n",
      "Epoch 90/2000\n",
      " 32/344 [=>............................] - ETA: 1s - loss: 44.3966 - rmse: 6.6631 - mae: 5.2226"
     ]
    },
    {
     "name": "stderr",
     "output_type": "stream",
     "text": [
      "/tmp/ipykernel_2361/3680906809.py:37: DeprecationWarning: `np.int` is a deprecated alias for the builtin `int`. To silence this warning, use `int` by itself. Doing this will not modify any behavior and is safe. When replacing `np.int`, you may wish to use e.g. `np.int64` or `np.int32` to specify the precision. If you wish to review your current use, check the release note link for additional information.\n",
      "Deprecated in NumPy 1.20; for more details and guidance: https://numpy.org/devdocs/release/1.20.0-notes.html#deprecations\n",
      "  return (np.ceil(len(self.data) / float(self.batch_size))).astype(np.int)\n"
     ]
    },
    {
     "name": "stdout",
     "output_type": "stream",
     "text": [
      "337/344 [============================>.] - ETA: 0s - loss: 47.4789 - rmse: 6.8905 - mae: 5.5588"
     ]
    },
    {
     "name": "stderr",
     "output_type": "stream",
     "text": [
      "/tmp/ipykernel_2361/3680906809.py:37: DeprecationWarning: `np.int` is a deprecated alias for the builtin `int`. To silence this warning, use `int` by itself. Doing this will not modify any behavior and is safe. When replacing `np.int`, you may wish to use e.g. `np.int64` or `np.int32` to specify the precision. If you wish to review your current use, check the release note link for additional information.\n",
      "Deprecated in NumPy 1.20; for more details and guidance: https://numpy.org/devdocs/release/1.20.0-notes.html#deprecations\n",
      "  return (np.ceil(len(self.data) / float(self.batch_size))).astype(np.int)\n"
     ]
    },
    {
     "name": "stdout",
     "output_type": "stream",
     "text": [
      "344/344 [==============================] - 2s 6ms/step - loss: 47.2367 - rmse: 6.8729 - mae: 5.5478 - val_loss: 40.5347 - val_rmse: 6.3667 - val_mae: 5.3553\n",
      "Epoch 91/2000\n",
      "  1/344 [..............................] - ETA: 9s - loss: 37.2817 - rmse: 6.1059 - mae: 5.8750"
     ]
    },
    {
     "name": "stderr",
     "output_type": "stream",
     "text": [
      "/tmp/ipykernel_2361/3680906809.py:37: DeprecationWarning: `np.int` is a deprecated alias for the builtin `int`. To silence this warning, use `int` by itself. Doing this will not modify any behavior and is safe. When replacing `np.int`, you may wish to use e.g. `np.int64` or `np.int32` to specify the precision. If you wish to review your current use, check the release note link for additional information.\n",
      "Deprecated in NumPy 1.20; for more details and guidance: https://numpy.org/devdocs/release/1.20.0-notes.html#deprecations\n",
      "  return (np.ceil(len(self.data) / float(self.batch_size))).astype(np.int)\n"
     ]
    },
    {
     "name": "stdout",
     "output_type": "stream",
     "text": [
      "341/344 [============================>.] - ETA: 0s - loss: 47.3926 - rmse: 6.8842 - mae: 5.5659"
     ]
    },
    {
     "name": "stderr",
     "output_type": "stream",
     "text": [
      "/tmp/ipykernel_2361/3680906809.py:37: DeprecationWarning: `np.int` is a deprecated alias for the builtin `int`. To silence this warning, use `int` by itself. Doing this will not modify any behavior and is safe. When replacing `np.int`, you may wish to use e.g. `np.int64` or `np.int32` to specify the precision. If you wish to review your current use, check the release note link for additional information.\n",
      "Deprecated in NumPy 1.20; for more details and guidance: https://numpy.org/devdocs/release/1.20.0-notes.html#deprecations\n",
      "  return (np.ceil(len(self.data) / float(self.batch_size))).astype(np.int)\n"
     ]
    },
    {
     "name": "stdout",
     "output_type": "stream",
     "text": [
      "344/344 [==============================] - 2s 7ms/step - loss: 47.2371 - rmse: 6.8729 - mae: 5.5535 - val_loss: 40.4132 - val_rmse: 6.3571 - val_mae: 5.3483\n",
      "Epoch 92/2000\n",
      " 31/344 [=>............................] - ETA: 1s - loss: 44.5115 - rmse: 6.6717 - mae: 5.4302"
     ]
    },
    {
     "name": "stderr",
     "output_type": "stream",
     "text": [
      "/tmp/ipykernel_2361/3680906809.py:37: DeprecationWarning: `np.int` is a deprecated alias for the builtin `int`. To silence this warning, use `int` by itself. Doing this will not modify any behavior and is safe. When replacing `np.int`, you may wish to use e.g. `np.int64` or `np.int32` to specify the precision. If you wish to review your current use, check the release note link for additional information.\n",
      "Deprecated in NumPy 1.20; for more details and guidance: https://numpy.org/devdocs/release/1.20.0-notes.html#deprecations\n",
      "  return (np.ceil(len(self.data) / float(self.batch_size))).astype(np.int)\n"
     ]
    },
    {
     "name": "stdout",
     "output_type": "stream",
     "text": [
      "341/344 [============================>.] - ETA: 0s - loss: 47.0649 - rmse: 6.8604 - mae: 5.5444"
     ]
    },
    {
     "name": "stderr",
     "output_type": "stream",
     "text": [
      "/tmp/ipykernel_2361/3680906809.py:37: DeprecationWarning: `np.int` is a deprecated alias for the builtin `int`. To silence this warning, use `int` by itself. Doing this will not modify any behavior and is safe. When replacing `np.int`, you may wish to use e.g. `np.int64` or `np.int32` to specify the precision. If you wish to review your current use, check the release note link for additional information.\n",
      "Deprecated in NumPy 1.20; for more details and guidance: https://numpy.org/devdocs/release/1.20.0-notes.html#deprecations\n",
      "  return (np.ceil(len(self.data) / float(self.batch_size))).astype(np.int)\n"
     ]
    },
    {
     "name": "stdout",
     "output_type": "stream",
     "text": [
      "344/344 [==============================] - 2s 6ms/step - loss: 47.2286 - rmse: 6.8723 - mae: 5.5491 - val_loss: 40.4868 - val_rmse: 6.3629 - val_mae: 5.3526\n",
      "Epoch 93/2000\n",
      " 32/344 [=>............................] - ETA: 1s - loss: 53.7848 - rmse: 7.3338 - mae: 5.6265"
     ]
    },
    {
     "name": "stderr",
     "output_type": "stream",
     "text": [
      "/tmp/ipykernel_2361/3680906809.py:37: DeprecationWarning: `np.int` is a deprecated alias for the builtin `int`. To silence this warning, use `int` by itself. Doing this will not modify any behavior and is safe. When replacing `np.int`, you may wish to use e.g. `np.int64` or `np.int32` to specify the precision. If you wish to review your current use, check the release note link for additional information.\n",
      "Deprecated in NumPy 1.20; for more details and guidance: https://numpy.org/devdocs/release/1.20.0-notes.html#deprecations\n",
      "  return (np.ceil(len(self.data) / float(self.batch_size))).astype(np.int)\n"
     ]
    },
    {
     "name": "stdout",
     "output_type": "stream",
     "text": [
      "336/344 [============================>.] - ETA: 0s - loss: 47.1847 - rmse: 6.8691 - mae: 5.5420"
     ]
    },
    {
     "name": "stderr",
     "output_type": "stream",
     "text": [
      "/tmp/ipykernel_2361/3680906809.py:37: DeprecationWarning: `np.int` is a deprecated alias for the builtin `int`. To silence this warning, use `int` by itself. Doing this will not modify any behavior and is safe. When replacing `np.int`, you may wish to use e.g. `np.int64` or `np.int32` to specify the precision. If you wish to review your current use, check the release note link for additional information.\n",
      "Deprecated in NumPy 1.20; for more details and guidance: https://numpy.org/devdocs/release/1.20.0-notes.html#deprecations\n",
      "  return (np.ceil(len(self.data) / float(self.batch_size))).astype(np.int)\n"
     ]
    },
    {
     "name": "stdout",
     "output_type": "stream",
     "text": [
      "344/344 [==============================] - 2s 6ms/step - loss: 47.2309 - rmse: 6.8725 - mae: 5.5551 - val_loss: 40.3605 - val_rmse: 6.3530 - val_mae: 5.3452\n",
      "Epoch 94/2000\n",
      " 32/344 [=>............................] - ETA: 1s - loss: 57.9220 - rmse: 7.6107 - mae: 6.2102"
     ]
    },
    {
     "name": "stderr",
     "output_type": "stream",
     "text": [
      "/tmp/ipykernel_2361/3680906809.py:37: DeprecationWarning: `np.int` is a deprecated alias for the builtin `int`. To silence this warning, use `int` by itself. Doing this will not modify any behavior and is safe. When replacing `np.int`, you may wish to use e.g. `np.int64` or `np.int32` to specify the precision. If you wish to review your current use, check the release note link for additional information.\n",
      "Deprecated in NumPy 1.20; for more details and guidance: https://numpy.org/devdocs/release/1.20.0-notes.html#deprecations\n",
      "  return (np.ceil(len(self.data) / float(self.batch_size))).astype(np.int)\n"
     ]
    },
    {
     "name": "stdout",
     "output_type": "stream",
     "text": [
      "336/344 [============================>.] - ETA: 0s - loss: 47.6025 - rmse: 6.8995 - mae: 5.5760"
     ]
    },
    {
     "name": "stderr",
     "output_type": "stream",
     "text": [
      "/tmp/ipykernel_2361/3680906809.py:37: DeprecationWarning: `np.int` is a deprecated alias for the builtin `int`. To silence this warning, use `int` by itself. Doing this will not modify any behavior and is safe. When replacing `np.int`, you may wish to use e.g. `np.int64` or `np.int32` to specify the precision. If you wish to review your current use, check the release note link for additional information.\n",
      "Deprecated in NumPy 1.20; for more details and guidance: https://numpy.org/devdocs/release/1.20.0-notes.html#deprecations\n",
      "  return (np.ceil(len(self.data) / float(self.batch_size))).astype(np.int)\n"
     ]
    },
    {
     "name": "stdout",
     "output_type": "stream",
     "text": [
      "344/344 [==============================] - 2s 6ms/step - loss: 47.2380 - rmse: 6.8730 - mae: 5.5518 - val_loss: 40.2671 - val_rmse: 6.3456 - val_mae: 5.3395\n",
      "Epoch 95/2000\n",
      " 36/344 [==>...........................] - ETA: 1s - loss: 53.9145 - rmse: 7.3426 - mae: 5.9602"
     ]
    },
    {
     "name": "stderr",
     "output_type": "stream",
     "text": [
      "/tmp/ipykernel_2361/3680906809.py:37: DeprecationWarning: `np.int` is a deprecated alias for the builtin `int`. To silence this warning, use `int` by itself. Doing this will not modify any behavior and is safe. When replacing `np.int`, you may wish to use e.g. `np.int64` or `np.int32` to specify the precision. If you wish to review your current use, check the release note link for additional information.\n",
      "Deprecated in NumPy 1.20; for more details and guidance: https://numpy.org/devdocs/release/1.20.0-notes.html#deprecations\n",
      "  return (np.ceil(len(self.data) / float(self.batch_size))).astype(np.int)\n"
     ]
    },
    {
     "name": "stdout",
     "output_type": "stream",
     "text": [
      "339/344 [============================>.] - ETA: 0s - loss: 47.2569 - rmse: 6.8744 - mae: 5.5486"
     ]
    },
    {
     "name": "stderr",
     "output_type": "stream",
     "text": [
      "/tmp/ipykernel_2361/3680906809.py:37: DeprecationWarning: `np.int` is a deprecated alias for the builtin `int`. To silence this warning, use `int` by itself. Doing this will not modify any behavior and is safe. When replacing `np.int`, you may wish to use e.g. `np.int64` or `np.int32` to specify the precision. If you wish to review your current use, check the release note link for additional information.\n",
      "Deprecated in NumPy 1.20; for more details and guidance: https://numpy.org/devdocs/release/1.20.0-notes.html#deprecations\n",
      "  return (np.ceil(len(self.data) / float(self.batch_size))).astype(np.int)\n"
     ]
    },
    {
     "name": "stdout",
     "output_type": "stream",
     "text": [
      "344/344 [==============================] - 2s 6ms/step - loss: 47.2475 - rmse: 6.8737 - mae: 5.5469 - val_loss: 40.3831 - val_rmse: 6.3548 - val_mae: 5.3466\n",
      "Epoch 96/2000\n",
      " 42/344 [==>...........................] - ETA: 1s - loss: 43.6707 - rmse: 6.6084 - mae: 5.4008"
     ]
    },
    {
     "name": "stderr",
     "output_type": "stream",
     "text": [
      "/tmp/ipykernel_2361/3680906809.py:37: DeprecationWarning: `np.int` is a deprecated alias for the builtin `int`. To silence this warning, use `int` by itself. Doing this will not modify any behavior and is safe. When replacing `np.int`, you may wish to use e.g. `np.int64` or `np.int32` to specify the precision. If you wish to review your current use, check the release note link for additional information.\n",
      "Deprecated in NumPy 1.20; for more details and guidance: https://numpy.org/devdocs/release/1.20.0-notes.html#deprecations\n",
      "  return (np.ceil(len(self.data) / float(self.batch_size))).astype(np.int)\n"
     ]
    },
    {
     "name": "stdout",
     "output_type": "stream",
     "text": [
      "342/344 [============================>.] - ETA: 0s - loss: 47.0060 - rmse: 6.8561 - mae: 5.5356"
     ]
    },
    {
     "name": "stderr",
     "output_type": "stream",
     "text": [
      "/tmp/ipykernel_2361/3680906809.py:37: DeprecationWarning: `np.int` is a deprecated alias for the builtin `int`. To silence this warning, use `int` by itself. Doing this will not modify any behavior and is safe. When replacing `np.int`, you may wish to use e.g. `np.int64` or `np.int32` to specify the precision. If you wish to review your current use, check the release note link for additional information.\n",
      "Deprecated in NumPy 1.20; for more details and guidance: https://numpy.org/devdocs/release/1.20.0-notes.html#deprecations\n",
      "  return (np.ceil(len(self.data) / float(self.batch_size))).astype(np.int)\n"
     ]
    },
    {
     "name": "stdout",
     "output_type": "stream",
     "text": [
      "344/344 [==============================] - 2s 5ms/step - loss: 47.2276 - rmse: 6.8722 - mae: 5.5486 - val_loss: 40.3643 - val_rmse: 6.3533 - val_mae: 5.3454\n",
      "Epoch 97/2000\n",
      " 21/344 [>.............................] - ETA: 1s - loss: 37.5580 - rmse: 6.1285 - mae: 4.9290"
     ]
    },
    {
     "name": "stderr",
     "output_type": "stream",
     "text": [
      "/tmp/ipykernel_2361/3680906809.py:37: DeprecationWarning: `np.int` is a deprecated alias for the builtin `int`. To silence this warning, use `int` by itself. Doing this will not modify any behavior and is safe. When replacing `np.int`, you may wish to use e.g. `np.int64` or `np.int32` to specify the precision. If you wish to review your current use, check the release note link for additional information.\n",
      "Deprecated in NumPy 1.20; for more details and guidance: https://numpy.org/devdocs/release/1.20.0-notes.html#deprecations\n",
      "  return (np.ceil(len(self.data) / float(self.batch_size))).astype(np.int)\n"
     ]
    },
    {
     "name": "stdout",
     "output_type": "stream",
     "text": [
      "335/344 [============================>.] - ETA: 0s - loss: 46.9097 - rmse: 6.8491 - mae: 5.5210"
     ]
    },
    {
     "name": "stderr",
     "output_type": "stream",
     "text": [
      "/tmp/ipykernel_2361/3680906809.py:37: DeprecationWarning: `np.int` is a deprecated alias for the builtin `int`. To silence this warning, use `int` by itself. Doing this will not modify any behavior and is safe. When replacing `np.int`, you may wish to use e.g. `np.int64` or `np.int32` to specify the precision. If you wish to review your current use, check the release note link for additional information.\n",
      "Deprecated in NumPy 1.20; for more details and guidance: https://numpy.org/devdocs/release/1.20.0-notes.html#deprecations\n",
      "  return (np.ceil(len(self.data) / float(self.batch_size))).astype(np.int)\n"
     ]
    },
    {
     "name": "stdout",
     "output_type": "stream",
     "text": [
      "344/344 [==============================] - 2s 6ms/step - loss: 47.2215 - rmse: 6.8718 - mae: 5.5472 - val_loss: 40.4576 - val_rmse: 6.3606 - val_mae: 5.3509\n",
      "Epoch 98/2000\n",
      " 32/344 [=>............................] - ETA: 1s - loss: 45.3823 - rmse: 6.7366 - mae: 5.3129"
     ]
    },
    {
     "name": "stderr",
     "output_type": "stream",
     "text": [
      "/tmp/ipykernel_2361/3680906809.py:37: DeprecationWarning: `np.int` is a deprecated alias for the builtin `int`. To silence this warning, use `int` by itself. Doing this will not modify any behavior and is safe. When replacing `np.int`, you may wish to use e.g. `np.int64` or `np.int32` to specify the precision. If you wish to review your current use, check the release note link for additional information.\n",
      "Deprecated in NumPy 1.20; for more details and guidance: https://numpy.org/devdocs/release/1.20.0-notes.html#deprecations\n",
      "  return (np.ceil(len(self.data) / float(self.batch_size))).astype(np.int)\n"
     ]
    },
    {
     "name": "stdout",
     "output_type": "stream",
     "text": [
      "333/344 [============================>.] - ETA: 0s - loss: 47.2231 - rmse: 6.8719 - mae: 5.5557"
     ]
    },
    {
     "name": "stderr",
     "output_type": "stream",
     "text": [
      "/tmp/ipykernel_2361/3680906809.py:37: DeprecationWarning: `np.int` is a deprecated alias for the builtin `int`. To silence this warning, use `int` by itself. Doing this will not modify any behavior and is safe. When replacing `np.int`, you may wish to use e.g. `np.int64` or `np.int32` to specify the precision. If you wish to review your current use, check the release note link for additional information.\n",
      "Deprecated in NumPy 1.20; for more details and guidance: https://numpy.org/devdocs/release/1.20.0-notes.html#deprecations\n",
      "  return (np.ceil(len(self.data) / float(self.batch_size))).astype(np.int)\n"
     ]
    },
    {
     "name": "stdout",
     "output_type": "stream",
     "text": [
      "344/344 [==============================] - 2s 6ms/step - loss: 47.2554 - rmse: 6.8743 - mae: 5.5543 - val_loss: 40.4163 - val_rmse: 6.3574 - val_mae: 5.3485\n",
      "Epoch 99/2000\n",
      " 35/344 [==>...........................] - ETA: 1s - loss: 50.8618 - rmse: 7.1317 - mae: 5.7304"
     ]
    },
    {
     "name": "stderr",
     "output_type": "stream",
     "text": [
      "/tmp/ipykernel_2361/3680906809.py:37: DeprecationWarning: `np.int` is a deprecated alias for the builtin `int`. To silence this warning, use `int` by itself. Doing this will not modify any behavior and is safe. When replacing `np.int`, you may wish to use e.g. `np.int64` or `np.int32` to specify the precision. If you wish to review your current use, check the release note link for additional information.\n",
      "Deprecated in NumPy 1.20; for more details and guidance: https://numpy.org/devdocs/release/1.20.0-notes.html#deprecations\n",
      "  return (np.ceil(len(self.data) / float(self.batch_size))).astype(np.int)\n"
     ]
    },
    {
     "name": "stdout",
     "output_type": "stream",
     "text": [
      "341/344 [============================>.] - ETA: 0s - loss: 47.2069 - rmse: 6.8707 - mae: 5.5444"
     ]
    },
    {
     "name": "stderr",
     "output_type": "stream",
     "text": [
      "/tmp/ipykernel_2361/3680906809.py:37: DeprecationWarning: `np.int` is a deprecated alias for the builtin `int`. To silence this warning, use `int` by itself. Doing this will not modify any behavior and is safe. When replacing `np.int`, you may wish to use e.g. `np.int64` or `np.int32` to specify the precision. If you wish to review your current use, check the release note link for additional information.\n",
      "Deprecated in NumPy 1.20; for more details and guidance: https://numpy.org/devdocs/release/1.20.0-notes.html#deprecations\n",
      "  return (np.ceil(len(self.data) / float(self.batch_size))).astype(np.int)\n"
     ]
    },
    {
     "name": "stdout",
     "output_type": "stream",
     "text": [
      "344/344 [==============================] - 2s 6ms/step - loss: 47.2290 - rmse: 6.8723 - mae: 5.5504 - val_loss: 40.3646 - val_rmse: 6.3533 - val_mae: 5.3455\n",
      "Epoch 100/2000\n",
      " 33/344 [=>............................] - ETA: 1s - loss: 46.6672 - rmse: 6.8313 - mae: 5.5635"
     ]
    },
    {
     "name": "stderr",
     "output_type": "stream",
     "text": [
      "/tmp/ipykernel_2361/3680906809.py:37: DeprecationWarning: `np.int` is a deprecated alias for the builtin `int`. To silence this warning, use `int` by itself. Doing this will not modify any behavior and is safe. When replacing `np.int`, you may wish to use e.g. `np.int64` or `np.int32` to specify the precision. If you wish to review your current use, check the release note link for additional information.\n",
      "Deprecated in NumPy 1.20; for more details and guidance: https://numpy.org/devdocs/release/1.20.0-notes.html#deprecations\n",
      "  return (np.ceil(len(self.data) / float(self.batch_size))).astype(np.int)\n"
     ]
    },
    {
     "name": "stdout",
     "output_type": "stream",
     "text": [
      "336/344 [============================>.] - ETA: 0s - loss: 47.6616 - rmse: 6.9037 - mae: 5.5750"
     ]
    },
    {
     "name": "stderr",
     "output_type": "stream",
     "text": [
      "/tmp/ipykernel_2361/3680906809.py:37: DeprecationWarning: `np.int` is a deprecated alias for the builtin `int`. To silence this warning, use `int` by itself. Doing this will not modify any behavior and is safe. When replacing `np.int`, you may wish to use e.g. `np.int64` or `np.int32` to specify the precision. If you wish to review your current use, check the release note link for additional information.\n",
      "Deprecated in NumPy 1.20; for more details and guidance: https://numpy.org/devdocs/release/1.20.0-notes.html#deprecations\n",
      "  return (np.ceil(len(self.data) / float(self.batch_size))).astype(np.int)\n"
     ]
    },
    {
     "name": "stdout",
     "output_type": "stream",
     "text": [
      "344/344 [==============================] - 2s 6ms/step - loss: 47.2209 - rmse: 6.8717 - mae: 5.5538 - val_loss: 40.3028 - val_rmse: 6.3485 - val_mae: 5.3417\n",
      "Epoch 101/2000\n",
      " 32/344 [=>............................] - ETA: 1s - loss: 45.3505 - rmse: 6.7343 - mae: 5.2445"
     ]
    },
    {
     "name": "stderr",
     "output_type": "stream",
     "text": [
      "/tmp/ipykernel_2361/3680906809.py:37: DeprecationWarning: `np.int` is a deprecated alias for the builtin `int`. To silence this warning, use `int` by itself. Doing this will not modify any behavior and is safe. When replacing `np.int`, you may wish to use e.g. `np.int64` or `np.int32` to specify the precision. If you wish to review your current use, check the release note link for additional information.\n",
      "Deprecated in NumPy 1.20; for more details and guidance: https://numpy.org/devdocs/release/1.20.0-notes.html#deprecations\n",
      "  return (np.ceil(len(self.data) / float(self.batch_size))).astype(np.int)\n"
     ]
    },
    {
     "name": "stdout",
     "output_type": "stream",
     "text": [
      "343/344 [============================>.] - ETA: 0s - loss: 47.2217 - rmse: 6.8718 - mae: 5.5442"
     ]
    },
    {
     "name": "stderr",
     "output_type": "stream",
     "text": [
      "/tmp/ipykernel_2361/3680906809.py:37: DeprecationWarning: `np.int` is a deprecated alias for the builtin `int`. To silence this warning, use `int` by itself. Doing this will not modify any behavior and is safe. When replacing `np.int`, you may wish to use e.g. `np.int64` or `np.int32` to specify the precision. If you wish to review your current use, check the release note link for additional information.\n",
      "Deprecated in NumPy 1.20; for more details and guidance: https://numpy.org/devdocs/release/1.20.0-notes.html#deprecations\n",
      "  return (np.ceil(len(self.data) / float(self.batch_size))).astype(np.int)\n"
     ]
    },
    {
     "name": "stdout",
     "output_type": "stream",
     "text": [
      "Restoring model weights from the end of the best epoch: 1.\n",
      "344/344 [==============================] - 2s 6ms/step - loss: 47.2289 - rmse: 6.8723 - mae: 5.5464 - val_loss: 40.3191 - val_rmse: 6.3497 - val_mae: 5.3427\n",
      "Epoch 101: early stopping\n",
      "INFO:tensorflow:Assets written to: /lfs1/ashaji/Imputation_Problem/further/STR/modelonlySTR/assets\n"
     ]
    }
   ],
   "source": [
    "model.compile(\n",
    "    loss='mse',\n",
    "    optimizer = keras.optimizers.AdamW(learning_rate=1e-2,weight_decay=1e-5),\n",
    "    metrics = [tf.keras.metrics.RootMeanSquaredError(name='rmse'),tf.keras.metrics.MeanAbsoluteError(name='mae')]   \n",
    ")\n",
    "early = keras.callbacks.EarlyStopping(monitor='val_mae',patience = 100, verbose = 1, restore_best_weights = True)\n",
    "\n",
    "history = model.fit(\n",
    "    dg_train,\n",
    "    validation_data = dg_val,\n",
    "    epochs = 2000,\n",
    "    verbose = 1,\n",
    "    callbacks = [early]\n",
    ")\n",
    "model.save('/lfs1/ashaji/Imputation_Problem/further/STR/modelonlySTR')"
   ]
  },
  {
   "cell_type": "code",
   "execution_count": 45,
   "id": "a9145d44",
   "metadata": {},
   "outputs": [
    {
     "name": "stdout",
     "output_type": "stream",
     "text": [
      "23/23 [==============================] - 0s 4ms/step - loss: 54.9184 - rmse: 7.4107 - mae: 6.3482\n"
     ]
    },
    {
     "name": "stderr",
     "output_type": "stream",
     "text": [
      "/tmp/ipykernel_2361/3680906809.py:37: DeprecationWarning: `np.int` is a deprecated alias for the builtin `int`. To silence this warning, use `int` by itself. Doing this will not modify any behavior and is safe. When replacing `np.int`, you may wish to use e.g. `np.int64` or `np.int32` to specify the precision. If you wish to review your current use, check the release note link for additional information.\n",
      "Deprecated in NumPy 1.20; for more details and guidance: https://numpy.org/devdocs/release/1.20.0-notes.html#deprecations\n",
      "  return (np.ceil(len(self.data) / float(self.batch_size))).astype(np.int)\n",
      "2023-12-03 04:21:31.261107: I tensorflow/core/common_runtime/executor.cc:1197] [/device:CPU:0] (DEBUG INFO) Executor start aborting (this does not indicate an error and you can ignore this message): INVALID_ARGUMENT: You must feed a value for placeholder tensor 'Placeholder/_0' with dtype int32\n",
      "\t [[{{node Placeholder/_0}}]]\n"
     ]
    },
    {
     "data": {
      "text/plain": [
       "[54.91840744018555, 7.410695552825928, 6.348201751708984]"
      ]
     },
     "execution_count": 45,
     "metadata": {},
     "output_type": "execute_result"
    }
   ],
   "source": [
    "model.evaluate(dg_testall)"
   ]
  },
  {
   "cell_type": "code",
   "execution_count": 54,
   "id": "7167d5da",
   "metadata": {},
   "outputs": [
    {
     "name": "stdout",
     "output_type": "stream",
     "text": [
      "Epoch 1/200\n"
     ]
    },
    {
     "name": "stderr",
     "output_type": "stream",
     "text": [
      "/tmp/ipykernel_31192/2520707933.py:33: DeprecationWarning: `np.int` is a deprecated alias for the builtin `int`. To silence this warning, use `int` by itself. Doing this will not modify any behavior and is safe. When replacing `np.int`, you may wish to use e.g. `np.int64` or `np.int32` to specify the precision. If you wish to review your current use, check the release note link for additional information.\n",
      "Deprecated in NumPy 1.20; for more details and guidance: https://numpy.org/devdocs/release/1.20.0-notes.html#deprecations\n",
      "  return (np.ceil(len(self.data) / float(self.batch_size))).astype(np.int)\n",
      "/tmp/ipykernel_31192/2520707933.py:33: DeprecationWarning: `np.int` is a deprecated alias for the builtin `int`. To silence this warning, use `int` by itself. Doing this will not modify any behavior and is safe. When replacing `np.int`, you may wish to use e.g. `np.int64` or `np.int32` to specify the precision. If you wish to review your current use, check the release note link for additional information.\n",
      "Deprecated in NumPy 1.20; for more details and guidance: https://numpy.org/devdocs/release/1.20.0-notes.html#deprecations\n",
      "  return (np.ceil(len(self.data) / float(self.batch_size))).astype(np.int)\n",
      "2023-10-28 17:30:09.933617: I tensorflow/core/common_runtime/executor.cc:1197] [/device:CPU:0] (DEBUG INFO) Executor start aborting (this does not indicate an error and you can ignore this message): INVALID_ARGUMENT: You must feed a value for placeholder tensor 'Placeholder/_0' with dtype int32\n",
      "\t [[{{node Placeholder/_0}}]]\n"
     ]
    },
    {
     "name": "stdout",
     "output_type": "stream",
     "text": [
      "332/339 [============================>.] - ETA: 0s - loss: 47.8629 - rmse: 6.9183 - mae: 5.5867"
     ]
    },
    {
     "name": "stderr",
     "output_type": "stream",
     "text": [
      "/tmp/ipykernel_31192/2520707933.py:33: DeprecationWarning: `np.int` is a deprecated alias for the builtin `int`. To silence this warning, use `int` by itself. Doing this will not modify any behavior and is safe. When replacing `np.int`, you may wish to use e.g. `np.int64` or `np.int32` to specify the precision. If you wish to review your current use, check the release note link for additional information.\n",
      "Deprecated in NumPy 1.20; for more details and guidance: https://numpy.org/devdocs/release/1.20.0-notes.html#deprecations\n",
      "  return (np.ceil(len(self.data) / float(self.batch_size))).astype(np.int)\n"
     ]
    },
    {
     "name": "stdout",
     "output_type": "stream",
     "text": [
      "\n",
      "Epoch 1: val_mae improved from inf to 5.46553, saving model to /lfs1/ashaji/Imputation_Problem/further/STR3/modelonlySTR-epoch01-val_loss41.95\n",
      "INFO:tensorflow:Assets written to: /lfs1/ashaji/Imputation_Problem/further/STR3/modelonlySTR-epoch01-val_loss41.95/assets\n",
      "339/339 [==============================] - 5s 10ms/step - loss: 47.7633 - rmse: 6.9111 - mae: 5.5750 - val_loss: 41.9533 - val_rmse: 6.4771 - val_mae: 5.4655\n",
      "Epoch 2/200\n",
      " 21/339 [>.............................] - ETA: 1s - loss: 50.6077 - rmse: 7.1139 - mae: 5.5758"
     ]
    },
    {
     "name": "stderr",
     "output_type": "stream",
     "text": [
      "/tmp/ipykernel_31192/2520707933.py:33: DeprecationWarning: `np.int` is a deprecated alias for the builtin `int`. To silence this warning, use `int` by itself. Doing this will not modify any behavior and is safe. When replacing `np.int`, you may wish to use e.g. `np.int64` or `np.int32` to specify the precision. If you wish to review your current use, check the release note link for additional information.\n",
      "Deprecated in NumPy 1.20; for more details and guidance: https://numpy.org/devdocs/release/1.20.0-notes.html#deprecations\n",
      "  return (np.ceil(len(self.data) / float(self.batch_size))).astype(np.int)\n"
     ]
    },
    {
     "name": "stdout",
     "output_type": "stream",
     "text": [
      "331/339 [============================>.] - ETA: 0s - loss: 47.4830 - rmse: 6.8908 - mae: 5.5622"
     ]
    },
    {
     "name": "stderr",
     "output_type": "stream",
     "text": [
      "/tmp/ipykernel_31192/2520707933.py:33: DeprecationWarning: `np.int` is a deprecated alias for the builtin `int`. To silence this warning, use `int` by itself. Doing this will not modify any behavior and is safe. When replacing `np.int`, you may wish to use e.g. `np.int64` or `np.int32` to specify the precision. If you wish to review your current use, check the release note link for additional information.\n",
      "Deprecated in NumPy 1.20; for more details and guidance: https://numpy.org/devdocs/release/1.20.0-notes.html#deprecations\n",
      "  return (np.ceil(len(self.data) / float(self.batch_size))).astype(np.int)\n"
     ]
    },
    {
     "name": "stdout",
     "output_type": "stream",
     "text": [
      "\n",
      "Epoch 2: val_mae improved from 5.46553 to 5.45550, saving model to /lfs1/ashaji/Imputation_Problem/further/STR3/modelonlySTR-epoch02-val_loss41.82\n",
      "INFO:tensorflow:Assets written to: /lfs1/ashaji/Imputation_Problem/further/STR3/modelonlySTR-epoch02-val_loss41.82/assets\n",
      "339/339 [==============================] - 3s 10ms/step - loss: 47.6150 - rmse: 6.9004 - mae: 5.5707 - val_loss: 41.8195 - val_rmse: 6.4668 - val_mae: 5.4555\n",
      "Epoch 3/200\n",
      " 30/339 [=>............................] - ETA: 1s - loss: 52.8033 - rmse: 7.2666 - mae: 5.8383"
     ]
    },
    {
     "name": "stderr",
     "output_type": "stream",
     "text": [
      "/tmp/ipykernel_31192/2520707933.py:33: DeprecationWarning: `np.int` is a deprecated alias for the builtin `int`. To silence this warning, use `int` by itself. Doing this will not modify any behavior and is safe. When replacing `np.int`, you may wish to use e.g. `np.int64` or `np.int32` to specify the precision. If you wish to review your current use, check the release note link for additional information.\n",
      "Deprecated in NumPy 1.20; for more details and guidance: https://numpy.org/devdocs/release/1.20.0-notes.html#deprecations\n",
      "  return (np.ceil(len(self.data) / float(self.batch_size))).astype(np.int)\n"
     ]
    },
    {
     "name": "stdout",
     "output_type": "stream",
     "text": [
      "339/339 [==============================] - ETA: 0s - loss: 47.5945 - rmse: 6.8989 - mae: 5.5731"
     ]
    },
    {
     "name": "stderr",
     "output_type": "stream",
     "text": [
      "/tmp/ipykernel_31192/2520707933.py:33: DeprecationWarning: `np.int` is a deprecated alias for the builtin `int`. To silence this warning, use `int` by itself. Doing this will not modify any behavior and is safe. When replacing `np.int`, you may wish to use e.g. `np.int64` or `np.int32` to specify the precision. If you wish to review your current use, check the release note link for additional information.\n",
      "Deprecated in NumPy 1.20; for more details and guidance: https://numpy.org/devdocs/release/1.20.0-notes.html#deprecations\n",
      "  return (np.ceil(len(self.data) / float(self.batch_size))).astype(np.int)\n"
     ]
    },
    {
     "name": "stdout",
     "output_type": "stream",
     "text": [
      "\n",
      "Epoch 3: val_mae improved from 5.45550 to 5.45463, saving model to /lfs1/ashaji/Imputation_Problem/further/STR3/modelonlySTR-epoch03-val_loss41.81\n",
      "INFO:tensorflow:Assets written to: /lfs1/ashaji/Imputation_Problem/further/STR3/modelonlySTR-epoch03-val_loss41.81/assets\n",
      "339/339 [==============================] - 3s 9ms/step - loss: 47.5945 - rmse: 6.8989 - mae: 5.5731 - val_loss: 41.8087 - val_rmse: 6.4660 - val_mae: 5.4546\n",
      "Epoch 4/200\n",
      " 31/339 [=>............................] - ETA: 1s - loss: 47.3045 - rmse: 6.8778 - mae: 5.6301"
     ]
    },
    {
     "name": "stderr",
     "output_type": "stream",
     "text": [
      "/tmp/ipykernel_31192/2520707933.py:33: DeprecationWarning: `np.int` is a deprecated alias for the builtin `int`. To silence this warning, use `int` by itself. Doing this will not modify any behavior and is safe. When replacing `np.int`, you may wish to use e.g. `np.int64` or `np.int32` to specify the precision. If you wish to review your current use, check the release note link for additional information.\n",
      "Deprecated in NumPy 1.20; for more details and guidance: https://numpy.org/devdocs/release/1.20.0-notes.html#deprecations\n",
      "  return (np.ceil(len(self.data) / float(self.batch_size))).astype(np.int)\n"
     ]
    },
    {
     "name": "stdout",
     "output_type": "stream",
     "text": [
      "331/339 [============================>.] - ETA: 0s - loss: 47.6101 - rmse: 6.9000 - mae: 5.5789"
     ]
    },
    {
     "name": "stderr",
     "output_type": "stream",
     "text": [
      "/tmp/ipykernel_31192/2520707933.py:33: DeprecationWarning: `np.int` is a deprecated alias for the builtin `int`. To silence this warning, use `int` by itself. Doing this will not modify any behavior and is safe. When replacing `np.int`, you may wish to use e.g. `np.int64` or `np.int32` to specify the precision. If you wish to review your current use, check the release note link for additional information.\n",
      "Deprecated in NumPy 1.20; for more details and guidance: https://numpy.org/devdocs/release/1.20.0-notes.html#deprecations\n",
      "  return (np.ceil(len(self.data) / float(self.batch_size))).astype(np.int)\n"
     ]
    },
    {
     "name": "stdout",
     "output_type": "stream",
     "text": [
      "\n",
      "Epoch 4: val_mae did not improve from 5.45463\n",
      "339/339 [==============================] - 2s 6ms/step - loss: 47.5795 - rmse: 6.8978 - mae: 5.5719 - val_loss: 41.8236 - val_rmse: 6.4671 - val_mae: 5.4558\n",
      "Epoch 5/200\n",
      " 32/339 [=>............................] - ETA: 1s - loss: 53.8036 - rmse: 7.3351 - mae: 5.8915"
     ]
    },
    {
     "name": "stderr",
     "output_type": "stream",
     "text": [
      "/tmp/ipykernel_31192/2520707933.py:33: DeprecationWarning: `np.int` is a deprecated alias for the builtin `int`. To silence this warning, use `int` by itself. Doing this will not modify any behavior and is safe. When replacing `np.int`, you may wish to use e.g. `np.int64` or `np.int32` to specify the precision. If you wish to review your current use, check the release note link for additional information.\n",
      "Deprecated in NumPy 1.20; for more details and guidance: https://numpy.org/devdocs/release/1.20.0-notes.html#deprecations\n",
      "  return (np.ceil(len(self.data) / float(self.batch_size))).astype(np.int)\n"
     ]
    },
    {
     "name": "stdout",
     "output_type": "stream",
     "text": [
      "339/339 [==============================] - ETA: 0s - loss: 47.5770 - rmse: 6.8976 - mae: 5.5720"
     ]
    },
    {
     "name": "stderr",
     "output_type": "stream",
     "text": [
      "/tmp/ipykernel_31192/2520707933.py:33: DeprecationWarning: `np.int` is a deprecated alias for the builtin `int`. To silence this warning, use `int` by itself. Doing this will not modify any behavior and is safe. When replacing `np.int`, you may wish to use e.g. `np.int64` or `np.int32` to specify the precision. If you wish to review your current use, check the release note link for additional information.\n",
      "Deprecated in NumPy 1.20; for more details and guidance: https://numpy.org/devdocs/release/1.20.0-notes.html#deprecations\n",
      "  return (np.ceil(len(self.data) / float(self.batch_size))).astype(np.int)\n"
     ]
    },
    {
     "name": "stdout",
     "output_type": "stream",
     "text": [
      "\n",
      "Epoch 5: val_mae did not improve from 5.45463\n",
      "339/339 [==============================] - 2s 6ms/step - loss: 47.5770 - rmse: 6.8976 - mae: 5.5720 - val_loss: 41.8246 - val_rmse: 6.4672 - val_mae: 5.4559\n",
      "Epoch 6/200\n",
      " 19/339 [>.............................] - ETA: 1s - loss: 50.1015 - rmse: 7.0782 - mae: 5.6900"
     ]
    },
    {
     "name": "stderr",
     "output_type": "stream",
     "text": [
      "/tmp/ipykernel_31192/2520707933.py:33: DeprecationWarning: `np.int` is a deprecated alias for the builtin `int`. To silence this warning, use `int` by itself. Doing this will not modify any behavior and is safe. When replacing `np.int`, you may wish to use e.g. `np.int64` or `np.int32` to specify the precision. If you wish to review your current use, check the release note link for additional information.\n",
      "Deprecated in NumPy 1.20; for more details and guidance: https://numpy.org/devdocs/release/1.20.0-notes.html#deprecations\n",
      "  return (np.ceil(len(self.data) / float(self.batch_size))).astype(np.int)\n"
     ]
    },
    {
     "name": "stdout",
     "output_type": "stream",
     "text": [
      "332/339 [============================>.] - ETA: 0s - loss: 47.5534 - rmse: 6.8959 - mae: 5.5739"
     ]
    },
    {
     "name": "stderr",
     "output_type": "stream",
     "text": [
      "/tmp/ipykernel_31192/2520707933.py:33: DeprecationWarning: `np.int` is a deprecated alias for the builtin `int`. To silence this warning, use `int` by itself. Doing this will not modify any behavior and is safe. When replacing `np.int`, you may wish to use e.g. `np.int64` or `np.int32` to specify the precision. If you wish to review your current use, check the release note link for additional information.\n",
      "Deprecated in NumPy 1.20; for more details and guidance: https://numpy.org/devdocs/release/1.20.0-notes.html#deprecations\n",
      "  return (np.ceil(len(self.data) / float(self.batch_size))).astype(np.int)\n"
     ]
    },
    {
     "name": "stdout",
     "output_type": "stream",
     "text": [
      "\n",
      "Epoch 6: val_mae did not improve from 5.45463\n",
      "339/339 [==============================] - 2s 6ms/step - loss: 47.5761 - rmse: 6.8975 - mae: 5.5718 - val_loss: 41.8240 - val_rmse: 6.4671 - val_mae: 5.4559\n",
      "Epoch 7/200\n",
      " 21/339 [>.............................] - ETA: 1s - loss: 40.0847 - rmse: 6.3313 - mae: 5.0122"
     ]
    },
    {
     "name": "stderr",
     "output_type": "stream",
     "text": [
      "/tmp/ipykernel_31192/2520707933.py:33: DeprecationWarning: `np.int` is a deprecated alias for the builtin `int`. To silence this warning, use `int` by itself. Doing this will not modify any behavior and is safe. When replacing `np.int`, you may wish to use e.g. `np.int64` or `np.int32` to specify the precision. If you wish to review your current use, check the release note link for additional information.\n",
      "Deprecated in NumPy 1.20; for more details and guidance: https://numpy.org/devdocs/release/1.20.0-notes.html#deprecations\n",
      "  return (np.ceil(len(self.data) / float(self.batch_size))).astype(np.int)\n"
     ]
    },
    {
     "name": "stdout",
     "output_type": "stream",
     "text": [
      "329/339 [============================>.] - ETA: 0s - loss: 47.4664 - rmse: 6.8896 - mae: 5.5692"
     ]
    },
    {
     "name": "stderr",
     "output_type": "stream",
     "text": [
      "/tmp/ipykernel_31192/2520707933.py:33: DeprecationWarning: `np.int` is a deprecated alias for the builtin `int`. To silence this warning, use `int` by itself. Doing this will not modify any behavior and is safe. When replacing `np.int`, you may wish to use e.g. `np.int64` or `np.int32` to specify the precision. If you wish to review your current use, check the release note link for additional information.\n",
      "Deprecated in NumPy 1.20; for more details and guidance: https://numpy.org/devdocs/release/1.20.0-notes.html#deprecations\n",
      "  return (np.ceil(len(self.data) / float(self.batch_size))).astype(np.int)\n"
     ]
    },
    {
     "name": "stdout",
     "output_type": "stream",
     "text": [
      "\n",
      "Epoch 7: val_mae did not improve from 5.45463\n",
      "339/339 [==============================] - 2s 7ms/step - loss: 47.5758 - rmse: 6.8975 - mae: 5.5718 - val_loss: 41.8240 - val_rmse: 6.4671 - val_mae: 5.4559\n",
      "Epoch 8/200\n",
      " 34/339 [==>...........................] - ETA: 1s - loss: 50.2557 - rmse: 7.0891 - mae: 5.8323"
     ]
    },
    {
     "name": "stderr",
     "output_type": "stream",
     "text": [
      "/tmp/ipykernel_31192/2520707933.py:33: DeprecationWarning: `np.int` is a deprecated alias for the builtin `int`. To silence this warning, use `int` by itself. Doing this will not modify any behavior and is safe. When replacing `np.int`, you may wish to use e.g. `np.int64` or `np.int32` to specify the precision. If you wish to review your current use, check the release note link for additional information.\n",
      "Deprecated in NumPy 1.20; for more details and guidance: https://numpy.org/devdocs/release/1.20.0-notes.html#deprecations\n",
      "  return (np.ceil(len(self.data) / float(self.batch_size))).astype(np.int)\n"
     ]
    },
    {
     "name": "stdout",
     "output_type": "stream",
     "text": [
      "331/339 [============================>.] - ETA: 0s - loss: 47.9206 - rmse: 6.9225 - mae: 5.5917"
     ]
    },
    {
     "name": "stderr",
     "output_type": "stream",
     "text": [
      "/tmp/ipykernel_31192/2520707933.py:33: DeprecationWarning: `np.int` is a deprecated alias for the builtin `int`. To silence this warning, use `int` by itself. Doing this will not modify any behavior and is safe. When replacing `np.int`, you may wish to use e.g. `np.int64` or `np.int32` to specify the precision. If you wish to review your current use, check the release note link for additional information.\n",
      "Deprecated in NumPy 1.20; for more details and guidance: https://numpy.org/devdocs/release/1.20.0-notes.html#deprecations\n",
      "  return (np.ceil(len(self.data) / float(self.batch_size))).astype(np.int)\n"
     ]
    },
    {
     "name": "stdout",
     "output_type": "stream",
     "text": [
      "\n",
      "Epoch 8: val_mae did not improve from 5.45463\n",
      "339/339 [==============================] - 2s 6ms/step - loss: 47.5758 - rmse: 6.8975 - mae: 5.5718 - val_loss: 41.8240 - val_rmse: 6.4671 - val_mae: 5.4559\n",
      "Epoch 9/200\n",
      " 21/339 [>.............................] - ETA: 1s - loss: 50.6696 - rmse: 7.1183 - mae: 5.8527"
     ]
    },
    {
     "name": "stderr",
     "output_type": "stream",
     "text": [
      "/tmp/ipykernel_31192/2520707933.py:33: DeprecationWarning: `np.int` is a deprecated alias for the builtin `int`. To silence this warning, use `int` by itself. Doing this will not modify any behavior and is safe. When replacing `np.int`, you may wish to use e.g. `np.int64` or `np.int32` to specify the precision. If you wish to review your current use, check the release note link for additional information.\n",
      "Deprecated in NumPy 1.20; for more details and guidance: https://numpy.org/devdocs/release/1.20.0-notes.html#deprecations\n",
      "  return (np.ceil(len(self.data) / float(self.batch_size))).astype(np.int)\n"
     ]
    },
    {
     "name": "stdout",
     "output_type": "stream",
     "text": [
      "331/339 [============================>.] - ETA: 0s - loss: 47.8021 - rmse: 6.9139 - mae: 5.5856"
     ]
    },
    {
     "name": "stderr",
     "output_type": "stream",
     "text": [
      "/tmp/ipykernel_31192/2520707933.py:33: DeprecationWarning: `np.int` is a deprecated alias for the builtin `int`. To silence this warning, use `int` by itself. Doing this will not modify any behavior and is safe. When replacing `np.int`, you may wish to use e.g. `np.int64` or `np.int32` to specify the precision. If you wish to review your current use, check the release note link for additional information.\n",
      "Deprecated in NumPy 1.20; for more details and guidance: https://numpy.org/devdocs/release/1.20.0-notes.html#deprecations\n",
      "  return (np.ceil(len(self.data) / float(self.batch_size))).astype(np.int)\n"
     ]
    },
    {
     "name": "stdout",
     "output_type": "stream",
     "text": [
      "\n",
      "Epoch 9: val_mae did not improve from 5.45463\n",
      "339/339 [==============================] - 2s 6ms/step - loss: 47.5758 - rmse: 6.8975 - mae: 5.5718 - val_loss: 41.8240 - val_rmse: 6.4671 - val_mae: 5.4559\n",
      "Epoch 10/200\n",
      " 33/339 [=>............................] - ETA: 1s - loss: 43.8120 - rmse: 6.6191 - mae: 5.2784"
     ]
    },
    {
     "name": "stderr",
     "output_type": "stream",
     "text": [
      "/tmp/ipykernel_31192/2520707933.py:33: DeprecationWarning: `np.int` is a deprecated alias for the builtin `int`. To silence this warning, use `int` by itself. Doing this will not modify any behavior and is safe. When replacing `np.int`, you may wish to use e.g. `np.int64` or `np.int32` to specify the precision. If you wish to review your current use, check the release note link for additional information.\n",
      "Deprecated in NumPy 1.20; for more details and guidance: https://numpy.org/devdocs/release/1.20.0-notes.html#deprecations\n",
      "  return (np.ceil(len(self.data) / float(self.batch_size))).astype(np.int)\n"
     ]
    },
    {
     "name": "stdout",
     "output_type": "stream",
     "text": [
      "283/339 [========================>.....] - ETA: 0s - loss: 48.1436 - rmse: 6.9386 - mae: 5.5980"
     ]
    },
    {
     "ename": "KeyboardInterrupt",
     "evalue": "",
     "output_type": "error",
     "traceback": [
      "\u001b[0;31m---------------------------------------------------------------------------\u001b[0m",
      "\u001b[0;31mKeyboardInterrupt\u001b[0m                         Traceback (most recent call last)",
      "Cell \u001b[0;32mIn[54], line 13\u001b[0m\n\u001b[1;32m     10\u001b[0m check \u001b[38;5;241m=\u001b[39m keras\u001b[38;5;241m.\u001b[39mcallbacks\u001b[38;5;241m.\u001b[39mModelCheckpoint(filepath,monitor\u001b[38;5;241m=\u001b[39m\u001b[38;5;124m'\u001b[39m\u001b[38;5;124mval_mae\u001b[39m\u001b[38;5;124m'\u001b[39m,verbose\u001b[38;5;241m=\u001b[39m\u001b[38;5;241m1\u001b[39m,save_best_only\u001b[38;5;241m=\u001b[39m\u001b[38;5;28;01mTrue\u001b[39;00m,mode\u001b[38;5;241m=\u001b[39m\u001b[38;5;124m'\u001b[39m\u001b[38;5;124mauto\u001b[39m\u001b[38;5;124m'\u001b[39m)\n\u001b[1;32m     11\u001b[0m early \u001b[38;5;241m=\u001b[39m keras\u001b[38;5;241m.\u001b[39mcallbacks\u001b[38;5;241m.\u001b[39mEarlyStopping(monitor\u001b[38;5;241m=\u001b[39m\u001b[38;5;124m'\u001b[39m\u001b[38;5;124mval_mae\u001b[39m\u001b[38;5;124m'\u001b[39m,patience \u001b[38;5;241m=\u001b[39m \u001b[38;5;241m20\u001b[39m, verbose \u001b[38;5;241m=\u001b[39m \u001b[38;5;241m1\u001b[39m, restore_best_weights \u001b[38;5;241m=\u001b[39m \u001b[38;5;28;01mTrue\u001b[39;00m)\n\u001b[0;32m---> 13\u001b[0m history \u001b[38;5;241m=\u001b[39m \u001b[43mmodel\u001b[49m\u001b[38;5;241;43m.\u001b[39;49m\u001b[43mfit\u001b[49m\u001b[43m(\u001b[49m\n\u001b[1;32m     14\u001b[0m \u001b[43m    \u001b[49m\u001b[43mdg_train\u001b[49m\u001b[43m,\u001b[49m\n\u001b[1;32m     15\u001b[0m \u001b[43m    \u001b[49m\u001b[43mvalidation_data\u001b[49m\u001b[43m \u001b[49m\u001b[38;5;241;43m=\u001b[39;49m\u001b[43m \u001b[49m\u001b[43mdg_val\u001b[49m\u001b[43m,\u001b[49m\n\u001b[1;32m     16\u001b[0m \u001b[43m    \u001b[49m\u001b[43mepochs\u001b[49m\u001b[43m \u001b[49m\u001b[38;5;241;43m=\u001b[39;49m\u001b[43m \u001b[49m\u001b[38;5;241;43m200\u001b[39;49m\u001b[43m,\u001b[49m\n\u001b[1;32m     17\u001b[0m \u001b[43m    \u001b[49m\u001b[43mverbose\u001b[49m\u001b[43m \u001b[49m\u001b[38;5;241;43m=\u001b[39;49m\u001b[43m \u001b[49m\u001b[38;5;241;43m1\u001b[39;49m\u001b[43m,\u001b[49m\n\u001b[1;32m     18\u001b[0m \u001b[43m    \u001b[49m\u001b[43mcallbacks\u001b[49m\u001b[43m \u001b[49m\u001b[38;5;241;43m=\u001b[39;49m\u001b[43m \u001b[49m\u001b[43m[\u001b[49m\u001b[43mcheck\u001b[49m\u001b[43m,\u001b[49m\u001b[43mearly\u001b[49m\u001b[43m]\u001b[49m\n\u001b[1;32m     19\u001b[0m \u001b[43m)\u001b[49m\n",
      "File \u001b[0;32m/lfs1/ashaji/condawork/lib/python3.10/site-packages/keras/utils/traceback_utils.py:65\u001b[0m, in \u001b[0;36mfilter_traceback.<locals>.error_handler\u001b[0;34m(*args, **kwargs)\u001b[0m\n\u001b[1;32m     63\u001b[0m filtered_tb \u001b[38;5;241m=\u001b[39m \u001b[38;5;28;01mNone\u001b[39;00m\n\u001b[1;32m     64\u001b[0m \u001b[38;5;28;01mtry\u001b[39;00m:\n\u001b[0;32m---> 65\u001b[0m     \u001b[38;5;28;01mreturn\u001b[39;00m \u001b[43mfn\u001b[49m\u001b[43m(\u001b[49m\u001b[38;5;241;43m*\u001b[39;49m\u001b[43margs\u001b[49m\u001b[43m,\u001b[49m\u001b[43m \u001b[49m\u001b[38;5;241;43m*\u001b[39;49m\u001b[38;5;241;43m*\u001b[39;49m\u001b[43mkwargs\u001b[49m\u001b[43m)\u001b[49m\n\u001b[1;32m     66\u001b[0m \u001b[38;5;28;01mexcept\u001b[39;00m \u001b[38;5;167;01mException\u001b[39;00m \u001b[38;5;28;01mas\u001b[39;00m e:\n\u001b[1;32m     67\u001b[0m     filtered_tb \u001b[38;5;241m=\u001b[39m _process_traceback_frames(e\u001b[38;5;241m.\u001b[39m__traceback__)\n",
      "File \u001b[0;32m/lfs1/ashaji/condawork/lib/python3.10/site-packages/keras/engine/training.py:1685\u001b[0m, in \u001b[0;36mModel.fit\u001b[0;34m(self, x, y, batch_size, epochs, verbose, callbacks, validation_split, validation_data, shuffle, class_weight, sample_weight, initial_epoch, steps_per_epoch, validation_steps, validation_batch_size, validation_freq, max_queue_size, workers, use_multiprocessing)\u001b[0m\n\u001b[1;32m   1677\u001b[0m \u001b[38;5;28;01mwith\u001b[39;00m tf\u001b[38;5;241m.\u001b[39mprofiler\u001b[38;5;241m.\u001b[39mexperimental\u001b[38;5;241m.\u001b[39mTrace(\n\u001b[1;32m   1678\u001b[0m     \u001b[38;5;124m\"\u001b[39m\u001b[38;5;124mtrain\u001b[39m\u001b[38;5;124m\"\u001b[39m,\n\u001b[1;32m   1679\u001b[0m     epoch_num\u001b[38;5;241m=\u001b[39mepoch,\n\u001b[0;32m   (...)\u001b[0m\n\u001b[1;32m   1682\u001b[0m     _r\u001b[38;5;241m=\u001b[39m\u001b[38;5;241m1\u001b[39m,\n\u001b[1;32m   1683\u001b[0m ):\n\u001b[1;32m   1684\u001b[0m     callbacks\u001b[38;5;241m.\u001b[39mon_train_batch_begin(step)\n\u001b[0;32m-> 1685\u001b[0m     tmp_logs \u001b[38;5;241m=\u001b[39m \u001b[38;5;28;43mself\u001b[39;49m\u001b[38;5;241;43m.\u001b[39;49m\u001b[43mtrain_function\u001b[49m\u001b[43m(\u001b[49m\u001b[43miterator\u001b[49m\u001b[43m)\u001b[49m\n\u001b[1;32m   1686\u001b[0m     \u001b[38;5;28;01mif\u001b[39;00m data_handler\u001b[38;5;241m.\u001b[39mshould_sync:\n\u001b[1;32m   1687\u001b[0m         context\u001b[38;5;241m.\u001b[39masync_wait()\n",
      "File \u001b[0;32m/lfs1/ashaji/condawork/lib/python3.10/site-packages/tensorflow/python/util/traceback_utils.py:150\u001b[0m, in \u001b[0;36mfilter_traceback.<locals>.error_handler\u001b[0;34m(*args, **kwargs)\u001b[0m\n\u001b[1;32m    148\u001b[0m filtered_tb \u001b[38;5;241m=\u001b[39m \u001b[38;5;28;01mNone\u001b[39;00m\n\u001b[1;32m    149\u001b[0m \u001b[38;5;28;01mtry\u001b[39;00m:\n\u001b[0;32m--> 150\u001b[0m   \u001b[38;5;28;01mreturn\u001b[39;00m \u001b[43mfn\u001b[49m\u001b[43m(\u001b[49m\u001b[38;5;241;43m*\u001b[39;49m\u001b[43margs\u001b[49m\u001b[43m,\u001b[49m\u001b[43m \u001b[49m\u001b[38;5;241;43m*\u001b[39;49m\u001b[38;5;241;43m*\u001b[39;49m\u001b[43mkwargs\u001b[49m\u001b[43m)\u001b[49m\n\u001b[1;32m    151\u001b[0m \u001b[38;5;28;01mexcept\u001b[39;00m \u001b[38;5;167;01mException\u001b[39;00m \u001b[38;5;28;01mas\u001b[39;00m e:\n\u001b[1;32m    152\u001b[0m   filtered_tb \u001b[38;5;241m=\u001b[39m _process_traceback_frames(e\u001b[38;5;241m.\u001b[39m__traceback__)\n",
      "File \u001b[0;32m/lfs1/ashaji/condawork/lib/python3.10/site-packages/tensorflow/python/eager/polymorphic_function/polymorphic_function.py:894\u001b[0m, in \u001b[0;36mFunction.__call__\u001b[0;34m(self, *args, **kwds)\u001b[0m\n\u001b[1;32m    891\u001b[0m compiler \u001b[38;5;241m=\u001b[39m \u001b[38;5;124m\"\u001b[39m\u001b[38;5;124mxla\u001b[39m\u001b[38;5;124m\"\u001b[39m \u001b[38;5;28;01mif\u001b[39;00m \u001b[38;5;28mself\u001b[39m\u001b[38;5;241m.\u001b[39m_jit_compile \u001b[38;5;28;01melse\u001b[39;00m \u001b[38;5;124m\"\u001b[39m\u001b[38;5;124mnonXla\u001b[39m\u001b[38;5;124m\"\u001b[39m\n\u001b[1;32m    893\u001b[0m \u001b[38;5;28;01mwith\u001b[39;00m OptionalXlaContext(\u001b[38;5;28mself\u001b[39m\u001b[38;5;241m.\u001b[39m_jit_compile):\n\u001b[0;32m--> 894\u001b[0m   result \u001b[38;5;241m=\u001b[39m \u001b[38;5;28;43mself\u001b[39;49m\u001b[38;5;241;43m.\u001b[39;49m\u001b[43m_call\u001b[49m\u001b[43m(\u001b[49m\u001b[38;5;241;43m*\u001b[39;49m\u001b[43margs\u001b[49m\u001b[43m,\u001b[49m\u001b[43m \u001b[49m\u001b[38;5;241;43m*\u001b[39;49m\u001b[38;5;241;43m*\u001b[39;49m\u001b[43mkwds\u001b[49m\u001b[43m)\u001b[49m\n\u001b[1;32m    896\u001b[0m new_tracing_count \u001b[38;5;241m=\u001b[39m \u001b[38;5;28mself\u001b[39m\u001b[38;5;241m.\u001b[39mexperimental_get_tracing_count()\n\u001b[1;32m    897\u001b[0m without_tracing \u001b[38;5;241m=\u001b[39m (tracing_count \u001b[38;5;241m==\u001b[39m new_tracing_count)\n",
      "File \u001b[0;32m/lfs1/ashaji/condawork/lib/python3.10/site-packages/tensorflow/python/eager/polymorphic_function/polymorphic_function.py:926\u001b[0m, in \u001b[0;36mFunction._call\u001b[0;34m(self, *args, **kwds)\u001b[0m\n\u001b[1;32m    923\u001b[0m   \u001b[38;5;28mself\u001b[39m\u001b[38;5;241m.\u001b[39m_lock\u001b[38;5;241m.\u001b[39mrelease()\n\u001b[1;32m    924\u001b[0m   \u001b[38;5;66;03m# In this case we have created variables on the first call, so we run the\u001b[39;00m\n\u001b[1;32m    925\u001b[0m   \u001b[38;5;66;03m# defunned version which is guaranteed to never create variables.\u001b[39;00m\n\u001b[0;32m--> 926\u001b[0m   \u001b[38;5;28;01mreturn\u001b[39;00m \u001b[38;5;28;43mself\u001b[39;49m\u001b[38;5;241;43m.\u001b[39;49m\u001b[43m_no_variable_creation_fn\u001b[49m\u001b[43m(\u001b[49m\u001b[38;5;241;43m*\u001b[39;49m\u001b[43margs\u001b[49m\u001b[43m,\u001b[49m\u001b[43m \u001b[49m\u001b[38;5;241;43m*\u001b[39;49m\u001b[38;5;241;43m*\u001b[39;49m\u001b[43mkwds\u001b[49m\u001b[43m)\u001b[49m  \u001b[38;5;66;03m# pylint: disable=not-callable\u001b[39;00m\n\u001b[1;32m    927\u001b[0m \u001b[38;5;28;01melif\u001b[39;00m \u001b[38;5;28mself\u001b[39m\u001b[38;5;241m.\u001b[39m_variable_creation_fn \u001b[38;5;129;01mis\u001b[39;00m \u001b[38;5;129;01mnot\u001b[39;00m \u001b[38;5;28;01mNone\u001b[39;00m:\n\u001b[1;32m    928\u001b[0m   \u001b[38;5;66;03m# Release the lock early so that multiple threads can perform the call\u001b[39;00m\n\u001b[1;32m    929\u001b[0m   \u001b[38;5;66;03m# in parallel.\u001b[39;00m\n\u001b[1;32m    930\u001b[0m   \u001b[38;5;28mself\u001b[39m\u001b[38;5;241m.\u001b[39m_lock\u001b[38;5;241m.\u001b[39mrelease()\n",
      "File \u001b[0;32m/lfs1/ashaji/condawork/lib/python3.10/site-packages/tensorflow/python/eager/polymorphic_function/tracing_compiler.py:143\u001b[0m, in \u001b[0;36mTracingCompiler.__call__\u001b[0;34m(self, *args, **kwargs)\u001b[0m\n\u001b[1;32m    140\u001b[0m \u001b[38;5;28;01mwith\u001b[39;00m \u001b[38;5;28mself\u001b[39m\u001b[38;5;241m.\u001b[39m_lock:\n\u001b[1;32m    141\u001b[0m   (concrete_function,\n\u001b[1;32m    142\u001b[0m    filtered_flat_args) \u001b[38;5;241m=\u001b[39m \u001b[38;5;28mself\u001b[39m\u001b[38;5;241m.\u001b[39m_maybe_define_function(args, kwargs)\n\u001b[0;32m--> 143\u001b[0m \u001b[38;5;28;01mreturn\u001b[39;00m \u001b[43mconcrete_function\u001b[49m\u001b[38;5;241;43m.\u001b[39;49m\u001b[43m_call_flat\u001b[49m\u001b[43m(\u001b[49m\n\u001b[1;32m    144\u001b[0m \u001b[43m    \u001b[49m\u001b[43mfiltered_flat_args\u001b[49m\u001b[43m,\u001b[49m\u001b[43m \u001b[49m\u001b[43mcaptured_inputs\u001b[49m\u001b[38;5;241;43m=\u001b[39;49m\u001b[43mconcrete_function\u001b[49m\u001b[38;5;241;43m.\u001b[39;49m\u001b[43mcaptured_inputs\u001b[49m\u001b[43m)\u001b[49m\n",
      "File \u001b[0;32m/lfs1/ashaji/condawork/lib/python3.10/site-packages/tensorflow/python/eager/polymorphic_function/monomorphic_function.py:1757\u001b[0m, in \u001b[0;36mConcreteFunction._call_flat\u001b[0;34m(self, args, captured_inputs, cancellation_manager)\u001b[0m\n\u001b[1;32m   1753\u001b[0m possible_gradient_type \u001b[38;5;241m=\u001b[39m gradients_util\u001b[38;5;241m.\u001b[39mPossibleTapeGradientTypes(args)\n\u001b[1;32m   1754\u001b[0m \u001b[38;5;28;01mif\u001b[39;00m (possible_gradient_type \u001b[38;5;241m==\u001b[39m gradients_util\u001b[38;5;241m.\u001b[39mPOSSIBLE_GRADIENT_TYPES_NONE\n\u001b[1;32m   1755\u001b[0m     \u001b[38;5;129;01mand\u001b[39;00m executing_eagerly):\n\u001b[1;32m   1756\u001b[0m   \u001b[38;5;66;03m# No tape is watching; skip to running the function.\u001b[39;00m\n\u001b[0;32m-> 1757\u001b[0m   \u001b[38;5;28;01mreturn\u001b[39;00m \u001b[38;5;28mself\u001b[39m\u001b[38;5;241m.\u001b[39m_build_call_outputs(\u001b[38;5;28;43mself\u001b[39;49m\u001b[38;5;241;43m.\u001b[39;49m\u001b[43m_inference_function\u001b[49m\u001b[38;5;241;43m.\u001b[39;49m\u001b[43mcall\u001b[49m\u001b[43m(\u001b[49m\n\u001b[1;32m   1758\u001b[0m \u001b[43m      \u001b[49m\u001b[43mctx\u001b[49m\u001b[43m,\u001b[49m\u001b[43m \u001b[49m\u001b[43margs\u001b[49m\u001b[43m,\u001b[49m\u001b[43m \u001b[49m\u001b[43mcancellation_manager\u001b[49m\u001b[38;5;241;43m=\u001b[39;49m\u001b[43mcancellation_manager\u001b[49m\u001b[43m)\u001b[49m)\n\u001b[1;32m   1759\u001b[0m forward_backward \u001b[38;5;241m=\u001b[39m \u001b[38;5;28mself\u001b[39m\u001b[38;5;241m.\u001b[39m_select_forward_and_backward_functions(\n\u001b[1;32m   1760\u001b[0m     args,\n\u001b[1;32m   1761\u001b[0m     possible_gradient_type,\n\u001b[1;32m   1762\u001b[0m     executing_eagerly)\n\u001b[1;32m   1763\u001b[0m forward_function, args_with_tangents \u001b[38;5;241m=\u001b[39m forward_backward\u001b[38;5;241m.\u001b[39mforward()\n",
      "File \u001b[0;32m/lfs1/ashaji/condawork/lib/python3.10/site-packages/tensorflow/python/eager/polymorphic_function/monomorphic_function.py:381\u001b[0m, in \u001b[0;36m_EagerDefinedFunction.call\u001b[0;34m(self, ctx, args, cancellation_manager)\u001b[0m\n\u001b[1;32m    379\u001b[0m \u001b[38;5;28;01mwith\u001b[39;00m _InterpolateFunctionError(\u001b[38;5;28mself\u001b[39m):\n\u001b[1;32m    380\u001b[0m   \u001b[38;5;28;01mif\u001b[39;00m cancellation_manager \u001b[38;5;129;01mis\u001b[39;00m \u001b[38;5;28;01mNone\u001b[39;00m:\n\u001b[0;32m--> 381\u001b[0m     outputs \u001b[38;5;241m=\u001b[39m \u001b[43mexecute\u001b[49m\u001b[38;5;241;43m.\u001b[39;49m\u001b[43mexecute\u001b[49m\u001b[43m(\u001b[49m\n\u001b[1;32m    382\u001b[0m \u001b[43m        \u001b[49m\u001b[38;5;28;43mstr\u001b[39;49m\u001b[43m(\u001b[49m\u001b[38;5;28;43mself\u001b[39;49m\u001b[38;5;241;43m.\u001b[39;49m\u001b[43msignature\u001b[49m\u001b[38;5;241;43m.\u001b[39;49m\u001b[43mname\u001b[49m\u001b[43m)\u001b[49m\u001b[43m,\u001b[49m\n\u001b[1;32m    383\u001b[0m \u001b[43m        \u001b[49m\u001b[43mnum_outputs\u001b[49m\u001b[38;5;241;43m=\u001b[39;49m\u001b[38;5;28;43mself\u001b[39;49m\u001b[38;5;241;43m.\u001b[39;49m\u001b[43m_num_outputs\u001b[49m\u001b[43m,\u001b[49m\n\u001b[1;32m    384\u001b[0m \u001b[43m        \u001b[49m\u001b[43minputs\u001b[49m\u001b[38;5;241;43m=\u001b[39;49m\u001b[43margs\u001b[49m\u001b[43m,\u001b[49m\n\u001b[1;32m    385\u001b[0m \u001b[43m        \u001b[49m\u001b[43mattrs\u001b[49m\u001b[38;5;241;43m=\u001b[39;49m\u001b[43mattrs\u001b[49m\u001b[43m,\u001b[49m\n\u001b[1;32m    386\u001b[0m \u001b[43m        \u001b[49m\u001b[43mctx\u001b[49m\u001b[38;5;241;43m=\u001b[39;49m\u001b[43mctx\u001b[49m\u001b[43m)\u001b[49m\n\u001b[1;32m    387\u001b[0m   \u001b[38;5;28;01melse\u001b[39;00m:\n\u001b[1;32m    388\u001b[0m     outputs \u001b[38;5;241m=\u001b[39m execute\u001b[38;5;241m.\u001b[39mexecute_with_cancellation(\n\u001b[1;32m    389\u001b[0m         \u001b[38;5;28mstr\u001b[39m(\u001b[38;5;28mself\u001b[39m\u001b[38;5;241m.\u001b[39msignature\u001b[38;5;241m.\u001b[39mname),\n\u001b[1;32m    390\u001b[0m         num_outputs\u001b[38;5;241m=\u001b[39m\u001b[38;5;28mself\u001b[39m\u001b[38;5;241m.\u001b[39m_num_outputs,\n\u001b[0;32m   (...)\u001b[0m\n\u001b[1;32m    393\u001b[0m         ctx\u001b[38;5;241m=\u001b[39mctx,\n\u001b[1;32m    394\u001b[0m         cancellation_manager\u001b[38;5;241m=\u001b[39mcancellation_manager)\n",
      "File \u001b[0;32m/lfs1/ashaji/condawork/lib/python3.10/site-packages/tensorflow/python/eager/execute.py:52\u001b[0m, in \u001b[0;36mquick_execute\u001b[0;34m(op_name, num_outputs, inputs, attrs, ctx, name)\u001b[0m\n\u001b[1;32m     50\u001b[0m \u001b[38;5;28;01mtry\u001b[39;00m:\n\u001b[1;32m     51\u001b[0m   ctx\u001b[38;5;241m.\u001b[39mensure_initialized()\n\u001b[0;32m---> 52\u001b[0m   tensors \u001b[38;5;241m=\u001b[39m \u001b[43mpywrap_tfe\u001b[49m\u001b[38;5;241;43m.\u001b[39;49m\u001b[43mTFE_Py_Execute\u001b[49m\u001b[43m(\u001b[49m\u001b[43mctx\u001b[49m\u001b[38;5;241;43m.\u001b[39;49m\u001b[43m_handle\u001b[49m\u001b[43m,\u001b[49m\u001b[43m \u001b[49m\u001b[43mdevice_name\u001b[49m\u001b[43m,\u001b[49m\u001b[43m \u001b[49m\u001b[43mop_name\u001b[49m\u001b[43m,\u001b[49m\n\u001b[1;32m     53\u001b[0m \u001b[43m                                      \u001b[49m\u001b[43minputs\u001b[49m\u001b[43m,\u001b[49m\u001b[43m \u001b[49m\u001b[43mattrs\u001b[49m\u001b[43m,\u001b[49m\u001b[43m \u001b[49m\u001b[43mnum_outputs\u001b[49m\u001b[43m)\u001b[49m\n\u001b[1;32m     54\u001b[0m \u001b[38;5;28;01mexcept\u001b[39;00m core\u001b[38;5;241m.\u001b[39m_NotOkStatusException \u001b[38;5;28;01mas\u001b[39;00m e:\n\u001b[1;32m     55\u001b[0m   \u001b[38;5;28;01mif\u001b[39;00m name \u001b[38;5;129;01mis\u001b[39;00m \u001b[38;5;129;01mnot\u001b[39;00m \u001b[38;5;28;01mNone\u001b[39;00m:\n",
      "\u001b[0;31mKeyboardInterrupt\u001b[0m: "
     ]
    }
   ],
   "source": [
    "lr_schedule = keras.optimizers.schedules.ExponentialDecay(\n",
    "    1e-2,decay_steps=10,decay_rate=0.96,staircase=True\n",
    ")\n",
    "model.compile(\n",
    "    loss='mse',\n",
    "    optimizer = keras.optimizers.Adam(learning_rate=lr_schedule),\n",
    "    metrics = [tf.keras.metrics.RootMeanSquaredError(name='rmse'),tf.keras.metrics.MeanAbsoluteError(name='mae')]   \n",
    ")\n",
    "filepath = '/lfs1/ashaji/Imputation_Problem/further/STR3/modelonlySTR-epoch{epoch:02d}-val_loss{val_loss:.2f}'\n",
    "check = keras.callbacks.ModelCheckpoint(filepath,monitor='val_mae',verbose=1,save_best_only=True,mode='auto')\n",
    "early = keras.callbacks.EarlyStopping(monitor='val_mae',patience = 20, verbose = 1, restore_best_weights = True)\n",
    "\n",
    "history = model.fit(\n",
    "    dg_train,\n",
    "    validation_data = dg_val,\n",
    "    epochs = 200,\n",
    "    verbose = 1,\n",
    "    callbacks = [check,early]\n",
    ")"
   ]
  },
  {
   "cell_type": "code",
   "execution_count": 51,
   "id": "e1e6b682",
   "metadata": {},
   "outputs": [],
   "source": [
    "dg_testall = DataGenerator(testall,batch_size)"
   ]
  },
  {
   "cell_type": "code",
   "execution_count": 70,
   "id": "8ca1ddda",
   "metadata": {},
   "outputs": [
    {
     "name": "stderr",
     "output_type": "stream",
     "text": [
      "WARNING:root:The given value for groups will be overwritten.\n",
      "WARNING:root:The given value for groups will be overwritten.\n"
     ]
    }
   ],
   "source": [
    "model = keras.models.load_model('/lfs1/ashaji/Imputation_Problem/further/STR2/modelonlySTR-epoch52-val_loss42.21')"
   ]
  },
  {
   "cell_type": "code",
   "execution_count": 71,
   "id": "bac91d25",
   "metadata": {},
   "outputs": [
    {
     "name": "stderr",
     "output_type": "stream",
     "text": [
      "/tmp/ipykernel_14261/2520707933.py:33: DeprecationWarning: `np.int` is a deprecated alias for the builtin `int`. To silence this warning, use `int` by itself. Doing this will not modify any behavior and is safe. When replacing `np.int`, you may wish to use e.g. `np.int64` or `np.int32` to specify the precision. If you wish to review your current use, check the release note link for additional information.\n",
      "Deprecated in NumPy 1.20; for more details and guidance: https://numpy.org/devdocs/release/1.20.0-notes.html#deprecations\n",
      "  return (np.ceil(len(self.data) / float(self.batch_size))).astype(np.int)\n",
      "2023-10-11 18:22:49.082261: I tensorflow/core/common_runtime/executor.cc:1197] [/device:CPU:0] (DEBUG INFO) Executor start aborting (this does not indicate an error and you can ignore this message): INVALID_ARGUMENT: You must feed a value for placeholder tensor 'Placeholder/_0' with dtype int32\n",
      "\t [[{{node Placeholder/_0}}]]\n"
     ]
    },
    {
     "name": "stdout",
     "output_type": "stream",
     "text": [
      "85/85 [==============================] - 1s 4ms/step - loss: 38.0020 - rmse: 6.1646 - mae: 4.9562\n"
     ]
    },
    {
     "data": {
      "text/plain": [
       "[38.00200653076172, 6.164576530456543, 4.9561872482299805]"
      ]
     },
     "execution_count": 71,
     "metadata": {},
     "output_type": "execute_result"
    }
   ],
   "source": [
    "model.evaluate(dg_test)"
   ]
  },
  {
   "cell_type": "code",
   "execution_count": 72,
   "id": "07eec272",
   "metadata": {},
   "outputs": [
    {
     "name": "stdout",
     "output_type": "stream",
     "text": [
      "23/23 [==============================] - 0s 4ms/step - loss: 53.1265 - rmse: 7.2888 - mae: 6.1786\n"
     ]
    },
    {
     "name": "stderr",
     "output_type": "stream",
     "text": [
      "/tmp/ipykernel_14261/2520707933.py:33: DeprecationWarning: `np.int` is a deprecated alias for the builtin `int`. To silence this warning, use `int` by itself. Doing this will not modify any behavior and is safe. When replacing `np.int`, you may wish to use e.g. `np.int64` or `np.int32` to specify the precision. If you wish to review your current use, check the release note link for additional information.\n",
      "Deprecated in NumPy 1.20; for more details and guidance: https://numpy.org/devdocs/release/1.20.0-notes.html#deprecations\n",
      "  return (np.ceil(len(self.data) / float(self.batch_size))).astype(np.int)\n",
      "2023-10-11 18:22:52.235042: I tensorflow/core/common_runtime/executor.cc:1197] [/device:CPU:0] (DEBUG INFO) Executor start aborting (this does not indicate an error and you can ignore this message): INVALID_ARGUMENT: You must feed a value for placeholder tensor 'Placeholder/_0' with dtype int32\n",
      "\t [[{{node Placeholder/_0}}]]\n"
     ]
    },
    {
     "data": {
      "text/plain": [
       "[53.12651824951172, 7.288794040679932, 6.178591728210449]"
      ]
     },
     "execution_count": 72,
     "metadata": {},
     "output_type": "execute_result"
    }
   ],
   "source": [
    "model.evaluate(dg_testall)"
   ]
  },
  {
   "cell_type": "code",
   "execution_count": null,
   "id": "b6f6e4e9",
   "metadata": {},
   "outputs": [],
   "source": [
    "model.evaluate(dg_val_MCI)"
   ]
  },
  {
   "cell_type": "code",
   "execution_count": null,
   "id": "ee28e269",
   "metadata": {},
   "outputs": [],
   "source": [
    "model.evaluate(dg_val_Dmt)"
   ]
  },
  {
   "cell_type": "code",
   "execution_count": null,
   "id": "d7965282",
   "metadata": {},
   "outputs": [],
   "source": [
    "len(strDmt)"
   ]
  },
  {
   "cell_type": "code",
   "execution_count": null,
   "id": "c77a3c1c",
   "metadata": {},
   "outputs": [],
   "source": [
    "len(strMCI)"
   ]
  },
  {
   "cell_type": "code",
   "execution_count": 57,
   "id": "5896cf70",
   "metadata": {},
   "outputs": [
    {
     "name": "stderr",
     "output_type": "stream",
     "text": [
      "WARNING:root:The given value for groups will be overwritten.\n",
      "WARNING:root:The given value for groups will be overwritten.\n",
      "WARNING:root:The given value for groups will be overwritten.\n"
     ]
    }
   ],
   "source": [
    "modelDWI = keras.models.load_model('/lfs1/ashaji/Imputation_Problem/saved_models/model_only_DWI_FA-epoch36-val_loss32.66')\n"
   ]
  },
  {
   "cell_type": "code",
   "execution_count": null,
   "id": "94aef741",
   "metadata": {},
   "outputs": [],
   "source": []
  }
 ],
 "metadata": {
  "kernelspec": {
   "display_name": "Python 3 (ipykernel)",
   "language": "python",
   "name": "python3"
  },
  "language_info": {
   "codemirror_mode": {
    "name": "ipython",
    "version": 3
   },
   "file_extension": ".py",
   "mimetype": "text/x-python",
   "name": "python",
   "nbconvert_exporter": "python",
   "pygments_lexer": "ipython3",
   "version": "3.10.4"
  }
 },
 "nbformat": 4,
 "nbformat_minor": 5
}
