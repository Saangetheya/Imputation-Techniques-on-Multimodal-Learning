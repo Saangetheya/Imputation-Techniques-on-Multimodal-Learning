{
 "cells": [
  {
   "cell_type": "code",
   "execution_count": 1,
   "id": "8c762754",
   "metadata": {},
   "outputs": [
    {
     "name": "stderr",
     "output_type": "stream",
     "text": [
      "2023-12-28 14:27:20.644946: I tensorflow/core/platform/cpu_feature_guard.cc:182] This TensorFlow binary is optimized to use available CPU instructions in performance-critical operations.\n",
      "To enable the following instructions: AVX2 FMA, in other operations, rebuild TensorFlow with the appropriate compiler flags.\n",
      "2023-12-28 14:27:21.460754: W tensorflow/compiler/tf2tensorrt/utils/py_utils.cc:38] TF-TRT Warning: Could not find TensorRT\n"
     ]
    }
   ],
   "source": [
    "import pandas as pd\n",
    "import tensorflow as tf\n",
    "import numpy as np\n",
    "import os"
   ]
  },
  {
   "cell_type": "code",
   "execution_count": 2,
   "id": "79bf7731",
   "metadata": {},
   "outputs": [],
   "source": [
    "def checkfilepath(filepath):\n",
    "    return os.path.exists(filepath)\n",
    "\n",
    "def read_nifti_file(filepath):\n",
    "    scan = nib.load(filepath)\n",
    "    data = scan.get_fdata()\n",
    "    return data\n",
    "\n",
    "def normalize(volume):\n",
    "    dmin = np.amin(volume)\n",
    "    dmax = np.amax(volume)\n",
    "    davg = np.average(volume)\n",
    "    volume = (volume-dmin)/davg\n",
    "    return volume\n",
    "\n",
    "def process_scan(path):\n",
    "    vol = read_nifti_file(path)\n",
    "    vol = normalize(vol)\n",
    "    return vol\n"
   ]
  },
  {
   "cell_type": "code",
   "execution_count": 3,
   "id": "c8c96090",
   "metadata": {},
   "outputs": [],
   "source": [
    "df = pd.read_excel('/lfs1/ashaji/Imputation_Problem/data/ADNI_final.xlsx', engine='openpyxl')\n",
    "df['SubjID'].replace('',np.nan,inplace=True)\n",
    "df['AGE_at_scan'].replace('',np.nan,inplace=True)\n",
    "df['DX'].replace('',np.nan,inplace=True)\n",
    "df.dropna(subset=['SubjID','AGE_at_scan','DX'], inplace=True)\n",
    "df = df.reset_index(drop=True)\n",
    "df.loc[df['SEX']=='M','SEX'] = 1\n",
    "df.loc[df['SEX']=='F','SEX'] = 0\n",
    "df.loc[df['DX']=='CN','DX'] = 0\n",
    "df.loc[df['DX']=='Dementia','DX'] = 2\n",
    "df.loc[df['DX']=='MCI','DX'] = 1\n",
    "df = df.sort_values(by = ['SubjID'])\n",
    "df = df.reset_index(drop=True)"
   ]
  },
  {
   "cell_type": "code",
   "execution_count": 4,
   "id": "1e285c44",
   "metadata": {},
   "outputs": [],
   "source": [
    "cond = [checkfilepath(str(x)) for x in df['ACCEL_DL_6DOF_2MM_T1']]\n",
    "cond0 = df['ACCEL_Preprocessed for DL?']=='yes'"
   ]
  },
  {
   "cell_type": "code",
   "execution_count": 5,
   "id": "61b216b9",
   "metadata": {},
   "outputs": [],
   "source": [
    "conddwi = [checkfilepath(str(x)) for x in df['DWI_Matched_File_FA_Path_ENIGMATBSSspace_2MM']]"
   ]
  },
  {
   "cell_type": "code",
   "execution_count": 6,
   "id": "cba2009b",
   "metadata": {},
   "outputs": [],
   "source": [
    "condt1 = [cond[i] & cond0[i]  for i in range(len(cond))]"
   ]
  },
  {
   "cell_type": "code",
   "execution_count": 7,
   "id": "ccff7cb2",
   "metadata": {},
   "outputs": [
    {
     "data": {
      "text/html": [
       "<div>\n",
       "<style scoped>\n",
       "    .dataframe tbody tr th:only-of-type {\n",
       "        vertical-align: middle;\n",
       "    }\n",
       "\n",
       "    .dataframe tbody tr th {\n",
       "        vertical-align: top;\n",
       "    }\n",
       "\n",
       "    .dataframe thead th {\n",
       "        text-align: right;\n",
       "    }\n",
       "</style>\n",
       "<table border=\"1\" class=\"dataframe\">\n",
       "  <thead>\n",
       "    <tr style=\"text-align: right;\">\n",
       "      <th></th>\n",
       "      <th>SubjID</th>\n",
       "      <th>RID</th>\n",
       "      <th>NONACCEL_T1_SCAN_FILENAME</th>\n",
       "      <th>NONACCEL_T1_IMAGEID</th>\n",
       "      <th>NONACCEL_Path to RAW nifti</th>\n",
       "      <th>NONACCEL_Preprocessed for DL?</th>\n",
       "      <th>NONACCEL_DL_6DOF_2MM_T1</th>\n",
       "      <th>NONACCEL_DL_6DOF_2MM_MASK</th>\n",
       "      <th>NONACCEL_DL_6DOF_2MM_GM</th>\n",
       "      <th>NONACCEL_DL_6DOF_2MM_WM</th>\n",
       "      <th>...</th>\n",
       "      <th>DWI_Matched_File_L1_Path_ENIGMATBSSspace</th>\n",
       "      <th>DWI_Matched_File_MD_Path_ENIGMATBSSspace</th>\n",
       "      <th>DWI_Matched_File_RD_Path_ENIGMATBSSspace</th>\n",
       "      <th>T1_Path_ENIGMATBSSspace</th>\n",
       "      <th>DWI_Matched_File_FA_Path_ENIGMATBSSspace_2MM</th>\n",
       "      <th>DWI_Matched_File_L1_Path_ENIGMATBSSspace_2MM</th>\n",
       "      <th>DWI_Matched_File_MD_Path_ENIGMATBSSspace_2MM</th>\n",
       "      <th>DWI_Matched_File_RD_Path_ENIGMATBSSspace_2MM</th>\n",
       "      <th>T1_Path_ENIGMATBSSspace_2MM</th>\n",
       "      <th>DWI Preprocessing Pipeline (old=ADNI2 - new=ADNI3)</th>\n",
       "    </tr>\n",
       "  </thead>\n",
       "  <tbody>\n",
       "    <tr>\n",
       "      <th>0</th>\n",
       "      <td>002_S_0295</td>\n",
       "      <td>295</td>\n",
       "      <td>002_S_0295_20060418_A1_T1_1.5T_nonaccel_Preproc</td>\n",
       "      <td>45108.0</td>\n",
       "      <td>/nas/bioint-data/neuroimaging-data/ADNI/Organi...</td>\n",
       "      <td>yes</td>\n",
       "      <td>/nas/bioint-data/neuroimaging-data/ADNI/6DOF/0...</td>\n",
       "      <td>/nas/bioint-data/neuroimaging-data/ADNI/6DOF/0...</td>\n",
       "      <td>/nas/bioint-data/neuroimaging-data/ADNI/6DOF/0...</td>\n",
       "      <td>/nas/bioint-data/neuroimaging-data/ADNI/6DOF/0...</td>\n",
       "      <td>...</td>\n",
       "      <td>NaN</td>\n",
       "      <td>NaN</td>\n",
       "      <td>NaN</td>\n",
       "      <td>NaN</td>\n",
       "      <td>NaN</td>\n",
       "      <td>NaN</td>\n",
       "      <td>NaN</td>\n",
       "      <td>NaN</td>\n",
       "      <td>NaN</td>\n",
       "      <td>NaN</td>\n",
       "    </tr>\n",
       "    <tr>\n",
       "      <th>1</th>\n",
       "      <td>002_S_0295</td>\n",
       "      <td>295</td>\n",
       "      <td>002_S_0295_20061102_A1_T1_1.5T_nonaccel_Preproc</td>\n",
       "      <td>40966.0</td>\n",
       "      <td>/nas/bioint-data/neuroimaging-data/ADNI/Organi...</td>\n",
       "      <td>yes</td>\n",
       "      <td>/nas/bioint-data/neuroimaging-data/ADNI/6DOF/0...</td>\n",
       "      <td>/nas/bioint-data/neuroimaging-data/ADNI/6DOF/0...</td>\n",
       "      <td>/nas/bioint-data/neuroimaging-data/ADNI/6DOF/0...</td>\n",
       "      <td>/nas/bioint-data/neuroimaging-data/ADNI/6DOF/0...</td>\n",
       "      <td>...</td>\n",
       "      <td>NaN</td>\n",
       "      <td>NaN</td>\n",
       "      <td>NaN</td>\n",
       "      <td>NaN</td>\n",
       "      <td>NaN</td>\n",
       "      <td>NaN</td>\n",
       "      <td>NaN</td>\n",
       "      <td>NaN</td>\n",
       "      <td>NaN</td>\n",
       "      <td>NaN</td>\n",
       "    </tr>\n",
       "    <tr>\n",
       "      <th>2</th>\n",
       "      <td>002_S_0295</td>\n",
       "      <td>295</td>\n",
       "      <td>002_S_0295_20070525_A1_T1_1.5T_nonaccel_Preproc</td>\n",
       "      <td>64025.0</td>\n",
       "      <td>/nas/bioint-data/neuroimaging-data/ADNI/Organi...</td>\n",
       "      <td>yes</td>\n",
       "      <td>/nas/bioint-data/neuroimaging-data/ADNI/6DOF/0...</td>\n",
       "      <td>/nas/bioint-data/neuroimaging-data/ADNI/6DOF/0...</td>\n",
       "      <td>/nas/bioint-data/neuroimaging-data/ADNI/6DOF/0...</td>\n",
       "      <td>/nas/bioint-data/neuroimaging-data/ADNI/6DOF/0...</td>\n",
       "      <td>...</td>\n",
       "      <td>NaN</td>\n",
       "      <td>NaN</td>\n",
       "      <td>NaN</td>\n",
       "      <td>NaN</td>\n",
       "      <td>NaN</td>\n",
       "      <td>NaN</td>\n",
       "      <td>NaN</td>\n",
       "      <td>NaN</td>\n",
       "      <td>NaN</td>\n",
       "      <td>NaN</td>\n",
       "    </tr>\n",
       "    <tr>\n",
       "      <th>3</th>\n",
       "      <td>002_S_0295</td>\n",
       "      <td>295</td>\n",
       "      <td>002_S_0295_20080723_A1_T1_1.5T_nonaccel_Preproc</td>\n",
       "      <td>123685.0</td>\n",
       "      <td>/nas/bioint-data/neuroimaging-data/ADNI/Organi...</td>\n",
       "      <td>yes</td>\n",
       "      <td>/nas/bioint-data/neuroimaging-data/ADNI/6DOF/0...</td>\n",
       "      <td>/nas/bioint-data/neuroimaging-data/ADNI/6DOF/0...</td>\n",
       "      <td>/nas/bioint-data/neuroimaging-data/ADNI/6DOF/0...</td>\n",
       "      <td>/nas/bioint-data/neuroimaging-data/ADNI/6DOF/0...</td>\n",
       "      <td>...</td>\n",
       "      <td>NaN</td>\n",
       "      <td>NaN</td>\n",
       "      <td>NaN</td>\n",
       "      <td>NaN</td>\n",
       "      <td>NaN</td>\n",
       "      <td>NaN</td>\n",
       "      <td>NaN</td>\n",
       "      <td>NaN</td>\n",
       "      <td>NaN</td>\n",
       "      <td>NaN</td>\n",
       "    </tr>\n",
       "    <tr>\n",
       "      <th>4</th>\n",
       "      <td>002_S_0295</td>\n",
       "      <td>295</td>\n",
       "      <td>002_S_0295_20090522_A1_T1_1.5T_nonaccel_Preproc</td>\n",
       "      <td>150177.0</td>\n",
       "      <td>/nas/bioint-data/neuroimaging-data/ADNI/Organi...</td>\n",
       "      <td>yes</td>\n",
       "      <td>/nas/bioint-data/neuroimaging-data/ADNI/6DOF/0...</td>\n",
       "      <td>/nas/bioint-data/neuroimaging-data/ADNI/6DOF/0...</td>\n",
       "      <td>/nas/bioint-data/neuroimaging-data/ADNI/6DOF/0...</td>\n",
       "      <td>/nas/bioint-data/neuroimaging-data/ADNI/6DOF/0...</td>\n",
       "      <td>...</td>\n",
       "      <td>NaN</td>\n",
       "      <td>NaN</td>\n",
       "      <td>NaN</td>\n",
       "      <td>NaN</td>\n",
       "      <td>NaN</td>\n",
       "      <td>NaN</td>\n",
       "      <td>NaN</td>\n",
       "      <td>NaN</td>\n",
       "      <td>NaN</td>\n",
       "      <td>NaN</td>\n",
       "    </tr>\n",
       "    <tr>\n",
       "      <th>5</th>\n",
       "      <td>002_S_0295</td>\n",
       "      <td>295</td>\n",
       "      <td>002_S_0295_20100513_A1_T1_1.5T_nonaccel_Preproc</td>\n",
       "      <td>291869.0</td>\n",
       "      <td>/nas/bioint-data/neuroimaging-data/ADNI/Organi...</td>\n",
       "      <td>yes</td>\n",
       "      <td>/nas/bioint-data/neuroimaging-data/ADNI/6DOF/0...</td>\n",
       "      <td>/nas/bioint-data/neuroimaging-data/ADNI/6DOF/0...</td>\n",
       "      <td>/nas/bioint-data/neuroimaging-data/ADNI/6DOF/0...</td>\n",
       "      <td>/nas/bioint-data/neuroimaging-data/ADNI/6DOF/0...</td>\n",
       "      <td>...</td>\n",
       "      <td>NaN</td>\n",
       "      <td>NaN</td>\n",
       "      <td>NaN</td>\n",
       "      <td>NaN</td>\n",
       "      <td>NaN</td>\n",
       "      <td>NaN</td>\n",
       "      <td>NaN</td>\n",
       "      <td>NaN</td>\n",
       "      <td>NaN</td>\n",
       "      <td>NaN</td>\n",
       "    </tr>\n",
       "    <tr>\n",
       "      <th>6</th>\n",
       "      <td>002_S_0295</td>\n",
       "      <td>295</td>\n",
       "      <td>002_S_0295_20110602_A2_T1_3T_nonaccel_Preproc</td>\n",
       "      <td>241350.0</td>\n",
       "      <td>/nas/bioint-data/neuroimaging-data/ADNI/Organi...</td>\n",
       "      <td>yes</td>\n",
       "      <td>/nas/bioint-data/neuroimaging-data/ADNI/6DOF/0...</td>\n",
       "      <td>/nas/bioint-data/neuroimaging-data/ADNI/6DOF/0...</td>\n",
       "      <td>/nas/bioint-data/neuroimaging-data/ADNI/6DOF/0...</td>\n",
       "      <td>/nas/bioint-data/neuroimaging-data/ADNI/6DOF/0...</td>\n",
       "      <td>...</td>\n",
       "      <td>NaN</td>\n",
       "      <td>NaN</td>\n",
       "      <td>NaN</td>\n",
       "      <td>NaN</td>\n",
       "      <td>NaN</td>\n",
       "      <td>NaN</td>\n",
       "      <td>NaN</td>\n",
       "      <td>NaN</td>\n",
       "      <td>NaN</td>\n",
       "      <td>NaN</td>\n",
       "    </tr>\n",
       "    <tr>\n",
       "      <th>7</th>\n",
       "      <td>002_S_0295</td>\n",
       "      <td>295</td>\n",
       "      <td>002_S_0295_20120510_A2_T1_3T_nonaccel_Preproc</td>\n",
       "      <td>308078.0</td>\n",
       "      <td>/nas/bioint-data/neuroimaging-data/ADNI/Organi...</td>\n",
       "      <td>yes</td>\n",
       "      <td>/nas/bioint-data/neuroimaging-data/ADNI/6DOF/0...</td>\n",
       "      <td>/nas/bioint-data/neuroimaging-data/ADNI/6DOF/0...</td>\n",
       "      <td>/nas/bioint-data/neuroimaging-data/ADNI/6DOF/0...</td>\n",
       "      <td>/nas/bioint-data/neuroimaging-data/ADNI/6DOF/0...</td>\n",
       "      <td>...</td>\n",
       "      <td>NaN</td>\n",
       "      <td>NaN</td>\n",
       "      <td>NaN</td>\n",
       "      <td>NaN</td>\n",
       "      <td>NaN</td>\n",
       "      <td>NaN</td>\n",
       "      <td>NaN</td>\n",
       "      <td>NaN</td>\n",
       "      <td>NaN</td>\n",
       "      <td>NaN</td>\n",
       "    </tr>\n",
       "    <tr>\n",
       "      <th>8</th>\n",
       "      <td>002_S_0413</td>\n",
       "      <td>413</td>\n",
       "      <td>NaN</td>\n",
       "      <td>NaN</td>\n",
       "      <td>NaN</td>\n",
       "      <td>NaN</td>\n",
       "      <td>NaN</td>\n",
       "      <td>NaN</td>\n",
       "      <td>NaN</td>\n",
       "      <td>NaN</td>\n",
       "      <td>...</td>\n",
       "      <td>/nas/bioint-data/neuroimaging-data/ADNI/Organi...</td>\n",
       "      <td>/nas/bioint-data/neuroimaging-data/ADNI/Organi...</td>\n",
       "      <td>/nas/bioint-data/neuroimaging-data/ADNI/Organi...</td>\n",
       "      <td>/nas/bioint-data/neuroimaging-data/ADNI/Organi...</td>\n",
       "      <td>/nas/bioint-data/neuroimaging-data/ADNI/Organi...</td>\n",
       "      <td>/nas/bioint-data/neuroimaging-data/ADNI/Organi...</td>\n",
       "      <td>/nas/bioint-data/neuroimaging-data/ADNI/Organi...</td>\n",
       "      <td>/nas/bioint-data/neuroimaging-data/ADNI/Organi...</td>\n",
       "      <td>/nas/bioint-data/neuroimaging-data/ADNI/Organi...</td>\n",
       "      <td>ADNI3</td>\n",
       "    </tr>\n",
       "    <tr>\n",
       "      <th>9</th>\n",
       "      <td>002_S_0413</td>\n",
       "      <td>413</td>\n",
       "      <td>002_S_0413_20150609_A2_T1_3T_nonaccel_Preproc</td>\n",
       "      <td>649030.0</td>\n",
       "      <td>/nas/bioint-data/neuroimaging-data/ADNI/Organi...</td>\n",
       "      <td>yes</td>\n",
       "      <td>/nas/bioint-data/neuroimaging-data/ADNI/6DOF/0...</td>\n",
       "      <td>/nas/bioint-data/neuroimaging-data/ADNI/6DOF/0...</td>\n",
       "      <td>/nas/bioint-data/neuroimaging-data/ADNI/6DOF/0...</td>\n",
       "      <td>/nas/bioint-data/neuroimaging-data/ADNI/6DOF/0...</td>\n",
       "      <td>...</td>\n",
       "      <td>NaN</td>\n",
       "      <td>NaN</td>\n",
       "      <td>NaN</td>\n",
       "      <td>NaN</td>\n",
       "      <td>NaN</td>\n",
       "      <td>NaN</td>\n",
       "      <td>NaN</td>\n",
       "      <td>NaN</td>\n",
       "      <td>NaN</td>\n",
       "      <td>NaN</td>\n",
       "    </tr>\n",
       "    <tr>\n",
       "      <th>10</th>\n",
       "      <td>002_S_0413</td>\n",
       "      <td>413</td>\n",
       "      <td>002_S_0413_20140501_A2_T1_3T_nonaccel_Preproc</td>\n",
       "      <td>424741.0</td>\n",
       "      <td>/nas/bioint-data/neuroimaging-data/ADNI/Organi...</td>\n",
       "      <td>yes</td>\n",
       "      <td>/nas/bioint-data/neuroimaging-data/ADNI/6DOF/0...</td>\n",
       "      <td>/nas/bioint-data/neuroimaging-data/ADNI/6DOF/0...</td>\n",
       "      <td>/nas/bioint-data/neuroimaging-data/ADNI/6DOF/0...</td>\n",
       "      <td>/nas/bioint-data/neuroimaging-data/ADNI/6DOF/0...</td>\n",
       "      <td>...</td>\n",
       "      <td>NaN</td>\n",
       "      <td>NaN</td>\n",
       "      <td>NaN</td>\n",
       "      <td>NaN</td>\n",
       "      <td>NaN</td>\n",
       "      <td>NaN</td>\n",
       "      <td>NaN</td>\n",
       "      <td>NaN</td>\n",
       "      <td>NaN</td>\n",
       "      <td>NaN</td>\n",
       "    </tr>\n",
       "    <tr>\n",
       "      <th>11</th>\n",
       "      <td>002_S_0413</td>\n",
       "      <td>413</td>\n",
       "      <td>002_S_0413_20130510_A2_T1_3T_nonaccel_Preproc</td>\n",
       "      <td>373133.0</td>\n",
       "      <td>/nas/bioint-data/neuroimaging-data/ADNI/Organi...</td>\n",
       "      <td>yes</td>\n",
       "      <td>/nas/bioint-data/neuroimaging-data/ADNI/6DOF/0...</td>\n",
       "      <td>/nas/bioint-data/neuroimaging-data/ADNI/6DOF/0...</td>\n",
       "      <td>/nas/bioint-data/neuroimaging-data/ADNI/6DOF/0...</td>\n",
       "      <td>/nas/bioint-data/neuroimaging-data/ADNI/6DOF/0...</td>\n",
       "      <td>...</td>\n",
       "      <td>NaN</td>\n",
       "      <td>NaN</td>\n",
       "      <td>NaN</td>\n",
       "      <td>NaN</td>\n",
       "      <td>NaN</td>\n",
       "      <td>NaN</td>\n",
       "      <td>NaN</td>\n",
       "      <td>NaN</td>\n",
       "      <td>NaN</td>\n",
       "      <td>NaN</td>\n",
       "    </tr>\n",
       "    <tr>\n",
       "      <th>12</th>\n",
       "      <td>002_S_0413</td>\n",
       "      <td>413</td>\n",
       "      <td>002_S_0413_20120515_A2_T1_3T_nonaccel_Preproc</td>\n",
       "      <td>312701.0</td>\n",
       "      <td>/nas/bioint-data/neuroimaging-data/ADNI/Organi...</td>\n",
       "      <td>yes</td>\n",
       "      <td>/nas/bioint-data/neuroimaging-data/ADNI/6DOF/0...</td>\n",
       "      <td>/nas/bioint-data/neuroimaging-data/ADNI/6DOF/0...</td>\n",
       "      <td>/nas/bioint-data/neuroimaging-data/ADNI/6DOF/0...</td>\n",
       "      <td>/nas/bioint-data/neuroimaging-data/ADNI/6DOF/0...</td>\n",
       "      <td>...</td>\n",
       "      <td>NaN</td>\n",
       "      <td>NaN</td>\n",
       "      <td>NaN</td>\n",
       "      <td>NaN</td>\n",
       "      <td>NaN</td>\n",
       "      <td>NaN</td>\n",
       "      <td>NaN</td>\n",
       "      <td>NaN</td>\n",
       "      <td>NaN</td>\n",
       "      <td>NaN</td>\n",
       "    </tr>\n",
       "    <tr>\n",
       "      <th>13</th>\n",
       "      <td>002_S_0413</td>\n",
       "      <td>413</td>\n",
       "      <td>002_S_0413_20110616_A2_T1_3T_nonaccel_Preproc</td>\n",
       "      <td>242895.0</td>\n",
       "      <td>/nas/bioint-data/neuroimaging-data/ADNI/Organi...</td>\n",
       "      <td>yes</td>\n",
       "      <td>/nas/bioint-data/neuroimaging-data/ADNI/6DOF/0...</td>\n",
       "      <td>/nas/bioint-data/neuroimaging-data/ADNI/6DOF/0...</td>\n",
       "      <td>/nas/bioint-data/neuroimaging-data/ADNI/6DOF/0...</td>\n",
       "      <td>/nas/bioint-data/neuroimaging-data/ADNI/6DOF/0...</td>\n",
       "      <td>...</td>\n",
       "      <td>NaN</td>\n",
       "      <td>NaN</td>\n",
       "      <td>NaN</td>\n",
       "      <td>NaN</td>\n",
       "      <td>NaN</td>\n",
       "      <td>NaN</td>\n",
       "      <td>NaN</td>\n",
       "      <td>NaN</td>\n",
       "      <td>NaN</td>\n",
       "      <td>NaN</td>\n",
       "    </tr>\n",
       "    <tr>\n",
       "      <th>14</th>\n",
       "      <td>002_S_0413</td>\n",
       "      <td>413</td>\n",
       "      <td>NaN</td>\n",
       "      <td>NaN</td>\n",
       "      <td>NaN</td>\n",
       "      <td>NaN</td>\n",
       "      <td>NaN</td>\n",
       "      <td>NaN</td>\n",
       "      <td>NaN</td>\n",
       "      <td>NaN</td>\n",
       "      <td>...</td>\n",
       "      <td>/nas/bioint-data/neuroimaging-data/ADNI/Organi...</td>\n",
       "      <td>/nas/bioint-data/neuroimaging-data/ADNI/Organi...</td>\n",
       "      <td>/nas/bioint-data/neuroimaging-data/ADNI/Organi...</td>\n",
       "      <td>/nas/bioint-data/neuroimaging-data/ADNI/Organi...</td>\n",
       "      <td>/nas/bioint-data/neuroimaging-data/ADNI/Organi...</td>\n",
       "      <td>/nas/bioint-data/neuroimaging-data/ADNI/Organi...</td>\n",
       "      <td>/nas/bioint-data/neuroimaging-data/ADNI/Organi...</td>\n",
       "      <td>/nas/bioint-data/neuroimaging-data/ADNI/Organi...</td>\n",
       "      <td>/nas/bioint-data/neuroimaging-data/ADNI/Organi...</td>\n",
       "      <td>ADNI3</td>\n",
       "    </tr>\n",
       "    <tr>\n",
       "      <th>15</th>\n",
       "      <td>002_S_0413</td>\n",
       "      <td>413</td>\n",
       "      <td>002_S_0413_20090504_A1_T1_1.5T_nonaccel_Preproc</td>\n",
       "      <td>149740.0</td>\n",
       "      <td>/nas/bioint-data/neuroimaging-data/ADNI/Organi...</td>\n",
       "      <td>yes</td>\n",
       "      <td>/nas/bioint-data/neuroimaging-data/ADNI/6DOF/0...</td>\n",
       "      <td>/nas/bioint-data/neuroimaging-data/ADNI/6DOF/0...</td>\n",
       "      <td>/nas/bioint-data/neuroimaging-data/ADNI/6DOF/0...</td>\n",
       "      <td>/nas/bioint-data/neuroimaging-data/ADNI/6DOF/0...</td>\n",
       "      <td>...</td>\n",
       "      <td>NaN</td>\n",
       "      <td>NaN</td>\n",
       "      <td>NaN</td>\n",
       "      <td>NaN</td>\n",
       "      <td>NaN</td>\n",
       "      <td>NaN</td>\n",
       "      <td>NaN</td>\n",
       "      <td>NaN</td>\n",
       "      <td>NaN</td>\n",
       "      <td>NaN</td>\n",
       "    </tr>\n",
       "    <tr>\n",
       "      <th>16</th>\n",
       "      <td>002_S_0413</td>\n",
       "      <td>413</td>\n",
       "      <td>002_S_0413_20080731_A1_T1_1.5T_nonaccel_Preproc</td>\n",
       "      <td>120917.0</td>\n",
       "      <td>/nas/bioint-data/neuroimaging-data/ADNI/Organi...</td>\n",
       "      <td>yes</td>\n",
       "      <td>/nas/bioint-data/neuroimaging-data/ADNI/6DOF/0...</td>\n",
       "      <td>/nas/bioint-data/neuroimaging-data/ADNI/6DOF/0...</td>\n",
       "      <td>/nas/bioint-data/neuroimaging-data/ADNI/6DOF/0...</td>\n",
       "      <td>/nas/bioint-data/neuroimaging-data/ADNI/6DOF/0...</td>\n",
       "      <td>...</td>\n",
       "      <td>NaN</td>\n",
       "      <td>NaN</td>\n",
       "      <td>NaN</td>\n",
       "      <td>NaN</td>\n",
       "      <td>NaN</td>\n",
       "      <td>NaN</td>\n",
       "      <td>NaN</td>\n",
       "      <td>NaN</td>\n",
       "      <td>NaN</td>\n",
       "      <td>NaN</td>\n",
       "    </tr>\n",
       "    <tr>\n",
       "      <th>17</th>\n",
       "      <td>002_S_0413</td>\n",
       "      <td>413</td>\n",
       "      <td>002_S_0413_20070601_A1_T1_1.5T_nonaccel_Preproc</td>\n",
       "      <td>60008.0</td>\n",
       "      <td>/nas/bioint-data/neuroimaging-data/ADNI/Organi...</td>\n",
       "      <td>yes</td>\n",
       "      <td>/nas/bioint-data/neuroimaging-data/ADNI/6DOF/0...</td>\n",
       "      <td>/nas/bioint-data/neuroimaging-data/ADNI/6DOF/0...</td>\n",
       "      <td>/nas/bioint-data/neuroimaging-data/ADNI/6DOF/0...</td>\n",
       "      <td>/nas/bioint-data/neuroimaging-data/ADNI/6DOF/0...</td>\n",
       "      <td>...</td>\n",
       "      <td>NaN</td>\n",
       "      <td>NaN</td>\n",
       "      <td>NaN</td>\n",
       "      <td>NaN</td>\n",
       "      <td>NaN</td>\n",
       "      <td>NaN</td>\n",
       "      <td>NaN</td>\n",
       "      <td>NaN</td>\n",
       "      <td>NaN</td>\n",
       "      <td>NaN</td>\n",
       "    </tr>\n",
       "    <tr>\n",
       "      <th>18</th>\n",
       "      <td>002_S_0413</td>\n",
       "      <td>413</td>\n",
       "      <td>002_S_0413_20061115_A1_T1_1.5T_nonaccel_Preproc</td>\n",
       "      <td>79122.0</td>\n",
       "      <td>/nas/bioint-data/neuroimaging-data/ADNI/Organi...</td>\n",
       "      <td>yes</td>\n",
       "      <td>/nas/bioint-data/neuroimaging-data/ADNI/6DOF/0...</td>\n",
       "      <td>/nas/bioint-data/neuroimaging-data/ADNI/6DOF/0...</td>\n",
       "      <td>/nas/bioint-data/neuroimaging-data/ADNI/6DOF/0...</td>\n",
       "      <td>/nas/bioint-data/neuroimaging-data/ADNI/6DOF/0...</td>\n",
       "      <td>...</td>\n",
       "      <td>NaN</td>\n",
       "      <td>NaN</td>\n",
       "      <td>NaN</td>\n",
       "      <td>NaN</td>\n",
       "      <td>NaN</td>\n",
       "      <td>NaN</td>\n",
       "      <td>NaN</td>\n",
       "      <td>NaN</td>\n",
       "      <td>NaN</td>\n",
       "      <td>NaN</td>\n",
       "    </tr>\n",
       "    <tr>\n",
       "      <th>19</th>\n",
       "      <td>002_S_0413</td>\n",
       "      <td>413</td>\n",
       "      <td>002_S_0413_20100506_A1_T1_1.5T_nonaccel_Preproc</td>\n",
       "      <td>291873.0</td>\n",
       "      <td>/nas/bioint-data/neuroimaging-data/ADNI/Organi...</td>\n",
       "      <td>yes</td>\n",
       "      <td>/nas/bioint-data/neuroimaging-data/ADNI/6DOF/0...</td>\n",
       "      <td>/nas/bioint-data/neuroimaging-data/ADNI/6DOF/0...</td>\n",
       "      <td>/nas/bioint-data/neuroimaging-data/ADNI/6DOF/0...</td>\n",
       "      <td>/nas/bioint-data/neuroimaging-data/ADNI/6DOF/0...</td>\n",
       "      <td>...</td>\n",
       "      <td>NaN</td>\n",
       "      <td>NaN</td>\n",
       "      <td>NaN</td>\n",
       "      <td>NaN</td>\n",
       "      <td>NaN</td>\n",
       "      <td>NaN</td>\n",
       "      <td>NaN</td>\n",
       "      <td>NaN</td>\n",
       "      <td>NaN</td>\n",
       "      <td>NaN</td>\n",
       "    </tr>\n",
       "  </tbody>\n",
       "</table>\n",
       "<p>20 rows × 121 columns</p>\n",
       "</div>"
      ],
      "text/plain": [
       "        SubjID  RID                        NONACCEL_T1_SCAN_FILENAME  \\\n",
       "0   002_S_0295  295  002_S_0295_20060418_A1_T1_1.5T_nonaccel_Preproc   \n",
       "1   002_S_0295  295  002_S_0295_20061102_A1_T1_1.5T_nonaccel_Preproc   \n",
       "2   002_S_0295  295  002_S_0295_20070525_A1_T1_1.5T_nonaccel_Preproc   \n",
       "3   002_S_0295  295  002_S_0295_20080723_A1_T1_1.5T_nonaccel_Preproc   \n",
       "4   002_S_0295  295  002_S_0295_20090522_A1_T1_1.5T_nonaccel_Preproc   \n",
       "5   002_S_0295  295  002_S_0295_20100513_A1_T1_1.5T_nonaccel_Preproc   \n",
       "6   002_S_0295  295    002_S_0295_20110602_A2_T1_3T_nonaccel_Preproc   \n",
       "7   002_S_0295  295    002_S_0295_20120510_A2_T1_3T_nonaccel_Preproc   \n",
       "8   002_S_0413  413                                              NaN   \n",
       "9   002_S_0413  413    002_S_0413_20150609_A2_T1_3T_nonaccel_Preproc   \n",
       "10  002_S_0413  413    002_S_0413_20140501_A2_T1_3T_nonaccel_Preproc   \n",
       "11  002_S_0413  413    002_S_0413_20130510_A2_T1_3T_nonaccel_Preproc   \n",
       "12  002_S_0413  413    002_S_0413_20120515_A2_T1_3T_nonaccel_Preproc   \n",
       "13  002_S_0413  413    002_S_0413_20110616_A2_T1_3T_nonaccel_Preproc   \n",
       "14  002_S_0413  413                                              NaN   \n",
       "15  002_S_0413  413  002_S_0413_20090504_A1_T1_1.5T_nonaccel_Preproc   \n",
       "16  002_S_0413  413  002_S_0413_20080731_A1_T1_1.5T_nonaccel_Preproc   \n",
       "17  002_S_0413  413  002_S_0413_20070601_A1_T1_1.5T_nonaccel_Preproc   \n",
       "18  002_S_0413  413  002_S_0413_20061115_A1_T1_1.5T_nonaccel_Preproc   \n",
       "19  002_S_0413  413  002_S_0413_20100506_A1_T1_1.5T_nonaccel_Preproc   \n",
       "\n",
       "    NONACCEL_T1_IMAGEID                         NONACCEL_Path to RAW nifti  \\\n",
       "0               45108.0  /nas/bioint-data/neuroimaging-data/ADNI/Organi...   \n",
       "1               40966.0  /nas/bioint-data/neuroimaging-data/ADNI/Organi...   \n",
       "2               64025.0  /nas/bioint-data/neuroimaging-data/ADNI/Organi...   \n",
       "3              123685.0  /nas/bioint-data/neuroimaging-data/ADNI/Organi...   \n",
       "4              150177.0  /nas/bioint-data/neuroimaging-data/ADNI/Organi...   \n",
       "5              291869.0  /nas/bioint-data/neuroimaging-data/ADNI/Organi...   \n",
       "6              241350.0  /nas/bioint-data/neuroimaging-data/ADNI/Organi...   \n",
       "7              308078.0  /nas/bioint-data/neuroimaging-data/ADNI/Organi...   \n",
       "8                   NaN                                                NaN   \n",
       "9              649030.0  /nas/bioint-data/neuroimaging-data/ADNI/Organi...   \n",
       "10             424741.0  /nas/bioint-data/neuroimaging-data/ADNI/Organi...   \n",
       "11             373133.0  /nas/bioint-data/neuroimaging-data/ADNI/Organi...   \n",
       "12             312701.0  /nas/bioint-data/neuroimaging-data/ADNI/Organi...   \n",
       "13             242895.0  /nas/bioint-data/neuroimaging-data/ADNI/Organi...   \n",
       "14                  NaN                                                NaN   \n",
       "15             149740.0  /nas/bioint-data/neuroimaging-data/ADNI/Organi...   \n",
       "16             120917.0  /nas/bioint-data/neuroimaging-data/ADNI/Organi...   \n",
       "17              60008.0  /nas/bioint-data/neuroimaging-data/ADNI/Organi...   \n",
       "18              79122.0  /nas/bioint-data/neuroimaging-data/ADNI/Organi...   \n",
       "19             291873.0  /nas/bioint-data/neuroimaging-data/ADNI/Organi...   \n",
       "\n",
       "   NONACCEL_Preprocessed for DL?  \\\n",
       "0                            yes   \n",
       "1                            yes   \n",
       "2                            yes   \n",
       "3                            yes   \n",
       "4                            yes   \n",
       "5                            yes   \n",
       "6                            yes   \n",
       "7                            yes   \n",
       "8                            NaN   \n",
       "9                            yes   \n",
       "10                           yes   \n",
       "11                           yes   \n",
       "12                           yes   \n",
       "13                           yes   \n",
       "14                           NaN   \n",
       "15                           yes   \n",
       "16                           yes   \n",
       "17                           yes   \n",
       "18                           yes   \n",
       "19                           yes   \n",
       "\n",
       "                              NONACCEL_DL_6DOF_2MM_T1  \\\n",
       "0   /nas/bioint-data/neuroimaging-data/ADNI/6DOF/0...   \n",
       "1   /nas/bioint-data/neuroimaging-data/ADNI/6DOF/0...   \n",
       "2   /nas/bioint-data/neuroimaging-data/ADNI/6DOF/0...   \n",
       "3   /nas/bioint-data/neuroimaging-data/ADNI/6DOF/0...   \n",
       "4   /nas/bioint-data/neuroimaging-data/ADNI/6DOF/0...   \n",
       "5   /nas/bioint-data/neuroimaging-data/ADNI/6DOF/0...   \n",
       "6   /nas/bioint-data/neuroimaging-data/ADNI/6DOF/0...   \n",
       "7   /nas/bioint-data/neuroimaging-data/ADNI/6DOF/0...   \n",
       "8                                                 NaN   \n",
       "9   /nas/bioint-data/neuroimaging-data/ADNI/6DOF/0...   \n",
       "10  /nas/bioint-data/neuroimaging-data/ADNI/6DOF/0...   \n",
       "11  /nas/bioint-data/neuroimaging-data/ADNI/6DOF/0...   \n",
       "12  /nas/bioint-data/neuroimaging-data/ADNI/6DOF/0...   \n",
       "13  /nas/bioint-data/neuroimaging-data/ADNI/6DOF/0...   \n",
       "14                                                NaN   \n",
       "15  /nas/bioint-data/neuroimaging-data/ADNI/6DOF/0...   \n",
       "16  /nas/bioint-data/neuroimaging-data/ADNI/6DOF/0...   \n",
       "17  /nas/bioint-data/neuroimaging-data/ADNI/6DOF/0...   \n",
       "18  /nas/bioint-data/neuroimaging-data/ADNI/6DOF/0...   \n",
       "19  /nas/bioint-data/neuroimaging-data/ADNI/6DOF/0...   \n",
       "\n",
       "                            NONACCEL_DL_6DOF_2MM_MASK  \\\n",
       "0   /nas/bioint-data/neuroimaging-data/ADNI/6DOF/0...   \n",
       "1   /nas/bioint-data/neuroimaging-data/ADNI/6DOF/0...   \n",
       "2   /nas/bioint-data/neuroimaging-data/ADNI/6DOF/0...   \n",
       "3   /nas/bioint-data/neuroimaging-data/ADNI/6DOF/0...   \n",
       "4   /nas/bioint-data/neuroimaging-data/ADNI/6DOF/0...   \n",
       "5   /nas/bioint-data/neuroimaging-data/ADNI/6DOF/0...   \n",
       "6   /nas/bioint-data/neuroimaging-data/ADNI/6DOF/0...   \n",
       "7   /nas/bioint-data/neuroimaging-data/ADNI/6DOF/0...   \n",
       "8                                                 NaN   \n",
       "9   /nas/bioint-data/neuroimaging-data/ADNI/6DOF/0...   \n",
       "10  /nas/bioint-data/neuroimaging-data/ADNI/6DOF/0...   \n",
       "11  /nas/bioint-data/neuroimaging-data/ADNI/6DOF/0...   \n",
       "12  /nas/bioint-data/neuroimaging-data/ADNI/6DOF/0...   \n",
       "13  /nas/bioint-data/neuroimaging-data/ADNI/6DOF/0...   \n",
       "14                                                NaN   \n",
       "15  /nas/bioint-data/neuroimaging-data/ADNI/6DOF/0...   \n",
       "16  /nas/bioint-data/neuroimaging-data/ADNI/6DOF/0...   \n",
       "17  /nas/bioint-data/neuroimaging-data/ADNI/6DOF/0...   \n",
       "18  /nas/bioint-data/neuroimaging-data/ADNI/6DOF/0...   \n",
       "19  /nas/bioint-data/neuroimaging-data/ADNI/6DOF/0...   \n",
       "\n",
       "                              NONACCEL_DL_6DOF_2MM_GM  \\\n",
       "0   /nas/bioint-data/neuroimaging-data/ADNI/6DOF/0...   \n",
       "1   /nas/bioint-data/neuroimaging-data/ADNI/6DOF/0...   \n",
       "2   /nas/bioint-data/neuroimaging-data/ADNI/6DOF/0...   \n",
       "3   /nas/bioint-data/neuroimaging-data/ADNI/6DOF/0...   \n",
       "4   /nas/bioint-data/neuroimaging-data/ADNI/6DOF/0...   \n",
       "5   /nas/bioint-data/neuroimaging-data/ADNI/6DOF/0...   \n",
       "6   /nas/bioint-data/neuroimaging-data/ADNI/6DOF/0...   \n",
       "7   /nas/bioint-data/neuroimaging-data/ADNI/6DOF/0...   \n",
       "8                                                 NaN   \n",
       "9   /nas/bioint-data/neuroimaging-data/ADNI/6DOF/0...   \n",
       "10  /nas/bioint-data/neuroimaging-data/ADNI/6DOF/0...   \n",
       "11  /nas/bioint-data/neuroimaging-data/ADNI/6DOF/0...   \n",
       "12  /nas/bioint-data/neuroimaging-data/ADNI/6DOF/0...   \n",
       "13  /nas/bioint-data/neuroimaging-data/ADNI/6DOF/0...   \n",
       "14                                                NaN   \n",
       "15  /nas/bioint-data/neuroimaging-data/ADNI/6DOF/0...   \n",
       "16  /nas/bioint-data/neuroimaging-data/ADNI/6DOF/0...   \n",
       "17  /nas/bioint-data/neuroimaging-data/ADNI/6DOF/0...   \n",
       "18  /nas/bioint-data/neuroimaging-data/ADNI/6DOF/0...   \n",
       "19  /nas/bioint-data/neuroimaging-data/ADNI/6DOF/0...   \n",
       "\n",
       "                              NONACCEL_DL_6DOF_2MM_WM  ...  \\\n",
       "0   /nas/bioint-data/neuroimaging-data/ADNI/6DOF/0...  ...   \n",
       "1   /nas/bioint-data/neuroimaging-data/ADNI/6DOF/0...  ...   \n",
       "2   /nas/bioint-data/neuroimaging-data/ADNI/6DOF/0...  ...   \n",
       "3   /nas/bioint-data/neuroimaging-data/ADNI/6DOF/0...  ...   \n",
       "4   /nas/bioint-data/neuroimaging-data/ADNI/6DOF/0...  ...   \n",
       "5   /nas/bioint-data/neuroimaging-data/ADNI/6DOF/0...  ...   \n",
       "6   /nas/bioint-data/neuroimaging-data/ADNI/6DOF/0...  ...   \n",
       "7   /nas/bioint-data/neuroimaging-data/ADNI/6DOF/0...  ...   \n",
       "8                                                 NaN  ...   \n",
       "9   /nas/bioint-data/neuroimaging-data/ADNI/6DOF/0...  ...   \n",
       "10  /nas/bioint-data/neuroimaging-data/ADNI/6DOF/0...  ...   \n",
       "11  /nas/bioint-data/neuroimaging-data/ADNI/6DOF/0...  ...   \n",
       "12  /nas/bioint-data/neuroimaging-data/ADNI/6DOF/0...  ...   \n",
       "13  /nas/bioint-data/neuroimaging-data/ADNI/6DOF/0...  ...   \n",
       "14                                                NaN  ...   \n",
       "15  /nas/bioint-data/neuroimaging-data/ADNI/6DOF/0...  ...   \n",
       "16  /nas/bioint-data/neuroimaging-data/ADNI/6DOF/0...  ...   \n",
       "17  /nas/bioint-data/neuroimaging-data/ADNI/6DOF/0...  ...   \n",
       "18  /nas/bioint-data/neuroimaging-data/ADNI/6DOF/0...  ...   \n",
       "19  /nas/bioint-data/neuroimaging-data/ADNI/6DOF/0...  ...   \n",
       "\n",
       "             DWI_Matched_File_L1_Path_ENIGMATBSSspace  \\\n",
       "0                                                 NaN   \n",
       "1                                                 NaN   \n",
       "2                                                 NaN   \n",
       "3                                                 NaN   \n",
       "4                                                 NaN   \n",
       "5                                                 NaN   \n",
       "6                                                 NaN   \n",
       "7                                                 NaN   \n",
       "8   /nas/bioint-data/neuroimaging-data/ADNI/Organi...   \n",
       "9                                                 NaN   \n",
       "10                                                NaN   \n",
       "11                                                NaN   \n",
       "12                                                NaN   \n",
       "13                                                NaN   \n",
       "14  /nas/bioint-data/neuroimaging-data/ADNI/Organi...   \n",
       "15                                                NaN   \n",
       "16                                                NaN   \n",
       "17                                                NaN   \n",
       "18                                                NaN   \n",
       "19                                                NaN   \n",
       "\n",
       "             DWI_Matched_File_MD_Path_ENIGMATBSSspace  \\\n",
       "0                                                 NaN   \n",
       "1                                                 NaN   \n",
       "2                                                 NaN   \n",
       "3                                                 NaN   \n",
       "4                                                 NaN   \n",
       "5                                                 NaN   \n",
       "6                                                 NaN   \n",
       "7                                                 NaN   \n",
       "8   /nas/bioint-data/neuroimaging-data/ADNI/Organi...   \n",
       "9                                                 NaN   \n",
       "10                                                NaN   \n",
       "11                                                NaN   \n",
       "12                                                NaN   \n",
       "13                                                NaN   \n",
       "14  /nas/bioint-data/neuroimaging-data/ADNI/Organi...   \n",
       "15                                                NaN   \n",
       "16                                                NaN   \n",
       "17                                                NaN   \n",
       "18                                                NaN   \n",
       "19                                                NaN   \n",
       "\n",
       "             DWI_Matched_File_RD_Path_ENIGMATBSSspace  \\\n",
       "0                                                 NaN   \n",
       "1                                                 NaN   \n",
       "2                                                 NaN   \n",
       "3                                                 NaN   \n",
       "4                                                 NaN   \n",
       "5                                                 NaN   \n",
       "6                                                 NaN   \n",
       "7                                                 NaN   \n",
       "8   /nas/bioint-data/neuroimaging-data/ADNI/Organi...   \n",
       "9                                                 NaN   \n",
       "10                                                NaN   \n",
       "11                                                NaN   \n",
       "12                                                NaN   \n",
       "13                                                NaN   \n",
       "14  /nas/bioint-data/neuroimaging-data/ADNI/Organi...   \n",
       "15                                                NaN   \n",
       "16                                                NaN   \n",
       "17                                                NaN   \n",
       "18                                                NaN   \n",
       "19                                                NaN   \n",
       "\n",
       "                              T1_Path_ENIGMATBSSspace  \\\n",
       "0                                                 NaN   \n",
       "1                                                 NaN   \n",
       "2                                                 NaN   \n",
       "3                                                 NaN   \n",
       "4                                                 NaN   \n",
       "5                                                 NaN   \n",
       "6                                                 NaN   \n",
       "7                                                 NaN   \n",
       "8   /nas/bioint-data/neuroimaging-data/ADNI/Organi...   \n",
       "9                                                 NaN   \n",
       "10                                                NaN   \n",
       "11                                                NaN   \n",
       "12                                                NaN   \n",
       "13                                                NaN   \n",
       "14  /nas/bioint-data/neuroimaging-data/ADNI/Organi...   \n",
       "15                                                NaN   \n",
       "16                                                NaN   \n",
       "17                                                NaN   \n",
       "18                                                NaN   \n",
       "19                                                NaN   \n",
       "\n",
       "         DWI_Matched_File_FA_Path_ENIGMATBSSspace_2MM  \\\n",
       "0                                                 NaN   \n",
       "1                                                 NaN   \n",
       "2                                                 NaN   \n",
       "3                                                 NaN   \n",
       "4                                                 NaN   \n",
       "5                                                 NaN   \n",
       "6                                                 NaN   \n",
       "7                                                 NaN   \n",
       "8   /nas/bioint-data/neuroimaging-data/ADNI/Organi...   \n",
       "9                                                 NaN   \n",
       "10                                                NaN   \n",
       "11                                                NaN   \n",
       "12                                                NaN   \n",
       "13                                                NaN   \n",
       "14  /nas/bioint-data/neuroimaging-data/ADNI/Organi...   \n",
       "15                                                NaN   \n",
       "16                                                NaN   \n",
       "17                                                NaN   \n",
       "18                                                NaN   \n",
       "19                                                NaN   \n",
       "\n",
       "         DWI_Matched_File_L1_Path_ENIGMATBSSspace_2MM  \\\n",
       "0                                                 NaN   \n",
       "1                                                 NaN   \n",
       "2                                                 NaN   \n",
       "3                                                 NaN   \n",
       "4                                                 NaN   \n",
       "5                                                 NaN   \n",
       "6                                                 NaN   \n",
       "7                                                 NaN   \n",
       "8   /nas/bioint-data/neuroimaging-data/ADNI/Organi...   \n",
       "9                                                 NaN   \n",
       "10                                                NaN   \n",
       "11                                                NaN   \n",
       "12                                                NaN   \n",
       "13                                                NaN   \n",
       "14  /nas/bioint-data/neuroimaging-data/ADNI/Organi...   \n",
       "15                                                NaN   \n",
       "16                                                NaN   \n",
       "17                                                NaN   \n",
       "18                                                NaN   \n",
       "19                                                NaN   \n",
       "\n",
       "         DWI_Matched_File_MD_Path_ENIGMATBSSspace_2MM  \\\n",
       "0                                                 NaN   \n",
       "1                                                 NaN   \n",
       "2                                                 NaN   \n",
       "3                                                 NaN   \n",
       "4                                                 NaN   \n",
       "5                                                 NaN   \n",
       "6                                                 NaN   \n",
       "7                                                 NaN   \n",
       "8   /nas/bioint-data/neuroimaging-data/ADNI/Organi...   \n",
       "9                                                 NaN   \n",
       "10                                                NaN   \n",
       "11                                                NaN   \n",
       "12                                                NaN   \n",
       "13                                                NaN   \n",
       "14  /nas/bioint-data/neuroimaging-data/ADNI/Organi...   \n",
       "15                                                NaN   \n",
       "16                                                NaN   \n",
       "17                                                NaN   \n",
       "18                                                NaN   \n",
       "19                                                NaN   \n",
       "\n",
       "         DWI_Matched_File_RD_Path_ENIGMATBSSspace_2MM  \\\n",
       "0                                                 NaN   \n",
       "1                                                 NaN   \n",
       "2                                                 NaN   \n",
       "3                                                 NaN   \n",
       "4                                                 NaN   \n",
       "5                                                 NaN   \n",
       "6                                                 NaN   \n",
       "7                                                 NaN   \n",
       "8   /nas/bioint-data/neuroimaging-data/ADNI/Organi...   \n",
       "9                                                 NaN   \n",
       "10                                                NaN   \n",
       "11                                                NaN   \n",
       "12                                                NaN   \n",
       "13                                                NaN   \n",
       "14  /nas/bioint-data/neuroimaging-data/ADNI/Organi...   \n",
       "15                                                NaN   \n",
       "16                                                NaN   \n",
       "17                                                NaN   \n",
       "18                                                NaN   \n",
       "19                                                NaN   \n",
       "\n",
       "                          T1_Path_ENIGMATBSSspace_2MM  \\\n",
       "0                                                 NaN   \n",
       "1                                                 NaN   \n",
       "2                                                 NaN   \n",
       "3                                                 NaN   \n",
       "4                                                 NaN   \n",
       "5                                                 NaN   \n",
       "6                                                 NaN   \n",
       "7                                                 NaN   \n",
       "8   /nas/bioint-data/neuroimaging-data/ADNI/Organi...   \n",
       "9                                                 NaN   \n",
       "10                                                NaN   \n",
       "11                                                NaN   \n",
       "12                                                NaN   \n",
       "13                                                NaN   \n",
       "14  /nas/bioint-data/neuroimaging-data/ADNI/Organi...   \n",
       "15                                                NaN   \n",
       "16                                                NaN   \n",
       "17                                                NaN   \n",
       "18                                                NaN   \n",
       "19                                                NaN   \n",
       "\n",
       "   DWI Preprocessing Pipeline (old=ADNI2 - new=ADNI3)  \n",
       "0                                                 NaN  \n",
       "1                                                 NaN  \n",
       "2                                                 NaN  \n",
       "3                                                 NaN  \n",
       "4                                                 NaN  \n",
       "5                                                 NaN  \n",
       "6                                                 NaN  \n",
       "7                                                 NaN  \n",
       "8                                               ADNI3  \n",
       "9                                                 NaN  \n",
       "10                                                NaN  \n",
       "11                                                NaN  \n",
       "12                                                NaN  \n",
       "13                                                NaN  \n",
       "14                                              ADNI3  \n",
       "15                                                NaN  \n",
       "16                                                NaN  \n",
       "17                                                NaN  \n",
       "18                                                NaN  \n",
       "19                                                NaN  \n",
       "\n",
       "[20 rows x 121 columns]"
      ]
     },
     "execution_count": 7,
     "metadata": {},
     "output_type": "execute_result"
    }
   ],
   "source": [
    "df = df.reset_index(drop=True)\n",
    "df.head(20)"
   ]
  },
  {
   "cell_type": "code",
   "execution_count": 8,
   "id": "d3b84b4e",
   "metadata": {},
   "outputs": [
    {
     "name": "stderr",
     "output_type": "stream",
     "text": [
      "/lfs1/ashaji/condawork/lib/python3.10/site-packages/tensorflow_addons/utils/tfa_eol_msg.py:23: UserWarning: \n",
      "\n",
      "TensorFlow Addons (TFA) has ended development and introduction of new features.\n",
      "TFA has entered a minimal maintenance and release mode until a planned end of life in May 2024.\n",
      "Please modify downstream libraries to take dependencies from other repositories in our TensorFlow community (e.g. Keras, Keras-CV, and Keras-NLP). \n",
      "\n",
      "For more information see: https://github.com/tensorflow/addons/issues/2807 \n",
      "\n",
      "  warnings.warn(\n"
     ]
    },
    {
     "name": "stdout",
     "output_type": "stream",
     "text": [
      "Num GPUs Available:  1\n"
     ]
    }
   ],
   "source": [
    "import nibabel as nib\n",
    "from tensorflow import keras\n",
    "from tensorflow.keras import layers\n",
    "import random as pyrandom\n",
    "import tensorflow_addons as tfa\n",
    "from tensorflow.keras.preprocessing import image_dataset_from_directory\n",
    "\n",
    "import nibabel as nib\n",
    "from scipy import ndimage\n",
    "import matplotlib.pyplot as plt\n",
    "from sklearn.metrics import roc_curve, precision_recall_curve, accuracy_score, f1_score, precision_score, recall_score, auc, roc_auc_score\n",
    "from sklearn.utils import class_weight\n",
    "from sklearn.metrics import mean_squared_error, mean_absolute_error, r2_score\n",
    "\n",
    "os.environ[\"CUDA_DEVICE_ORDER\"]=\"PCI_BUS_ID\"\n",
    "os.environ[\"CUDA_VISIBLE_DEVICES\"]= \"5\"\n",
    "\n",
    "physical_devices = tf.config.list_physical_devices('GPU')\n",
    "print(\"Num GPUs Available: \", len(physical_devices))\n",
    "tf.config.experimental.set_memory_growth(physical_devices[0], True)"
   ]
  },
  {
   "cell_type": "code",
   "execution_count": 9,
   "id": "01443f26",
   "metadata": {},
   "outputs": [],
   "source": [
    "### Hyperparameter config\n",
    "\n",
    "init_lr = 1e-4\n",
    "epochs = 50\n",
    "early_stop = 100\n",
    "seed = 53\n",
    "drop_out = 0.5\n",
    "weight_decay = 1e-4\n",
    "\n",
    "batch_size=4\n",
    "test_batch_size=4"
   ]
  },
  {
   "cell_type": "code",
   "execution_count": 10,
   "id": "3a0706a7",
   "metadata": {},
   "outputs": [
    {
     "data": {
      "text/plain": [
       "5570"
      ]
     },
     "execution_count": 10,
     "metadata": {},
     "output_type": "execute_result"
    }
   ],
   "source": [
    "os.getpid()"
   ]
  },
  {
   "cell_type": "code",
   "execution_count": 11,
   "id": "125eb63c",
   "metadata": {},
   "outputs": [
    {
     "name": "stderr",
     "output_type": "stream",
     "text": [
      "2023-12-28 14:28:47.421901: I tensorflow/core/common_runtime/gpu/gpu_device.cc:1635] Created device /job:localhost/replica:0/task:0/device:GPU:0 with 10534 MB memory:  -> device: 0, name: NVIDIA GeForce GTX 1080 Ti, pci bus id: 0000:0d:00.0, compute capability: 6.1\n"
     ]
    },
    {
     "name": "stdout",
     "output_type": "stream",
     "text": [
      "Model: \"3DCNN_Metis_T1andDWI\"\n",
      "__________________________________________________________________________________________________\n",
      " Layer (type)                   Output Shape         Param #     Connected to                     \n",
      "==================================================================================================\n",
      " inp0 (InputLayer)              [(None, 91, 109, 91  0           []                               \n",
      "                                , 1)]                                                             \n",
      "                                                                                                  \n",
      " inp1 (InputLayer)              [(None, 91, 109, 91  0           []                               \n",
      "                                , 1)]                                                             \n",
      "                                                                                                  \n",
      " conv3d (Conv3D)                (None, 91, 109, 91,  896         ['inp0[0][0]']                   \n",
      "                                 32)                                                              \n",
      "                                                                                                  \n",
      " conv3d_6 (Conv3D)              (None, 91, 109, 91,  896         ['inp1[0][0]']                   \n",
      "                                 32)                                                              \n",
      "                                                                                                  \n",
      " instance_normalization (Instan  (None, 91, 109, 91,  0          ['conv3d[0][0]']                 \n",
      " ceNormalization)                32)                                                              \n",
      "                                                                                                  \n",
      " instance_normalization_6 (Inst  (None, 91, 109, 91,  0          ['conv3d_6[0][0]']               \n",
      " anceNormalization)              32)                                                              \n",
      "                                                                                                  \n",
      " max_pooling3d (MaxPooling3D)   (None, 45, 54, 45,   0           ['instance_normalization[0][0]'] \n",
      "                                32)                                                               \n",
      "                                                                                                  \n",
      " max_pooling3d_5 (MaxPooling3D)  (None, 45, 54, 45,   0          ['instance_normalization_6[0][0]'\n",
      "                                32)                              ]                                \n",
      "                                                                                                  \n",
      " tf.nn.relu (TFOpLambda)        (None, 45, 54, 45,   0           ['max_pooling3d[0][0]']          \n",
      "                                32)                                                               \n",
      "                                                                                                  \n",
      " tf.nn.relu_6 (TFOpLambda)      (None, 45, 54, 45,   0           ['max_pooling3d_5[0][0]']        \n",
      "                                32)                                                               \n",
      "                                                                                                  \n",
      " conv3d_1 (Conv3D)              (None, 45, 54, 45,   55360       ['tf.nn.relu[0][0]']             \n",
      "                                64)                                                               \n",
      "                                                                                                  \n",
      " conv3d_7 (Conv3D)              (None, 45, 54, 45,   55360       ['tf.nn.relu_6[0][0]']           \n",
      "                                64)                                                               \n",
      "                                                                                                  \n",
      " instance_normalization_1 (Inst  (None, 45, 54, 45,   0          ['conv3d_1[0][0]']               \n",
      " anceNormalization)             64)                                                               \n",
      "                                                                                                  \n",
      " instance_normalization_7 (Inst  (None, 45, 54, 45,   0          ['conv3d_7[0][0]']               \n",
      " anceNormalization)             64)                                                               \n",
      "                                                                                                  \n",
      " max_pooling3d_1 (MaxPooling3D)  (None, 22, 27, 22,   0          ['instance_normalization_1[0][0]'\n",
      "                                64)                              ]                                \n",
      "                                                                                                  \n",
      " max_pooling3d_6 (MaxPooling3D)  (None, 22, 27, 22,   0          ['instance_normalization_7[0][0]'\n",
      "                                64)                              ]                                \n",
      "                                                                                                  \n",
      " tf.nn.relu_1 (TFOpLambda)      (None, 22, 27, 22,   0           ['max_pooling3d_1[0][0]']        \n",
      "                                64)                                                               \n",
      "                                                                                                  \n",
      " tf.nn.relu_7 (TFOpLambda)      (None, 22, 27, 22,   0           ['max_pooling3d_6[0][0]']        \n",
      "                                64)                                                               \n",
      "                                                                                                  \n",
      " conv3d_2 (Conv3D)              (None, 22, 27, 22,   221312      ['tf.nn.relu_1[0][0]']           \n",
      "                                128)                                                              \n",
      "                                                                                                  \n",
      " conv3d_8 (Conv3D)              (None, 22, 27, 22,   221312      ['tf.nn.relu_7[0][0]']           \n",
      "                                128)                                                              \n",
      "                                                                                                  \n",
      " instance_normalization_2 (Inst  (None, 22, 27, 22,   0          ['conv3d_2[0][0]']               \n",
      " anceNormalization)             128)                                                              \n",
      "                                                                                                  \n",
      " instance_normalization_8 (Inst  (None, 22, 27, 22,   0          ['conv3d_8[0][0]']               \n",
      " anceNormalization)             128)                                                              \n",
      "                                                                                                  \n",
      " max_pooling3d_2 (MaxPooling3D)  (None, 11, 13, 11,   0          ['instance_normalization_2[0][0]'\n",
      "                                128)                             ]                                \n",
      "                                                                                                  \n",
      " max_pooling3d_7 (MaxPooling3D)  (None, 11, 13, 11,   0          ['instance_normalization_8[0][0]'\n",
      "                                128)                             ]                                \n",
      "                                                                                                  \n",
      " tf.nn.relu_2 (TFOpLambda)      (None, 11, 13, 11,   0           ['max_pooling3d_2[0][0]']        \n",
      "                                128)                                                              \n",
      "                                                                                                  \n",
      " tf.nn.relu_8 (TFOpLambda)      (None, 11, 13, 11,   0           ['max_pooling3d_7[0][0]']        \n",
      "                                128)                                                              \n",
      "                                                                                                  \n",
      " conv3d_3 (Conv3D)              (None, 11, 13, 11,   884992      ['tf.nn.relu_2[0][0]']           \n",
      "                                256)                                                              \n"
     ]
    },
    {
     "name": "stdout",
     "output_type": "stream",
     "text": [
      "                                                                                                  \n",
      " conv3d_9 (Conv3D)              (None, 11, 13, 11,   884992      ['tf.nn.relu_8[0][0]']           \n",
      "                                256)                                                              \n",
      "                                                                                                  \n",
      " instance_normalization_3 (Inst  (None, 11, 13, 11,   0          ['conv3d_3[0][0]']               \n",
      " anceNormalization)             256)                                                              \n",
      "                                                                                                  \n",
      " instance_normalization_9 (Inst  (None, 11, 13, 11,   0          ['conv3d_9[0][0]']               \n",
      " anceNormalization)             256)                                                              \n",
      "                                                                                                  \n",
      " max_pooling3d_3 (MaxPooling3D)  (None, 5, 6, 5, 256  0          ['instance_normalization_3[0][0]'\n",
      "                                )                                ]                                \n",
      "                                                                                                  \n",
      " max_pooling3d_8 (MaxPooling3D)  (None, 5, 6, 5, 256  0          ['instance_normalization_9[0][0]'\n",
      "                                )                                ]                                \n",
      "                                                                                                  \n",
      " tf.nn.relu_3 (TFOpLambda)      (None, 5, 6, 5, 256  0           ['max_pooling3d_3[0][0]']        \n",
      "                                )                                                                 \n",
      "                                                                                                  \n",
      " tf.nn.relu_9 (TFOpLambda)      (None, 5, 6, 5, 256  0           ['max_pooling3d_8[0][0]']        \n",
      "                                )                                                                 \n",
      "                                                                                                  \n",
      " conv3d_4 (Conv3D)              (None, 5, 6, 5, 256  1769728     ['tf.nn.relu_3[0][0]']           \n",
      "                                )                                                                 \n",
      "                                                                                                  \n",
      " conv3d_10 (Conv3D)             (None, 5, 6, 5, 256  1769728     ['tf.nn.relu_9[0][0]']           \n",
      "                                )                                                                 \n",
      "                                                                                                  \n",
      " instance_normalization_4 (Inst  (None, 5, 6, 5, 256  0          ['conv3d_4[0][0]']               \n",
      " anceNormalization)             )                                                                 \n",
      "                                                                                                  \n",
      " instance_normalization_10 (Ins  (None, 5, 6, 5, 256  0          ['conv3d_10[0][0]']              \n",
      " tanceNormalization)            )                                                                 \n",
      "                                                                                                  \n",
      " max_pooling3d_4 (MaxPooling3D)  (None, 2, 3, 2, 256  0          ['instance_normalization_4[0][0]'\n",
      "                                )                                ]                                \n",
      "                                                                                                  \n",
      " max_pooling3d_9 (MaxPooling3D)  (None, 2, 3, 2, 256  0          ['instance_normalization_10[0][0]\n",
      "                                )                                ']                               \n",
      "                                                                                                  \n",
      " tf.nn.relu_4 (TFOpLambda)      (None, 2, 3, 2, 256  0           ['max_pooling3d_4[0][0]']        \n",
      "                                )                                                                 \n",
      "                                                                                                  \n",
      " tf.nn.relu_10 (TFOpLambda)     (None, 2, 3, 2, 256  0           ['max_pooling3d_9[0][0]']        \n",
      "                                )                                                                 \n",
      "                                                                                                  \n",
      " conv3d_5 (Conv3D)              (None, 2, 3, 2, 64)  16448       ['tf.nn.relu_4[0][0]']           \n",
      "                                                                                                  \n",
      " conv3d_11 (Conv3D)             (None, 2, 3, 2, 64)  16448       ['tf.nn.relu_10[0][0]']          \n",
      "                                                                                                  \n",
      " instance_normalization_5 (Inst  (None, 2, 3, 2, 64)  0          ['conv3d_5[0][0]']               \n",
      " anceNormalization)                                                                               \n",
      "                                                                                                  \n",
      " instance_normalization_11 (Ins  (None, 2, 3, 2, 64)  0          ['conv3d_11[0][0]']              \n",
      " tanceNormalization)                                                                              \n",
      "                                                                                                  \n",
      " tf.nn.relu_5 (TFOpLambda)      (None, 2, 3, 2, 64)  0           ['instance_normalization_5[0][0]'\n",
      "                                                                 ]                                \n",
      "                                                                                                  \n",
      " tf.nn.relu_11 (TFOpLambda)     (None, 2, 3, 2, 64)  0           ['instance_normalization_11[0][0]\n",
      "                                                                 ']                               \n",
      "                                                                                                  \n",
      " average_pooling3d (AveragePool  (None, 1, 1, 1, 64)  0          ['tf.nn.relu_5[0][0]']           \n",
      " ing3D)                                                                                           \n",
      "                                                                                                  \n",
      " average_pooling3d_1 (AveragePo  (None, 1, 1, 1, 64)  0          ['tf.nn.relu_11[0][0]']          \n",
      " oling3D)                                                                                         \n",
      "                                                                                                  \n",
      " drop0 (Dropout)                (None, 1, 1, 1, 64)  0           ['average_pooling3d[0][0]']      \n",
      "                                                                                                  \n",
      " drop2 (Dropout)                (None, 1, 1, 1, 64)  0           ['average_pooling3d_1[0][0]']    \n",
      "                                                                                                  \n",
      " flatten1 (Flatten)             (None, 64)           0           ['drop0[0][0]']                  \n",
      "                                                                                                  \n",
      " flatten2 (Flatten)             (None, 64)           0           ['drop2[0][0]']                  \n",
      "                                                                                                  \n",
      " concatenate (Concatenate)      (None, 128)          0           ['flatten1[0][0]',               \n",
      "                                                                  'flatten2[0][0]']               \n",
      "                                                                                                  \n",
      " dense (Dense)                  (None, 64)           8256        ['concatenate[0][0]']            \n",
      "                                                                                                  \n",
      " dense_1 (Dense)                (None, 32)           2080        ['dense[0][0]']                  \n",
      "                                                                                                  \n"
     ]
    },
    {
     "name": "stdout",
     "output_type": "stream",
     "text": [
      " dense_2 (Dense)                (None, 16)           528         ['dense_1[0][0]']                \n",
      "                                                                                                  \n",
      " DX (Dense)                     (None, 3)            51          ['dense_2[0][0]']                \n",
      "                                                                                                  \n",
      "==================================================================================================\n",
      "Total params: 5,908,387\n",
      "Trainable params: 5,908,387\n",
      "Non-trainable params: 0\n",
      "__________________________________________________________________________________________________\n"
     ]
    }
   ],
   "source": [
    "def getCNN(width = 91,height = 109, depth = 91):\n",
    "    \n",
    "    def conv_block(inp,filt,name):\n",
    "        inp = tf.keras.layers.Conv3D(filt,3,strides=1,padding='same')(inp)\n",
    "        inp = tfa.layers.InstanceNormalization(center=False,scale=False)(inp)\n",
    "        inp = tf.keras.layers.MaxPooling3D(2,strides=2,padding = 'valid')(inp)\n",
    "        inp = tf.nn.relu(inp)\n",
    "        return inp\n",
    "    \n",
    "    img0 = tf.keras.Input((91,109,91,1),name='inp0')\n",
    "    inp0 = conv_block(img0,32,'conv_block1')\n",
    "    inp0 = conv_block(inp0,64,'conv_block2')\n",
    "    inp0 = conv_block(inp0,128,'conv_block3')\n",
    "    inp0 = conv_block(inp0,256,'conv_block4')\n",
    "    inp0 = conv_block(inp0,256,'conv_block5')\n",
    "    \n",
    "    ##LAST LAYER\n",
    "    \n",
    "    inp0 = tf.keras.layers.Conv3D(64,1,strides=1,padding='same')(inp0)\n",
    "    inp0 = tfa.layers.InstanceNormalization(center=False,scale=False)(inp0)\n",
    "    inp0 = tf.nn.relu(inp0)\n",
    "    inp0 = tf.keras.layers.AveragePooling3D(2,2,'valid')(inp0)\n",
    "    \n",
    "    inp0 = tf.keras.layers.Dropout(rate=0.2,name='drop0')(inp0)\n",
    "    \n",
    "#     out0 = tf.keras.layers.Conv3D(1,1,strides=1,name='regconv1')(inp0)\n",
    "    out0 = tf.keras.layers.Flatten(name='flatten1')(inp0)\n",
    "    \n",
    "    ######################\n",
    "    \n",
    "    img1 = tf.keras.Input((91,109,91,1),name='inp1')\n",
    "    inp1 = conv_block(img1,32,'conv_block11')\n",
    "    inp1 = conv_block(inp1,64,'conv_block12')\n",
    "    inp1 = conv_block(inp1,128,'conv_block13')\n",
    "    inp1 = conv_block(inp1,256,'conv_block14')\n",
    "    inp1 = conv_block(inp1,256,'conv_block15')\n",
    "    \n",
    "    ##LAST LAYER\n",
    "    \n",
    "    inp1 = tf.keras.layers.Conv3D(64,1,strides=1,padding='same')(inp1)\n",
    "    inp1 = tfa.layers.InstanceNormalization(center=False,scale=False)(inp1)\n",
    "    inp1 = tf.nn.relu(inp1)\n",
    "    inp1 = tf.keras.layers.AveragePooling3D(2,2,'valid')(inp1)\n",
    "    \n",
    "    inp1 = tf.keras.layers.Dropout(rate=0.2,name='drop2')(inp1)\n",
    "    \n",
    "#     out1 = tf.keras.layers.Conv3D(1,1,strides=1,name='regconv2')(inp1)\n",
    "    out1 = tf.keras.layers.Flatten(name='flatten2')(inp1)\n",
    "    \n",
    "    concat = tf.keras.layers.Concatenate()([out0,out1])\n",
    "    outx = tf.keras.layers.Dense(64,activation='relu')(concat) \n",
    "    outx = tf.keras.layers.Dense(32,activation='relu')(outx) \n",
    "    outx = tf.keras.layers.Dense(16,activation='relu')(outx) \n",
    "    out2 = tf.keras.layers.Dense(units=3,activation ='softmax', name='DX')(outx)\n",
    "    \n",
    "    model = keras.Model([img0,img1],out2,name='3DCNN_Metis_T1andDWI')\n",
    "    return model\n",
    "\n",
    "model = getCNN()\n",
    "model.summary()\n",
    "    "
   ]
  },
  {
   "cell_type": "code",
   "execution_count": 12,
   "id": "72ba70d9",
   "metadata": {},
   "outputs": [],
   "source": [
    "t1dwi = df.loc[[(condt1[i] and conddwi[i]) for i in range(len(condt1))]  , :]"
   ]
  },
  {
   "cell_type": "code",
   "execution_count": 13,
   "id": "fd18fc23",
   "metadata": {},
   "outputs": [
    {
     "data": {
      "text/plain": [
       "916"
      ]
     },
     "execution_count": 13,
     "metadata": {},
     "output_type": "execute_result"
    }
   ],
   "source": [
    "len(t1dwi)"
   ]
  },
  {
   "cell_type": "code",
   "execution_count": 14,
   "id": "e0e36038",
   "metadata": {},
   "outputs": [
    {
     "data": {
      "text/plain": [
       "(641, 182, 93)"
      ]
     },
     "execution_count": 14,
     "metadata": {},
     "output_type": "execute_result"
    }
   ],
   "source": [
    "p = (np.ceil(0.7*len(t1dwi))-1).astype(int)\n",
    "q = (np.ceil(0.9*len(t1dwi))-2).astype(int)\n",
    "r = len(t1dwi)\n",
    "train = t1dwi[:p]\n",
    "test  = t1dwi[p:q]\n",
    "val   = t1dwi[q:]\n",
    "len(train), len(test), len(val)"
   ]
  },
  {
   "cell_type": "code",
   "execution_count": 17,
   "id": "80367e93",
   "metadata": {},
   "outputs": [],
   "source": [
    "for i in train['SubjID']:\n",
    "    for j in val['SubjID']:\n",
    "        if i==j:\n",
    "            print(i)"
   ]
  },
  {
   "cell_type": "code",
   "execution_count": 19,
   "id": "fe461480",
   "metadata": {},
   "outputs": [
    {
     "data": {
      "text/plain": [
       "<Axes: xlabel='DX', ylabel='Count'>"
      ]
     },
     "execution_count": 19,
     "metadata": {},
     "output_type": "execute_result"
    },
    {
     "data": {
      "image/png": "[encoded data removed]",
      "text/plain": [
       "<Figure size 640x480 with 1 Axes>"
      ]
     },
     "metadata": {},
     "output_type": "display_data"
    }
   ],
   "source": [
    "import seaborn as sns\n",
    "sns.histplot(data=train.DX)\n",
    "sns.histplot(data=test.DX)"
   ]
  },
  {
   "cell_type": "code",
   "execution_count": 20,
   "id": "ad6e328e",
   "metadata": {},
   "outputs": [],
   "source": [
    "class DataGenerator(tf.keras.utils.Sequence):\n",
    "    def rotate(self,vol):\n",
    "        def scipy_rotate(vol):\n",
    "            angles = [-20,-10,-5,0,5,10,20]\n",
    "            angle = pyrandom.choice(angles)\n",
    "            vol = ndimage.rotate(vol,angle,reshape=False)\n",
    "            vol[vol<0] = 0\n",
    "            vol[vol>1] = 1\n",
    "            return vol\n",
    "        aug_vol = tf.numpy_function(scipy_rotate,[vol],tf.float32)\n",
    "        return aug_vol\n",
    "\n",
    "    def preprocessing(self,vol):\n",
    "        if(self.isTrain):\n",
    "            vol1 = self.rotate(vol)\n",
    "            vol1 = tf.expand_dims(vol1,axis=3)\n",
    "        else:\n",
    "            vol1 = tf.expand_dims(vol,axis=3)\n",
    "        return vol1\n",
    "    \n",
    "    def read_scan(self,path):\n",
    "        scan = nib.load(path)\n",
    "        volume = scan.get_fdata()\n",
    "        min = np.amax(volume)\n",
    "        max = np.amin(volume)\n",
    "        volume = (volume - min) / (max - min)\n",
    "        volume = volume.astype(\"float32\")\n",
    "        return volume\n",
    "\n",
    "    def __init__(self,data, batch_size, sample_weights=None,isTrain=True):\n",
    "        self.data = data\n",
    "        self.batch_size = batch_size\n",
    "        self.sample_weights = sample_weights\n",
    "        self.isTrain = isTrain\n",
    "\n",
    "    def __len__(self):\n",
    "        return (np.ceil(len(self.data) / float(self.batch_size))).astype(np.int)\n",
    "\n",
    "    def __getitem__(self, idx):\n",
    "        ####\n",
    "        t1  = self.data['ACCEL_DL_6DOF_2MM_T1'].tolist()\n",
    "        dwi = self.data['DWI_Matched_File_FA_Path_ENIGMATBSSspace_2MM'].tolist()\n",
    "        labels = self.data['DX']\n",
    "        labels = keras.utils.to_categorical(labels)\n",
    "        \n",
    "        batch_t1 = t1[idx * self.batch_size: (idx + 1) * self.batch_size]\n",
    "        batch_dwi = dwi[idx * self.batch_size: (idx + 1) * self.batch_size]\n",
    "        batch_y = labels[idx * self.batch_size: (idx + 1) * self.batch_size]\n",
    "        \n",
    "        t1_imgs = np.asarray([self.preprocessing(self.read_scan(path)) for path in batch_t1])\n",
    "        dwi_imgs = np.asarray([self.preprocessing(self.read_scan(path)) for path in batch_dwi])\n",
    "        ####\n",
    "        return ([t1_imgs,dwi_imgs], np.array(batch_y))\n",
    "    \n",
    "    def on_epoch_end(self):\n",
    "        if(self.isTrain):\n",
    "            self.data = self.data.sample(frac=1)"
   ]
  },
  {
   "cell_type": "code",
   "execution_count": 21,
   "id": "93ecc68a",
   "metadata": {},
   "outputs": [],
   "source": [
    "dg_train = DataGenerator(train,batch_size,isTrain=True)\n",
    "dg_val = DataGenerator(val,batch_size,isTrain=False)"
   ]
  },
  {
   "cell_type": "code",
   "execution_count": 22,
   "id": "f3349b1f",
   "metadata": {},
   "outputs": [],
   "source": [
    "dg_testall = DataGenerator(test,4,isTrain=False)"
   ]
  },
  {
   "cell_type": "code",
   "execution_count": 23,
   "id": "a6e49391",
   "metadata": {},
   "outputs": [
    {
     "name": "stderr",
     "output_type": "stream",
     "text": [
      "/tmp/ipykernel_5570/2532890018.py:37: DeprecationWarning: `np.int` is a deprecated alias for the builtin `int`. To silence this warning, use `int` by itself. Doing this will not modify any behavior and is safe. When replacing `np.int`, you may wish to use e.g. `np.int64` or `np.int32` to specify the precision. If you wish to review your current use, check the release note link for additional information.\n",
      "Deprecated in NumPy 1.20; for more details and guidance: https://numpy.org/devdocs/release/1.20.0-notes.html#deprecations\n",
      "  return (np.ceil(len(self.data) / float(self.batch_size))).astype(np.int)\n"
     ]
    },
    {
     "name": "stdout",
     "output_type": "stream",
     "text": [
      "Epoch 1/200\n"
     ]
    },
    {
     "name": "stderr",
     "output_type": "stream",
     "text": [
      "2023-12-28 14:49:39.811995: I tensorflow/core/common_runtime/executor.cc:1197] [/device:CPU:0] (DEBUG INFO) Executor start aborting (this does not indicate an error and you can ignore this message): INVALID_ARGUMENT: You must feed a value for placeholder tensor 'Placeholder/_0' with dtype int32\n",
      "\t [[{{node Placeholder/_0}}]]\n",
      "2023-12-28 14:49:47.527638: I tensorflow/compiler/xla/stream_executor/cuda/cuda_dnn.cc:424] Loaded cuDNN version 8600\n",
      "2023-12-28 14:49:48.790245: I tensorflow/compiler/xla/service/service.cc:169] XLA service 0x7efae6400cf0 initialized for platform CUDA (this does not guarantee that XLA will be used). Devices:\n",
      "2023-12-28 14:49:48.790312: I tensorflow/compiler/xla/service/service.cc:177]   StreamExecutor device (0): NVIDIA GeForce GTX 1080 Ti, Compute Capability 6.1\n",
      "2023-12-28 14:49:48.799044: I tensorflow/compiler/mlir/tensorflow/utils/dump_mlir_util.cc:269] disabling MLIR crash reproducer, set env var `MLIR_CRASH_REPRODUCER_DIRECTORY` to enable.\n",
      "2023-12-28 14:49:49.113420: I ./tensorflow/compiler/jit/device_compiler.h:180] Compiled cluster using XLA!  This line is logged at most once for the lifetime of the process.\n"
     ]
    },
    {
     "name": "stdout",
     "output_type": "stream",
     "text": [
      "161/161 [==============================] - ETA: 0s - loss: 0.9610 - auc: 0.7233 - Precision: 0.5813 - Recall: 0.4072 - categorical_accuracy: 0.5725"
     ]
    },
    {
     "name": "stderr",
     "output_type": "stream",
     "text": [
      "2023-12-28 14:54:22.680749: I tensorflow/core/common_runtime/executor.cc:1197] [/device:CPU:0] (DEBUG INFO) Executor start aborting (this does not indicate an error and you can ignore this message): INVALID_ARGUMENT: You must feed a value for placeholder tensor 'Placeholder/_0' with dtype int32\n",
      "\t [[{{node Placeholder/_0}}]]\n"
     ]
    },
    {
     "name": "stdout",
     "output_type": "stream",
     "text": [
      "161/161 [==============================] - 296s 2s/step - loss: 0.9610 - auc: 0.7233 - Precision: 0.5813 - Recall: 0.4072 - categorical_accuracy: 0.5725 - val_loss: 0.8927 - val_auc: 0.7630 - val_Precision: 0.5914 - val_Recall: 0.5914 - val_categorical_accuracy: 0.5914\n",
      "Epoch 2/200\n",
      "161/161 [==============================] - 249s 2s/step - loss: 0.9114 - auc: 0.7432 - Precision: 0.5950 - Recall: 0.5913 - categorical_accuracy: 0.5928 - val_loss: 0.8750 - val_auc: 0.7853 - val_Precision: 0.5914 - val_Recall: 0.5914 - val_categorical_accuracy: 0.5914\n",
      "Epoch 3/200\n",
      "161/161 [==============================] - 252s 2s/step - loss: 0.9066 - auc: 0.7512 - Precision: 0.5943 - Recall: 0.5554 - categorical_accuracy: 0.5928 - val_loss: 0.8578 - val_auc: 0.7873 - val_Precision: 0.5914 - val_Recall: 0.5914 - val_categorical_accuracy: 0.5914\n",
      "Epoch 4/200\n",
      "161/161 [==============================] - 250s 2s/step - loss: 0.9057 - auc: 0.7512 - Precision: 0.5911 - Recall: 0.5772 - categorical_accuracy: 0.5928 - val_loss: 0.8537 - val_auc: 0.7943 - val_Precision: 0.5914 - val_Recall: 0.5914 - val_categorical_accuracy: 0.5914\n",
      "Epoch 5/200\n",
      "161/161 [==============================] - 250s 2s/step - loss: 0.9012 - auc: 0.7559 - Precision: 0.5886 - Recall: 0.5491 - categorical_accuracy: 0.5928 - val_loss: 0.8546 - val_auc: 0.7870 - val_Precision: 0.5914 - val_Recall: 0.5914 - val_categorical_accuracy: 0.5914\n",
      "Epoch 6/200\n",
      "161/161 [==============================] - 252s 2s/step - loss: 0.9063 - auc: 0.7486 - Precision: 0.5959 - Recall: 0.5866 - categorical_accuracy: 0.5928 - val_loss: 0.8605 - val_auc: 0.7865 - val_Precision: 0.5914 - val_Recall: 0.5914 - val_categorical_accuracy: 0.5914\n",
      "Epoch 7/200\n",
      "161/161 [==============================] - 250s 2s/step - loss: 0.9084 - auc: 0.7396 - Precision: 0.5927 - Recall: 0.5835 - categorical_accuracy: 0.5928 - val_loss: 0.8414 - val_auc: 0.8035 - val_Precision: 0.5914 - val_Recall: 0.5914 - val_categorical_accuracy: 0.5914\n",
      "Epoch 8/200\n",
      "161/161 [==============================] - 248s 2s/step - loss: 0.9086 - auc: 0.7452 - Precision: 0.5883 - Recall: 0.5819 - categorical_accuracy: 0.5928 - val_loss: 0.8345 - val_auc: 0.8256 - val_Precision: 0.5914 - val_Recall: 0.5914 - val_categorical_accuracy: 0.5914\n",
      "Epoch 9/200\n",
      "161/161 [==============================] - 253s 2s/step - loss: 0.9051 - auc: 0.7461 - Precision: 0.5947 - Recall: 0.5928 - categorical_accuracy: 0.5928 - val_loss: 0.8510 - val_auc: 0.8120 - val_Precision: 0.5914 - val_Recall: 0.5914 - val_categorical_accuracy: 0.5914\n",
      "Epoch 10/200\n",
      "161/161 [==============================] - 250s 2s/step - loss: 0.8961 - auc: 0.7623 - Precision: 0.5954 - Recall: 0.5647 - categorical_accuracy: 0.5928 - val_loss: 0.8627 - val_auc: 0.8163 - val_Precision: 0.5914 - val_Recall: 0.5914 - val_categorical_accuracy: 0.5914\n",
      "Epoch 11/200\n",
      "161/161 [==============================] - 248s 2s/step - loss: 0.9030 - auc: 0.7450 - Precision: 0.5947 - Recall: 0.5928 - categorical_accuracy: 0.5928 - val_loss: 0.8469 - val_auc: 0.8322 - val_Precision: 0.5914 - val_Recall: 0.5914 - val_categorical_accuracy: 0.5914\n",
      "Epoch 12/200\n",
      "161/161 [==============================] - 252s 2s/step - loss: 0.9015 - auc: 0.7558 - Precision: 0.5934 - Recall: 0.5850 - categorical_accuracy: 0.5928 - val_loss: 0.8632 - val_auc: 0.8310 - val_Precision: 0.5914 - val_Recall: 0.5914 - val_categorical_accuracy: 0.5914\n",
      "Epoch 13/200\n",
      "161/161 [==============================] - 249s 2s/step - loss: 0.8989 - auc: 0.7580 - Precision: 0.5928 - Recall: 0.5928 - categorical_accuracy: 0.5928 - val_loss: 0.8378 - val_auc: 0.8263 - val_Precision: 0.5914 - val_Recall: 0.5914 - val_categorical_accuracy: 0.5914\n",
      "Epoch 14/200\n",
      "161/161 [==============================] - 254s 2s/step - loss: 0.8971 - auc: 0.7593 - Precision: 0.6017 - Recall: 0.5632 - categorical_accuracy: 0.5928 - val_loss: 0.8472 - val_auc: 0.8236 - val_Precision: 0.5914 - val_Recall: 0.5914 - val_categorical_accuracy: 0.5914\n",
      "Epoch 15/200\n",
      "161/161 [==============================] - 251s 2s/step - loss: 0.8972 - auc: 0.7564 - Precision: 0.5935 - Recall: 0.5741 - categorical_accuracy: 0.5928 - val_loss: 0.8547 - val_auc: 0.8326 - val_Precision: 0.6023 - val_Recall: 0.5699 - val_categorical_accuracy: 0.5914\n",
      "Epoch 16/200\n",
      "161/161 [==============================] - 252s 2s/step - loss: 0.8925 - auc: 0.7620 - Precision: 0.6010 - Recall: 0.5382 - categorical_accuracy: 0.5928 - val_loss: 0.8054 - val_auc: 0.8338 - val_Precision: 0.5914 - val_Recall: 0.5914 - val_categorical_accuracy: 0.5914\n",
      "Epoch 17/200\n",
      "161/161 [==============================] - 251s 2s/step - loss: 0.8786 - auc: 0.7760 - Precision: 0.6067 - Recall: 0.5367 - categorical_accuracy: 0.5928 - val_loss: 0.8116 - val_auc: 0.8350 - val_Precision: 0.5914 - val_Recall: 0.5914 - val_categorical_accuracy: 0.5914\n",
      "Epoch 18/200\n",
      "161/161 [==============================] - 249s 2s/step - loss: 0.8719 - auc: 0.7784 - Precision: 0.6236 - Recall: 0.5195 - categorical_accuracy: 0.5928 - val_loss: 0.7797 - val_auc: 0.8329 - val_Precision: 0.6575 - val_Recall: 0.5161 - val_categorical_accuracy: 0.5914\n",
      "Epoch 19/200\n",
      "161/161 [==============================] - 248s 2s/step - loss: 0.8595 - auc: 0.7814 - Precision: 0.6383 - Recall: 0.4680 - categorical_accuracy: 0.5928 - val_loss: 0.7724 - val_auc: 0.8211 - val_Precision: 0.6833 - val_Recall: 0.4409 - val_categorical_accuracy: 0.5914\n",
      "Epoch 20/200\n",
      "161/161 [==============================] - 248s 2s/step - loss: 0.8759 - auc: 0.7766 - Precision: 0.6431 - Recall: 0.5257 - categorical_accuracy: 0.5928 - val_loss: 0.7789 - val_auc: 0.8296 - val_Precision: 0.6044 - val_Recall: 0.5914 - val_categorical_accuracy: 0.5914\n",
      "Epoch 21/200\n",
      "161/161 [==============================] - 252s 2s/step - loss: 0.8528 - auc: 0.7868 - Precision: 0.6451 - Recall: 0.4821 - categorical_accuracy: 0.5928 - val_loss: 0.8090 - val_auc: 0.8306 - val_Precision: 0.6875 - val_Recall: 0.4731 - val_categorical_accuracy: 0.5914\n",
      "Epoch 22/200\n",
      "161/161 [==============================] - 249s 2s/step - loss: 0.8550 - auc: 0.7834 - Precision: 0.6403 - Recall: 0.4805 - categorical_accuracy: 0.5928 - val_loss: 0.7633 - val_auc: 0.8270 - val_Precision: 0.6364 - val_Recall: 0.5269 - val_categorical_accuracy: 0.5914\n",
      "Epoch 23/200\n",
      "161/161 [==============================] - 250s 2s/step - loss: 0.8414 - auc: 0.7875 - Precision: 0.6581 - Recall: 0.4805 - categorical_accuracy: 0.5928 - val_loss: 0.7862 - val_auc: 0.8344 - val_Precision: 0.7885 - val_Recall: 0.4409 - val_categorical_accuracy: 0.6129\n",
      "Epoch 24/200\n",
      "161/161 [==============================] - 247s 2s/step - loss: 0.8371 - auc: 0.7891 - Precision: 0.6547 - Recall: 0.5117 - categorical_accuracy: 0.5897 - val_loss: 0.7459 - val_auc: 0.8344 - val_Precision: 0.7000 - val_Recall: 0.5269 - val_categorical_accuracy: 0.5914\n",
      "Epoch 26/200\n",
      "161/161 [==============================] - 251s 2s/step - loss: 0.8293 - auc: 0.7918 - Precision: 0.6602 - Recall: 0.5273 - categorical_accuracy: 0.5991 - val_loss: 0.8472 - val_auc: 0.7548 - val_Precision: 0.7955 - val_Recall: 0.3763 - val_categorical_accuracy: 0.5376\n",
      "Epoch 27/200\n",
      "161/161 [==============================] - 251s 2s/step - loss: 0.8235 - auc: 0.7971 - Precision: 0.6842 - Recall: 0.4867 - categorical_accuracy: 0.5975 - val_loss: 0.7688 - val_auc: 0.8317 - val_Precision: 0.6190 - val_Recall: 0.5591 - val_categorical_accuracy: 0.5914\n",
      "Epoch 28/200\n",
      "161/161 [==============================] - 250s 2s/step - loss: 0.8210 - auc: 0.7928 - Precision: 0.6745 - Recall: 0.4914 - categorical_accuracy: 0.5991 - val_loss: 0.7754 - val_auc: 0.8471 - val_Precision: 0.7800 - val_Recall: 0.4194 - val_categorical_accuracy: 0.6129\n",
      "Epoch 29/200\n",
      "161/161 [==============================] - 254s 2s/step - loss: 0.8429 - auc: 0.7859 - Precision: 0.6866 - Recall: 0.4649 - categorical_accuracy: 0.5991 - val_loss: 0.7634 - val_auc: 0.8371 - val_Precision: 0.6623 - val_Recall: 0.5484 - val_categorical_accuracy: 0.5914\n",
      "Epoch 30/200\n",
      "161/161 [==============================] - 251s 2s/step - loss: 0.8141 - auc: 0.8024 - Precision: 0.6784 - Recall: 0.5133 - categorical_accuracy: 0.6115 - val_loss: 0.7290 - val_auc: 0.8461 - val_Precision: 0.6420 - val_Recall: 0.5591 - val_categorical_accuracy: 0.6129\n",
      "Epoch 31/200\n"
     ]
    },
    {
     "name": "stdout",
     "output_type": "stream",
     "text": [
      "161/161 [==============================] - 250s 2s/step - loss: 0.8203 - auc: 0.7983 - Precision: 0.6766 - Recall: 0.4961 - categorical_accuracy: 0.5928 - val_loss: 0.7547 - val_auc: 0.8385 - val_Precision: 0.6310 - val_Recall: 0.5699 - val_categorical_accuracy: 0.5914\n",
      "Epoch 32/200\n",
      "161/161 [==============================] - 252s 2s/step - loss: 0.8103 - auc: 0.8063 - Precision: 0.6881 - Recall: 0.5164 - categorical_accuracy: 0.6240 - val_loss: 0.7417 - val_auc: 0.8442 - val_Precision: 0.6310 - val_Recall: 0.5699 - val_categorical_accuracy: 0.6022\n",
      "Epoch 33/200\n",
      "161/161 [==============================] - 248s 2s/step - loss: 0.8164 - auc: 0.8054 - Precision: 0.6748 - Recall: 0.5148 - categorical_accuracy: 0.6100 - val_loss: 0.7617 - val_auc: 0.8439 - val_Precision: 0.7353 - val_Recall: 0.5376 - val_categorical_accuracy: 0.6452\n",
      "Epoch 34/200\n",
      "161/161 [==============================] - 251s 2s/step - loss: 0.7908 - auc: 0.8172 - Precision: 0.6756 - Recall: 0.5133 - categorical_accuracy: 0.6162 - val_loss: 0.7476 - val_auc: 0.8466 - val_Precision: 0.6250 - val_Recall: 0.5914 - val_categorical_accuracy: 0.6022\n",
      "Epoch 35/200\n",
      "161/161 [==============================] - 250s 2s/step - loss: 0.7822 - auc: 0.8165 - Precision: 0.6830 - Recall: 0.5445 - categorical_accuracy: 0.6365 - val_loss: 0.7166 - val_auc: 0.8621 - val_Precision: 0.7667 - val_Recall: 0.4946 - val_categorical_accuracy: 0.6452\n",
      "Epoch 36/200\n",
      "161/161 [==============================] - 250s 2s/step - loss: 0.7826 - auc: 0.8204 - Precision: 0.6766 - Recall: 0.5647 - categorical_accuracy: 0.6537 - val_loss: 0.7267 - val_auc: 0.8726 - val_Precision: 0.7286 - val_Recall: 0.5484 - val_categorical_accuracy: 0.6774\n",
      "Epoch 37/200\n",
      "161/161 [==============================] - 249s 2s/step - loss: 0.8128 - auc: 0.8020 - Precision: 0.6623 - Recall: 0.5507 - categorical_accuracy: 0.6178 - val_loss: 0.7415 - val_auc: 0.8734 - val_Precision: 0.7742 - val_Recall: 0.5161 - val_categorical_accuracy: 0.6774\n",
      "Epoch 38/200\n",
      "161/161 [==============================] - 250s 2s/step - loss: 0.7815 - auc: 0.8194 - Precision: 0.6897 - Recall: 0.5304 - categorical_accuracy: 0.6474 - val_loss: 0.7414 - val_auc: 0.8533 - val_Precision: 0.6180 - val_Recall: 0.5914 - val_categorical_accuracy: 0.6129\n",
      "Epoch 39/200\n",
      "161/161 [==============================] - 249s 2s/step - loss: 0.7758 - auc: 0.8246 - Precision: 0.6760 - Recall: 0.5663 - categorical_accuracy: 0.6349 - val_loss: 0.7045 - val_auc: 0.8616 - val_Precision: 0.6933 - val_Recall: 0.5591 - val_categorical_accuracy: 0.6452\n",
      "Epoch 40/200\n",
      "161/161 [==============================] - 251s 2s/step - loss: 0.7815 - auc: 0.8222 - Precision: 0.6767 - Recall: 0.5585 - categorical_accuracy: 0.6349 - val_loss: 0.7468 - val_auc: 0.8515 - val_Precision: 0.6395 - val_Recall: 0.5914 - val_categorical_accuracy: 0.6237\n",
      "Epoch 41/200\n",
      "161/161 [==============================] - 253s 2s/step - loss: 0.7467 - auc: 0.8340 - Precision: 0.6879 - Recall: 0.6053 - categorical_accuracy: 0.6521 - val_loss: 0.6439 - val_auc: 0.8850 - val_Precision: 0.7273 - val_Recall: 0.6022 - val_categorical_accuracy: 0.7097\n",
      "Epoch 42/200\n",
      "161/161 [==============================] - 253s 2s/step - loss: 0.7692 - auc: 0.8259 - Precision: 0.6810 - Recall: 0.5928 - categorical_accuracy: 0.6521 - val_loss: 0.6629 - val_auc: 0.8831 - val_Precision: 0.7368 - val_Recall: 0.6022 - val_categorical_accuracy: 0.6882\n",
      "Epoch 43/200\n",
      "137/161 [========================>.....] - ETA: 36s - loss: 0.7470 - auc: 0.8392 - Precision: 0.6605 - Recall: 0.5890 - categorical_accuracy: 0.6459"
     ]
    },
    {
     "name": "stderr",
     "output_type": "stream",
     "text": [
      "IOPub message rate exceeded.\n",
      "The notebook server will temporarily stop sending output\n",
      "to the client in order to avoid crashing it.\n",
      "To change this limit, set the config variable\n",
      "`--NotebookApp.iopub_msg_rate_limit`.\n",
      "\n",
      "Current values:\n",
      "NotebookApp.iopub_msg_rate_limit=1000.0 (msgs/sec)\n",
      "NotebookApp.rate_limit_window=3.0 (secs)\n",
      "\n"
     ]
    },
    {
     "name": "stdout",
     "output_type": "stream",
     "text": [
      "161/161 [==============================] - 245s 2s/step - loss: 0.5528 - auc: 0.9126 - Precision: 0.7647 - Recall: 0.7504 - categorical_accuracy: 0.7613 - val_loss: 0.6963 - val_auc: 0.8673 - val_Precision: 0.7356 - val_Recall: 0.6882 - val_categorical_accuracy: 0.7097\n",
      "Epoch 80/200\n",
      "161/161 [==============================] - 245s 2s/step - loss: 0.5266 - auc: 0.9188 - Precision: 0.7911 - Recall: 0.7738 - categorical_accuracy: 0.7847 - val_loss: 0.9345 - val_auc: 0.8038 - val_Precision: 0.6087 - val_Recall: 0.6022 - val_categorical_accuracy: 0.6022\n",
      "Epoch 81/200\n",
      "161/161 [==============================] - 247s 2s/step - loss: 0.5271 - auc: 0.9182 - Precision: 0.7855 - Recall: 0.7598 - categorical_accuracy: 0.7800 - val_loss: 0.8076 - val_auc: 0.8424 - val_Precision: 0.6374 - val_Recall: 0.6237 - val_categorical_accuracy: 0.6344\n",
      "Epoch 82/200\n",
      "161/161 [==============================] - 246s 2s/step - loss: 0.5314 - auc: 0.9173 - Precision: 0.7785 - Recall: 0.7566 - categorical_accuracy: 0.7629 - val_loss: 0.8108 - val_auc: 0.8160 - val_Precision: 0.6395 - val_Recall: 0.5914 - val_categorical_accuracy: 0.6237\n",
      "Epoch 83/200\n",
      "161/161 [==============================] - 246s 2s/step - loss: 0.5051 - auc: 0.9260 - Precision: 0.8029 - Recall: 0.7691 - categorical_accuracy: 0.7941 - val_loss: 1.0328 - val_auc: 0.7492 - val_Precision: 0.5930 - val_Recall: 0.5484 - val_categorical_accuracy: 0.5806\n",
      "Epoch 84/200\n",
      "161/161 [==============================] - 245s 2s/step - loss: 0.5064 - auc: 0.9268 - Precision: 0.7839 - Recall: 0.7754 - categorical_accuracy: 0.7785 - val_loss: 0.8601 - val_auc: 0.8147 - val_Precision: 0.6517 - val_Recall: 0.6237 - val_categorical_accuracy: 0.6452\n",
      "Epoch 85/200\n",
      "161/161 [==============================] - 243s 2s/step - loss: 0.5143 - auc: 0.9233 - Precision: 0.7710 - Recall: 0.7457 - categorical_accuracy: 0.7629 - val_loss: 0.9633 - val_auc: 0.8435 - val_Precision: 0.6413 - val_Recall: 0.6344 - val_categorical_accuracy: 0.6452\n",
      "Epoch 86/200\n",
      "161/161 [==============================] - 244s 2s/step - loss: 0.4679 - auc: 0.9360 - Precision: 0.8106 - Recall: 0.7878 - categorical_accuracy: 0.8003 - val_loss: 1.2535 - val_auc: 0.7245 - val_Precision: 0.5165 - val_Recall: 0.5054 - val_categorical_accuracy: 0.5161\n",
      "Epoch 87/200\n",
      "161/161 [==============================] - ETA: 0s - loss: 0.4810 - auc: 0.9328 - Precision: 0.8031 - Recall: 0.7956 - categorical_accuracy: 0.8019Restoring model weights from the end of the best epoch: 67.\n",
      "161/161 [==============================] - 244s 2s/step - loss: 0.4810 - auc: 0.9328 - Precision: 0.8031 - Recall: 0.7956 - categorical_accuracy: 0.8019 - val_loss: 1.0953 - val_auc: 0.7516 - val_Precision: 0.5824 - val_Recall: 0.5699 - val_categorical_accuracy: 0.5806\n",
      "Epoch 87: early stopping\n"
     ]
    },
    {
     "name": "stderr",
     "output_type": "stream",
     "text": [
      "2023-12-28 20:51:15.799264: I tensorflow/core/common_runtime/executor.cc:1197] [/device:CPU:0] (DEBUG INFO) Executor start aborting (this does not indicate an error and you can ignore this message): INVALID_ARGUMENT: You must feed a value for placeholder tensor 'inputs' with dtype float and shape [?,1,1,1,64]\n",
      "\t [[{{node inputs}}]]\n",
      "2023-12-28 20:51:15.808876: I tensorflow/core/common_runtime/executor.cc:1197] [/device:CPU:0] (DEBUG INFO) Executor start aborting (this does not indicate an error and you can ignore this message): INVALID_ARGUMENT: You must feed a value for placeholder tensor 'inputs' with dtype float and shape [?,1,1,1,64]\n",
      "\t [[{{node inputs}}]]\n",
      "2023-12-28 20:51:17.821198: I tensorflow/core/common_runtime/executor.cc:1197] [/device:CPU:0] (DEBUG INFO) Executor start aborting (this does not indicate an error and you can ignore this message): INVALID_ARGUMENT: You must feed a value for placeholder tensor 'inputs' with dtype float and shape [?,1,1,1,64]\n",
      "\t [[{{node inputs}}]]\n",
      "2023-12-28 20:51:17.842819: I tensorflow/core/common_runtime/executor.cc:1197] [/device:CPU:0] (DEBUG INFO) Executor start aborting (this does not indicate an error and you can ignore this message): INVALID_ARGUMENT: You must feed a value for placeholder tensor 'inputs' with dtype float and shape [?,1,1,1,64]\n",
      "\t [[{{node inputs}}]]\n",
      "WARNING:absl:Found untraced functions such as _jit_compiled_convolution_op, _jit_compiled_convolution_op, _jit_compiled_convolution_op, _jit_compiled_convolution_op, _jit_compiled_convolution_op while saving (showing 5 of 12). These functions will not be directly callable after loading.\n"
     ]
    },
    {
     "name": "stdout",
     "output_type": "stream",
     "text": [
      "INFO:tensorflow:Assets written to: /lfs1/ashaji/Imputation_Problem/EMBC/AD/T1andDWIwithoutImp/assets\n"
     ]
    },
    {
     "name": "stderr",
     "output_type": "stream",
     "text": [
      "INFO:tensorflow:Assets written to: /lfs1/ashaji/Imputation_Problem/EMBC/AD/T1andDWIwithoutImp/assets\n"
     ]
    }
   ],
   "source": [
    "the_metrics=[tf.keras.metrics.AUC(name='auc'), tf.keras.metrics.Precision(name=\"Precision\"), tf.keras.metrics.Recall(name=\"Recall\"),tf.keras.metrics.CategoricalAccuracy(name=\"categorical_accuracy\")]\n",
    "model.compile(\n",
    "    loss='categorical_crossentropy',\n",
    "    optimizer = keras.optimizers.AdamW(learning_rate=1e-3,weight_decay=1e-4),\n",
    "    metrics = the_metrics   \n",
    ")\n",
    "\n",
    "early = keras.callbacks.EarlyStopping(monitor='val_loss',patience = 20, verbose = 1, restore_best_weights = True)\n",
    "\n",
    "history = model.fit(\n",
    "    dg_train,\n",
    "    validation_data = dg_val,\n",
    "    epochs = 200,\n",
    "    verbose = 1,\n",
    "    callbacks = [early]\n",
    ")\n",
    "model.save('/lfs1/ashaji/Imputation_Problem/EMBC/AD/T1andDWIwithoutImp')"
   ]
  },
  {
   "cell_type": "code",
   "execution_count": 38,
   "id": "00eb1269",
   "metadata": {},
   "outputs": [
    {
     "name": "stderr",
     "output_type": "stream",
     "text": [
      "WARNING:root:The given value for groups will be overwritten.\n",
      "WARNING:root:The given value for groups will be overwritten.\n",
      "WARNING:root:The given value for groups will be overwritten.\n",
      "WARNING:root:The given value for groups will be overwritten.\n",
      "WARNING:root:The given value for groups will be overwritten.\n",
      "WARNING:root:The given value for groups will be overwritten.\n",
      "WARNING:root:The given value for groups will be overwritten.\n",
      "WARNING:root:The given value for groups will be overwritten.\n",
      "WARNING:root:The given value for groups will be overwritten.\n",
      "WARNING:root:The given value for groups will be overwritten.\n",
      "WARNING:root:The given value for groups will be overwritten.\n",
      "WARNING:root:The given value for groups will be overwritten.\n"
     ]
    }
   ],
   "source": [
    "model = keras.models.load_model('/lfs1/ashaji/Imputation_Problem/ISBI/AD/final_models/T1andDWIwithoutImp')"
   ]
  },
  {
   "cell_type": "code",
   "execution_count": 78,
   "id": "bf8cddbf",
   "metadata": {},
   "outputs": [
    {
     "name": "stderr",
     "output_type": "stream",
     "text": [
      "/tmp/ipykernel_14207/2532890018.py:37: DeprecationWarning: `np.int` is a deprecated alias for the builtin `int`. To silence this warning, use `int` by itself. Doing this will not modify any behavior and is safe. When replacing `np.int`, you may wish to use e.g. `np.int64` or `np.int32` to specify the precision. If you wish to review your current use, check the release note link for additional information.\n",
      "Deprecated in NumPy 1.20; for more details and guidance: https://numpy.org/devdocs/release/1.20.0-notes.html#deprecations\n",
      "  return (np.ceil(len(self.data) / float(self.batch_size))).astype(np.int)\n",
      "2023-11-12 12:20:16.929556: I tensorflow/core/common_runtime/executor.cc:1197] [/device:CPU:0] (DEBUG INFO) Executor start aborting (this does not indicate an error and you can ignore this message): INVALID_ARGUMENT: You must feed a value for placeholder tensor 'Placeholder/_0' with dtype int32\n",
      "\t [[{{node Placeholder/_0}}]]\n"
     ]
    },
    {
     "name": "stdout",
     "output_type": "stream",
     "text": [
      "39/39 [==============================] - 21s 529ms/step - loss: 0.8686 - auc: 0.7757 - Precision: 0.5874 - Recall: 0.5419 - categorical_accuracy: 0.5742\n"
     ]
    },
    {
     "data": {
      "text/plain": [
       "[0.8686206340789795,\n",
       " 0.7757439613342285,\n",
       " 0.5874125957489014,\n",
       " 0.5419355034828186,\n",
       " 0.57419353723526]"
      ]
     },
     "execution_count": 78,
     "metadata": {},
     "output_type": "execute_result"
    }
   ],
   "source": [
    "model.evaluate(dg_testall)"
   ]
  },
  {
   "cell_type": "code",
   "execution_count": 39,
   "id": "9d624c7f",
   "metadata": {},
   "outputs": [],
   "source": [
    "import sklearn.metrics as skm"
   ]
  },
  {
   "cell_type": "code",
   "execution_count": 40,
   "id": "d4355bb8",
   "metadata": {},
   "outputs": [
    {
     "name": "stderr",
     "output_type": "stream",
     "text": [
      "/tmp/ipykernel_28813/2532890018.py:37: DeprecationWarning: `np.int` is a deprecated alias for the builtin `int`. To silence this warning, use `int` by itself. Doing this will not modify any behavior and is safe. When replacing `np.int`, you may wish to use e.g. `np.int64` or `np.int32` to specify the precision. If you wish to review your current use, check the release note link for additional information.\n",
      "Deprecated in NumPy 1.20; for more details and guidance: https://numpy.org/devdocs/release/1.20.0-notes.html#deprecations\n",
      "  return (np.ceil(len(self.data) / float(self.batch_size))).astype(np.int)\n",
      "2023-11-16 12:34:00.237482: I tensorflow/compiler/xla/stream_executor/cuda/cuda_dnn.cc:424] Loaded cuDNN version 8600\n"
     ]
    },
    {
     "name": "stdout",
     "output_type": "stream",
     "text": [
      "1/1 [==============================] - 2s 2s/step\n",
      "1/1 [==============================] - 0s 54ms/step\n",
      "1/1 [==============================] - 0s 62ms/step\n",
      "1/1 [==============================] - 0s 48ms/step\n",
      "1/1 [==============================] - 0s 61ms/step\n",
      "1/1 [==============================] - 0s 64ms/step\n",
      "1/1 [==============================] - 0s 55ms/step\n",
      "1/1 [==============================] - 0s 74ms/step\n",
      "1/1 [==============================] - 0s 68ms/step\n",
      "1/1 [==============================] - 0s 81ms/step\n",
      "1/1 [==============================] - 0s 60ms/step\n",
      "1/1 [==============================] - 0s 62ms/step\n",
      "1/1 [==============================] - 0s 68ms/step\n",
      "1/1 [==============================] - 0s 64ms/step\n",
      "1/1 [==============================] - 0s 47ms/step\n",
      "1/1 [==============================] - 0s 50ms/step\n",
      "1/1 [==============================] - 0s 61ms/step\n",
      "1/1 [==============================] - 0s 53ms/step\n",
      "1/1 [==============================] - 0s 75ms/step\n",
      "1/1 [==============================] - 0s 88ms/step\n",
      "1/1 [==============================] - 0s 76ms/step\n",
      "1/1 [==============================] - 0s 62ms/step\n",
      "1/1 [==============================] - 0s 58ms/step\n",
      "1/1 [==============================] - 0s 78ms/step\n",
      "1/1 [==============================] - 0s 59ms/step\n",
      "1/1 [==============================] - 0s 80ms/step\n",
      "1/1 [==============================] - 0s 56ms/step\n",
      "1/1 [==============================] - 0s 49ms/step\n",
      "1/1 [==============================] - 0s 75ms/step\n",
      "1/1 [==============================] - 0s 75ms/step\n",
      "1/1 [==============================] - 0s 83ms/step\n",
      "1/1 [==============================] - 0s 70ms/step\n",
      "1/1 [==============================] - 0s 53ms/step\n",
      "1/1 [==============================] - 0s 69ms/step\n",
      "1/1 [==============================] - 0s 48ms/step\n",
      "1/1 [==============================] - 0s 47ms/step\n",
      "1/1 [==============================] - 0s 54ms/step\n",
      "1/1 [==============================] - 0s 69ms/step\n",
      "1/1 [==============================] - 1s 627ms/step\n"
     ]
    }
   ],
   "source": [
    "y_true = []\n",
    "y_pred = []\n",
    "for img,lbl in dg_testall:\n",
    "    for i in lbl:\n",
    "        y_true.append(i)\n",
    "    x = model.predict(img)\n",
    "    for i in x:\n",
    "        y_pred.append(i)"
   ]
  },
  {
   "cell_type": "code",
   "execution_count": 41,
   "id": "2d83554a",
   "metadata": {},
   "outputs": [],
   "source": [
    "y_true = np.array(y_true)\n",
    "y_pred = np.array(y_pred)"
   ]
  },
  {
   "cell_type": "code",
   "execution_count": 42,
   "id": "b88e45e5",
   "metadata": {},
   "outputs": [],
   "source": [
    "yt = np.argmax(y_true,1)\n",
    "yp = np.argmax(y_pred,1)"
   ]
  },
  {
   "cell_type": "code",
   "execution_count": 43,
   "id": "10016d9b",
   "metadata": {},
   "outputs": [
    {
     "data": {
      "text/plain": [
       "0.5741935483870968"
      ]
     },
     "execution_count": 43,
     "metadata": {},
     "output_type": "execute_result"
    }
   ],
   "source": [
    "acc = skm.accuracy_score(yt,yp)\n",
    "acc"
   ]
  },
  {
   "cell_type": "code",
   "execution_count": 44,
   "id": "f27c5645",
   "metadata": {},
   "outputs": [
    {
     "data": {
      "text/plain": [
       "0.40657590956134065"
      ]
     },
     "execution_count": 44,
     "metadata": {},
     "output_type": "execute_result"
    }
   ],
   "source": [
    "bal_acc = skm.balanced_accuracy_score(yt,yp)\n",
    "bal_acc"
   ]
  },
  {
   "cell_type": "code",
   "execution_count": 45,
   "id": "84cb5a3a",
   "metadata": {},
   "outputs": [
    {
     "data": {
      "text/plain": [
       "0.7754630593132154"
      ]
     },
     "execution_count": 45,
     "metadata": {},
     "output_type": "execute_result"
    }
   ],
   "source": [
    "mic_auc = skm.roc_auc_score(yt,y_pred,average='micro',multi_class='ovr')\n",
    "mic_auc"
   ]
  },
  {
   "cell_type": "code",
   "execution_count": 46,
   "id": "a6f743a9",
   "metadata": {},
   "outputs": [
    {
     "data": {
      "text/plain": [
       "0.7133094044506398"
      ]
     },
     "execution_count": 46,
     "metadata": {},
     "output_type": "execute_result"
    }
   ],
   "source": [
    "mac_auc = skm.roc_auc_score(yt,y_pred,average='macro',multi_class='ovr')\n",
    "mac_auc"
   ]
  },
  {
   "cell_type": "code",
   "execution_count": 79,
   "id": "6d67245a",
   "metadata": {},
   "outputs": [],
   "source": [
    "############# IMPUTATION TECHNIQUE 0 ##################"
   ]
  },
  {
   "cell_type": "code",
   "execution_count": 180,
   "id": "fcdb50f8",
   "metadata": {},
   "outputs": [],
   "source": [
    "class DataGeneratorImpT1(tf.keras.utils.Sequence):\n",
    "    def rotate(self,vol):\n",
    "        def scipy_rotate(vol):\n",
    "            angles = [-20,-10,-5,0,5,10,20]\n",
    "            angle = pyrandom.choice(angles)\n",
    "            vol = ndimage.rotate(vol,angle,reshape=False)\n",
    "            vol[vol<0] = 0\n",
    "            vol[vol>1] = 1\n",
    "            return vol\n",
    "        aug_vol = tf.numpy_function(scipy_rotate,[vol],tf.float32)\n",
    "        return aug_vol\n",
    "\n",
    "    def preprocessing(self,vol):\n",
    "        if(self.isTrain):\n",
    "            vol1 = self.rotate(vol)\n",
    "            vol1 = tf.expand_dims(vol1,axis=3)\n",
    "        else:\n",
    "            vol1 = tf.expand_dims(vol,axis=3)\n",
    "        return vol1\n",
    "    \n",
    "    def read_scan(self,path):\n",
    "        scan = nib.load(path)\n",
    "        volume = scan.get_fdata()\n",
    "        min = np.amax(volume)\n",
    "        max = np.amin(volume)\n",
    "        volume = (volume - min) / (max - min)\n",
    "        volume = volume.astype(\"float32\")\n",
    "        return volume\n",
    "    \n",
    "    def __len__(self):\n",
    "        return (np.floor(len(self.data) / float(self.batch_size))).astype(np.int)\n",
    "\n",
    "    def __init__(self,data, batch_size, sample_weights=None,isTrain=True):\n",
    "        self.data = data\n",
    "        self.batch_size = batch_size\n",
    "        self.sample_weights = sample_weights\n",
    "        self.isTrain = isTrain\n",
    "\n",
    "    def __getitem__(self, idx):\n",
    "        t1  = self.data['ACCEL_DL_6DOF_2MM_T1'].tolist()\n",
    "        dwi = self.data['DWI_Matched_File_FA_Path_ENIGMATBSSspace_2MM'].tolist()\n",
    "        labels = self.data['DX']\n",
    "        labels = keras.utils.to_categorical(labels)\n",
    "        \n",
    "        batch_t1 = t1[idx * self.batch_size: (idx + 1) * self.batch_size]\n",
    "        batch_dwi = dwi[idx * self.batch_size: (idx + 1) * self.batch_size]\n",
    "        batch_y = labels[idx * self.batch_size: (idx + 1) * self.batch_size]\n",
    "        t1_imgs = np.asarray([self.preprocessing(self.read_scan(path)) for path in batch_t1])\n",
    "        dwi = []\n",
    "        for i in batch_dwi:\n",
    "            if pd.isnull(i):\n",
    "                dwi.append(avgMRI)\n",
    "            else:\n",
    "                dwi.append((self.read_scan(i)))\n",
    "        dwi_imgs = np.asarray([self.preprocessing(img) for img in dwi])\n",
    "        return ([t1_imgs,dwi_imgs], np.array(batch_y))\n",
    "    \n",
    "    def on_epoch_end(self):\n",
    "        if(self.isTrain):\n",
    "            self.data = self.data.sample(frac=1)"
   ]
  },
  {
   "cell_type": "code",
   "execution_count": 123,
   "id": "8bedc456",
   "metadata": {},
   "outputs": [],
   "source": [
    "t1_dwi = df.loc[[(not condt1[i] and conddwi[i]) for i in range(len(condt1))] , :]\n",
    "avg = [t1_dwi,trainds]\n",
    "avgCN = pd.concat(avg)"
   ]
  },
  {
   "cell_type": "code",
   "execution_count": 187,
   "id": "1c2666d5",
   "metadata": {},
   "outputs": [
    {
     "data": {
      "text/plain": [
       "626"
      ]
     },
     "execution_count": 187,
     "metadata": {},
     "output_type": "execute_result"
    }
   ],
   "source": [
    "len(avgCN)"
   ]
  },
  {
   "cell_type": "code",
   "execution_count": 186,
   "id": "665c4d0d",
   "metadata": {},
   "outputs": [],
   "source": [
    "for i in avgCN['SubjID'].drop_duplicates():\n",
    "    for j in testall['SubjID'].drop_duplicates():\n",
    "        if i == j:\n",
    "            print(i)"
   ]
  },
  {
   "cell_type": "code",
   "execution_count": 185,
   "id": "ac143da5",
   "metadata": {},
   "outputs": [],
   "source": [
    "avgCN.drop(avgCN[(avgCN['SubjID']=='141_S_1378') ].index,inplace = True)"
   ]
  },
  {
   "cell_type": "code",
   "execution_count": 188,
   "id": "cf00a007",
   "metadata": {},
   "outputs": [],
   "source": [
    "def read_scan(path):\n",
    "        scan = nib.load(path)\n",
    "        volume = scan.get_fdata()\n",
    "        return volume\n",
    "def normalize(vol):\n",
    "    min = np.amax(vol)\n",
    "    max = np.amin(vol)\n",
    "    vol = (vol-min) / (max-min)\n",
    "    vol = vol.astype('float32')\n",
    "    return vol\n",
    "\n",
    "avgMRI = np.zeros((91,109,91))\n",
    "\n",
    "for i in avgCN['DWI_Matched_File_FA_Path_ENIGMATBSSspace_2MM']:\n",
    "    avgMRI += read_scan(i)\n",
    "    \n",
    "avgMRI = normalize(avgMRI)"
   ]
  },
  {
   "cell_type": "code",
   "execution_count": 189,
   "id": "e706e0b4",
   "metadata": {},
   "outputs": [
    {
     "data": {
      "text/plain": [
       "(609, 609)"
      ]
     },
     "execution_count": 189,
     "metadata": {},
     "output_type": "execute_result"
    }
   ],
   "source": [
    "len(trainds),len(alltrain[:p])"
   ]
  },
  {
   "cell_type": "code",
   "execution_count": 134,
   "id": "79e318c5",
   "metadata": {},
   "outputs": [],
   "source": [
    "t1dwi_ = df.loc[[(condt1[i] and not conddwi[i]) for i in range(len(condt1))] , :]\n",
    "train1 = [t1dwi_,trainds]\n",
    "train1 = pd.concat(train1)"
   ]
  },
  {
   "cell_type": "code",
   "execution_count": 135,
   "id": "85f029b6",
   "metadata": {},
   "outputs": [
    {
     "data": {
      "text/plain": [
       "4685"
      ]
     },
     "execution_count": 135,
     "metadata": {},
     "output_type": "execute_result"
    }
   ],
   "source": [
    "len(t1dwi_)"
   ]
  },
  {
   "cell_type": "code",
   "execution_count": 236,
   "id": "1d438cb7",
   "metadata": {},
   "outputs": [
    {
     "data": {
      "text/plain": [
       "0"
      ]
     },
     "execution_count": 236,
     "metadata": {},
     "output_type": "execute_result"
    }
   ],
   "source": [
    "count = 0\n",
    "arr = []\n",
    "for i in train1['SubjID'].drop_duplicates():\n",
    "    for j in testall['SubjID'].drop_duplicates():\n",
    "        if i == j:\n",
    "            arr.append(i)\n",
    "            count += 1\n",
    "count"
   ]
  },
  {
   "cell_type": "code",
   "execution_count": 205,
   "id": "f1b43854",
   "metadata": {},
   "outputs": [],
   "source": [
    "for i in arr:\n",
    "    train1.drop(train1[(train1['SubjID']==i) ].index,inplace = True)"
   ]
  },
  {
   "cell_type": "code",
   "execution_count": 234,
   "id": "7ae7d0f9",
   "metadata": {},
   "outputs": [],
   "source": [
    "for i in train1['SubjID'].drop_duplicates():\n",
    "    for j in testall['SubjID'].drop_duplicates():\n",
    "        if i == j:\n",
    "            print(i)"
   ]
  },
  {
   "cell_type": "code",
   "execution_count": 206,
   "id": "362d5e46",
   "metadata": {},
   "outputs": [
    {
     "data": {
      "text/plain": [
       "4828"
      ]
     },
     "execution_count": 206,
     "metadata": {},
     "output_type": "execute_result"
    }
   ],
   "source": [
    "len(train1)"
   ]
  },
  {
   "cell_type": "code",
   "execution_count": 211,
   "id": "c6dcd105",
   "metadata": {},
   "outputs": [],
   "source": [
    "dg1_train = DataGeneratorImpT1(train1,batch_size)\n",
    "dg_val = DataGenerator(valds,batch_size,isTrain=False)"
   ]
  },
  {
   "cell_type": "code",
   "execution_count": 212,
   "id": "2537f48a",
   "metadata": {},
   "outputs": [
    {
     "name": "stderr",
     "output_type": "stream",
     "text": [
      "WARNING:root:The given value for groups will be overwritten.\n",
      "WARNING:root:The given value for groups will be overwritten.\n",
      "WARNING:root:The given value for groups will be overwritten.\n",
      "WARNING:root:The given value for groups will be overwritten.\n",
      "WARNING:root:The given value for groups will be overwritten.\n",
      "WARNING:root:The given value for groups will be overwritten.\n",
      "WARNING:root:The given value for groups will be overwritten.\n",
      "WARNING:root:The given value for groups will be overwritten.\n",
      "WARNING:root:The given value for groups will be overwritten.\n",
      "WARNING:root:The given value for groups will be overwritten.\n",
      "WARNING:root:The given value for groups will be overwritten.\n",
      "WARNING:root:The given value for groups will be overwritten.\n"
     ]
    }
   ],
   "source": [
    "model = keras.models.load_model('/lfs1/ashaji/Imputation_Problem/ISBI/AD/final_models/T1andDWIwithoutImp')"
   ]
  },
  {
   "cell_type": "code",
   "execution_count": 225,
   "id": "c3361a0d",
   "metadata": {},
   "outputs": [
    {
     "name": "stderr",
     "output_type": "stream",
     "text": [
      "/tmp/ipykernel_5022/2532890018.py:37: DeprecationWarning: `np.int` is a deprecated alias for the builtin `int`. To silence this warning, use `int` by itself. Doing this will not modify any behavior and is safe. When replacing `np.int`, you may wish to use e.g. `np.int64` or `np.int32` to specify the precision. If you wish to review your current use, check the release note link for additional information.\n",
      "Deprecated in NumPy 1.20; for more details and guidance: https://numpy.org/devdocs/release/1.20.0-notes.html#deprecations\n",
      "  return (np.ceil(len(self.data) / float(self.batch_size))).astype(np.int)\n"
     ]
    },
    {
     "name": "stdout",
     "output_type": "stream",
     "text": [
      "Epoch 1/300\n"
     ]
    },
    {
     "name": "stderr",
     "output_type": "stream",
     "text": [
      "/tmp/ipykernel_5022/683972216.py:31: DeprecationWarning: `np.int` is a deprecated alias for the builtin `int`. To silence this warning, use `int` by itself. Doing this will not modify any behavior and is safe. When replacing `np.int`, you may wish to use e.g. `np.int64` or `np.int32` to specify the precision. If you wish to review your current use, check the release note link for additional information.\n",
      "Deprecated in NumPy 1.20; for more details and guidance: https://numpy.org/devdocs/release/1.20.0-notes.html#deprecations\n",
      "  return (np.floor(len(self.data) / float(self.batch_size))).astype(np.int)\n",
      "2023-11-21 15:27:48.544882: I tensorflow/core/common_runtime/executor.cc:1197] [/device:CPU:0] (DEBUG INFO) Executor start aborting (this does not indicate an error and you can ignore this message): INVALID_ARGUMENT: You must feed a value for placeholder tensor 'Placeholder/_0' with dtype int32\n",
      "\t [[{{node Placeholder/_0}}]]\n"
     ]
    },
    {
     "name": "stdout",
     "output_type": "stream",
     "text": [
      "1207/1207 [==============================] - ETA: 0s - loss: 0.6772 - auc: 0.8732 - Precision: 0.7229 - Recall: 0.6607 - categorical_accuracy: 0.7065"
     ]
    },
    {
     "name": "stderr",
     "output_type": "stream",
     "text": [
      "2023-11-21 15:58:13.428116: I tensorflow/core/common_runtime/executor.cc:1197] [/device:CPU:0] (DEBUG INFO) Executor start aborting (this does not indicate an error and you can ignore this message): INVALID_ARGUMENT: You must feed a value for placeholder tensor 'Placeholder/_0' with dtype int32\n",
      "\t [[{{node Placeholder/_0}}]]\n"
     ]
    },
    {
     "name": "stdout",
     "output_type": "stream",
     "text": [
      "1207/1207 [==============================] - 1841s 2s/step - loss: 0.6772 - auc: 0.8732 - Precision: 0.7229 - Recall: 0.6607 - categorical_accuracy: 0.7065 - val_loss: 0.7004 - val_auc: 0.8599 - val_Precision: 0.6803 - val_Recall: 0.6579 - val_categorical_accuracy: 0.6776\n",
      "Epoch 2/300\n",
      "1207/1207 [==============================] - 1854s 2s/step - loss: 0.6095 - auc: 0.8960 - Precision: 0.7492 - Recall: 0.7171 - categorical_accuracy: 0.7388 - val_loss: 0.7509 - val_auc: 0.8392 - val_Precision: 0.6597 - val_Recall: 0.6250 - val_categorical_accuracy: 0.6447\n",
      "Epoch 3/300\n",
      "1207/1207 [==============================] - 1826s 2s/step - loss: 0.5505 - auc: 0.9153 - Precision: 0.7759 - Recall: 0.7601 - categorical_accuracy: 0.7715 - val_loss: 0.8308 - val_auc: 0.8438 - val_Precision: 0.7007 - val_Recall: 0.6776 - val_categorical_accuracy: 0.6842\n",
      "Epoch 4/300\n",
      "1207/1207 [==============================] - 1815s 2s/step - loss: 0.4969 - auc: 0.9314 - Precision: 0.8068 - Recall: 0.7985 - categorical_accuracy: 0.8047 - val_loss: 0.8835 - val_auc: 0.8568 - val_Precision: 0.6867 - val_Recall: 0.6776 - val_categorical_accuracy: 0.6842\n",
      "Epoch 5/300\n",
      "1207/1207 [==============================] - 1828s 2s/step - loss: 0.4587 - auc: 0.9410 - Precision: 0.8205 - Recall: 0.8140 - categorical_accuracy: 0.8165 - val_loss: 0.8368 - val_auc: 0.8294 - val_Precision: 0.6533 - val_Recall: 0.6447 - val_categorical_accuracy: 0.6513\n",
      "Epoch 6/300\n",
      "1207/1207 [==============================] - 1842s 2s/step - loss: 0.4242 - auc: 0.9491 - Precision: 0.8390 - Recall: 0.8322 - categorical_accuracy: 0.8360 - val_loss: 0.9100 - val_auc: 0.8047 - val_Precision: 0.6093 - val_Recall: 0.6053 - val_categorical_accuracy: 0.6053\n",
      "Epoch 7/300\n",
      "1207/1207 [==============================] - 1857s 2s/step - loss: 0.3861 - auc: 0.9575 - Precision: 0.8589 - Recall: 0.8560 - categorical_accuracy: 0.8579 - val_loss: 0.9603 - val_auc: 0.7981 - val_Precision: 0.5762 - val_Recall: 0.5724 - val_categorical_accuracy: 0.5724\n",
      "Epoch 8/300\n",
      "1207/1207 [==============================] - 1850s 2s/step - loss: 0.3324 - auc: 0.9682 - Precision: 0.8820 - Recall: 0.8795 - categorical_accuracy: 0.8805 - val_loss: 0.9647 - val_auc: 0.8421 - val_Precision: 0.6424 - val_Recall: 0.6382 - val_categorical_accuracy: 0.6382\n",
      "Epoch 9/300\n",
      "1207/1207 [==============================] - 1858s 2s/step - loss: 0.3154 - auc: 0.9707 - Precision: 0.8875 - Recall: 0.8855 - categorical_accuracy: 0.8869 - val_loss: 0.9622 - val_auc: 0.8356 - val_Precision: 0.6490 - val_Recall: 0.6447 - val_categorical_accuracy: 0.6513\n",
      "Epoch 10/300\n",
      "1207/1207 [==============================] - 1802s 1s/step - loss: 0.2884 - auc: 0.9748 - Precision: 0.9012 - Recall: 0.8993 - categorical_accuracy: 0.9000 - val_loss: 1.1103 - val_auc: 0.7815 - val_Precision: 0.5921 - val_Recall: 0.5921 - val_categorical_accuracy: 0.5921\n",
      "Epoch 11/300\n",
      "1207/1207 [==============================] - 1848s 2s/step - loss: 0.2655 - auc: 0.9788 - Precision: 0.9043 - Recall: 0.9027 - categorical_accuracy: 0.9037 - val_loss: 0.9826 - val_auc: 0.8447 - val_Precision: 0.6513 - val_Recall: 0.6513 - val_categorical_accuracy: 0.6513\n",
      "Epoch 12/300\n",
      "1207/1207 [==============================] - 1863s 2s/step - loss: 0.2538 - auc: 0.9805 - Precision: 0.9084 - Recall: 0.9053 - categorical_accuracy: 0.9068 - val_loss: 0.9682 - val_auc: 0.8253 - val_Precision: 0.6447 - val_Recall: 0.6447 - val_categorical_accuracy: 0.6447\n",
      "Epoch 13/300\n",
      "1207/1207 [==============================] - 1795s 1s/step - loss: 0.2486 - auc: 0.9810 - Precision: 0.9122 - Recall: 0.9105 - categorical_accuracy: 0.9114 - val_loss: 0.9353 - val_auc: 0.8371 - val_Precision: 0.6467 - val_Recall: 0.6382 - val_categorical_accuracy: 0.6513\n",
      "Epoch 14/300\n",
      "1207/1207 [==============================] - 1788s 1s/step - loss: 0.2254 - auc: 0.9841 - Precision: 0.9236 - Recall: 0.9215 - categorical_accuracy: 0.9227 - val_loss: 1.3685 - val_auc: 0.7219 - val_Precision: 0.4868 - val_Recall: 0.4868 - val_categorical_accuracy: 0.4868\n",
      "Epoch 15/300\n",
      "1207/1207 [==============================] - 1761s 1s/step - loss: 0.2099 - auc: 0.9864 - Precision: 0.9275 - Recall: 0.9246 - categorical_accuracy: 0.9263 - val_loss: 1.2524 - val_auc: 0.7398 - val_Precision: 0.5000 - val_Recall: 0.5000 - val_categorical_accuracy: 0.5000\n",
      "Epoch 16/300\n",
      "1207/1207 [==============================] - 1791s 1s/step - loss: 0.1905 - auc: 0.9886 - Precision: 0.9344 - Recall: 0.9327 - categorical_accuracy: 0.9335 - val_loss: 1.2253 - val_auc: 0.7803 - val_Precision: 0.5987 - val_Recall: 0.5987 - val_categorical_accuracy: 0.5987\n",
      "Epoch 17/300\n",
      "1207/1207 [==============================] - 1844s 2s/step - loss: 0.1848 - auc: 0.9888 - Precision: 0.9357 - Recall: 0.9339 - categorical_accuracy: 0.9348 - val_loss: 1.2431 - val_auc: 0.8202 - val_Precision: 0.6358 - val_Recall: 0.6316 - val_categorical_accuracy: 0.6316\n",
      "Epoch 18/300\n",
      "1207/1207 [==============================] - 1809s 1s/step - loss: 0.1845 - auc: 0.9893 - Precision: 0.9365 - Recall: 0.9348 - categorical_accuracy: 0.9352 - val_loss: 1.1774 - val_auc: 0.8068 - val_Precision: 0.6319 - val_Recall: 0.5987 - val_categorical_accuracy: 0.6316\n",
      "Epoch 19/300\n",
      "1207/1207 [==============================] - 1854s 2s/step - loss: 0.1694 - auc: 0.9902 - Precision: 0.9447 - Recall: 0.9420 - categorical_accuracy: 0.9437 - val_loss: 1.4865 - val_auc: 0.7368 - val_Precision: 0.5306 - val_Recall: 0.5132 - val_categorical_accuracy: 0.5263\n",
      "Epoch 20/300\n",
      "1207/1207 [==============================] - 1821s 2s/step - loss: 0.1636 - auc: 0.9910 - Precision: 0.9448 - Recall: 0.9437 - categorical_accuracy: 0.9437 - val_loss: 1.1112 - val_auc: 0.8368 - val_Precision: 0.6358 - val_Recall: 0.6316 - val_categorical_accuracy: 0.6382\n",
      "Epoch 21/300\n",
      "1207/1207 [==============================] - 1832s 2s/step - loss: 0.1584 - auc: 0.9916 - Precision: 0.9486 - Recall: 0.9474 - categorical_accuracy: 0.9480 - val_loss: 1.1347 - val_auc: 0.8089 - val_Precision: 0.6267 - val_Recall: 0.6184 - val_categorical_accuracy: 0.6184\n",
      "Epoch 22/300\n",
      "1207/1207 [==============================] - 1883s 2s/step - loss: 0.1519 - auc: 0.9923 - Precision: 0.9462 - Recall: 0.9435 - categorical_accuracy: 0.9451 - val_loss: 1.2505 - val_auc: 0.8197 - val_Precision: 0.6667 - val_Recall: 0.6579 - val_categorical_accuracy: 0.6579\n",
      "Epoch 23/300\n",
      "1207/1207 [==============================] - 1864s 2s/step - loss: 0.1436 - auc: 0.9928 - Precision: 0.9515 - Recall: 0.9501 - categorical_accuracy: 0.9511 - val_loss: 1.2036 - val_auc: 0.8302 - val_Precision: 0.6755 - val_Recall: 0.6711 - val_categorical_accuracy: 0.6711\n",
      "Epoch 24/300\n",
      "1207/1207 [==============================] - 1872s 2s/step - loss: 0.1319 - auc: 0.9939 - Precision: 0.9556 - Recall: 0.9548 - categorical_accuracy: 0.9551 - val_loss: 1.2881 - val_auc: 0.7846 - val_Precision: 0.5333 - val_Recall: 0.5263 - val_categorical_accuracy: 0.5263\n",
      "Epoch 25/300\n",
      "1207/1207 [==============================] - 1845s 2s/step - loss: 0.1354 - auc: 0.9941 - Precision: 0.9554 - Recall: 0.9530 - categorical_accuracy: 0.9534 - val_loss: 1.2786 - val_auc: 0.7922 - val_Precision: 0.5473 - val_Recall: 0.5329 - val_categorical_accuracy: 0.5461\n",
      "Epoch 26/300\n",
      "1207/1207 [==============================] - 1863s 2s/step - loss: 0.1229 - auc: 0.9950 - Precision: 0.9577 - Recall: 0.9559 - categorical_accuracy: 0.9565 - val_loss: 1.3504 - val_auc: 0.7799 - val_Precision: 0.5533 - val_Recall: 0.5461 - val_categorical_accuracy: 0.5526\n",
      "Epoch 27/300\n",
      "1207/1207 [==============================] - 1840s 2s/step - loss: 0.1261 - auc: 0.9939 - Precision: 0.9600 - Recall: 0.9592 - categorical_accuracy: 0.9594 - val_loss: 1.2844 - val_auc: 0.7758 - val_Precision: 0.5333 - val_Recall: 0.5263 - val_categorical_accuracy: 0.5263\n",
      "Epoch 28/300\n",
      "1207/1207 [==============================] - 1862s 2s/step - loss: 0.1108 - auc: 0.9956 - Precision: 0.9649 - Recall: 0.9633 - categorical_accuracy: 0.9638 - val_loss: 1.1063 - val_auc: 0.8240 - val_Precision: 0.6645 - val_Recall: 0.6645 - val_categorical_accuracy: 0.6645\n",
      "Epoch 29/300\n",
      "1207/1207 [==============================] - 1874s 2s/step - loss: 0.1073 - auc: 0.9961 - Precision: 0.9629 - Recall: 0.9615 - categorical_accuracy: 0.9621 - val_loss: 1.3989 - val_auc: 0.7970 - val_Precision: 0.6358 - val_Recall: 0.6316 - val_categorical_accuracy: 0.6316\n"
     ]
    },
    {
     "name": "stdout",
     "output_type": "stream",
     "text": [
      "Epoch 30/300\n",
      "1207/1207 [==============================] - 1749s 1s/step - loss: 0.1143 - auc: 0.9948 - Precision: 0.9616 - Recall: 0.9600 - categorical_accuracy: 0.9609 - val_loss: 1.3353 - val_auc: 0.7793 - val_Precision: 0.5772 - val_Recall: 0.5658 - val_categorical_accuracy: 0.5789\n",
      "Epoch 31/300\n",
      "1207/1207 [==============================] - ETA: 0s - loss: 0.0961 - auc: 0.9967 - Precision: 0.9660 - Recall: 0.9650 - categorical_accuracy: 0.9654Restoring model weights from the end of the best epoch: 1.\n",
      "1207/1207 [==============================] - 1728s 1s/step - loss: 0.0961 - auc: 0.9967 - Precision: 0.9660 - Recall: 0.9650 - categorical_accuracy: 0.9654 - val_loss: 2.3024 - val_auc: 0.6264 - val_Precision: 0.3826 - val_Recall: 0.3750 - val_categorical_accuracy: 0.3750\n",
      "Epoch 31: early stopping\n"
     ]
    },
    {
     "name": "stderr",
     "output_type": "stream",
     "text": [
      "2023-11-22 07:13:51.310866: I tensorflow/core/common_runtime/executor.cc:1197] [/device:CPU:0] (DEBUG INFO) Executor start aborting (this does not indicate an error and you can ignore this message): INVALID_ARGUMENT: You must feed a value for placeholder tensor 'inputs' with dtype float and shape [?,1,1,1,64]\n",
      "\t [[{{node inputs}}]]\n",
      "2023-11-22 07:13:51.321116: I tensorflow/core/common_runtime/executor.cc:1197] [/device:CPU:0] (DEBUG INFO) Executor start aborting (this does not indicate an error and you can ignore this message): INVALID_ARGUMENT: You must feed a value for placeholder tensor 'inputs' with dtype float and shape [?,1,1,1,64]\n",
      "\t [[{{node inputs}}]]\n",
      "2023-11-22 07:13:53.096332: I tensorflow/core/common_runtime/executor.cc:1197] [/device:CPU:0] (DEBUG INFO) Executor start aborting (this does not indicate an error and you can ignore this message): INVALID_ARGUMENT: You must feed a value for placeholder tensor 'inputs' with dtype float and shape [?,1,1,1,64]\n",
      "\t [[{{node inputs}}]]\n",
      "2023-11-22 07:13:53.120070: I tensorflow/core/common_runtime/executor.cc:1197] [/device:CPU:0] (DEBUG INFO) Executor start aborting (this does not indicate an error and you can ignore this message): INVALID_ARGUMENT: You must feed a value for placeholder tensor 'inputs' with dtype float and shape [?,1,1,1,64]\n",
      "\t [[{{node inputs}}]]\n",
      "WARNING:absl:Found untraced functions such as _jit_compiled_convolution_op, _jit_compiled_convolution_op, _jit_compiled_convolution_op, _jit_compiled_convolution_op, _jit_compiled_convolution_op while saving (showing 5 of 12). These functions will not be directly callable after loading.\n"
     ]
    },
    {
     "name": "stdout",
     "output_type": "stream",
     "text": [
      "INFO:tensorflow:Assets written to: /lfs1/ashaji/Imputation_Problem/ISBI/AD/final_models/XT1andDWIAvgImp/assets\n"
     ]
    },
    {
     "name": "stderr",
     "output_type": "stream",
     "text": [
      "INFO:tensorflow:Assets written to: /lfs1/ashaji/Imputation_Problem/ISBI/AD/final_models/XT1andDWIAvgImp/assets\n"
     ]
    }
   ],
   "source": [
    "filepath = '/lfs1/ashaji/Imputation_Problem/further/IMPT1andDWI/modelIMPT1andDWI-epoch{epoch:02d}-val_loss{val_loss:.2f}'\n",
    "check = keras.callbacks.ModelCheckpoint(filepath,monitor='val_loss',verbose=1,save_best_only=True,mode='auto')\n",
    "early = keras.callbacks.EarlyStopping(monitor='val_loss',patience = 30, verbose = 1, restore_best_weights = True)\n",
    "\n",
    "history = model.fit(\n",
    "    dg1_train,\n",
    "    validation_data = dg_val,\n",
    "    epochs = 300,\n",
    "    verbose = 1,\n",
    "    callbacks = [early]\n",
    ")\n",
    "model.save('/lfs1/ashaji/Imputation_Problem/ISBI/AD/final_models/XT1andDWIAvgImp')"
   ]
  },
  {
   "cell_type": "code",
   "execution_count": 224,
   "id": "72259207",
   "metadata": {},
   "outputs": [
    {
     "name": "stderr",
     "output_type": "stream",
     "text": [
      "/tmp/ipykernel_5022/2532890018.py:37: DeprecationWarning: `np.int` is a deprecated alias for the builtin `int`. To silence this warning, use `int` by itself. Doing this will not modify any behavior and is safe. When replacing `np.int`, you may wish to use e.g. `np.int64` or `np.int32` to specify the precision. If you wish to review your current use, check the release note link for additional information.\n",
      "Deprecated in NumPy 1.20; for more details and guidance: https://numpy.org/devdocs/release/1.20.0-notes.html#deprecations\n",
      "  return (np.ceil(len(self.data) / float(self.batch_size))).astype(np.int)\n",
      "2023-11-21 15:06:28.685483: I tensorflow/core/common_runtime/executor.cc:1197] [/device:CPU:0] (DEBUG INFO) Executor start aborting (this does not indicate an error and you can ignore this message): INVALID_ARGUMENT: You must feed a value for placeholder tensor 'Placeholder/_0' with dtype int32\n",
      "\t [[{{node Placeholder/_0}}]]\n"
     ]
    },
    {
     "name": "stdout",
     "output_type": "stream",
     "text": [
      "39/39 [==============================] - 17s 425ms/step - loss: 0.8081 - auc: 0.7991 - Precision: 0.6015 - Recall: 0.5161 - categorical_accuracy: 0.5613\n"
     ]
    },
    {
     "data": {
      "text/plain": [
       "[0.8080710768699646,\n",
       " 0.7991362810134888,\n",
       " 0.6015037298202515,\n",
       " 0.5161290168762207,\n",
       " 0.5612903237342834]"
      ]
     },
     "execution_count": 224,
     "metadata": {},
     "output_type": "execute_result"
    }
   ],
   "source": [
    "model.evaluate(dg_testall)"
   ]
  },
  {
   "cell_type": "code",
   "execution_count": 226,
   "id": "903af127",
   "metadata": {},
   "outputs": [],
   "source": [
    "import sklearn.metrics as skm"
   ]
  },
  {
   "cell_type": "code",
   "execution_count": 227,
   "id": "85ae96c2",
   "metadata": {},
   "outputs": [
    {
     "name": "stderr",
     "output_type": "stream",
     "text": [
      "/tmp/ipykernel_5022/2532890018.py:37: DeprecationWarning: `np.int` is a deprecated alias for the builtin `int`. To silence this warning, use `int` by itself. Doing this will not modify any behavior and is safe. When replacing `np.int`, you may wish to use e.g. `np.int64` or `np.int32` to specify the precision. If you wish to review your current use, check the release note link for additional information.\n",
      "Deprecated in NumPy 1.20; for more details and guidance: https://numpy.org/devdocs/release/1.20.0-notes.html#deprecations\n",
      "  return (np.ceil(len(self.data) / float(self.batch_size))).astype(np.int)\n"
     ]
    },
    {
     "name": "stdout",
     "output_type": "stream",
     "text": [
      "1/1 [==============================] - 0s 87ms/step\n",
      "1/1 [==============================] - 0s 58ms/step\n",
      "1/1 [==============================] - 0s 63ms/step\n",
      "1/1 [==============================] - 0s 92ms/step\n",
      "1/1 [==============================] - 0s 53ms/step\n",
      "1/1 [==============================] - 0s 56ms/step\n",
      "1/1 [==============================] - 0s 72ms/step\n",
      "1/1 [==============================] - 0s 56ms/step\n",
      "1/1 [==============================] - 0s 65ms/step\n",
      "1/1 [==============================] - 0s 63ms/step\n",
      "1/1 [==============================] - 0s 60ms/step\n",
      "1/1 [==============================] - 0s 57ms/step\n",
      "1/1 [==============================] - 0s 68ms/step\n",
      "1/1 [==============================] - 0s 59ms/step\n",
      "1/1 [==============================] - 0s 57ms/step\n",
      "1/1 [==============================] - 0s 45ms/step\n",
      "1/1 [==============================] - 0s 54ms/step\n",
      "1/1 [==============================] - 0s 40ms/step\n",
      "1/1 [==============================] - 0s 45ms/step\n",
      "1/1 [==============================] - 0s 58ms/step\n",
      "1/1 [==============================] - 0s 48ms/step\n",
      "1/1 [==============================] - 0s 70ms/step\n",
      "1/1 [==============================] - 0s 63ms/step\n",
      "1/1 [==============================] - 0s 53ms/step\n",
      "1/1 [==============================] - 0s 59ms/step\n",
      "1/1 [==============================] - 0s 51ms/step\n",
      "1/1 [==============================] - 0s 57ms/step\n",
      "1/1 [==============================] - 0s 54ms/step\n",
      "1/1 [==============================] - 0s 47ms/step\n",
      "1/1 [==============================] - 0s 49ms/step\n",
      "1/1 [==============================] - 0s 52ms/step\n",
      "1/1 [==============================] - 0s 76ms/step\n",
      "1/1 [==============================] - 0s 81ms/step\n",
      "1/1 [==============================] - 0s 56ms/step\n",
      "1/1 [==============================] - 0s 43ms/step\n",
      "1/1 [==============================] - 0s 53ms/step\n",
      "1/1 [==============================] - 0s 53ms/step\n",
      "1/1 [==============================] - 0s 110ms/step\n",
      "1/1 [==============================] - 0s 51ms/step\n"
     ]
    }
   ],
   "source": [
    "y_true = []\n",
    "y_pred = []\n",
    "for img,lbl in dg_testall:\n",
    "    for i in lbl:\n",
    "        y_true.append(i)\n",
    "    x = model.predict(img)\n",
    "    for i in x:\n",
    "        y_pred.append(i)"
   ]
  },
  {
   "cell_type": "code",
   "execution_count": 228,
   "id": "19e4107e",
   "metadata": {},
   "outputs": [],
   "source": [
    "y_true = np.array(y_true)\n",
    "y_pred = np.array(y_pred)"
   ]
  },
  {
   "cell_type": "code",
   "execution_count": 229,
   "id": "6c5bd4b0",
   "metadata": {},
   "outputs": [],
   "source": [
    "yt = np.argmax(y_true,1)\n",
    "yp = np.argmax(y_pred,1)"
   ]
  },
  {
   "cell_type": "code",
   "execution_count": 230,
   "id": "4256fb56",
   "metadata": {},
   "outputs": [
    {
     "data": {
      "text/plain": [
       "0.6129032258064516"
      ]
     },
     "execution_count": 230,
     "metadata": {},
     "output_type": "execute_result"
    }
   ],
   "source": [
    "acc = skm.accuracy_score(yt,yp)\n",
    "acc"
   ]
  },
  {
   "cell_type": "code",
   "execution_count": 231,
   "id": "cfccc633",
   "metadata": {},
   "outputs": [
    {
     "data": {
      "text/plain": [
       "0.534625808662423"
      ]
     },
     "execution_count": 231,
     "metadata": {},
     "output_type": "execute_result"
    }
   ],
   "source": [
    "bal_acc = skm.balanced_accuracy_score(yt,yp)\n",
    "bal_acc"
   ]
  },
  {
   "cell_type": "code",
   "execution_count": 232,
   "id": "3e511d7f",
   "metadata": {},
   "outputs": [
    {
     "data": {
      "text/plain": [
       "0.8115296566077003"
      ]
     },
     "execution_count": 232,
     "metadata": {},
     "output_type": "execute_result"
    }
   ],
   "source": [
    "mic_auc = skm.roc_auc_score(yt,y_pred,average='micro',multi_class='ovr')\n",
    "mic_auc"
   ]
  },
  {
   "cell_type": "code",
   "execution_count": 233,
   "id": "622f68db",
   "metadata": {},
   "outputs": [
    {
     "data": {
      "text/plain": [
       "0.7432584926039884"
      ]
     },
     "execution_count": 233,
     "metadata": {},
     "output_type": "execute_result"
    }
   ],
   "source": [
    "mac_auc = skm.roc_auc_score(yt,y_pred,average='macro',multi_class='ovr')\n",
    "mac_auc"
   ]
  },
  {
   "cell_type": "code",
   "execution_count": null,
   "id": "6ede73fe",
   "metadata": {},
   "outputs": [],
   "source": [
    "## IMPUTATION 2"
   ]
  },
  {
   "cell_type": "code",
   "execution_count": null,
   "id": "b0c5ff28",
   "metadata": {},
   "outputs": [],
   "source": [
    "def read_scan(path):\n",
    "        scan = nib.load(str(path))\n",
    "        volume = scan.get_fdata()\n",
    "        return volume\n",
    "def normalize(vol):\n",
    "    min = np.amax(vol)\n",
    "    max = np.amin(vol)\n",
    "    if max == 0 and min == 0:\n",
    "        return vol\n",
    "    vol = (vol-min) / (max-min)\n",
    "    vol = vol.astype('float32')\n",
    "    return vol\n",
    "\n",
    "def avgMRI(avg):  \n",
    "    avgMRI = np.zeros((91,109,91))\n",
    "    if avg.empty:\n",
    "        return avgMRI\n",
    "    for i in avg['DWI_Matched_File_FA_Path_ENIGMATBSSspace_2MM']:\n",
    "        avgMRI += read_scan(i)\n",
    "    return normalize(avgMRI)\n",
    "\n",
    "avg0 = avgCN[(avgCN['AGE_at_scan'] >= 40) & (avgCN['AGE_at_scan'] < 45)]\n",
    "avg1 = avgCN[(avgCN['AGE_at_scan'] >= 45) & (avgCN['AGE_at_scan'] < 50)]\n",
    "avg2 = avgCN[(avgCN['AGE_at_scan'] >= 50) & (avgCN['AGE_at_scan'] < 55)]\n",
    "avg3 = avgCN[(avgCN['AGE_at_scan'] >= 55) & (avgCN['AGE_at_scan'] < 60)]\n",
    "avg4 = avgCN[(avgCN['AGE_at_scan'] >= 60) & (avgCN['AGE_at_scan'] < 65)]\n",
    "avg5 = avgCN[(avgCN['AGE_at_scan'] >= 65) & (avgCN['AGE_at_scan'] < 70)]\n",
    "avg6 = avgCN[(avgCN['AGE_at_scan'] >= 70) & (avgCN['AGE_at_scan'] < 75)]\n",
    "avg7 = avgCN[(avgCN['AGE_at_scan'] >= 75) & (avgCN['AGE_at_scan'] < 80)]\n",
    "avg8 = avgCN[(avgCN['AGE_at_scan'] >= 80) & (avgCN['AGE_at_scan'] < 85)]\n",
    "avg9 = avgCN[(avgCN['AGE_at_scan'] >= 85) & (avgCN['AGE_at_scan'] < 90)]\n",
    "avg10 = avgCN[(avgCN['AGE_at_scan'] >= 90) & (avgCN['AGE_at_scan'] < 95)]\n",
    "avg11 = avgCN[(avgCN['AGE_at_scan'] >= 95) & (avgCN['AGE_at_scan'] < 100)]\n",
    "avg0 = avgMRI(avg0)\n",
    "avg1 = avgMRI(avg1)\n",
    "avg2 = avgMRI(avg2)\n",
    "avg3 = avgMRI(avg3)\n",
    "avg4 = avgMRI(avg4)\n",
    "avg5 = avgMRI(avg5)\n",
    "avg6 = avgMRI(avg6)\n",
    "avg7 = avgMRI(avg7)\n",
    "avg8 = avgMRI(avg8)\n",
    "avg9 = avgMRI(avg9)\n",
    "avg10 = avgMRI(avg10)\n",
    "avg11 = avgMRI(avg11)"
   ]
  },
  {
   "cell_type": "code",
   "execution_count": null,
   "id": "650ecbb5",
   "metadata": {},
   "outputs": [],
   "source": [
    "class DataGeneratorMRIs(tf.keras.utils.Sequence):\n",
    "    def rotate(self,vol):\n",
    "        def scipy_rotate(vol):\n",
    "            angles = [-20,-10,-5,0,5,10,20]\n",
    "            angle = pyrandom.choice(angles)\n",
    "            vol = ndimage.rotate(vol,angle,reshape=False)\n",
    "            vol[vol<0] = 0\n",
    "            vol[vol>1] = 1\n",
    "            return vol\n",
    "        aug_vol = tf.numpy_function(scipy_rotate,[vol],tf.float32)\n",
    "        return aug_vol\n",
    "\n",
    "    def preprocessing(self,vol):\n",
    "        vol1 = self.rotate(vol)\n",
    "        vol1 = tf.expand_dims(vol1,axis=3)\n",
    "        return vol1\n",
    "    \n",
    "    def returnAvg(self,age):\n",
    "        if age>=40 and age < 45:\n",
    "            return avg0\n",
    "        elif age>=45 and age < 50:\n",
    "            return avg1\n",
    "        elif age>=50 and age < 55:\n",
    "            return avg2\n",
    "        elif age>=55 and age < 60:\n",
    "            return avg3\n",
    "        elif age>=60 and age < 65:\n",
    "            return avg4\n",
    "        elif age>=65 and age < 70:\n",
    "            return avg5\n",
    "        elif age>=70 and age < 75:\n",
    "            return avg6\n",
    "        elif age>=75 and age < 80:\n",
    "            return avg7\n",
    "        elif age>=80 and age < 85:\n",
    "            return avg8\n",
    "        elif age>=85 and age < 90:\n",
    "            return avg9\n",
    "        elif age>=90 and age < 95:\n",
    "            return avg10\n",
    "        elif age>=95 and age < 100:\n",
    "            return avg11\n",
    "        \n",
    "    \n",
    "    def read_scan(self,path):\n",
    "        scan = nib.load(path)\n",
    "        volume = scan.get_fdata()\n",
    "        min = np.amax(volume)\n",
    "        max = np.amin(volume)\n",
    "        volume = (volume - min) / (max - min)\n",
    "        volume = volume.astype(\"float32\")\n",
    "        return volume\n",
    "\n",
    "    def __init__(self,data, batch_size, sample_weights=None):\n",
    "        self.data = data\n",
    "        self.batch_size = batch_size\n",
    "        self.sample_weights = sample_weights\n",
    "\n",
    "    def __len__(self):\n",
    "        return (np.ceil(len(self.data) / float(self.batch_size))).astype(np.int)\n",
    "\n",
    "    def __getitem__(self, idx):\n",
    "        \n",
    "        t1  = self.data['ACCEL_DL_6DOF_2MM_T1'].tolist()\n",
    "        dwi = self.data['DWI_Matched_File_FA_Path_ENIGMATBSSspace_2MM'].tolist()\n",
    "        labels = self.data['AGE_at_scan'].astype(np.float32)\n",
    "        labelsx = self.data['DX']\n",
    "        labelsx = keras.utils.to_categorical(labelsx)\n",
    "        \n",
    "        batch_t1 = t1[idx * self.batch_size: (idx + 1) * self.batch_size]\n",
    "        batch_y = labels[idx * self.batch_size: (idx + 1) * self.batch_size]\n",
    "        batch_x = labelsx[idx * self.batch_size: (idx + 1) * self.batch_size]\n",
    "        batch_dwi = dwi[idx * self.batch_size: (idx + 1) * self.batch_size]\n",
    "        \n",
    "        dwi = []\n",
    "        for i in range(len(batch_dwi)):\n",
    "            if pd.isnull(batch_dwi[i]):\n",
    "                dwi.append(self.returnAvg(batch_y.iloc[i]))\n",
    "            else:\n",
    "                dwi.append((self.read_scan(batch_dwi[i])))\n",
    "                \n",
    "        t1_imgs = np.asarray([self.preprocessing(self.read_scan(path)) for path in batch_t1])\n",
    "        dwi_imgs = np.asarray([self.preprocessing(img) for img in dwi])\n",
    "        \n",
    "        return ([t1_imgs,dwi_imgs], np.array(batch_x))\n",
    "    \n",
    "    def on_epoch_end(self):\n",
    "        self.data = self.data.sample(frac=1)"
   ]
  },
  {
   "cell_type": "code",
   "execution_count": null,
   "id": "dc543a4e",
   "metadata": {},
   "outputs": [],
   "source": [
    "dg2_train = DataGeneratorMRIs(train1,batch_size)"
   ]
  },
  {
   "cell_type": "code",
   "execution_count": 50,
   "id": "7dc1520b",
   "metadata": {},
   "outputs": [
    {
     "name": "stderr",
     "output_type": "stream",
     "text": [
      "WARNING:root:The given value for groups will be overwritten.\n",
      "WARNING:root:The given value for groups will be overwritten.\n",
      "WARNING:root:The given value for groups will be overwritten.\n",
      "WARNING:root:The given value for groups will be overwritten.\n",
      "WARNING:root:The given value for groups will be overwritten.\n",
      "WARNING:root:The given value for groups will be overwritten.\n",
      "WARNING:root:The given value for groups will be overwritten.\n",
      "WARNING:root:The given value for groups will be overwritten.\n",
      "WARNING:root:The given value for groups will be overwritten.\n",
      "WARNING:root:The given value for groups will be overwritten.\n",
      "WARNING:root:The given value for groups will be overwritten.\n",
      "WARNING:root:The given value for groups will be overwritten.\n"
     ]
    }
   ],
   "source": [
    "model = keras.models.load_model('/lfs1/ashaji/Imputation_Problem/ISBI/AD/final_models/T1andDWIBuckImp')"
   ]
  },
  {
   "cell_type": "code",
   "execution_count": 100,
   "id": "f36c5624",
   "metadata": {},
   "outputs": [
    {
     "name": "stderr",
     "output_type": "stream",
     "text": [
      "/tmp/ipykernel_30762/2532890018.py:37: DeprecationWarning: `np.int` is a deprecated alias for the builtin `int`. To silence this warning, use `int` by itself. Doing this will not modify any behavior and is safe. When replacing `np.int`, you may wish to use e.g. `np.int64` or `np.int32` to specify the precision. If you wish to review your current use, check the release note link for additional information.\n",
      "Deprecated in NumPy 1.20; for more details and guidance: https://numpy.org/devdocs/release/1.20.0-notes.html#deprecations\n",
      "  return (np.ceil(len(self.data) / float(self.batch_size))).astype(np.int)\n"
     ]
    },
    {
     "name": "stdout",
     "output_type": "stream",
     "text": [
      "Epoch 1/200\n"
     ]
    },
    {
     "name": "stderr",
     "output_type": "stream",
     "text": [
      "/tmp/ipykernel_30762/2577338316.py:60: DeprecationWarning: `np.int` is a deprecated alias for the builtin `int`. To silence this warning, use `int` by itself. Doing this will not modify any behavior and is safe. When replacing `np.int`, you may wish to use e.g. `np.int64` or `np.int32` to specify the precision. If you wish to review your current use, check the release note link for additional information.\n",
      "Deprecated in NumPy 1.20; for more details and guidance: https://numpy.org/devdocs/release/1.20.0-notes.html#deprecations\n",
      "  return (np.ceil(len(self.data) / float(self.batch_size))).astype(np.int)\n",
      "2023-11-19 02:54:08.091085: I tensorflow/core/common_runtime/executor.cc:1197] [/device:CPU:0] (DEBUG INFO) Executor start aborting (this does not indicate an error and you can ignore this message): INVALID_ARGUMENT: You must feed a value for placeholder tensor 'Placeholder/_0' with dtype int32\n",
      "\t [[{{node Placeholder/_0}}]]\n"
     ]
    },
    {
     "name": "stdout",
     "output_type": "stream",
     "text": [
      "1324/1324 [==============================] - ETA: 0s - loss: 0.3277 - auc: 0.9682 - Precision: 0.8821 - Recall: 0.8806 - categorical_accuracy: 0.8819"
     ]
    },
    {
     "name": "stderr",
     "output_type": "stream",
     "text": [
      "2023-11-19 03:32:07.101831: I tensorflow/core/common_runtime/executor.cc:1197] [/device:CPU:0] (DEBUG INFO) Executor start aborting (this does not indicate an error and you can ignore this message): INVALID_ARGUMENT: You must feed a value for placeholder tensor 'Placeholder/_0' with dtype int32\n",
      "\t [[{{node Placeholder/_0}}]]\n"
     ]
    },
    {
     "name": "stdout",
     "output_type": "stream",
     "text": [
      "1324/1324 [==============================] - 2306s 2s/step - loss: 0.3277 - auc: 0.9682 - Precision: 0.8821 - Recall: 0.8806 - categorical_accuracy: 0.8819 - val_loss: 0.7085 - val_auc: 0.8853 - val_Precision: 0.7267 - val_Recall: 0.7171 - val_categorical_accuracy: 0.7171\n",
      "Epoch 2/200\n",
      "1324/1324 [==============================] - 1923s 1s/step - loss: 0.2915 - auc: 0.9746 - Precision: 0.8971 - Recall: 0.8961 - categorical_accuracy: 0.8969 - val_loss: 0.7390 - val_auc: 0.8893 - val_Precision: 0.7434 - val_Recall: 0.7434 - val_categorical_accuracy: 0.7434\n",
      "Epoch 3/200\n",
      "1324/1324 [==============================] - 1928s 1s/step - loss: 0.2602 - auc: 0.9789 - Precision: 0.9073 - Recall: 0.9063 - categorical_accuracy: 0.9069 - val_loss: 0.8999 - val_auc: 0.8724 - val_Precision: 0.7105 - val_Recall: 0.7105 - val_categorical_accuracy: 0.7105\n",
      "Epoch 4/200\n",
      "1324/1324 [==============================] - 1923s 1s/step - loss: 0.2545 - auc: 0.9795 - Precision: 0.9108 - Recall: 0.9103 - categorical_accuracy: 0.9108 - val_loss: 0.7794 - val_auc: 0.8899 - val_Precision: 0.7400 - val_Recall: 0.7303 - val_categorical_accuracy: 0.7303\n",
      "Epoch 5/200\n",
      "1324/1324 [==============================] - 1913s 1s/step - loss: 0.2292 - auc: 0.9834 - Precision: 0.9210 - Recall: 0.9201 - categorical_accuracy: 0.9205 - val_loss: 0.6884 - val_auc: 0.8965 - val_Precision: 0.7303 - val_Recall: 0.7303 - val_categorical_accuracy: 0.7303\n",
      "Epoch 6/200\n",
      "1324/1324 [==============================] - 1920s 1s/step - loss: 0.2202 - auc: 0.9844 - Precision: 0.9258 - Recall: 0.9244 - categorical_accuracy: 0.9250 - val_loss: 0.8971 - val_auc: 0.8436 - val_Precision: 0.6447 - val_Recall: 0.6447 - val_categorical_accuracy: 0.6447\n",
      "Epoch 7/200\n",
      "1324/1324 [==============================] - 1907s 1s/step - loss: 0.2109 - auc: 0.9861 - Precision: 0.9246 - Recall: 0.9239 - categorical_accuracy: 0.9244 - val_loss: 0.7444 - val_auc: 0.8961 - val_Precision: 0.7333 - val_Recall: 0.7237 - val_categorical_accuracy: 0.7303\n",
      "Epoch 8/200\n",
      "1324/1324 [==============================] - 1906s 1s/step - loss: 0.1889 - auc: 0.9889 - Precision: 0.9347 - Recall: 0.9335 - categorical_accuracy: 0.9339 - val_loss: 0.9185 - val_auc: 0.8516 - val_Precision: 0.6490 - val_Recall: 0.6447 - val_categorical_accuracy: 0.6447\n",
      "Epoch 9/200\n",
      "1324/1324 [==============================] - 1906s 1s/step - loss: 0.1741 - auc: 0.9898 - Precision: 0.9402 - Recall: 0.9392 - categorical_accuracy: 0.9396 - val_loss: 0.8734 - val_auc: 0.8765 - val_Precision: 0.7105 - val_Recall: 0.7105 - val_categorical_accuracy: 0.7105\n",
      "Epoch 10/200\n",
      "1324/1324 [==============================] - 1915s 1s/step - loss: 0.1764 - auc: 0.9895 - Precision: 0.9402 - Recall: 0.9380 - categorical_accuracy: 0.9388 - val_loss: 0.8453 - val_auc: 0.8730 - val_Precision: 0.6689 - val_Recall: 0.6645 - val_categorical_accuracy: 0.6711\n",
      "Epoch 11/200\n",
      "1324/1324 [==============================] - 1908s 1s/step - loss: 0.1693 - auc: 0.9906 - Precision: 0.9434 - Recall: 0.9420 - categorical_accuracy: 0.9431 - val_loss: 0.8397 - val_auc: 0.8851 - val_Precision: 0.7303 - val_Recall: 0.7303 - val_categorical_accuracy: 0.7303\n",
      "Epoch 12/200\n",
      "1324/1324 [==============================] - 1912s 1s/step - loss: 0.1671 - auc: 0.9910 - Precision: 0.9412 - Recall: 0.9409 - categorical_accuracy: 0.9409 - val_loss: 0.7295 - val_auc: 0.8798 - val_Precision: 0.7181 - val_Recall: 0.7039 - val_categorical_accuracy: 0.7237\n",
      "Epoch 13/200\n",
      "1324/1324 [==============================] - 1871s 1s/step - loss: 0.1447 - auc: 0.9928 - Precision: 0.9512 - Recall: 0.9503 - categorical_accuracy: 0.9509 - val_loss: 0.8792 - val_auc: 0.8825 - val_Precision: 0.7067 - val_Recall: 0.6974 - val_categorical_accuracy: 0.7039\n",
      "Epoch 14/200\n",
      "1324/1324 [==============================] - 1883s 1s/step - loss: 0.1502 - auc: 0.9922 - Precision: 0.9488 - Recall: 0.9477 - categorical_accuracy: 0.9479 - val_loss: 0.7900 - val_auc: 0.8898 - val_Precision: 0.7285 - val_Recall: 0.7237 - val_categorical_accuracy: 0.7237\n",
      "Epoch 15/200\n",
      "1324/1324 [==============================] - 1887s 1s/step - loss: 0.1539 - auc: 0.9922 - Precision: 0.9480 - Recall: 0.9464 - categorical_accuracy: 0.9469 - val_loss: 0.8994 - val_auc: 0.8704 - val_Precision: 0.6755 - val_Recall: 0.6711 - val_categorical_accuracy: 0.6776\n",
      "Epoch 16/200\n",
      "1324/1324 [==============================] - 1887s 1s/step - loss: 0.1287 - auc: 0.9937 - Precision: 0.9587 - Recall: 0.9569 - categorical_accuracy: 0.9577 - val_loss: 0.9580 - val_auc: 0.8851 - val_Precision: 0.7285 - val_Recall: 0.7237 - val_categorical_accuracy: 0.7237\n",
      "Epoch 17/200\n",
      "1324/1324 [==============================] - 1875s 1s/step - loss: 0.1281 - auc: 0.9940 - Precision: 0.9582 - Recall: 0.9579 - categorical_accuracy: 0.9581 - val_loss: 0.8820 - val_auc: 0.8667 - val_Precision: 0.6974 - val_Recall: 0.6974 - val_categorical_accuracy: 0.6974\n",
      "Epoch 18/200\n",
      "1324/1324 [==============================] - 1874s 1s/step - loss: 0.1255 - auc: 0.9943 - Precision: 0.9584 - Recall: 0.9573 - categorical_accuracy: 0.9577 - val_loss: 0.8273 - val_auc: 0.8765 - val_Precision: 0.7237 - val_Recall: 0.7237 - val_categorical_accuracy: 0.7237\n",
      "Epoch 19/200\n",
      "1324/1324 [==============================] - 1879s 1s/step - loss: 0.1214 - auc: 0.9946 - Precision: 0.9612 - Recall: 0.9603 - categorical_accuracy: 0.9603 - val_loss: 0.7827 - val_auc: 0.8902 - val_Precision: 0.7133 - val_Recall: 0.7039 - val_categorical_accuracy: 0.7105\n",
      "Epoch 20/200\n",
      "1324/1324 [==============================] - 1872s 1s/step - loss: 0.1130 - auc: 0.9951 - Precision: 0.9631 - Recall: 0.9618 - categorical_accuracy: 0.9622 - val_loss: 0.9245 - val_auc: 0.8801 - val_Precision: 0.7152 - val_Recall: 0.7105 - val_categorical_accuracy: 0.7171\n",
      "Epoch 21/200\n",
      "1324/1324 [==============================] - 1884s 1s/step - loss: 0.1059 - auc: 0.9963 - Precision: 0.9624 - Recall: 0.9620 - categorical_accuracy: 0.9620 - val_loss: 0.9196 - val_auc: 0.8757 - val_Precision: 0.7039 - val_Recall: 0.7039 - val_categorical_accuracy: 0.7039\n",
      "Epoch 22/200\n",
      "1324/1324 [==============================] - 1888s 1s/step - loss: 0.1118 - auc: 0.9955 - Precision: 0.9611 - Recall: 0.9601 - categorical_accuracy: 0.9603 - val_loss: 1.1332 - val_auc: 0.8511 - val_Precision: 0.6959 - val_Recall: 0.6776 - val_categorical_accuracy: 0.6974\n",
      "Epoch 23/200\n",
      "1324/1324 [==============================] - 1877s 1s/step - loss: 0.1087 - auc: 0.9961 - Precision: 0.9612 - Recall: 0.9600 - categorical_accuracy: 0.9605 - val_loss: 0.8575 - val_auc: 0.8818 - val_Precision: 0.7171 - val_Recall: 0.7171 - val_categorical_accuracy: 0.7171\n",
      "Epoch 24/200\n",
      "1324/1324 [==============================] - 1871s 1s/step - loss: 0.1015 - auc: 0.9960 - Precision: 0.9652 - Recall: 0.9641 - categorical_accuracy: 0.9645 - val_loss: 1.0741 - val_auc: 0.8652 - val_Precision: 0.6842 - val_Recall: 0.6842 - val_categorical_accuracy: 0.6842\n",
      "Epoch 25/200\n",
      "1324/1324 [==============================] - ETA: 0s - loss: 0.1035 - auc: 0.9964 - Precision: 0.9647 - Recall: 0.9641 - categorical_accuracy: 0.9645Restoring model weights from the end of the best epoch: 5.\n",
      "1324/1324 [==============================] - 1887s 1s/step - loss: 0.1035 - auc: 0.9964 - Precision: 0.9647 - Recall: 0.9641 - categorical_accuracy: 0.9645 - val_loss: 1.0763 - val_auc: 0.8601 - val_Precision: 0.7200 - val_Recall: 0.7105 - val_categorical_accuracy: 0.7237\n",
      "Epoch 25: early stopping\n"
     ]
    },
    {
     "name": "stderr",
     "output_type": "stream",
     "text": [
      "2023-11-19 16:10:52.467798: I tensorflow/core/common_runtime/executor.cc:1197] [/device:CPU:0] (DEBUG INFO) Executor start aborting (this does not indicate an error and you can ignore this message): INVALID_ARGUMENT: You must feed a value for placeholder tensor 'inputs' with dtype float and shape [?,1,1,1,64]\n",
      "\t [[{{node inputs}}]]\n",
      "2023-11-19 16:10:52.488724: I tensorflow/core/common_runtime/executor.cc:1197] [/device:CPU:0] (DEBUG INFO) Executor start aborting (this does not indicate an error and you can ignore this message): INVALID_ARGUMENT: You must feed a value for placeholder tensor 'inputs' with dtype float and shape [?,1,1,1,64]\n",
      "\t [[{{node inputs}}]]\n",
      "2023-11-19 16:10:54.521056: I tensorflow/core/common_runtime/executor.cc:1197] [/device:CPU:0] (DEBUG INFO) Executor start aborting (this does not indicate an error and you can ignore this message): INVALID_ARGUMENT: You must feed a value for placeholder tensor 'inputs' with dtype float and shape [?,1,1,1,64]\n",
      "\t [[{{node inputs}}]]\n",
      "2023-11-19 16:10:54.551445: I tensorflow/core/common_runtime/executor.cc:1197] [/device:CPU:0] (DEBUG INFO) Executor start aborting (this does not indicate an error and you can ignore this message): INVALID_ARGUMENT: You must feed a value for placeholder tensor 'inputs' with dtype float and shape [?,1,1,1,64]\n",
      "\t [[{{node inputs}}]]\n",
      "WARNING:absl:Found untraced functions such as _jit_compiled_convolution_op, _jit_compiled_convolution_op, _jit_compiled_convolution_op, _jit_compiled_convolution_op, _jit_compiled_convolution_op while saving (showing 5 of 12). These functions will not be directly callable after loading.\n"
     ]
    },
    {
     "name": "stdout",
     "output_type": "stream",
     "text": [
      "INFO:tensorflow:Assets written to: /lfs1/ashaji/Imputation_Problem/ISBI/AD/final_models/T1andDWIBuckImpAgain0/assets\n"
     ]
    },
    {
     "name": "stderr",
     "output_type": "stream",
     "text": [
      "INFO:tensorflow:Assets written to: /lfs1/ashaji/Imputation_Problem/ISBI/AD/final_models/T1andDWIBuckImpAgain0/assets\n"
     ]
    }
   ],
   "source": [
    "early = keras.callbacks.EarlyStopping(monitor='val_loss',patience = 20, verbose = 1, restore_best_weights = True)\n",
    "\n",
    "history = model.fit(\n",
    "    dg2_train,\n",
    "    validation_data = dg_val,\n",
    "    epochs = 200,\n",
    "    verbose = 1,\n",
    "    callbacks = [early]\n",
    ")\n",
    "model.save('/lfs1/ashaji/Imputation_Problem/ISBI/AD/final_models/T1andDWIBuckImpAgain0')"
   ]
  },
  {
   "cell_type": "code",
   "execution_count": 75,
   "id": "0af2ff83",
   "metadata": {},
   "outputs": [
    {
     "name": "stderr",
     "output_type": "stream",
     "text": [
      "WARNING:root:The given value for groups will be overwritten.\n",
      "WARNING:root:The given value for groups will be overwritten.\n",
      "WARNING:root:The given value for groups will be overwritten.\n",
      "WARNING:root:The given value for groups will be overwritten.\n",
      "WARNING:root:The given value for groups will be overwritten.\n",
      "WARNING:root:The given value for groups will be overwritten.\n",
      "WARNING:root:The given value for groups will be overwritten.\n",
      "WARNING:root:The given value for groups will be overwritten.\n",
      "WARNING:root:The given value for groups will be overwritten.\n",
      "WARNING:root:The given value for groups will be overwritten.\n",
      "WARNING:root:The given value for groups will be overwritten.\n",
      "WARNING:root:The given value for groups will be overwritten.\n"
     ]
    }
   ],
   "source": [
    "model = keras.models.load_model('/lfs1/ashaji/Imputation_Problem/ISBI/AD/final_models/T1andDWIBuckImpAgain')"
   ]
  },
  {
   "cell_type": "code",
   "execution_count": 76,
   "id": "ddbf834f",
   "metadata": {},
   "outputs": [],
   "source": [
    "import sklearn.metrics as skm"
   ]
  },
  {
   "cell_type": "code",
   "execution_count": 77,
   "id": "cfd70baa",
   "metadata": {},
   "outputs": [
    {
     "name": "stderr",
     "output_type": "stream",
     "text": [
      "/tmp/ipykernel_5022/2532890018.py:37: DeprecationWarning: `np.int` is a deprecated alias for the builtin `int`. To silence this warning, use `int` by itself. Doing this will not modify any behavior and is safe. When replacing `np.int`, you may wish to use e.g. `np.int64` or `np.int32` to specify the precision. If you wish to review your current use, check the release note link for additional information.\n",
      "Deprecated in NumPy 1.20; for more details and guidance: https://numpy.org/devdocs/release/1.20.0-notes.html#deprecations\n",
      "  return (np.ceil(len(self.data) / float(self.batch_size))).astype(np.int)\n"
     ]
    },
    {
     "name": "stdout",
     "output_type": "stream",
     "text": [
      "1/1 [==============================] - 1s 628ms/step\n",
      "1/1 [==============================] - 0s 63ms/step\n",
      "1/1 [==============================] - 0s 62ms/step\n",
      "1/1 [==============================] - 0s 60ms/step\n",
      "1/1 [==============================] - 0s 58ms/step\n",
      "1/1 [==============================] - 0s 58ms/step\n",
      "1/1 [==============================] - 0s 62ms/step\n",
      "1/1 [==============================] - 0s 58ms/step\n",
      "1/1 [==============================] - 0s 58ms/step\n",
      "1/1 [==============================] - 0s 58ms/step\n",
      "1/1 [==============================] - 0s 55ms/step\n",
      "1/1 [==============================] - 0s 58ms/step\n",
      "1/1 [==============================] - 0s 50ms/step\n",
      "1/1 [==============================] - 0s 58ms/step\n",
      "1/1 [==============================] - 0s 60ms/step\n",
      "1/1 [==============================] - 0s 59ms/step\n",
      "1/1 [==============================] - 0s 46ms/step\n",
      "1/1 [==============================] - 0s 57ms/step\n",
      "1/1 [==============================] - 0s 43ms/step\n",
      "1/1 [==============================] - 0s 58ms/step\n",
      "1/1 [==============================] - 0s 59ms/step\n",
      "1/1 [==============================] - 0s 56ms/step\n",
      "1/1 [==============================] - 0s 43ms/step\n",
      "1/1 [==============================] - 0s 53ms/step\n",
      "1/1 [==============================] - 0s 44ms/step\n",
      "1/1 [==============================] - 0s 44ms/step\n",
      "1/1 [==============================] - 0s 43ms/step\n",
      "1/1 [==============================] - 0s 50ms/step\n",
      "1/1 [==============================] - 0s 57ms/step\n",
      "1/1 [==============================] - 0s 56ms/step\n",
      "1/1 [==============================] - 0s 56ms/step\n",
      "1/1 [==============================] - 0s 44ms/step\n",
      "1/1 [==============================] - 0s 43ms/step\n",
      "1/1 [==============================] - 0s 73ms/step\n",
      "1/1 [==============================] - 0s 42ms/step\n",
      "1/1 [==============================] - 0s 55ms/step\n",
      "1/1 [==============================] - 0s 44ms/step\n",
      "1/1 [==============================] - 0s 58ms/step\n",
      "1/1 [==============================] - 1s 635ms/step\n"
     ]
    }
   ],
   "source": [
    "y_true = []\n",
    "y_pred = []\n",
    "for img,lbl in dg_testall:\n",
    "    for i in lbl:\n",
    "        y_true.append(i)\n",
    "    x = model.predict(img)\n",
    "    for i in x:\n",
    "        y_pred.append(i)"
   ]
  },
  {
   "cell_type": "code",
   "execution_count": 78,
   "id": "fc04d12f",
   "metadata": {},
   "outputs": [],
   "source": [
    "y_true = np.array(y_true)\n",
    "y_pred = np.array(y_pred)"
   ]
  },
  {
   "cell_type": "code",
   "execution_count": 79,
   "id": "c84bae10",
   "metadata": {},
   "outputs": [],
   "source": [
    "yt = np.argmax(y_true,1)\n",
    "yp = np.argmax(y_pred,1)"
   ]
  },
  {
   "cell_type": "code",
   "execution_count": 80,
   "id": "4dde30da",
   "metadata": {},
   "outputs": [
    {
     "data": {
      "text/plain": [
       "0.7870967741935484"
      ]
     },
     "execution_count": 80,
     "metadata": {},
     "output_type": "execute_result"
    }
   ],
   "source": [
    "acc = skm.accuracy_score(yt,yp)\n",
    "acc"
   ]
  },
  {
   "cell_type": "code",
   "execution_count": 81,
   "id": "b19b6569",
   "metadata": {},
   "outputs": [
    {
     "data": {
      "text/plain": [
       "0.7577975998864671"
      ]
     },
     "execution_count": 81,
     "metadata": {},
     "output_type": "execute_result"
    }
   ],
   "source": [
    "bal_acc = skm.balanced_accuracy_score(yt,yp)\n",
    "bal_acc"
   ]
  },
  {
   "cell_type": "code",
   "execution_count": 82,
   "id": "6c1e2c7f",
   "metadata": {},
   "outputs": [
    {
     "data": {
      "text/plain": [
       "0.9187513007284079"
      ]
     },
     "execution_count": 82,
     "metadata": {},
     "output_type": "execute_result"
    }
   ],
   "source": [
    "mic_auc = skm.roc_auc_score(yt,y_pred,average='micro',multi_class='ovr')\n",
    "mic_auc"
   ]
  },
  {
   "cell_type": "code",
   "execution_count": 83,
   "id": "743b7435",
   "metadata": {},
   "outputs": [
    {
     "data": {
      "text/plain": [
       "0.9053097592957201"
      ]
     },
     "execution_count": 83,
     "metadata": {},
     "output_type": "execute_result"
    }
   ],
   "source": [
    "mac_auc = skm.roc_auc_score(yt,y_pred,average='macro',multi_class='ovr')\n",
    "mac_auc"
   ]
  },
  {
   "cell_type": "code",
   "execution_count": 40,
   "id": "6098626d",
   "metadata": {},
   "outputs": [],
   "source": [
    "## IMPUTATION 3"
   ]
  },
  {
   "cell_type": "code",
   "execution_count": null,
   "id": "af20b78b",
   "metadata": {},
   "outputs": [],
   "source": []
  }
 ],
 "metadata": {
  "kernelspec": {
   "display_name": "Python 3 (ipykernel)",
   "language": "python",
   "name": "python3"
  },
  "language_info": {
   "codemirror_mode": {
    "name": "ipython",
    "version": 3
   },
   "file_extension": ".py",
   "mimetype": "text/x-python",
   "name": "python",
   "nbconvert_exporter": "python",
   "pygments_lexer": "ipython3",
   "version": "3.10.4"
  }
 },
 "nbformat": 4,
 "nbformat_minor": 5
}
