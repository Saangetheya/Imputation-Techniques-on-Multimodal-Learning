{
 "cells": [
  {
   "cell_type": "code",
   "execution_count": 9,
   "id": "8c762754",
   "metadata": {},
   "outputs": [],
   "source": [
    "import pandas as pd\n",
    "import tensorflow as tf\n",
    "import numpy as np\n",
    "import os"
   ]
  },
  {
   "cell_type": "code",
   "execution_count": 10,
   "id": "79bf7731",
   "metadata": {},
   "outputs": [],
   "source": [
    "def checkfilepath(filepath):\n",
    "    return os.path.exists(filepath)\n",
    "\n",
    "def read_nifti_file(filepath):\n",
    "    scan = nib.load(filepath)\n",
    "    data = scan.get_fdata()\n",
    "    return data\n",
    "\n",
    "def normalize(volume):\n",
    "    dmin = np.amin(volume)\n",
    "    dmax = np.amax(volume)\n",
    "    davg = np.average(volume)\n",
    "    volume = (volume-dmin)/davg\n",
    "    return volume\n",
    "\n",
    "def process_scan(path):\n",
    "    vol = read_nifti_file(path)\n",
    "    vol = normalize(vol)\n",
    "    return vol\n"
   ]
  },
  {
   "cell_type": "code",
   "execution_count": 12,
   "id": "c8c96090",
   "metadata": {},
   "outputs": [],
   "source": [
    "df = pd.read_excel('/lfs1/ashaji/Imputation_Problem/data/ADNI_final.xlsx', engine='openpyxl')\n",
    "df['SubjID'].replace('',np.nan,inplace=True)\n",
    "df['AGE_at_scan'].replace('',np.nan,inplace=True)\n",
    "df.dropna(subset=['SubjID','AGE_at_scan'], inplace=True)\n",
    "df = df.reset_index(drop=True)\n",
    "df.loc[df['SEX']=='M','SEX'] = 1\n",
    "df.loc[df['SEX']=='F','SEX'] = 0\n",
    "condCN = df['DX'] == 'CN'\n",
    "df = df.sort_values(by = ['SubjID'])\n",
    "df = df.loc[condCN,:]\n",
    "# df = df.sample(frac = 1)\n",
    "df = df.reset_index(drop=True)"
   ]
  },
  {
   "cell_type": "code",
   "execution_count": 13,
   "id": "a6a0b80d",
   "metadata": {},
   "outputs": [],
   "source": [
    "df['SEX'].replace('',np.nan,inplace=True)\n",
    "df['CDRSB'].replace('',np.nan,inplace=True)\n",
    "df['ADAS11'].replace('',np.nan,inplace=True)\n",
    "df['ADAS13'].replace('',np.nan,inplace=True)\n",
    "df['MMSE'].replace('',np.nan,inplace=True)\n",
    "df['MOCA'].replace('',np.nan,inplace=True)\n",
    "df['APOE A1'].replace('',np.nan,inplace=True)\n",
    "df['APOE A2'].replace('',np.nan,inplace=True)\n",
    "# df.dropna(subset=['SEX','CDRSB','ADAS11','ADAS13','MMSE','MOCA','APOE A1','APOE A2'], inplace=True)"
   ]
  },
  {
   "cell_type": "code",
   "execution_count": 14,
   "id": "1e285c44",
   "metadata": {},
   "outputs": [],
   "source": [
    "cond = [checkfilepath(str(x)) for x in df['ACCEL_DL_6DOF_2MM_T1']]\n",
    "cond0 = df['ACCEL_Preprocessed for DL?']=='yes'"
   ]
  },
  {
   "cell_type": "code",
   "execution_count": 15,
   "id": "61b216b9",
   "metadata": {},
   "outputs": [],
   "source": [
    "conddwi = [checkfilepath(str(x)) for x in df['DWI_Matched_File_FA_Path_ENIGMATBSSspace_2MM']]"
   ]
  },
  {
   "cell_type": "code",
   "execution_count": 16,
   "id": "12777351",
   "metadata": {},
   "outputs": [],
   "source": [
    "cond2 = df['SEX'].isnull()\n",
    "cond2 = np.invert(cond2)\n",
    "cond3 = df['CDRSB'].isnull()\n",
    "cond3 = np.invert(cond3)\n",
    "cond4 = df['ADAS11'].isnull()\n",
    "cond4 = np.invert(cond4)\n",
    "cond5 = df['ADAS13'].isnull()\n",
    "cond5 = np.invert(cond5)\n",
    "cond6 = df['MMSE'].isnull()\n",
    "cond6 = np.invert(cond6)\n",
    "cond7 = df['MOCA'].isnull()\n",
    "cond7 = np.invert(cond7)\n",
    "cond8 = df['APOE A1'].isnull()\n",
    "cond8 = np.invert(cond8)\n",
    "cond9 = df['APOE A2'].isnull()\n",
    "cond9 = np.invert(cond9)"
   ]
  },
  {
   "cell_type": "code",
   "execution_count": 17,
   "id": "cba2009b",
   "metadata": {},
   "outputs": [],
   "source": [
    "condt1 = [cond[i] & cond0[i]  for i in range(len(cond))]"
   ]
  },
  {
   "cell_type": "code",
   "execution_count": 18,
   "id": "b315bdac",
   "metadata": {},
   "outputs": [],
   "source": [
    "condstr = cond2 & cond3 & cond4 & cond5 & cond6 & cond7 & cond8 & cond9"
   ]
  },
  {
   "cell_type": "code",
   "execution_count": 19,
   "id": "5e43e6fa",
   "metadata": {},
   "outputs": [
    {
     "data": {
      "text/plain": [
       "3288"
      ]
     },
     "execution_count": 19,
     "metadata": {},
     "output_type": "execute_result"
    }
   ],
   "source": [
    "len(condstr)"
   ]
  },
  {
   "cell_type": "code",
   "execution_count": 20,
   "id": "965ba225",
   "metadata": {},
   "outputs": [
    {
     "data": {
      "text/plain": [
       "458"
      ]
     },
     "execution_count": 20,
     "metadata": {},
     "output_type": "execute_result"
    }
   ],
   "source": [
    "t1dwistr = df.loc[[(condt1[i] and conddwi[i] and condstr[i]) for i in range(len(condt1))]  , :]\n",
    "len(t1dwistr)"
   ]
  },
  {
   "cell_type": "code",
   "execution_count": 21,
   "id": "967d9c4b",
   "metadata": {},
   "outputs": [
    {
     "data": {
      "text/plain": [
       "1255"
      ]
     },
     "execution_count": 21,
     "metadata": {},
     "output_type": "execute_result"
    }
   ],
   "source": [
    "t1dwi_str = df.loc[[(condt1[i] and not conddwi[i] and condstr[i]) for i in range(len(condt1))] , :]\n",
    "len(t1dwi_str)"
   ]
  },
  {
   "cell_type": "code",
   "execution_count": 22,
   "id": "f9d91643",
   "metadata": {},
   "outputs": [
    {
     "data": {
      "text/plain": [
       "329"
      ]
     },
     "execution_count": 22,
     "metadata": {},
     "output_type": "execute_result"
    }
   ],
   "source": [
    "t1dwi_str_ = df.loc[[(condt1[i] and not conddwi[i] and not condstr[i]) for i in range(len(condt1))] , :]\n",
    "len(t1dwi_str_)"
   ]
  },
  {
   "cell_type": "code",
   "execution_count": 23,
   "id": "4a040442",
   "metadata": {},
   "outputs": [
    {
     "data": {
      "text/plain": [
       "107"
      ]
     },
     "execution_count": 23,
     "metadata": {},
     "output_type": "execute_result"
    }
   ],
   "source": [
    "t1_dwi_str = df.loc[[(not condt1[i] and not conddwi[i] and condstr[i]) for i in range(len(condt1))] , :]\n",
    "len(t1_dwi_str)"
   ]
  },
  {
   "cell_type": "code",
   "execution_count": 24,
   "id": "003fd754",
   "metadata": {},
   "outputs": [
    {
     "data": {
      "text/plain": [
       "74"
      ]
     },
     "execution_count": 24,
     "metadata": {},
     "output_type": "execute_result"
    }
   ],
   "source": [
    "t1dwistr_ = df.loc[[(condt1[i] and conddwi[i] and not condstr[i]) for i in range(len(condt1))] , :]\n",
    "len(t1dwistr_)"
   ]
  },
  {
   "cell_type": "code",
   "execution_count": 25,
   "id": "1792665e",
   "metadata": {},
   "outputs": [
    {
     "data": {
      "text/plain": [
       "0"
      ]
     },
     "execution_count": 25,
     "metadata": {},
     "output_type": "execute_result"
    }
   ],
   "source": [
    "t1_dwistr_ = df.loc[[(not condt1[i] and conddwi[i] and not condstr[i]) for i in range(len(condt1))] , :]\n",
    "len(t1_dwistr_)"
   ]
  },
  {
   "cell_type": "code",
   "execution_count": 26,
   "id": "aa0c7946",
   "metadata": {},
   "outputs": [
    {
     "data": {
      "text/plain": [
       "13"
      ]
     },
     "execution_count": 26,
     "metadata": {},
     "output_type": "execute_result"
    }
   ],
   "source": [
    "t1_dwistr = df.loc[[(not condt1[i] and conddwi[i] and condstr[i]) for i in range(len(condt1))] , :]\n",
    "len(t1_dwistr)"
   ]
  },
  {
   "cell_type": "code",
   "execution_count": 27,
   "id": "f5dd92dd",
   "metadata": {},
   "outputs": [
    {
     "data": {
      "text/plain": [
       "329"
      ]
     },
     "execution_count": 27,
     "metadata": {},
     "output_type": "execute_result"
    }
   ],
   "source": [
    "t1dwi_str_ = df.loc[[(condt1[i] and not conddwi[i] and not condstr[i]) for i in range(len(condt1))] , :]\n",
    "len(t1dwi_str_)"
   ]
  },
  {
   "cell_type": "code",
   "execution_count": 28,
   "id": "ccff7cb2",
   "metadata": {},
   "outputs": [
    {
     "data": {
      "text/html": [
       "<div>\n",
       "<style scoped>\n",
       "    .dataframe tbody tr th:only-of-type {\n",
       "        vertical-align: middle;\n",
       "    }\n",
       "\n",
       "    .dataframe tbody tr th {\n",
       "        vertical-align: top;\n",
       "    }\n",
       "\n",
       "    .dataframe thead th {\n",
       "        text-align: right;\n",
       "    }\n",
       "</style>\n",
       "<table border=\"1\" class=\"dataframe\">\n",
       "  <thead>\n",
       "    <tr style=\"text-align: right;\">\n",
       "      <th></th>\n",
       "      <th>SubjID</th>\n",
       "      <th>RID</th>\n",
       "      <th>NONACCEL_T1_SCAN_FILENAME</th>\n",
       "      <th>NONACCEL_T1_IMAGEID</th>\n",
       "      <th>NONACCEL_Path to RAW nifti</th>\n",
       "      <th>NONACCEL_Preprocessed for DL?</th>\n",
       "      <th>NONACCEL_DL_6DOF_2MM_T1</th>\n",
       "      <th>NONACCEL_DL_6DOF_2MM_MASK</th>\n",
       "      <th>NONACCEL_DL_6DOF_2MM_GM</th>\n",
       "      <th>NONACCEL_DL_6DOF_2MM_WM</th>\n",
       "      <th>...</th>\n",
       "      <th>DWI_Matched_File_L1_Path_ENIGMATBSSspace</th>\n",
       "      <th>DWI_Matched_File_MD_Path_ENIGMATBSSspace</th>\n",
       "      <th>DWI_Matched_File_RD_Path_ENIGMATBSSspace</th>\n",
       "      <th>T1_Path_ENIGMATBSSspace</th>\n",
       "      <th>DWI_Matched_File_FA_Path_ENIGMATBSSspace_2MM</th>\n",
       "      <th>DWI_Matched_File_L1_Path_ENIGMATBSSspace_2MM</th>\n",
       "      <th>DWI_Matched_File_MD_Path_ENIGMATBSSspace_2MM</th>\n",
       "      <th>DWI_Matched_File_RD_Path_ENIGMATBSSspace_2MM</th>\n",
       "      <th>T1_Path_ENIGMATBSSspace_2MM</th>\n",
       "      <th>DWI Preprocessing Pipeline (old=ADNI2 - new=ADNI3)</th>\n",
       "    </tr>\n",
       "  </thead>\n",
       "  <tbody>\n",
       "    <tr>\n",
       "      <th>0</th>\n",
       "      <td>002_S_0295</td>\n",
       "      <td>295</td>\n",
       "      <td>002_S_0295_20060418_A1_T1_1.5T_nonaccel_Preproc</td>\n",
       "      <td>45108.0</td>\n",
       "      <td>/nas/bioint-data/neuroimaging-data/ADNI/Organi...</td>\n",
       "      <td>yes</td>\n",
       "      <td>/nas/bioint-data/neuroimaging-data/ADNI/6DOF/0...</td>\n",
       "      <td>/nas/bioint-data/neuroimaging-data/ADNI/6DOF/0...</td>\n",
       "      <td>/nas/bioint-data/neuroimaging-data/ADNI/6DOF/0...</td>\n",
       "      <td>/nas/bioint-data/neuroimaging-data/ADNI/6DOF/0...</td>\n",
       "      <td>...</td>\n",
       "      <td>NaN</td>\n",
       "      <td>NaN</td>\n",
       "      <td>NaN</td>\n",
       "      <td>NaN</td>\n",
       "      <td>NaN</td>\n",
       "      <td>NaN</td>\n",
       "      <td>NaN</td>\n",
       "      <td>NaN</td>\n",
       "      <td>NaN</td>\n",
       "      <td>NaN</td>\n",
       "    </tr>\n",
       "    <tr>\n",
       "      <th>1</th>\n",
       "      <td>002_S_0295</td>\n",
       "      <td>295</td>\n",
       "      <td>002_S_0295_20061102_A1_T1_1.5T_nonaccel_Preproc</td>\n",
       "      <td>40966.0</td>\n",
       "      <td>/nas/bioint-data/neuroimaging-data/ADNI/Organi...</td>\n",
       "      <td>yes</td>\n",
       "      <td>/nas/bioint-data/neuroimaging-data/ADNI/6DOF/0...</td>\n",
       "      <td>/nas/bioint-data/neuroimaging-data/ADNI/6DOF/0...</td>\n",
       "      <td>/nas/bioint-data/neuroimaging-data/ADNI/6DOF/0...</td>\n",
       "      <td>/nas/bioint-data/neuroimaging-data/ADNI/6DOF/0...</td>\n",
       "      <td>...</td>\n",
       "      <td>NaN</td>\n",
       "      <td>NaN</td>\n",
       "      <td>NaN</td>\n",
       "      <td>NaN</td>\n",
       "      <td>NaN</td>\n",
       "      <td>NaN</td>\n",
       "      <td>NaN</td>\n",
       "      <td>NaN</td>\n",
       "      <td>NaN</td>\n",
       "      <td>NaN</td>\n",
       "    </tr>\n",
       "    <tr>\n",
       "      <th>2</th>\n",
       "      <td>002_S_0295</td>\n",
       "      <td>295</td>\n",
       "      <td>002_S_0295_20070525_A1_T1_1.5T_nonaccel_Preproc</td>\n",
       "      <td>64025.0</td>\n",
       "      <td>/nas/bioint-data/neuroimaging-data/ADNI/Organi...</td>\n",
       "      <td>yes</td>\n",
       "      <td>/nas/bioint-data/neuroimaging-data/ADNI/6DOF/0...</td>\n",
       "      <td>/nas/bioint-data/neuroimaging-data/ADNI/6DOF/0...</td>\n",
       "      <td>/nas/bioint-data/neuroimaging-data/ADNI/6DOF/0...</td>\n",
       "      <td>/nas/bioint-data/neuroimaging-data/ADNI/6DOF/0...</td>\n",
       "      <td>...</td>\n",
       "      <td>NaN</td>\n",
       "      <td>NaN</td>\n",
       "      <td>NaN</td>\n",
       "      <td>NaN</td>\n",
       "      <td>NaN</td>\n",
       "      <td>NaN</td>\n",
       "      <td>NaN</td>\n",
       "      <td>NaN</td>\n",
       "      <td>NaN</td>\n",
       "      <td>NaN</td>\n",
       "    </tr>\n",
       "    <tr>\n",
       "      <th>3</th>\n",
       "      <td>002_S_0295</td>\n",
       "      <td>295</td>\n",
       "      <td>002_S_0295_20080723_A1_T1_1.5T_nonaccel_Preproc</td>\n",
       "      <td>123685.0</td>\n",
       "      <td>/nas/bioint-data/neuroimaging-data/ADNI/Organi...</td>\n",
       "      <td>yes</td>\n",
       "      <td>/nas/bioint-data/neuroimaging-data/ADNI/6DOF/0...</td>\n",
       "      <td>/nas/bioint-data/neuroimaging-data/ADNI/6DOF/0...</td>\n",
       "      <td>/nas/bioint-data/neuroimaging-data/ADNI/6DOF/0...</td>\n",
       "      <td>/nas/bioint-data/neuroimaging-data/ADNI/6DOF/0...</td>\n",
       "      <td>...</td>\n",
       "      <td>NaN</td>\n",
       "      <td>NaN</td>\n",
       "      <td>NaN</td>\n",
       "      <td>NaN</td>\n",
       "      <td>NaN</td>\n",
       "      <td>NaN</td>\n",
       "      <td>NaN</td>\n",
       "      <td>NaN</td>\n",
       "      <td>NaN</td>\n",
       "      <td>NaN</td>\n",
       "    </tr>\n",
       "    <tr>\n",
       "      <th>4</th>\n",
       "      <td>002_S_0295</td>\n",
       "      <td>295</td>\n",
       "      <td>002_S_0295_20090522_A1_T1_1.5T_nonaccel_Preproc</td>\n",
       "      <td>150177.0</td>\n",
       "      <td>/nas/bioint-data/neuroimaging-data/ADNI/Organi...</td>\n",
       "      <td>yes</td>\n",
       "      <td>/nas/bioint-data/neuroimaging-data/ADNI/6DOF/0...</td>\n",
       "      <td>/nas/bioint-data/neuroimaging-data/ADNI/6DOF/0...</td>\n",
       "      <td>/nas/bioint-data/neuroimaging-data/ADNI/6DOF/0...</td>\n",
       "      <td>/nas/bioint-data/neuroimaging-data/ADNI/6DOF/0...</td>\n",
       "      <td>...</td>\n",
       "      <td>NaN</td>\n",
       "      <td>NaN</td>\n",
       "      <td>NaN</td>\n",
       "      <td>NaN</td>\n",
       "      <td>NaN</td>\n",
       "      <td>NaN</td>\n",
       "      <td>NaN</td>\n",
       "      <td>NaN</td>\n",
       "      <td>NaN</td>\n",
       "      <td>NaN</td>\n",
       "    </tr>\n",
       "    <tr>\n",
       "      <th>5</th>\n",
       "      <td>002_S_0295</td>\n",
       "      <td>295</td>\n",
       "      <td>002_S_0295_20100513_A1_T1_1.5T_nonaccel_Preproc</td>\n",
       "      <td>291869.0</td>\n",
       "      <td>/nas/bioint-data/neuroimaging-data/ADNI/Organi...</td>\n",
       "      <td>yes</td>\n",
       "      <td>/nas/bioint-data/neuroimaging-data/ADNI/6DOF/0...</td>\n",
       "      <td>/nas/bioint-data/neuroimaging-data/ADNI/6DOF/0...</td>\n",
       "      <td>/nas/bioint-data/neuroimaging-data/ADNI/6DOF/0...</td>\n",
       "      <td>/nas/bioint-data/neuroimaging-data/ADNI/6DOF/0...</td>\n",
       "      <td>...</td>\n",
       "      <td>NaN</td>\n",
       "      <td>NaN</td>\n",
       "      <td>NaN</td>\n",
       "      <td>NaN</td>\n",
       "      <td>NaN</td>\n",
       "      <td>NaN</td>\n",
       "      <td>NaN</td>\n",
       "      <td>NaN</td>\n",
       "      <td>NaN</td>\n",
       "      <td>NaN</td>\n",
       "    </tr>\n",
       "    <tr>\n",
       "      <th>6</th>\n",
       "      <td>002_S_0295</td>\n",
       "      <td>295</td>\n",
       "      <td>002_S_0295_20110602_A2_T1_3T_nonaccel_Preproc</td>\n",
       "      <td>241350.0</td>\n",
       "      <td>/nas/bioint-data/neuroimaging-data/ADNI/Organi...</td>\n",
       "      <td>yes</td>\n",
       "      <td>/nas/bioint-data/neuroimaging-data/ADNI/6DOF/0...</td>\n",
       "      <td>/nas/bioint-data/neuroimaging-data/ADNI/6DOF/0...</td>\n",
       "      <td>/nas/bioint-data/neuroimaging-data/ADNI/6DOF/0...</td>\n",
       "      <td>/nas/bioint-data/neuroimaging-data/ADNI/6DOF/0...</td>\n",
       "      <td>...</td>\n",
       "      <td>NaN</td>\n",
       "      <td>NaN</td>\n",
       "      <td>NaN</td>\n",
       "      <td>NaN</td>\n",
       "      <td>NaN</td>\n",
       "      <td>NaN</td>\n",
       "      <td>NaN</td>\n",
       "      <td>NaN</td>\n",
       "      <td>NaN</td>\n",
       "      <td>NaN</td>\n",
       "    </tr>\n",
       "    <tr>\n",
       "      <th>7</th>\n",
       "      <td>002_S_0295</td>\n",
       "      <td>295</td>\n",
       "      <td>002_S_0295_20120510_A2_T1_3T_nonaccel_Preproc</td>\n",
       "      <td>308078.0</td>\n",
       "      <td>/nas/bioint-data/neuroimaging-data/ADNI/Organi...</td>\n",
       "      <td>yes</td>\n",
       "      <td>/nas/bioint-data/neuroimaging-data/ADNI/6DOF/0...</td>\n",
       "      <td>/nas/bioint-data/neuroimaging-data/ADNI/6DOF/0...</td>\n",
       "      <td>/nas/bioint-data/neuroimaging-data/ADNI/6DOF/0...</td>\n",
       "      <td>/nas/bioint-data/neuroimaging-data/ADNI/6DOF/0...</td>\n",
       "      <td>...</td>\n",
       "      <td>NaN</td>\n",
       "      <td>NaN</td>\n",
       "      <td>NaN</td>\n",
       "      <td>NaN</td>\n",
       "      <td>NaN</td>\n",
       "      <td>NaN</td>\n",
       "      <td>NaN</td>\n",
       "      <td>NaN</td>\n",
       "      <td>NaN</td>\n",
       "      <td>NaN</td>\n",
       "    </tr>\n",
       "    <tr>\n",
       "      <th>8</th>\n",
       "      <td>002_S_0413</td>\n",
       "      <td>413</td>\n",
       "      <td>NaN</td>\n",
       "      <td>NaN</td>\n",
       "      <td>NaN</td>\n",
       "      <td>NaN</td>\n",
       "      <td>NaN</td>\n",
       "      <td>NaN</td>\n",
       "      <td>NaN</td>\n",
       "      <td>NaN</td>\n",
       "      <td>...</td>\n",
       "      <td>/nas/bioint-data/neuroimaging-data/ADNI/Organi...</td>\n",
       "      <td>/nas/bioint-data/neuroimaging-data/ADNI/Organi...</td>\n",
       "      <td>/nas/bioint-data/neuroimaging-data/ADNI/Organi...</td>\n",
       "      <td>/nas/bioint-data/neuroimaging-data/ADNI/Organi...</td>\n",
       "      <td>/nas/bioint-data/neuroimaging-data/ADNI/Organi...</td>\n",
       "      <td>/nas/bioint-data/neuroimaging-data/ADNI/Organi...</td>\n",
       "      <td>/nas/bioint-data/neuroimaging-data/ADNI/Organi...</td>\n",
       "      <td>/nas/bioint-data/neuroimaging-data/ADNI/Organi...</td>\n",
       "      <td>/nas/bioint-data/neuroimaging-data/ADNI/Organi...</td>\n",
       "      <td>ADNI3</td>\n",
       "    </tr>\n",
       "    <tr>\n",
       "      <th>9</th>\n",
       "      <td>002_S_0413</td>\n",
       "      <td>413</td>\n",
       "      <td>002_S_0413_20150609_A2_T1_3T_nonaccel_Preproc</td>\n",
       "      <td>649030.0</td>\n",
       "      <td>/nas/bioint-data/neuroimaging-data/ADNI/Organi...</td>\n",
       "      <td>yes</td>\n",
       "      <td>/nas/bioint-data/neuroimaging-data/ADNI/6DOF/0...</td>\n",
       "      <td>/nas/bioint-data/neuroimaging-data/ADNI/6DOF/0...</td>\n",
       "      <td>/nas/bioint-data/neuroimaging-data/ADNI/6DOF/0...</td>\n",
       "      <td>/nas/bioint-data/neuroimaging-data/ADNI/6DOF/0...</td>\n",
       "      <td>...</td>\n",
       "      <td>NaN</td>\n",
       "      <td>NaN</td>\n",
       "      <td>NaN</td>\n",
       "      <td>NaN</td>\n",
       "      <td>NaN</td>\n",
       "      <td>NaN</td>\n",
       "      <td>NaN</td>\n",
       "      <td>NaN</td>\n",
       "      <td>NaN</td>\n",
       "      <td>NaN</td>\n",
       "    </tr>\n",
       "    <tr>\n",
       "      <th>10</th>\n",
       "      <td>002_S_0413</td>\n",
       "      <td>413</td>\n",
       "      <td>002_S_0413_20140501_A2_T1_3T_nonaccel_Preproc</td>\n",
       "      <td>424741.0</td>\n",
       "      <td>/nas/bioint-data/neuroimaging-data/ADNI/Organi...</td>\n",
       "      <td>yes</td>\n",
       "      <td>/nas/bioint-data/neuroimaging-data/ADNI/6DOF/0...</td>\n",
       "      <td>/nas/bioint-data/neuroimaging-data/ADNI/6DOF/0...</td>\n",
       "      <td>/nas/bioint-data/neuroimaging-data/ADNI/6DOF/0...</td>\n",
       "      <td>/nas/bioint-data/neuroimaging-data/ADNI/6DOF/0...</td>\n",
       "      <td>...</td>\n",
       "      <td>NaN</td>\n",
       "      <td>NaN</td>\n",
       "      <td>NaN</td>\n",
       "      <td>NaN</td>\n",
       "      <td>NaN</td>\n",
       "      <td>NaN</td>\n",
       "      <td>NaN</td>\n",
       "      <td>NaN</td>\n",
       "      <td>NaN</td>\n",
       "      <td>NaN</td>\n",
       "    </tr>\n",
       "    <tr>\n",
       "      <th>11</th>\n",
       "      <td>002_S_0413</td>\n",
       "      <td>413</td>\n",
       "      <td>002_S_0413_20130510_A2_T1_3T_nonaccel_Preproc</td>\n",
       "      <td>373133.0</td>\n",
       "      <td>/nas/bioint-data/neuroimaging-data/ADNI/Organi...</td>\n",
       "      <td>yes</td>\n",
       "      <td>/nas/bioint-data/neuroimaging-data/ADNI/6DOF/0...</td>\n",
       "      <td>/nas/bioint-data/neuroimaging-data/ADNI/6DOF/0...</td>\n",
       "      <td>/nas/bioint-data/neuroimaging-data/ADNI/6DOF/0...</td>\n",
       "      <td>/nas/bioint-data/neuroimaging-data/ADNI/6DOF/0...</td>\n",
       "      <td>...</td>\n",
       "      <td>NaN</td>\n",
       "      <td>NaN</td>\n",
       "      <td>NaN</td>\n",
       "      <td>NaN</td>\n",
       "      <td>NaN</td>\n",
       "      <td>NaN</td>\n",
       "      <td>NaN</td>\n",
       "      <td>NaN</td>\n",
       "      <td>NaN</td>\n",
       "      <td>NaN</td>\n",
       "    </tr>\n",
       "    <tr>\n",
       "      <th>12</th>\n",
       "      <td>002_S_0413</td>\n",
       "      <td>413</td>\n",
       "      <td>002_S_0413_20120515_A2_T1_3T_nonaccel_Preproc</td>\n",
       "      <td>312701.0</td>\n",
       "      <td>/nas/bioint-data/neuroimaging-data/ADNI/Organi...</td>\n",
       "      <td>yes</td>\n",
       "      <td>/nas/bioint-data/neuroimaging-data/ADNI/6DOF/0...</td>\n",
       "      <td>/nas/bioint-data/neuroimaging-data/ADNI/6DOF/0...</td>\n",
       "      <td>/nas/bioint-data/neuroimaging-data/ADNI/6DOF/0...</td>\n",
       "      <td>/nas/bioint-data/neuroimaging-data/ADNI/6DOF/0...</td>\n",
       "      <td>...</td>\n",
       "      <td>NaN</td>\n",
       "      <td>NaN</td>\n",
       "      <td>NaN</td>\n",
       "      <td>NaN</td>\n",
       "      <td>NaN</td>\n",
       "      <td>NaN</td>\n",
       "      <td>NaN</td>\n",
       "      <td>NaN</td>\n",
       "      <td>NaN</td>\n",
       "      <td>NaN</td>\n",
       "    </tr>\n",
       "    <tr>\n",
       "      <th>13</th>\n",
       "      <td>002_S_0413</td>\n",
       "      <td>413</td>\n",
       "      <td>002_S_0413_20110616_A2_T1_3T_nonaccel_Preproc</td>\n",
       "      <td>242895.0</td>\n",
       "      <td>/nas/bioint-data/neuroimaging-data/ADNI/Organi...</td>\n",
       "      <td>yes</td>\n",
       "      <td>/nas/bioint-data/neuroimaging-data/ADNI/6DOF/0...</td>\n",
       "      <td>/nas/bioint-data/neuroimaging-data/ADNI/6DOF/0...</td>\n",
       "      <td>/nas/bioint-data/neuroimaging-data/ADNI/6DOF/0...</td>\n",
       "      <td>/nas/bioint-data/neuroimaging-data/ADNI/6DOF/0...</td>\n",
       "      <td>...</td>\n",
       "      <td>NaN</td>\n",
       "      <td>NaN</td>\n",
       "      <td>NaN</td>\n",
       "      <td>NaN</td>\n",
       "      <td>NaN</td>\n",
       "      <td>NaN</td>\n",
       "      <td>NaN</td>\n",
       "      <td>NaN</td>\n",
       "      <td>NaN</td>\n",
       "      <td>NaN</td>\n",
       "    </tr>\n",
       "    <tr>\n",
       "      <th>14</th>\n",
       "      <td>002_S_0413</td>\n",
       "      <td>413</td>\n",
       "      <td>NaN</td>\n",
       "      <td>NaN</td>\n",
       "      <td>NaN</td>\n",
       "      <td>NaN</td>\n",
       "      <td>NaN</td>\n",
       "      <td>NaN</td>\n",
       "      <td>NaN</td>\n",
       "      <td>NaN</td>\n",
       "      <td>...</td>\n",
       "      <td>/nas/bioint-data/neuroimaging-data/ADNI/Organi...</td>\n",
       "      <td>/nas/bioint-data/neuroimaging-data/ADNI/Organi...</td>\n",
       "      <td>/nas/bioint-data/neuroimaging-data/ADNI/Organi...</td>\n",
       "      <td>/nas/bioint-data/neuroimaging-data/ADNI/Organi...</td>\n",
       "      <td>/nas/bioint-data/neuroimaging-data/ADNI/Organi...</td>\n",
       "      <td>/nas/bioint-data/neuroimaging-data/ADNI/Organi...</td>\n",
       "      <td>/nas/bioint-data/neuroimaging-data/ADNI/Organi...</td>\n",
       "      <td>/nas/bioint-data/neuroimaging-data/ADNI/Organi...</td>\n",
       "      <td>/nas/bioint-data/neuroimaging-data/ADNI/Organi...</td>\n",
       "      <td>ADNI3</td>\n",
       "    </tr>\n",
       "    <tr>\n",
       "      <th>15</th>\n",
       "      <td>002_S_0413</td>\n",
       "      <td>413</td>\n",
       "      <td>002_S_0413_20090504_A1_T1_1.5T_nonaccel_Preproc</td>\n",
       "      <td>149740.0</td>\n",
       "      <td>/nas/bioint-data/neuroimaging-data/ADNI/Organi...</td>\n",
       "      <td>yes</td>\n",
       "      <td>/nas/bioint-data/neuroimaging-data/ADNI/6DOF/0...</td>\n",
       "      <td>/nas/bioint-data/neuroimaging-data/ADNI/6DOF/0...</td>\n",
       "      <td>/nas/bioint-data/neuroimaging-data/ADNI/6DOF/0...</td>\n",
       "      <td>/nas/bioint-data/neuroimaging-data/ADNI/6DOF/0...</td>\n",
       "      <td>...</td>\n",
       "      <td>NaN</td>\n",
       "      <td>NaN</td>\n",
       "      <td>NaN</td>\n",
       "      <td>NaN</td>\n",
       "      <td>NaN</td>\n",
       "      <td>NaN</td>\n",
       "      <td>NaN</td>\n",
       "      <td>NaN</td>\n",
       "      <td>NaN</td>\n",
       "      <td>NaN</td>\n",
       "    </tr>\n",
       "    <tr>\n",
       "      <th>16</th>\n",
       "      <td>002_S_0413</td>\n",
       "      <td>413</td>\n",
       "      <td>002_S_0413_20080731_A1_T1_1.5T_nonaccel_Preproc</td>\n",
       "      <td>120917.0</td>\n",
       "      <td>/nas/bioint-data/neuroimaging-data/ADNI/Organi...</td>\n",
       "      <td>yes</td>\n",
       "      <td>/nas/bioint-data/neuroimaging-data/ADNI/6DOF/0...</td>\n",
       "      <td>/nas/bioint-data/neuroimaging-data/ADNI/6DOF/0...</td>\n",
       "      <td>/nas/bioint-data/neuroimaging-data/ADNI/6DOF/0...</td>\n",
       "      <td>/nas/bioint-data/neuroimaging-data/ADNI/6DOF/0...</td>\n",
       "      <td>...</td>\n",
       "      <td>NaN</td>\n",
       "      <td>NaN</td>\n",
       "      <td>NaN</td>\n",
       "      <td>NaN</td>\n",
       "      <td>NaN</td>\n",
       "      <td>NaN</td>\n",
       "      <td>NaN</td>\n",
       "      <td>NaN</td>\n",
       "      <td>NaN</td>\n",
       "      <td>NaN</td>\n",
       "    </tr>\n",
       "    <tr>\n",
       "      <th>17</th>\n",
       "      <td>002_S_0413</td>\n",
       "      <td>413</td>\n",
       "      <td>002_S_0413_20070601_A1_T1_1.5T_nonaccel_Preproc</td>\n",
       "      <td>60008.0</td>\n",
       "      <td>/nas/bioint-data/neuroimaging-data/ADNI/Organi...</td>\n",
       "      <td>yes</td>\n",
       "      <td>/nas/bioint-data/neuroimaging-data/ADNI/6DOF/0...</td>\n",
       "      <td>/nas/bioint-data/neuroimaging-data/ADNI/6DOF/0...</td>\n",
       "      <td>/nas/bioint-data/neuroimaging-data/ADNI/6DOF/0...</td>\n",
       "      <td>/nas/bioint-data/neuroimaging-data/ADNI/6DOF/0...</td>\n",
       "      <td>...</td>\n",
       "      <td>NaN</td>\n",
       "      <td>NaN</td>\n",
       "      <td>NaN</td>\n",
       "      <td>NaN</td>\n",
       "      <td>NaN</td>\n",
       "      <td>NaN</td>\n",
       "      <td>NaN</td>\n",
       "      <td>NaN</td>\n",
       "      <td>NaN</td>\n",
       "      <td>NaN</td>\n",
       "    </tr>\n",
       "    <tr>\n",
       "      <th>18</th>\n",
       "      <td>002_S_0413</td>\n",
       "      <td>413</td>\n",
       "      <td>002_S_0413_20061115_A1_T1_1.5T_nonaccel_Preproc</td>\n",
       "      <td>79122.0</td>\n",
       "      <td>/nas/bioint-data/neuroimaging-data/ADNI/Organi...</td>\n",
       "      <td>yes</td>\n",
       "      <td>/nas/bioint-data/neuroimaging-data/ADNI/6DOF/0...</td>\n",
       "      <td>/nas/bioint-data/neuroimaging-data/ADNI/6DOF/0...</td>\n",
       "      <td>/nas/bioint-data/neuroimaging-data/ADNI/6DOF/0...</td>\n",
       "      <td>/nas/bioint-data/neuroimaging-data/ADNI/6DOF/0...</td>\n",
       "      <td>...</td>\n",
       "      <td>NaN</td>\n",
       "      <td>NaN</td>\n",
       "      <td>NaN</td>\n",
       "      <td>NaN</td>\n",
       "      <td>NaN</td>\n",
       "      <td>NaN</td>\n",
       "      <td>NaN</td>\n",
       "      <td>NaN</td>\n",
       "      <td>NaN</td>\n",
       "      <td>NaN</td>\n",
       "    </tr>\n",
       "    <tr>\n",
       "      <th>19</th>\n",
       "      <td>002_S_0413</td>\n",
       "      <td>413</td>\n",
       "      <td>002_S_0413_20100506_A1_T1_1.5T_nonaccel_Preproc</td>\n",
       "      <td>291873.0</td>\n",
       "      <td>/nas/bioint-data/neuroimaging-data/ADNI/Organi...</td>\n",
       "      <td>yes</td>\n",
       "      <td>/nas/bioint-data/neuroimaging-data/ADNI/6DOF/0...</td>\n",
       "      <td>/nas/bioint-data/neuroimaging-data/ADNI/6DOF/0...</td>\n",
       "      <td>/nas/bioint-data/neuroimaging-data/ADNI/6DOF/0...</td>\n",
       "      <td>/nas/bioint-data/neuroimaging-data/ADNI/6DOF/0...</td>\n",
       "      <td>...</td>\n",
       "      <td>NaN</td>\n",
       "      <td>NaN</td>\n",
       "      <td>NaN</td>\n",
       "      <td>NaN</td>\n",
       "      <td>NaN</td>\n",
       "      <td>NaN</td>\n",
       "      <td>NaN</td>\n",
       "      <td>NaN</td>\n",
       "      <td>NaN</td>\n",
       "      <td>NaN</td>\n",
       "    </tr>\n",
       "  </tbody>\n",
       "</table>\n",
       "<p>20 rows × 121 columns</p>\n",
       "</div>"
      ],
      "text/plain": [
       "        SubjID  RID                        NONACCEL_T1_SCAN_FILENAME  \\\n",
       "0   002_S_0295  295  002_S_0295_20060418_A1_T1_1.5T_nonaccel_Preproc   \n",
       "1   002_S_0295  295  002_S_0295_20061102_A1_T1_1.5T_nonaccel_Preproc   \n",
       "2   002_S_0295  295  002_S_0295_20070525_A1_T1_1.5T_nonaccel_Preproc   \n",
       "3   002_S_0295  295  002_S_0295_20080723_A1_T1_1.5T_nonaccel_Preproc   \n",
       "4   002_S_0295  295  002_S_0295_20090522_A1_T1_1.5T_nonaccel_Preproc   \n",
       "5   002_S_0295  295  002_S_0295_20100513_A1_T1_1.5T_nonaccel_Preproc   \n",
       "6   002_S_0295  295    002_S_0295_20110602_A2_T1_3T_nonaccel_Preproc   \n",
       "7   002_S_0295  295    002_S_0295_20120510_A2_T1_3T_nonaccel_Preproc   \n",
       "8   002_S_0413  413                                              NaN   \n",
       "9   002_S_0413  413    002_S_0413_20150609_A2_T1_3T_nonaccel_Preproc   \n",
       "10  002_S_0413  413    002_S_0413_20140501_A2_T1_3T_nonaccel_Preproc   \n",
       "11  002_S_0413  413    002_S_0413_20130510_A2_T1_3T_nonaccel_Preproc   \n",
       "12  002_S_0413  413    002_S_0413_20120515_A2_T1_3T_nonaccel_Preproc   \n",
       "13  002_S_0413  413    002_S_0413_20110616_A2_T1_3T_nonaccel_Preproc   \n",
       "14  002_S_0413  413                                              NaN   \n",
       "15  002_S_0413  413  002_S_0413_20090504_A1_T1_1.5T_nonaccel_Preproc   \n",
       "16  002_S_0413  413  002_S_0413_20080731_A1_T1_1.5T_nonaccel_Preproc   \n",
       "17  002_S_0413  413  002_S_0413_20070601_A1_T1_1.5T_nonaccel_Preproc   \n",
       "18  002_S_0413  413  002_S_0413_20061115_A1_T1_1.5T_nonaccel_Preproc   \n",
       "19  002_S_0413  413  002_S_0413_20100506_A1_T1_1.5T_nonaccel_Preproc   \n",
       "\n",
       "    NONACCEL_T1_IMAGEID                         NONACCEL_Path to RAW nifti  \\\n",
       "0               45108.0  /nas/bioint-data/neuroimaging-data/ADNI/Organi...   \n",
       "1               40966.0  /nas/bioint-data/neuroimaging-data/ADNI/Organi...   \n",
       "2               64025.0  /nas/bioint-data/neuroimaging-data/ADNI/Organi...   \n",
       "3              123685.0  /nas/bioint-data/neuroimaging-data/ADNI/Organi...   \n",
       "4              150177.0  /nas/bioint-data/neuroimaging-data/ADNI/Organi...   \n",
       "5              291869.0  /nas/bioint-data/neuroimaging-data/ADNI/Organi...   \n",
       "6              241350.0  /nas/bioint-data/neuroimaging-data/ADNI/Organi...   \n",
       "7              308078.0  /nas/bioint-data/neuroimaging-data/ADNI/Organi...   \n",
       "8                   NaN                                                NaN   \n",
       "9              649030.0  /nas/bioint-data/neuroimaging-data/ADNI/Organi...   \n",
       "10             424741.0  /nas/bioint-data/neuroimaging-data/ADNI/Organi...   \n",
       "11             373133.0  /nas/bioint-data/neuroimaging-data/ADNI/Organi...   \n",
       "12             312701.0  /nas/bioint-data/neuroimaging-data/ADNI/Organi...   \n",
       "13             242895.0  /nas/bioint-data/neuroimaging-data/ADNI/Organi...   \n",
       "14                  NaN                                                NaN   \n",
       "15             149740.0  /nas/bioint-data/neuroimaging-data/ADNI/Organi...   \n",
       "16             120917.0  /nas/bioint-data/neuroimaging-data/ADNI/Organi...   \n",
       "17              60008.0  /nas/bioint-data/neuroimaging-data/ADNI/Organi...   \n",
       "18              79122.0  /nas/bioint-data/neuroimaging-data/ADNI/Organi...   \n",
       "19             291873.0  /nas/bioint-data/neuroimaging-data/ADNI/Organi...   \n",
       "\n",
       "   NONACCEL_Preprocessed for DL?  \\\n",
       "0                            yes   \n",
       "1                            yes   \n",
       "2                            yes   \n",
       "3                            yes   \n",
       "4                            yes   \n",
       "5                            yes   \n",
       "6                            yes   \n",
       "7                            yes   \n",
       "8                            NaN   \n",
       "9                            yes   \n",
       "10                           yes   \n",
       "11                           yes   \n",
       "12                           yes   \n",
       "13                           yes   \n",
       "14                           NaN   \n",
       "15                           yes   \n",
       "16                           yes   \n",
       "17                           yes   \n",
       "18                           yes   \n",
       "19                           yes   \n",
       "\n",
       "                              NONACCEL_DL_6DOF_2MM_T1  \\\n",
       "0   /nas/bioint-data/neuroimaging-data/ADNI/6DOF/0...   \n",
       "1   /nas/bioint-data/neuroimaging-data/ADNI/6DOF/0...   \n",
       "2   /nas/bioint-data/neuroimaging-data/ADNI/6DOF/0...   \n",
       "3   /nas/bioint-data/neuroimaging-data/ADNI/6DOF/0...   \n",
       "4   /nas/bioint-data/neuroimaging-data/ADNI/6DOF/0...   \n",
       "5   /nas/bioint-data/neuroimaging-data/ADNI/6DOF/0...   \n",
       "6   /nas/bioint-data/neuroimaging-data/ADNI/6DOF/0...   \n",
       "7   /nas/bioint-data/neuroimaging-data/ADNI/6DOF/0...   \n",
       "8                                                 NaN   \n",
       "9   /nas/bioint-data/neuroimaging-data/ADNI/6DOF/0...   \n",
       "10  /nas/bioint-data/neuroimaging-data/ADNI/6DOF/0...   \n",
       "11  /nas/bioint-data/neuroimaging-data/ADNI/6DOF/0...   \n",
       "12  /nas/bioint-data/neuroimaging-data/ADNI/6DOF/0...   \n",
       "13  /nas/bioint-data/neuroimaging-data/ADNI/6DOF/0...   \n",
       "14                                                NaN   \n",
       "15  /nas/bioint-data/neuroimaging-data/ADNI/6DOF/0...   \n",
       "16  /nas/bioint-data/neuroimaging-data/ADNI/6DOF/0...   \n",
       "17  /nas/bioint-data/neuroimaging-data/ADNI/6DOF/0...   \n",
       "18  /nas/bioint-data/neuroimaging-data/ADNI/6DOF/0...   \n",
       "19  /nas/bioint-data/neuroimaging-data/ADNI/6DOF/0...   \n",
       "\n",
       "                            NONACCEL_DL_6DOF_2MM_MASK  \\\n",
       "0   /nas/bioint-data/neuroimaging-data/ADNI/6DOF/0...   \n",
       "1   /nas/bioint-data/neuroimaging-data/ADNI/6DOF/0...   \n",
       "2   /nas/bioint-data/neuroimaging-data/ADNI/6DOF/0...   \n",
       "3   /nas/bioint-data/neuroimaging-data/ADNI/6DOF/0...   \n",
       "4   /nas/bioint-data/neuroimaging-data/ADNI/6DOF/0...   \n",
       "5   /nas/bioint-data/neuroimaging-data/ADNI/6DOF/0...   \n",
       "6   /nas/bioint-data/neuroimaging-data/ADNI/6DOF/0...   \n",
       "7   /nas/bioint-data/neuroimaging-data/ADNI/6DOF/0...   \n",
       "8                                                 NaN   \n",
       "9   /nas/bioint-data/neuroimaging-data/ADNI/6DOF/0...   \n",
       "10  /nas/bioint-data/neuroimaging-data/ADNI/6DOF/0...   \n",
       "11  /nas/bioint-data/neuroimaging-data/ADNI/6DOF/0...   \n",
       "12  /nas/bioint-data/neuroimaging-data/ADNI/6DOF/0...   \n",
       "13  /nas/bioint-data/neuroimaging-data/ADNI/6DOF/0...   \n",
       "14                                                NaN   \n",
       "15  /nas/bioint-data/neuroimaging-data/ADNI/6DOF/0...   \n",
       "16  /nas/bioint-data/neuroimaging-data/ADNI/6DOF/0...   \n",
       "17  /nas/bioint-data/neuroimaging-data/ADNI/6DOF/0...   \n",
       "18  /nas/bioint-data/neuroimaging-data/ADNI/6DOF/0...   \n",
       "19  /nas/bioint-data/neuroimaging-data/ADNI/6DOF/0...   \n",
       "\n",
       "                              NONACCEL_DL_6DOF_2MM_GM  \\\n",
       "0   /nas/bioint-data/neuroimaging-data/ADNI/6DOF/0...   \n",
       "1   /nas/bioint-data/neuroimaging-data/ADNI/6DOF/0...   \n",
       "2   /nas/bioint-data/neuroimaging-data/ADNI/6DOF/0...   \n",
       "3   /nas/bioint-data/neuroimaging-data/ADNI/6DOF/0...   \n",
       "4   /nas/bioint-data/neuroimaging-data/ADNI/6DOF/0...   \n",
       "5   /nas/bioint-data/neuroimaging-data/ADNI/6DOF/0...   \n",
       "6   /nas/bioint-data/neuroimaging-data/ADNI/6DOF/0...   \n",
       "7   /nas/bioint-data/neuroimaging-data/ADNI/6DOF/0...   \n",
       "8                                                 NaN   \n",
       "9   /nas/bioint-data/neuroimaging-data/ADNI/6DOF/0...   \n",
       "10  /nas/bioint-data/neuroimaging-data/ADNI/6DOF/0...   \n",
       "11  /nas/bioint-data/neuroimaging-data/ADNI/6DOF/0...   \n",
       "12  /nas/bioint-data/neuroimaging-data/ADNI/6DOF/0...   \n",
       "13  /nas/bioint-data/neuroimaging-data/ADNI/6DOF/0...   \n",
       "14                                                NaN   \n",
       "15  /nas/bioint-data/neuroimaging-data/ADNI/6DOF/0...   \n",
       "16  /nas/bioint-data/neuroimaging-data/ADNI/6DOF/0...   \n",
       "17  /nas/bioint-data/neuroimaging-data/ADNI/6DOF/0...   \n",
       "18  /nas/bioint-data/neuroimaging-data/ADNI/6DOF/0...   \n",
       "19  /nas/bioint-data/neuroimaging-data/ADNI/6DOF/0...   \n",
       "\n",
       "                              NONACCEL_DL_6DOF_2MM_WM  ...  \\\n",
       "0   /nas/bioint-data/neuroimaging-data/ADNI/6DOF/0...  ...   \n",
       "1   /nas/bioint-data/neuroimaging-data/ADNI/6DOF/0...  ...   \n",
       "2   /nas/bioint-data/neuroimaging-data/ADNI/6DOF/0...  ...   \n",
       "3   /nas/bioint-data/neuroimaging-data/ADNI/6DOF/0...  ...   \n",
       "4   /nas/bioint-data/neuroimaging-data/ADNI/6DOF/0...  ...   \n",
       "5   /nas/bioint-data/neuroimaging-data/ADNI/6DOF/0...  ...   \n",
       "6   /nas/bioint-data/neuroimaging-data/ADNI/6DOF/0...  ...   \n",
       "7   /nas/bioint-data/neuroimaging-data/ADNI/6DOF/0...  ...   \n",
       "8                                                 NaN  ...   \n",
       "9   /nas/bioint-data/neuroimaging-data/ADNI/6DOF/0...  ...   \n",
       "10  /nas/bioint-data/neuroimaging-data/ADNI/6DOF/0...  ...   \n",
       "11  /nas/bioint-data/neuroimaging-data/ADNI/6DOF/0...  ...   \n",
       "12  /nas/bioint-data/neuroimaging-data/ADNI/6DOF/0...  ...   \n",
       "13  /nas/bioint-data/neuroimaging-data/ADNI/6DOF/0...  ...   \n",
       "14                                                NaN  ...   \n",
       "15  /nas/bioint-data/neuroimaging-data/ADNI/6DOF/0...  ...   \n",
       "16  /nas/bioint-data/neuroimaging-data/ADNI/6DOF/0...  ...   \n",
       "17  /nas/bioint-data/neuroimaging-data/ADNI/6DOF/0...  ...   \n",
       "18  /nas/bioint-data/neuroimaging-data/ADNI/6DOF/0...  ...   \n",
       "19  /nas/bioint-data/neuroimaging-data/ADNI/6DOF/0...  ...   \n",
       "\n",
       "             DWI_Matched_File_L1_Path_ENIGMATBSSspace  \\\n",
       "0                                                 NaN   \n",
       "1                                                 NaN   \n",
       "2                                                 NaN   \n",
       "3                                                 NaN   \n",
       "4                                                 NaN   \n",
       "5                                                 NaN   \n",
       "6                                                 NaN   \n",
       "7                                                 NaN   \n",
       "8   /nas/bioint-data/neuroimaging-data/ADNI/Organi...   \n",
       "9                                                 NaN   \n",
       "10                                                NaN   \n",
       "11                                                NaN   \n",
       "12                                                NaN   \n",
       "13                                                NaN   \n",
       "14  /nas/bioint-data/neuroimaging-data/ADNI/Organi...   \n",
       "15                                                NaN   \n",
       "16                                                NaN   \n",
       "17                                                NaN   \n",
       "18                                                NaN   \n",
       "19                                                NaN   \n",
       "\n",
       "             DWI_Matched_File_MD_Path_ENIGMATBSSspace  \\\n",
       "0                                                 NaN   \n",
       "1                                                 NaN   \n",
       "2                                                 NaN   \n",
       "3                                                 NaN   \n",
       "4                                                 NaN   \n",
       "5                                                 NaN   \n",
       "6                                                 NaN   \n",
       "7                                                 NaN   \n",
       "8   /nas/bioint-data/neuroimaging-data/ADNI/Organi...   \n",
       "9                                                 NaN   \n",
       "10                                                NaN   \n",
       "11                                                NaN   \n",
       "12                                                NaN   \n",
       "13                                                NaN   \n",
       "14  /nas/bioint-data/neuroimaging-data/ADNI/Organi...   \n",
       "15                                                NaN   \n",
       "16                                                NaN   \n",
       "17                                                NaN   \n",
       "18                                                NaN   \n",
       "19                                                NaN   \n",
       "\n",
       "             DWI_Matched_File_RD_Path_ENIGMATBSSspace  \\\n",
       "0                                                 NaN   \n",
       "1                                                 NaN   \n",
       "2                                                 NaN   \n",
       "3                                                 NaN   \n",
       "4                                                 NaN   \n",
       "5                                                 NaN   \n",
       "6                                                 NaN   \n",
       "7                                                 NaN   \n",
       "8   /nas/bioint-data/neuroimaging-data/ADNI/Organi...   \n",
       "9                                                 NaN   \n",
       "10                                                NaN   \n",
       "11                                                NaN   \n",
       "12                                                NaN   \n",
       "13                                                NaN   \n",
       "14  /nas/bioint-data/neuroimaging-data/ADNI/Organi...   \n",
       "15                                                NaN   \n",
       "16                                                NaN   \n",
       "17                                                NaN   \n",
       "18                                                NaN   \n",
       "19                                                NaN   \n",
       "\n",
       "                              T1_Path_ENIGMATBSSspace  \\\n",
       "0                                                 NaN   \n",
       "1                                                 NaN   \n",
       "2                                                 NaN   \n",
       "3                                                 NaN   \n",
       "4                                                 NaN   \n",
       "5                                                 NaN   \n",
       "6                                                 NaN   \n",
       "7                                                 NaN   \n",
       "8   /nas/bioint-data/neuroimaging-data/ADNI/Organi...   \n",
       "9                                                 NaN   \n",
       "10                                                NaN   \n",
       "11                                                NaN   \n",
       "12                                                NaN   \n",
       "13                                                NaN   \n",
       "14  /nas/bioint-data/neuroimaging-data/ADNI/Organi...   \n",
       "15                                                NaN   \n",
       "16                                                NaN   \n",
       "17                                                NaN   \n",
       "18                                                NaN   \n",
       "19                                                NaN   \n",
       "\n",
       "         DWI_Matched_File_FA_Path_ENIGMATBSSspace_2MM  \\\n",
       "0                                                 NaN   \n",
       "1                                                 NaN   \n",
       "2                                                 NaN   \n",
       "3                                                 NaN   \n",
       "4                                                 NaN   \n",
       "5                                                 NaN   \n",
       "6                                                 NaN   \n",
       "7                                                 NaN   \n",
       "8   /nas/bioint-data/neuroimaging-data/ADNI/Organi...   \n",
       "9                                                 NaN   \n",
       "10                                                NaN   \n",
       "11                                                NaN   \n",
       "12                                                NaN   \n",
       "13                                                NaN   \n",
       "14  /nas/bioint-data/neuroimaging-data/ADNI/Organi...   \n",
       "15                                                NaN   \n",
       "16                                                NaN   \n",
       "17                                                NaN   \n",
       "18                                                NaN   \n",
       "19                                                NaN   \n",
       "\n",
       "         DWI_Matched_File_L1_Path_ENIGMATBSSspace_2MM  \\\n",
       "0                                                 NaN   \n",
       "1                                                 NaN   \n",
       "2                                                 NaN   \n",
       "3                                                 NaN   \n",
       "4                                                 NaN   \n",
       "5                                                 NaN   \n",
       "6                                                 NaN   \n",
       "7                                                 NaN   \n",
       "8   /nas/bioint-data/neuroimaging-data/ADNI/Organi...   \n",
       "9                                                 NaN   \n",
       "10                                                NaN   \n",
       "11                                                NaN   \n",
       "12                                                NaN   \n",
       "13                                                NaN   \n",
       "14  /nas/bioint-data/neuroimaging-data/ADNI/Organi...   \n",
       "15                                                NaN   \n",
       "16                                                NaN   \n",
       "17                                                NaN   \n",
       "18                                                NaN   \n",
       "19                                                NaN   \n",
       "\n",
       "         DWI_Matched_File_MD_Path_ENIGMATBSSspace_2MM  \\\n",
       "0                                                 NaN   \n",
       "1                                                 NaN   \n",
       "2                                                 NaN   \n",
       "3                                                 NaN   \n",
       "4                                                 NaN   \n",
       "5                                                 NaN   \n",
       "6                                                 NaN   \n",
       "7                                                 NaN   \n",
       "8   /nas/bioint-data/neuroimaging-data/ADNI/Organi...   \n",
       "9                                                 NaN   \n",
       "10                                                NaN   \n",
       "11                                                NaN   \n",
       "12                                                NaN   \n",
       "13                                                NaN   \n",
       "14  /nas/bioint-data/neuroimaging-data/ADNI/Organi...   \n",
       "15                                                NaN   \n",
       "16                                                NaN   \n",
       "17                                                NaN   \n",
       "18                                                NaN   \n",
       "19                                                NaN   \n",
       "\n",
       "         DWI_Matched_File_RD_Path_ENIGMATBSSspace_2MM  \\\n",
       "0                                                 NaN   \n",
       "1                                                 NaN   \n",
       "2                                                 NaN   \n",
       "3                                                 NaN   \n",
       "4                                                 NaN   \n",
       "5                                                 NaN   \n",
       "6                                                 NaN   \n",
       "7                                                 NaN   \n",
       "8   /nas/bioint-data/neuroimaging-data/ADNI/Organi...   \n",
       "9                                                 NaN   \n",
       "10                                                NaN   \n",
       "11                                                NaN   \n",
       "12                                                NaN   \n",
       "13                                                NaN   \n",
       "14  /nas/bioint-data/neuroimaging-data/ADNI/Organi...   \n",
       "15                                                NaN   \n",
       "16                                                NaN   \n",
       "17                                                NaN   \n",
       "18                                                NaN   \n",
       "19                                                NaN   \n",
       "\n",
       "                          T1_Path_ENIGMATBSSspace_2MM  \\\n",
       "0                                                 NaN   \n",
       "1                                                 NaN   \n",
       "2                                                 NaN   \n",
       "3                                                 NaN   \n",
       "4                                                 NaN   \n",
       "5                                                 NaN   \n",
       "6                                                 NaN   \n",
       "7                                                 NaN   \n",
       "8   /nas/bioint-data/neuroimaging-data/ADNI/Organi...   \n",
       "9                                                 NaN   \n",
       "10                                                NaN   \n",
       "11                                                NaN   \n",
       "12                                                NaN   \n",
       "13                                                NaN   \n",
       "14  /nas/bioint-data/neuroimaging-data/ADNI/Organi...   \n",
       "15                                                NaN   \n",
       "16                                                NaN   \n",
       "17                                                NaN   \n",
       "18                                                NaN   \n",
       "19                                                NaN   \n",
       "\n",
       "   DWI Preprocessing Pipeline (old=ADNI2 - new=ADNI3)  \n",
       "0                                                 NaN  \n",
       "1                                                 NaN  \n",
       "2                                                 NaN  \n",
       "3                                                 NaN  \n",
       "4                                                 NaN  \n",
       "5                                                 NaN  \n",
       "6                                                 NaN  \n",
       "7                                                 NaN  \n",
       "8                                               ADNI3  \n",
       "9                                                 NaN  \n",
       "10                                                NaN  \n",
       "11                                                NaN  \n",
       "12                                                NaN  \n",
       "13                                                NaN  \n",
       "14                                              ADNI3  \n",
       "15                                                NaN  \n",
       "16                                                NaN  \n",
       "17                                                NaN  \n",
       "18                                                NaN  \n",
       "19                                                NaN  \n",
       "\n",
       "[20 rows x 121 columns]"
      ]
     },
     "execution_count": 28,
     "metadata": {},
     "output_type": "execute_result"
    }
   ],
   "source": [
    "df = df.reset_index(drop=True)\n",
    "df.head(20)"
   ]
  },
  {
   "cell_type": "code",
   "execution_count": 29,
   "id": "d3b84b4e",
   "metadata": {},
   "outputs": [
    {
     "name": "stdout",
     "output_type": "stream",
     "text": [
      "Num GPUs Available:  1\n"
     ]
    }
   ],
   "source": [
    "import nibabel as nib\n",
    "from tensorflow import keras\n",
    "from tensorflow.keras import layers\n",
    "import random as pyrandom\n",
    "import tensorflow_addons as tfa\n",
    "from tensorflow.keras.preprocessing import image_dataset_from_directory\n",
    "\n",
    "import nibabel as nib\n",
    "from scipy import ndimage\n",
    "import matplotlib.pyplot as plt\n",
    "from sklearn.metrics import roc_curve, precision_recall_curve, accuracy_score, f1_score, precision_score, recall_score, auc, roc_auc_score\n",
    "from sklearn.utils import class_weight\n",
    "from sklearn.metrics import mean_squared_error, mean_absolute_error, r2_score\n",
    "\n",
    "os.environ[\"CUDA_DEVICE_ORDER\"]=\"PCI_BUS_ID\"\n",
    "os.environ[\"CUDA_VISIBLE_DEVICES\"]= \"4\"\n",
    "\n",
    "physical_devices = tf.config.list_physical_devices('GPU')\n",
    "print(\"Num GPUs Available: \", len(physical_devices))\n",
    "tf.config.experimental.set_memory_growth(physical_devices[0], True)"
   ]
  },
  {
   "cell_type": "code",
   "execution_count": 30,
   "id": "01443f26",
   "metadata": {},
   "outputs": [],
   "source": [
    "### Hyperparameter config\n",
    "\n",
    "init_lr = 1e-4\n",
    "epochs = 50\n",
    "early_stop = 100\n",
    "seed = 53\n",
    "drop_out = 0.5\n",
    "weight_decay = 1e-4\n",
    "\n",
    "batch_size=4\n",
    "test_batch_size=4"
   ]
  },
  {
   "cell_type": "code",
   "execution_count": 31,
   "id": "125eb63c",
   "metadata": {},
   "outputs": [
    {
     "name": "stdout",
     "output_type": "stream",
     "text": [
      "Model: \"3DCNN_Metis_T1andDWI\"\n",
      "__________________________________________________________________________________________________\n",
      " Layer (type)                   Output Shape         Param #     Connected to                     \n",
      "==================================================================================================\n",
      " inp0 (InputLayer)              [(None, 91, 109, 91  0           []                               \n",
      "                                , 1)]                                                             \n",
      "                                                                                                  \n",
      " inp1 (InputLayer)              [(None, 91, 109, 91  0           []                               \n",
      "                                , 1)]                                                             \n",
      "                                                                                                  \n",
      " conv3d_12 (Conv3D)             (None, 91, 109, 91,  896         ['inp0[0][0]']                   \n",
      "                                 32)                                                              \n",
      "                                                                                                  \n",
      " conv3d_18 (Conv3D)             (None, 91, 109, 91,  896         ['inp1[0][0]']                   \n",
      "                                 32)                                                              \n",
      "                                                                                                  \n",
      " instance_normalization_12 (Ins  (None, 91, 109, 91,  0          ['conv3d_12[0][0]']              \n",
      " tanceNormalization)             32)                                                              \n",
      "                                                                                                  \n",
      " instance_normalization_18 (Ins  (None, 91, 109, 91,  0          ['conv3d_18[0][0]']              \n",
      " tanceNormalization)             32)                                                              \n",
      "                                                                                                  \n",
      " max_pooling3d_10 (MaxPooling3D  (None, 45, 54, 45,   0          ['instance_normalization_12[0][0]\n",
      " )                              32)                              ']                               \n",
      "                                                                                                  \n",
      " max_pooling3d_15 (MaxPooling3D  (None, 45, 54, 45,   0          ['instance_normalization_18[0][0]\n",
      " )                              32)                              ']                               \n",
      "                                                                                                  \n",
      " tf.nn.relu_12 (TFOpLambda)     (None, 45, 54, 45,   0           ['max_pooling3d_10[0][0]']       \n",
      "                                32)                                                               \n",
      "                                                                                                  \n",
      " tf.nn.relu_18 (TFOpLambda)     (None, 45, 54, 45,   0           ['max_pooling3d_15[0][0]']       \n",
      "                                32)                                                               \n",
      "                                                                                                  \n",
      " conv3d_13 (Conv3D)             (None, 45, 54, 45,   55360       ['tf.nn.relu_12[0][0]']          \n",
      "                                64)                                                               \n",
      "                                                                                                  \n",
      " conv3d_19 (Conv3D)             (None, 45, 54, 45,   55360       ['tf.nn.relu_18[0][0]']          \n",
      "                                64)                                                               \n",
      "                                                                                                  \n",
      " instance_normalization_13 (Ins  (None, 45, 54, 45,   0          ['conv3d_13[0][0]']              \n",
      " tanceNormalization)            64)                                                               \n",
      "                                                                                                  \n",
      " instance_normalization_19 (Ins  (None, 45, 54, 45,   0          ['conv3d_19[0][0]']              \n",
      " tanceNormalization)            64)                                                               \n",
      "                                                                                                  \n",
      " max_pooling3d_11 (MaxPooling3D  (None, 22, 27, 22,   0          ['instance_normalization_13[0][0]\n",
      " )                              64)                              ']                               \n",
      "                                                                                                  \n",
      " max_pooling3d_16 (MaxPooling3D  (None, 22, 27, 22,   0          ['instance_normalization_19[0][0]\n",
      " )                              64)                              ']                               \n",
      "                                                                                                  \n",
      " tf.nn.relu_13 (TFOpLambda)     (None, 22, 27, 22,   0           ['max_pooling3d_11[0][0]']       \n",
      "                                64)                                                               \n",
      "                                                                                                  \n",
      " tf.nn.relu_19 (TFOpLambda)     (None, 22, 27, 22,   0           ['max_pooling3d_16[0][0]']       \n",
      "                                64)                                                               \n",
      "                                                                                                  \n",
      " conv3d_14 (Conv3D)             (None, 22, 27, 22,   221312      ['tf.nn.relu_13[0][0]']          \n",
      "                                128)                                                              \n",
      "                                                                                                  \n",
      " conv3d_20 (Conv3D)             (None, 22, 27, 22,   221312      ['tf.nn.relu_19[0][0]']          \n",
      "                                128)                                                              \n",
      "                                                                                                  \n",
      " instance_normalization_14 (Ins  (None, 22, 27, 22,   0          ['conv3d_14[0][0]']              \n",
      " tanceNormalization)            128)                                                              \n",
      "                                                                                                  \n",
      " instance_normalization_20 (Ins  (None, 22, 27, 22,   0          ['conv3d_20[0][0]']              \n",
      " tanceNormalization)            128)                                                              \n",
      "                                                                                                  \n",
      " max_pooling3d_12 (MaxPooling3D  (None, 11, 13, 11,   0          ['instance_normalization_14[0][0]\n",
      " )                              128)                             ']                               \n",
      "                                                                                                  \n",
      " max_pooling3d_17 (MaxPooling3D  (None, 11, 13, 11,   0          ['instance_normalization_20[0][0]\n",
      " )                              128)                             ']                               \n",
      "                                                                                                  \n",
      " tf.nn.relu_14 (TFOpLambda)     (None, 11, 13, 11,   0           ['max_pooling3d_12[0][0]']       \n",
      "                                128)                                                              \n",
      "                                                                                                  \n",
      " tf.nn.relu_20 (TFOpLambda)     (None, 11, 13, 11,   0           ['max_pooling3d_17[0][0]']       \n",
      "                                128)                                                              \n",
      "                                                                                                  \n",
      " conv3d_15 (Conv3D)             (None, 11, 13, 11,   884992      ['tf.nn.relu_14[0][0]']          \n",
      "                                256)                                                              \n"
     ]
    },
    {
     "name": "stdout",
     "output_type": "stream",
     "text": [
      "                                                                                                  \n",
      " conv3d_21 (Conv3D)             (None, 11, 13, 11,   884992      ['tf.nn.relu_20[0][0]']          \n",
      "                                256)                                                              \n",
      "                                                                                                  \n",
      " instance_normalization_15 (Ins  (None, 11, 13, 11,   0          ['conv3d_15[0][0]']              \n",
      " tanceNormalization)            256)                                                              \n",
      "                                                                                                  \n",
      " instance_normalization_21 (Ins  (None, 11, 13, 11,   0          ['conv3d_21[0][0]']              \n",
      " tanceNormalization)            256)                                                              \n",
      "                                                                                                  \n",
      " max_pooling3d_13 (MaxPooling3D  (None, 5, 6, 5, 256  0          ['instance_normalization_15[0][0]\n",
      " )                              )                                ']                               \n",
      "                                                                                                  \n",
      " max_pooling3d_18 (MaxPooling3D  (None, 5, 6, 5, 256  0          ['instance_normalization_21[0][0]\n",
      " )                              )                                ']                               \n",
      "                                                                                                  \n",
      " tf.nn.relu_15 (TFOpLambda)     (None, 5, 6, 5, 256  0           ['max_pooling3d_13[0][0]']       \n",
      "                                )                                                                 \n",
      "                                                                                                  \n",
      " tf.nn.relu_21 (TFOpLambda)     (None, 5, 6, 5, 256  0           ['max_pooling3d_18[0][0]']       \n",
      "                                )                                                                 \n",
      "                                                                                                  \n",
      " conv3d_16 (Conv3D)             (None, 5, 6, 5, 256  1769728     ['tf.nn.relu_15[0][0]']          \n",
      "                                )                                                                 \n",
      "                                                                                                  \n",
      " conv3d_22 (Conv3D)             (None, 5, 6, 5, 256  1769728     ['tf.nn.relu_21[0][0]']          \n",
      "                                )                                                                 \n",
      "                                                                                                  \n",
      " instance_normalization_16 (Ins  (None, 5, 6, 5, 256  0          ['conv3d_16[0][0]']              \n",
      " tanceNormalization)            )                                                                 \n",
      "                                                                                                  \n",
      " instance_normalization_22 (Ins  (None, 5, 6, 5, 256  0          ['conv3d_22[0][0]']              \n",
      " tanceNormalization)            )                                                                 \n",
      "                                                                                                  \n",
      " max_pooling3d_14 (MaxPooling3D  (None, 2, 3, 2, 256  0          ['instance_normalization_16[0][0]\n",
      " )                              )                                ']                               \n",
      "                                                                                                  \n",
      " max_pooling3d_19 (MaxPooling3D  (None, 2, 3, 2, 256  0          ['instance_normalization_22[0][0]\n",
      " )                              )                                ']                               \n",
      "                                                                                                  \n",
      " tf.nn.relu_16 (TFOpLambda)     (None, 2, 3, 2, 256  0           ['max_pooling3d_14[0][0]']       \n",
      "                                )                                                                 \n",
      "                                                                                                  \n",
      " tf.nn.relu_22 (TFOpLambda)     (None, 2, 3, 2, 256  0           ['max_pooling3d_19[0][0]']       \n",
      "                                )                                                                 \n",
      "                                                                                                  \n",
      " conv3d_17 (Conv3D)             (None, 2, 3, 2, 64)  16448       ['tf.nn.relu_16[0][0]']          \n",
      "                                                                                                  \n",
      " conv3d_23 (Conv3D)             (None, 2, 3, 2, 64)  16448       ['tf.nn.relu_22[0][0]']          \n",
      "                                                                                                  \n",
      " instance_normalization_17 (Ins  (None, 2, 3, 2, 64)  0          ['conv3d_17[0][0]']              \n",
      " tanceNormalization)                                                                              \n",
      "                                                                                                  \n",
      " instance_normalization_23 (Ins  (None, 2, 3, 2, 64)  0          ['conv3d_23[0][0]']              \n",
      " tanceNormalization)                                                                              \n",
      "                                                                                                  \n",
      " tf.nn.relu_17 (TFOpLambda)     (None, 2, 3, 2, 64)  0           ['instance_normalization_17[0][0]\n",
      "                                                                 ']                               \n",
      "                                                                                                  \n",
      " tf.nn.relu_23 (TFOpLambda)     (None, 2, 3, 2, 64)  0           ['instance_normalization_23[0][0]\n",
      "                                                                 ']                               \n",
      "                                                                                                  \n",
      " average_pooling3d_2 (AveragePo  (None, 1, 1, 1, 64)  0          ['tf.nn.relu_17[0][0]']          \n",
      " oling3D)                                                                                         \n",
      "                                                                                                  \n",
      " average_pooling3d_3 (AveragePo  (None, 1, 1, 1, 64)  0          ['tf.nn.relu_23[0][0]']          \n",
      " oling3D)                                                                                         \n",
      "                                                                                                  \n",
      " drop0 (Dropout)                (None, 1, 1, 1, 64)  0           ['average_pooling3d_2[0][0]']    \n",
      "                                                                                                  \n",
      " drop2 (Dropout)                (None, 1, 1, 1, 64)  0           ['average_pooling3d_3[0][0]']    \n",
      "                                                                                                  \n",
      " flatten1 (Flatten)             (None, 64)           0           ['drop0[0][0]']                  \n",
      "                                                                                                  \n",
      " flatten2 (Flatten)             (None, 64)           0           ['drop2[0][0]']                  \n",
      "                                                                                                  \n",
      " concatenate_1 (Concatenate)    (None, 128)          0           ['flatten1[0][0]',               \n",
      "                                                                  'flatten2[0][0]']               \n",
      "                                                                                                  \n",
      " dense_2 (Dense)                (None, 64)           8256        ['concatenate_1[0][0]']          \n",
      "                                                                                                  \n",
      " dense_3 (Dense)                (None, 32)           2080        ['dense_2[0][0]']                \n",
      "                                                                                                  \n"
     ]
    },
    {
     "name": "stdout",
     "output_type": "stream",
     "text": [
      " age (Dense)                    (None, 1)            33          ['dense_3[0][0]']                \n",
      "                                                                                                  \n",
      "==================================================================================================\n",
      "Total params: 5,907,841\n",
      "Trainable params: 5,907,841\n",
      "Non-trainable params: 0\n",
      "__________________________________________________________________________________________________\n"
     ]
    }
   ],
   "source": [
    "def getCNN(width = 91,height = 109, depth = 91):\n",
    "    \n",
    "    def conv_block(inp,filt,name):\n",
    "        inp = tf.keras.layers.Conv3D(filt,3,strides=1,padding='same')(inp)\n",
    "        inp = tfa.layers.InstanceNormalization(center=False,scale=False)(inp)\n",
    "        inp = tf.keras.layers.MaxPooling3D(2,strides=2,padding = 'valid')(inp)\n",
    "        inp = tf.nn.relu(inp)\n",
    "        return inp\n",
    "    \n",
    "    img0 = tf.keras.Input((91,109,91,1),name='inp0')\n",
    "    inp0 = conv_block(img0,32,'conv_block1')\n",
    "    inp0 = conv_block(inp0,64,'conv_block2')\n",
    "    inp0 = conv_block(inp0,128,'conv_block3')\n",
    "    inp0 = conv_block(inp0,256,'conv_block4')\n",
    "    inp0 = conv_block(inp0,256,'conv_block5')\n",
    "    \n",
    "    ##LAST LAYER\n",
    "    \n",
    "    inp0 = tf.keras.layers.Conv3D(64,1,strides=1,padding='same')(inp0)\n",
    "    inp0 = tfa.layers.InstanceNormalization(center=False,scale=False)(inp0)\n",
    "    inp0 = tf.nn.relu(inp0)\n",
    "    inp0 = tf.keras.layers.AveragePooling3D(2,2,'valid')(inp0)\n",
    "    \n",
    "    inp0 = tf.keras.layers.Dropout(rate=0.5,name='drop0')(inp0)\n",
    "    \n",
    "    out0 = tf.keras.layers.Flatten(name='flatten1')(inp0)\n",
    "    \n",
    "    ######################\n",
    "    \n",
    "    img1 = tf.keras.Input((91,109,91,1),name='inp1')\n",
    "    inp1 = conv_block(img1,32,'conv_block11')\n",
    "    inp1 = conv_block(inp1,64,'conv_block12')\n",
    "    inp1 = conv_block(inp1,128,'conv_block13')\n",
    "    inp1 = conv_block(inp1,256,'conv_block14')\n",
    "    inp1 = conv_block(inp1,256,'conv_block15')\n",
    "    \n",
    "    ##LAST LAYER\n",
    "    \n",
    "    inp1 = tf.keras.layers.Conv3D(64,1,strides=1,padding='same')(inp1)\n",
    "    inp1 = tfa.layers.InstanceNormalization(center=False,scale=False)(inp1)\n",
    "    inp1 = tf.nn.relu(inp1)\n",
    "    inp1 = tf.keras.layers.AveragePooling3D(2,2,'valid')(inp1)\n",
    "    \n",
    "    inp1 = tf.keras.layers.Dropout(rate=0.5,name='drop2')(inp1)\n",
    "    \n",
    "    out1 = tf.keras.layers.Flatten(name='flatten2')(inp1)\n",
    "    \n",
    "    concat = tf.keras.layers.Concatenate()([out0,out1])\n",
    "    outx = tf.keras.layers.Dense(units=64,activation='relu')(concat)\n",
    "    outx = tf.keras.layers.Dense(units=32,activation='relu')(outx)\n",
    "    out2 = tf.keras.layers.Dense(units=1,name='age')(outx)\n",
    "    \n",
    "    model = keras.Model([img0,img1],out2,name='3DCNN_Metis_T1andDWI')\n",
    "    return model\n",
    "\n",
    "model = getCNN()\n",
    "model.summary()\n",
    "    "
   ]
  },
  {
   "cell_type": "code",
   "execution_count": 32,
   "id": "72ba70d9",
   "metadata": {},
   "outputs": [],
   "source": [
    "t1dwi = df.loc[[(condt1[i] and conddwi[i]) for i in range(len(condt1))]  , :]"
   ]
  },
  {
   "cell_type": "code",
   "execution_count": 33,
   "id": "fd18fc23",
   "metadata": {},
   "outputs": [
    {
     "data": {
      "text/plain": [
       "532"
      ]
     },
     "execution_count": 33,
     "metadata": {},
     "output_type": "execute_result"
    }
   ],
   "source": [
    "len(t1dwi)"
   ]
  },
  {
   "cell_type": "code",
   "execution_count": 34,
   "id": "06fea6d6",
   "metadata": {},
   "outputs": [],
   "source": [
    "train = t1dwi.drop(t1dwistr.index)"
   ]
  },
  {
   "cell_type": "code",
   "execution_count": 35,
   "id": "5e1c7f89",
   "metadata": {},
   "outputs": [
    {
     "data": {
      "text/plain": [
       "74"
      ]
     },
     "execution_count": 35,
     "metadata": {},
     "output_type": "execute_result"
    }
   ],
   "source": [
    "len(train)"
   ]
  },
  {
   "cell_type": "code",
   "execution_count": 36,
   "id": "e0e36038",
   "metadata": {},
   "outputs": [
    {
     "data": {
      "text/plain": [
       "(320, 91, 47)"
      ]
     },
     "execution_count": 36,
     "metadata": {},
     "output_type": "execute_result"
    }
   ],
   "source": [
    "p = (np.ceil(0.7*len(t1dwistr))-1).astype(int)\n",
    "q = (np.ceil(0.9*len(t1dwistr))-2).astype(int)\n",
    "r = len(t1dwistr)\n",
    "trainn = p\n",
    "valn  = r - q\n",
    "testn   = q - p\n",
    "trainn, testn, valn\n",
    "trainall = t1dwistr[:p]\n",
    "testall  = t1dwistr[p:q]\n",
    "valall   = t1dwistr[q:]\n",
    "len(trainall), len(testall), len(valall)"
   ]
  },
  {
   "cell_type": "code",
   "execution_count": 37,
   "id": "f87eca7c",
   "metadata": {},
   "outputs": [],
   "source": [
    "datamix = [train,trainall,valall]\n",
    "alltrain = pd.concat(datamix)\n",
    "alltrain = alltrain.sort_values(by = ['SubjID'])"
   ]
  },
  {
   "cell_type": "code",
   "execution_count": 38,
   "id": "20dbffdb",
   "metadata": {},
   "outputs": [
    {
     "data": {
      "text/plain": [
       "441"
      ]
     },
     "execution_count": 38,
     "metadata": {},
     "output_type": "execute_result"
    }
   ],
   "source": [
    "len(alltrain)"
   ]
  },
  {
   "cell_type": "code",
   "execution_count": 39,
   "id": "563500b6",
   "metadata": {},
   "outputs": [
    {
     "data": {
      "text/plain": [
       "(352, 89, 441)"
      ]
     },
     "execution_count": 39,
     "metadata": {},
     "output_type": "execute_result"
    }
   ],
   "source": [
    "p = (np.ceil(0.8*len(alltrain))-1).astype(int)\n",
    "q = len(alltrain)\n",
    "trainn = p\n",
    "# valn  = r - q\n",
    "valn   = q - p\n",
    "trainn, valn, trainn + valn"
   ]
  },
  {
   "cell_type": "code",
   "execution_count": 40,
   "id": "3b6634f3",
   "metadata": {},
   "outputs": [
    {
     "data": {
      "text/plain": [
       "(352, 89)"
      ]
     },
     "execution_count": 40,
     "metadata": {},
     "output_type": "execute_result"
    }
   ],
   "source": [
    "trainds = alltrain[:p]\n",
    "valds   = alltrain[p:]\n",
    "len(trainds),len(valds)"
   ]
  },
  {
   "cell_type": "code",
   "execution_count": 41,
   "id": "fe52a9cf",
   "metadata": {},
   "outputs": [
    {
     "data": {
      "text/plain": [
       "28753"
      ]
     },
     "execution_count": 41,
     "metadata": {},
     "output_type": "execute_result"
    }
   ],
   "source": [
    "os.getpid()"
   ]
  },
  {
   "cell_type": "code",
   "execution_count": 45,
   "id": "80367e93",
   "metadata": {},
   "outputs": [],
   "source": [
    "for i in trainds['SubjID']:\n",
    "    for j in testall['SubjID']:\n",
    "        if i==j:\n",
    "            print(i)"
   ]
  },
  {
   "cell_type": "code",
   "execution_count": 35,
   "id": "fe461480",
   "metadata": {},
   "outputs": [
    {
     "name": "stderr",
     "output_type": "stream",
     "text": [
      "/tmp/ipykernel_19070/1918704807.py:2: UserWarning: \n",
      "\n",
      "`distplot` is a deprecated function and will be removed in seaborn v0.14.0.\n",
      "\n",
      "Please adapt your code to use either `displot` (a figure-level function with\n",
      "similar flexibility) or `kdeplot` (an axes-level function for kernel density plots).\n",
      "\n",
      "For a guide to updating your code to use the new functions, please see\n",
      "https://gist.github.com/mwaskom/de44147ed2974457ad6372750bbe5751\n",
      "\n",
      "  sns.distplot(a=trainds.AGE_at_scan, hist=False)\n",
      "/tmp/ipykernel_19070/1918704807.py:3: UserWarning: \n",
      "\n",
      "`distplot` is a deprecated function and will be removed in seaborn v0.14.0.\n",
      "\n",
      "Please adapt your code to use either `displot` (a figure-level function with\n",
      "similar flexibility) or `kdeplot` (an axes-level function for kernel density plots).\n",
      "\n",
      "For a guide to updating your code to use the new functions, please see\n",
      "https://gist.github.com/mwaskom/de44147ed2974457ad6372750bbe5751\n",
      "\n",
      "  sns.distplot(a=testall.AGE_at_scan, hist=False)\n"
     ]
    },
    {
     "data": {
      "text/plain": [
       "<Axes: xlabel='AGE_at_scan', ylabel='Density'>"
      ]
     },
     "execution_count": 35,
     "metadata": {},
     "output_type": "execute_result"
    },
    {
     "data": {
      "image/png": "[encoded data removed]",
      "text/plain": [
       "<Figure size 640x480 with 1 Axes>"
      ]
     },
     "metadata": {},
     "output_type": "display_data"
    }
   ],
   "source": [
    "import seaborn as sns\n",
    "sns.distplot(a=trainds.AGE_at_scan, hist=False)\n",
    "sns.distplot(a=testall.AGE_at_scan, hist=False)"
   ]
  },
  {
   "cell_type": "code",
   "execution_count": 46,
   "id": "ad6e328e",
   "metadata": {},
   "outputs": [],
   "source": [
    "class DataGenerator(tf.keras.utils.Sequence):\n",
    "    def printx(self):\n",
    "        print(len(self.data))\n",
    "        return \n",
    "    \n",
    "    def rotate(self,vol):\n",
    "        def scipy_rotate(vol):\n",
    "            angles = [-20,-10,-5,0,5,10,20]\n",
    "            angle = pyrandom.choice(angles)\n",
    "            vol = ndimage.rotate(vol,angle,reshape=False)\n",
    "            vol[vol<0] = 0\n",
    "            vol[vol>1] = 1\n",
    "            return vol\n",
    "        aug_vol = tf.numpy_function(scipy_rotate,[vol],tf.float32)\n",
    "        return aug_vol\n",
    "\n",
    "    def preprocessing(self,vol):\n",
    "        if(self.isTrain):\n",
    "            vol1 = self.rotate(vol)\n",
    "            vol1 = tf.expand_dims(vol1,axis=3)\n",
    "        else:\n",
    "            vol1 = tf.expand_dims(vol,axis=3)\n",
    "        return vol1\n",
    "    \n",
    "    def read_scan(self,path):\n",
    "        scan = nib.load(path)\n",
    "        volume = scan.get_fdata()\n",
    "        min = np.amax(volume)\n",
    "        max = np.amin(volume)\n",
    "        volume = (volume - min) / (max - min)\n",
    "        volume = volume.astype(\"float32\")\n",
    "        return volume\n",
    "\n",
    "    def __init__(self, data, batch_size, sample_weights=None,isTrain=True):\n",
    "        self.data = data\n",
    "        self.batch_size = batch_size\n",
    "        self.sample_weights = sample_weights\n",
    "        self.isTrain = isTrain\n",
    "\n",
    "    def __len__(self):\n",
    "        return (np.ceil(len(self.data) / float(self.batch_size))).astype(np.int)\n",
    "\n",
    "    def __getitem__(self, idx):\n",
    "        t1  = self.data['ACCEL_DL_6DOF_2MM_T1'].tolist()\n",
    "        dwi = self.data['DWI_Matched_File_FA_Path_ENIGMATBSSspace_2MM'].tolist()\n",
    "        labels = self.data['AGE_at_scan'].astype(np.float32)\n",
    "        \n",
    "        batch_t1 = t1[idx * self.batch_size: (idx + 1) * self.batch_size]\n",
    "        batch_dwi = dwi[idx * self.batch_size: (idx + 1) * self.batch_size]\n",
    "        batch_y = labels[idx * self.batch_size: (idx + 1) * self.batch_size]\n",
    "        \n",
    "        t1_imgs = np.asarray([self.preprocessing(self.read_scan(path)) for path in batch_t1])\n",
    "        dwi_imgs = np.asarray([self.preprocessing(self.read_scan(path)) for path in batch_dwi])\n",
    "        ####\n",
    "        return ([t1_imgs,dwi_imgs], np.array(batch_y))\n",
    "    \n",
    "    def on_epoch_end(self):\n",
    "        if(self.isTrain):\n",
    "            self.data = self.data.sample(frac=1)"
   ]
  },
  {
   "cell_type": "code",
   "execution_count": 47,
   "id": "f3349b1f",
   "metadata": {},
   "outputs": [],
   "source": [
    "dg_testall = DataGenerator(testall,4,isTrain=False)"
   ]
  },
  {
   "cell_type": "code",
   "execution_count": 48,
   "id": "93ecc68a",
   "metadata": {},
   "outputs": [],
   "source": [
    "dg_train = DataGenerator(trainds,4)\n",
    "dg_val = DataGenerator(valds,4,isTrain=False)"
   ]
  },
  {
   "cell_type": "code",
   "execution_count": 50,
   "id": "75d96c80",
   "metadata": {},
   "outputs": [
    {
     "name": "stdout",
     "output_type": "stream",
     "text": [
      "True\n"
     ]
    }
   ],
   "source": [
    "def checkTestAll(testall = testall):\n",
    "    file = open('/lfs1/ashaji/Imputation_Problem/organized/DST/tester.txt','r')\n",
    "    x = ''\n",
    "    for i in testall['SubjID']:\n",
    "        x += str(i+'\\n')\n",
    "    print(x==file.read())\n",
    "checkTestAll()"
   ]
  },
  {
   "cell_type": "code",
   "execution_count": 51,
   "id": "0e484ae4",
   "metadata": {},
   "outputs": [
    {
     "data": {
      "text/plain": [
       "(352, 89, 91)"
      ]
     },
     "execution_count": 51,
     "metadata": {},
     "output_type": "execute_result"
    }
   ],
   "source": [
    "len(trainds),len(valds),len(testall)"
   ]
  },
  {
   "cell_type": "code",
   "execution_count": 52,
   "id": "a6e49391",
   "metadata": {},
   "outputs": [
    {
     "name": "stderr",
     "output_type": "stream",
     "text": [
      "/tmp/ipykernel_28753/2179794019.py:41: DeprecationWarning: `np.int` is a deprecated alias for the builtin `int`. To silence this warning, use `int` by itself. Doing this will not modify any behavior and is safe. When replacing `np.int`, you may wish to use e.g. `np.int64` or `np.int32` to specify the precision. If you wish to review your current use, check the release note link for additional information.\n",
      "Deprecated in NumPy 1.20; for more details and guidance: https://numpy.org/devdocs/release/1.20.0-notes.html#deprecations\n",
      "  return (np.ceil(len(self.data) / float(self.batch_size))).astype(np.int)\n"
     ]
    },
    {
     "name": "stdout",
     "output_type": "stream",
     "text": [
      "Epoch 1/200\n"
     ]
    },
    {
     "name": "stderr",
     "output_type": "stream",
     "text": [
      "2023-12-25 13:21:32.141021: I tensorflow/core/common_runtime/executor.cc:1197] [/device:CPU:0] (DEBUG INFO) Executor start aborting (this does not indicate an error and you can ignore this message): INVALID_ARGUMENT: You must feed a value for placeholder tensor 'Placeholder/_0' with dtype int32\n",
      "\t [[{{node Placeholder/_0}}]]\n",
      "2023-12-25 13:21:37.782928: I tensorflow/compiler/xla/stream_executor/cuda/cuda_dnn.cc:424] Loaded cuDNN version 8600\n",
      "2023-12-25 13:21:39.013978: I tensorflow/compiler/xla/service/service.cc:169] XLA service 0x7fad78021940 initialized for platform CUDA (this does not guarantee that XLA will be used). Devices:\n",
      "2023-12-25 13:21:39.014054: I tensorflow/compiler/xla/service/service.cc:177]   StreamExecutor device (0): NVIDIA GeForce GTX 1080 Ti, Compute Capability 6.1\n",
      "2023-12-25 13:21:39.025238: I tensorflow/compiler/mlir/tensorflow/utils/dump_mlir_util.cc:269] disabling MLIR crash reproducer, set env var `MLIR_CRASH_REPRODUCER_DIRECTORY` to enable.\n",
      "2023-12-25 13:21:39.359732: I ./tensorflow/compiler/jit/device_compiler.h:180] Compiled cluster using XLA!  This line is logged at most once for the lifetime of the process.\n"
     ]
    },
    {
     "name": "stdout",
     "output_type": "stream",
     "text": [
      "88/88 [==============================] - ETA: 0s - loss: 2150.4651 - rmse: 46.3731 - mae: 38.8822"
     ]
    },
    {
     "name": "stderr",
     "output_type": "stream",
     "text": [
      "2023-12-25 13:23:53.439481: I tensorflow/core/common_runtime/executor.cc:1197] [/device:CPU:0] (DEBUG INFO) Executor start aborting (this does not indicate an error and you can ignore this message): INVALID_ARGUMENT: You must feed a value for placeholder tensor 'Placeholder/_0' with dtype int32\n",
      "\t [[{{node Placeholder/_0}}]]\n"
     ]
    },
    {
     "name": "stdout",
     "output_type": "stream",
     "text": [
      "88/88 [==============================] - 151s 2s/step - loss: 2150.4651 - rmse: 46.3731 - mae: 38.8822 - val_loss: 55.2509 - val_rmse: 7.4331 - val_mae: 6.2016\n",
      "Epoch 2/200\n",
      "88/88 [==============================] - 141s 2s/step - loss: 121.5648 - rmse: 11.0256 - mae: 8.8992 - val_loss: 39.3909 - val_rmse: 6.2762 - val_mae: 5.0277\n",
      "Epoch 3/200\n",
      "88/88 [==============================] - 141s 2s/step - loss: 129.9151 - rmse: 11.3980 - mae: 9.0384 - val_loss: 38.1636 - val_rmse: 6.1777 - val_mae: 4.9473\n",
      "Epoch 4/200\n",
      "88/88 [==============================] - 137s 2s/step - loss: 106.7442 - rmse: 10.3317 - mae: 8.3071 - val_loss: 37.4672 - val_rmse: 6.1210 - val_mae: 4.9463\n",
      "Epoch 5/200\n",
      "88/88 [==============================] - 139s 2s/step - loss: 120.0781 - rmse: 10.9580 - mae: 8.7172 - val_loss: 38.6303 - val_rmse: 6.2153 - val_mae: 5.1477\n",
      "Epoch 6/200\n",
      "88/88 [==============================] - 138s 2s/step - loss: 100.7274 - rmse: 10.0363 - mae: 8.0044 - val_loss: 46.1562 - val_rmse: 6.7938 - val_mae: 5.1587\n",
      "Epoch 7/200\n",
      "88/88 [==============================] - 140s 2s/step - loss: 117.2003 - rmse: 10.8259 - mae: 8.4563 - val_loss: 40.9311 - val_rmse: 6.3977 - val_mae: 5.3603\n",
      "Epoch 8/200\n",
      "88/88 [==============================] - 137s 2s/step - loss: 103.4415 - rmse: 10.1706 - mae: 8.1771 - val_loss: 41.4821 - val_rmse: 6.4407 - val_mae: 5.3971\n",
      "Epoch 9/200\n",
      "88/88 [==============================] - 139s 2s/step - loss: 115.6648 - rmse: 10.7548 - mae: 8.5646 - val_loss: 51.7148 - val_rmse: 7.1913 - val_mae: 5.5219\n",
      "Epoch 10/200\n",
      "88/88 [==============================] - 139s 2s/step - loss: 103.8995 - rmse: 10.1931 - mae: 8.1421 - val_loss: 57.9565 - val_rmse: 7.6129 - val_mae: 6.3339\n",
      "Epoch 11/200\n",
      "88/88 [==============================] - 141s 2s/step - loss: 100.7444 - rmse: 10.0371 - mae: 8.0335 - val_loss: 49.1386 - val_rmse: 7.0099 - val_mae: 5.3525\n",
      "Epoch 12/200\n",
      "88/88 [==============================] - 140s 2s/step - loss: 89.1803 - rmse: 9.4435 - mae: 7.5172 - val_loss: 34.5961 - val_rmse: 5.8818 - val_mae: 4.9280\n",
      "Epoch 13/200\n",
      "88/88 [==============================] - 140s 2s/step - loss: 91.2402 - rmse: 9.5520 - mae: 7.6216 - val_loss: 29.3753 - val_rmse: 5.4199 - val_mae: 4.4733\n",
      "Epoch 14/200\n",
      "88/88 [==============================] - 139s 2s/step - loss: 105.9445 - rmse: 10.2929 - mae: 8.3000 - val_loss: 31.6522 - val_rmse: 5.6260 - val_mae: 4.3815\n",
      "Epoch 15/200\n",
      "88/88 [==============================] - 140s 2s/step - loss: 82.0431 - rmse: 9.0578 - mae: 7.2182 - val_loss: 23.4898 - val_rmse: 4.8466 - val_mae: 3.9607\n",
      "Epoch 16/200\n",
      "88/88 [==============================] - 138s 2s/step - loss: 66.1401 - rmse: 8.1327 - mae: 6.3600 - val_loss: 24.3412 - val_rmse: 4.9337 - val_mae: 4.0620\n",
      "Epoch 17/200\n",
      "88/88 [==============================] - 138s 2s/step - loss: 93.8026 - rmse: 9.6852 - mae: 7.7323 - val_loss: 34.4147 - val_rmse: 5.8664 - val_mae: 4.7233\n",
      "Epoch 18/200\n",
      "88/88 [==============================] - 140s 2s/step - loss: 89.5275 - rmse: 9.4619 - mae: 7.6807 - val_loss: 46.1231 - val_rmse: 6.7914 - val_mae: 5.2681\n",
      "Epoch 19/200\n",
      "88/88 [==============================] - 140s 2s/step - loss: 102.5194 - rmse: 10.1252 - mae: 8.1052 - val_loss: 34.1370 - val_rmse: 5.8427 - val_mae: 4.5949\n",
      "Epoch 20/200\n",
      "88/88 [==============================] - 138s 2s/step - loss: 106.2382 - rmse: 10.3072 - mae: 8.2640 - val_loss: 30.4277 - val_rmse: 5.5161 - val_mae: 4.3318\n",
      "Epoch 21/200\n",
      "88/88 [==============================] - 140s 2s/step - loss: 89.7611 - rmse: 9.4742 - mae: 7.6248 - val_loss: 49.0735 - val_rmse: 7.0052 - val_mae: 5.8315\n",
      "Epoch 22/200\n",
      "88/88 [==============================] - 139s 2s/step - loss: 87.1881 - rmse: 9.3375 - mae: 7.0986 - val_loss: 27.0505 - val_rmse: 5.2010 - val_mae: 4.2169\n",
      "Epoch 23/200\n",
      "88/88 [==============================] - 139s 2s/step - loss: 90.6342 - rmse: 9.5202 - mae: 7.5783 - val_loss: 30.8232 - val_rmse: 5.5519 - val_mae: 4.5960\n",
      "Epoch 24/200\n",
      "88/88 [==============================] - 136s 2s/step - loss: 88.9059 - rmse: 9.4290 - mae: 7.5630 - val_loss: 25.9799 - val_rmse: 5.0970 - val_mae: 4.0567\n",
      "Epoch 25/200\n",
      "88/88 [==============================] - 141s 2s/step - loss: 82.3239 - rmse: 9.0733 - mae: 6.9586 - val_loss: 24.8489 - val_rmse: 4.9849 - val_mae: 4.0034\n",
      "Epoch 26/200\n",
      "88/88 [==============================] - 139s 2s/step - loss: 92.1090 - rmse: 9.5973 - mae: 7.7659 - val_loss: 24.0695 - val_rmse: 4.9061 - val_mae: 3.8216\n",
      "Epoch 27/200\n",
      "88/88 [==============================] - 142s 2s/step - loss: 92.5018 - rmse: 9.6178 - mae: 7.6931 - val_loss: 32.8897 - val_rmse: 5.7350 - val_mae: 4.7446\n",
      "Epoch 28/200\n",
      "88/88 [==============================] - 141s 2s/step - loss: 72.0123 - rmse: 8.4860 - mae: 6.7781 - val_loss: 42.1887 - val_rmse: 6.4953 - val_mae: 5.2759\n",
      "Epoch 29/200\n",
      "88/88 [==============================] - 141s 2s/step - loss: 75.9610 - rmse: 8.7156 - mae: 6.9392 - val_loss: 55.2827 - val_rmse: 7.4352 - val_mae: 6.3644\n",
      "Epoch 30/200\n",
      "88/88 [==============================] - 139s 2s/step - loss: 74.9324 - rmse: 8.6564 - mae: 7.0187 - val_loss: 19.5552 - val_rmse: 4.4221 - val_mae: 3.5154\n",
      "Epoch 31/200\n",
      "88/88 [==============================] - 140s 2s/step - loss: 65.9155 - rmse: 8.1188 - mae: 6.5672 - val_loss: 35.3111 - val_rmse: 5.9423 - val_mae: 4.7728\n",
      "Epoch 32/200\n",
      "88/88 [==============================] - 138s 2s/step - loss: 72.3545 - rmse: 8.5061 - mae: 6.7524 - val_loss: 35.7210 - val_rmse: 5.9767 - val_mae: 4.9089\n",
      "Epoch 33/200\n",
      "88/88 [==============================] - 139s 2s/step - loss: 72.8127 - rmse: 8.5330 - mae: 6.8850 - val_loss: 21.0294 - val_rmse: 4.5858 - val_mae: 3.7007\n",
      "Epoch 34/200\n",
      "88/88 [==============================] - 140s 2s/step - loss: 70.3257 - rmse: 8.3860 - mae: 6.6993 - val_loss: 21.8258 - val_rmse: 4.6718 - val_mae: 3.7367\n",
      "Epoch 35/200\n",
      "88/88 [==============================] - 140s 2s/step - loss: 71.8148 - rmse: 8.4744 - mae: 6.8497 - val_loss: 19.3529 - val_rmse: 4.3992 - val_mae: 3.6328\n",
      "Epoch 36/200\n",
      "88/88 [==============================] - 138s 2s/step - loss: 65.8932 - rmse: 8.1175 - mae: 6.4240 - val_loss: 19.5950 - val_rmse: 4.4266 - val_mae: 3.5760\n",
      "Epoch 37/200\n",
      "88/88 [==============================] - 140s 2s/step - loss: 59.8734 - rmse: 7.7378 - mae: 6.2687 - val_loss: 25.0779 - val_rmse: 5.0078 - val_mae: 4.1377\n",
      "Epoch 38/200\n",
      "88/88 [==============================] - 139s 2s/step - loss: 65.7167 - rmse: 8.1066 - mae: 6.3592 - val_loss: 20.1468 - val_rmse: 4.4885 - val_mae: 3.7335\n",
      "Epoch 39/200\n",
      "88/88 [==============================] - 139s 2s/step - loss: 74.0404 - rmse: 8.6047 - mae: 6.8742 - val_loss: 24.0739 - val_rmse: 4.9065 - val_mae: 4.0175\n",
      "Epoch 40/200\n",
      "88/88 [==============================] - 140s 2s/step - loss: 58.6411 - rmse: 7.6577 - mae: 6.0729 - val_loss: 20.3368 - val_rmse: 4.5096 - val_mae: 3.6376\n",
      "Epoch 41/200\n",
      "88/88 [==============================] - 140s 2s/step - loss: 57.1282 - rmse: 7.5583 - mae: 5.9202 - val_loss: 27.9619 - val_rmse: 5.2879 - val_mae: 4.2052\n",
      "Epoch 42/200\n",
      "88/88 [==============================] - 140s 2s/step - loss: 56.6925 - rmse: 7.5294 - mae: 5.9870 - val_loss: 25.2316 - val_rmse: 5.0231 - val_mae: 3.9837\n",
      "Epoch 43/200\n",
      "88/88 [==============================] - 141s 2s/step - loss: 57.3765 - rmse: 7.5747 - mae: 6.0316 - val_loss: 19.0484 - val_rmse: 4.3644 - val_mae: 3.6418\n",
      "Epoch 44/200\n",
      "88/88 [==============================] - 141s 2s/step - loss: 62.1813 - rmse: 7.8855 - mae: 6.3800 - val_loss: 18.9759 - val_rmse: 4.3561 - val_mae: 3.7304\n",
      "Epoch 45/200\n",
      "88/88 [==============================] - 139s 2s/step - loss: 52.3827 - rmse: 7.2376 - mae: 5.7504 - val_loss: 20.0996 - val_rmse: 4.4833 - val_mae: 3.6872\n",
      "Epoch 46/200\n",
      "88/88 [==============================] - 139s 2s/step - loss: 60.9181 - rmse: 7.8050 - mae: 6.2507 - val_loss: 17.6121 - val_rmse: 4.1967 - val_mae: 3.5637\n",
      "Epoch 47/200\n",
      "88/88 [==============================] - 145s 2s/step - loss: 55.8328 - rmse: 7.4721 - mae: 5.8933 - val_loss: 16.9718 - val_rmse: 4.1197 - val_mae: 3.4350\n",
      "Epoch 48/200\n",
      "88/88 [==============================] - 140s 2s/step - loss: 57.9986 - rmse: 7.6157 - mae: 5.9674 - val_loss: 44.4851 - val_rmse: 6.6697 - val_mae: 5.4759\n",
      "Epoch 49/200\n"
     ]
    },
    {
     "name": "stdout",
     "output_type": "stream",
     "text": [
      "88/88 [==============================] - 140s 2s/step - loss: 45.4327 - rmse: 6.7404 - mae: 5.3781 - val_loss: 19.1910 - val_rmse: 4.3808 - val_mae: 3.6752\n",
      "Epoch 50/200\n",
      "88/88 [==============================] - 141s 2s/step - loss: 51.3624 - rmse: 7.1668 - mae: 5.6799 - val_loss: 21.2342 - val_rmse: 4.6081 - val_mae: 3.7726\n",
      "Epoch 51/200\n",
      "88/88 [==============================] - 141s 2s/step - loss: 54.2909 - rmse: 7.3682 - mae: 5.8011 - val_loss: 16.4577 - val_rmse: 4.0568 - val_mae: 3.4573\n",
      "Epoch 52/200\n",
      "88/88 [==============================] - 139s 2s/step - loss: 50.9024 - rmse: 7.1346 - mae: 5.7777 - val_loss: 39.2715 - val_rmse: 6.2667 - val_mae: 5.1387\n",
      "Epoch 53/200\n",
      "88/88 [==============================] - 141s 2s/step - loss: 51.0723 - rmse: 7.1465 - mae: 5.7280 - val_loss: 20.0388 - val_rmse: 4.4765 - val_mae: 3.6622\n",
      "Epoch 54/200\n",
      "88/88 [==============================] - 140s 2s/step - loss: 46.3159 - rmse: 6.8056 - mae: 5.3230 - val_loss: 25.7099 - val_rmse: 5.0705 - val_mae: 3.9771\n",
      "Epoch 55/200\n",
      "88/88 [==============================] - 141s 2s/step - loss: 50.2102 - rmse: 7.0859 - mae: 5.6826 - val_loss: 19.6531 - val_rmse: 4.4332 - val_mae: 3.6948\n",
      "Epoch 56/200\n",
      "88/88 [==============================] - 140s 2s/step - loss: 47.6623 - rmse: 6.9038 - mae: 5.4332 - val_loss: 21.2025 - val_rmse: 4.6046 - val_mae: 3.7687\n",
      "Epoch 57/200\n",
      "88/88 [==============================] - 139s 2s/step - loss: 42.8819 - rmse: 6.5484 - mae: 5.2047 - val_loss: 18.1492 - val_rmse: 4.2602 - val_mae: 3.5613\n",
      "Epoch 58/200\n",
      "88/88 [==============================] - 143s 2s/step - loss: 51.7669 - rmse: 7.1949 - mae: 5.8390 - val_loss: 38.0908 - val_rmse: 6.1718 - val_mae: 4.9829\n",
      "Epoch 59/200\n",
      "88/88 [==============================] - 143s 2s/step - loss: 47.3844 - rmse: 6.8836 - mae: 5.5414 - val_loss: 20.1585 - val_rmse: 4.4898 - val_mae: 3.6689\n",
      "Epoch 60/200\n",
      "88/88 [==============================] - 142s 2s/step - loss: 35.9183 - rmse: 5.9932 - mae: 4.8720 - val_loss: 41.5915 - val_rmse: 6.4491 - val_mae: 5.1650\n",
      "Epoch 61/200\n",
      "88/88 [==============================] - 144s 2s/step - loss: 43.5851 - rmse: 6.6019 - mae: 5.1880 - val_loss: 46.2040 - val_rmse: 6.7974 - val_mae: 5.6287\n",
      "Epoch 62/200\n",
      "88/88 [==============================] - 140s 2s/step - loss: 53.9290 - rmse: 7.3436 - mae: 5.7842 - val_loss: 19.2184 - val_rmse: 4.3839 - val_mae: 3.4970\n",
      "Epoch 63/200\n",
      "88/88 [==============================] - 144s 2s/step - loss: 45.0179 - rmse: 6.7095 - mae: 5.3378 - val_loss: 18.3043 - val_rmse: 4.2783 - val_mae: 3.4881\n",
      "Epoch 64/200\n",
      "88/88 [==============================] - 141s 2s/step - loss: 40.8159 - rmse: 6.3887 - mae: 5.0752 - val_loss: 30.4639 - val_rmse: 5.5194 - val_mae: 4.3548\n",
      "Epoch 65/200\n",
      "88/88 [==============================] - 145s 2s/step - loss: 38.6669 - rmse: 6.2183 - mae: 4.9250 - val_loss: 34.1807 - val_rmse: 5.8464 - val_mae: 4.6947\n",
      "Epoch 66/200\n",
      "88/88 [==============================] - 141s 2s/step - loss: 46.4575 - rmse: 6.8160 - mae: 5.3793 - val_loss: 18.2943 - val_rmse: 4.2772 - val_mae: 3.4855\n",
      "Epoch 67/200\n",
      "88/88 [==============================] - 143s 2s/step - loss: 33.4167 - rmse: 5.7807 - mae: 4.5403 - val_loss: 19.8508 - val_rmse: 4.4554 - val_mae: 3.5317\n",
      "Epoch 68/200\n",
      "88/88 [==============================] - 141s 2s/step - loss: 37.1786 - rmse: 6.0974 - mae: 4.9143 - val_loss: 30.6296 - val_rmse: 5.5344 - val_mae: 4.3601\n",
      "Epoch 69/200\n",
      "88/88 [==============================] - 141s 2s/step - loss: 39.5560 - rmse: 6.2894 - mae: 4.9546 - val_loss: 22.9646 - val_rmse: 4.7921 - val_mae: 3.8343\n",
      "Epoch 71/200\n",
      "88/88 [==============================] - ETA: 0s - loss: 42.3715 - rmse: 6.5093 - mae: 5.1437Restoring model weights from the end of the best epoch: 51.\n",
      "88/88 [==============================] - 143s 2s/step - loss: 42.3715 - rmse: 6.5093 - mae: 5.1437 - val_loss: 21.1955 - val_rmse: 4.6039 - val_mae: 3.6744\n",
      "Epoch 71: early stopping\n"
     ]
    },
    {
     "name": "stderr",
     "output_type": "stream",
     "text": [
      "2023-12-25 16:07:44.555149: I tensorflow/core/common_runtime/executor.cc:1197] [/device:CPU:0] (DEBUG INFO) Executor start aborting (this does not indicate an error and you can ignore this message): INVALID_ARGUMENT: You must feed a value for placeholder tensor 'inputs' with dtype float and shape [?,1,1,1,64]\n",
      "\t [[{{node inputs}}]]\n",
      "2023-12-25 16:07:44.564474: I tensorflow/core/common_runtime/executor.cc:1197] [/device:CPU:0] (DEBUG INFO) Executor start aborting (this does not indicate an error and you can ignore this message): INVALID_ARGUMENT: You must feed a value for placeholder tensor 'inputs' with dtype float and shape [?,1,1,1,64]\n",
      "\t [[{{node inputs}}]]\n",
      "2023-12-25 16:07:46.230167: I tensorflow/core/common_runtime/executor.cc:1197] [/device:CPU:0] (DEBUG INFO) Executor start aborting (this does not indicate an error and you can ignore this message): INVALID_ARGUMENT: You must feed a value for placeholder tensor 'inputs' with dtype float and shape [?,1,1,1,64]\n",
      "\t [[{{node inputs}}]]\n",
      "2023-12-25 16:07:46.252132: I tensorflow/core/common_runtime/executor.cc:1197] [/device:CPU:0] (DEBUG INFO) Executor start aborting (this does not indicate an error and you can ignore this message): INVALID_ARGUMENT: You must feed a value for placeholder tensor 'inputs' with dtype float and shape [?,1,1,1,64]\n",
      "\t [[{{node inputs}}]]\n",
      "WARNING:absl:Found untraced functions such as _jit_compiled_convolution_op, _jit_compiled_convolution_op, _jit_compiled_convolution_op, _jit_compiled_convolution_op, _jit_compiled_convolution_op while saving (showing 5 of 12). These functions will not be directly callable after loading.\n"
     ]
    },
    {
     "name": "stdout",
     "output_type": "stream",
     "text": [
      "INFO:tensorflow:Assets written to: /lfs1/ashaji/Imputation_Problem/EMBC/T1andDWI/modelT1andDWI/assets\n"
     ]
    },
    {
     "name": "stderr",
     "output_type": "stream",
     "text": [
      "INFO:tensorflow:Assets written to: /lfs1/ashaji/Imputation_Problem/EMBC/T1andDWI/modelT1andDWI/assets\n"
     ]
    }
   ],
   "source": [
    "model.compile(\n",
    "    loss='mse',\n",
    "    optimizer = keras.optimizers.AdamW(learning_rate=1e-3,weight_decay=1e-4),\n",
    "    metrics = [tf.keras.metrics.RootMeanSquaredError(name='rmse'),tf.keras.metrics.MeanAbsoluteError(name='mae')]   \n",
    ")\n",
    "early = keras.callbacks.EarlyStopping(monitor='val_loss',patience = 20, verbose = 1, restore_best_weights = True)\n",
    "history = model.fit(\n",
    "    dg_train,\n",
    "    validation_data = dg_val,\n",
    "    epochs = 200,\n",
    "    verbose = 1,\n",
    "    callbacks = [early]\n",
    ")\n",
    "model.save('/lfs1/ashaji/Imputation_Problem/EMBC/T1andDWI/modelT1andDWI')"
   ]
  },
  {
   "cell_type": "code",
   "execution_count": 53,
   "id": "94bbf197",
   "metadata": {},
   "outputs": [
    {
     "name": "stderr",
     "output_type": "stream",
     "text": [
      "WARNING:root:The given value for groups will be overwritten.\n",
      "WARNING:root:The given value for groups will be overwritten.\n",
      "WARNING:root:The given value for groups will be overwritten.\n",
      "WARNING:root:The given value for groups will be overwritten.\n",
      "WARNING:root:The given value for groups will be overwritten.\n",
      "WARNING:root:The given value for groups will be overwritten.\n",
      "WARNING:root:The given value for groups will be overwritten.\n",
      "WARNING:root:The given value for groups will be overwritten.\n",
      "WARNING:root:The given value for groups will be overwritten.\n",
      "WARNING:root:The given value for groups will be overwritten.\n",
      "WARNING:root:The given value for groups will be overwritten.\n",
      "WARNING:root:The given value for groups will be overwritten.\n"
     ]
    }
   ],
   "source": [
    "model = keras.models.load_model('/lfs1/ashaji/Imputation_Problem/EMBC/T1andDWI/modelT1andDWI')"
   ]
  },
  {
   "cell_type": "code",
   "execution_count": 55,
   "id": "13f4c5e9",
   "metadata": {},
   "outputs": [
    {
     "name": "stderr",
     "output_type": "stream",
     "text": [
      "/tmp/ipykernel_28753/2179794019.py:41: DeprecationWarning: `np.int` is a deprecated alias for the builtin `int`. To silence this warning, use `int` by itself. Doing this will not modify any behavior and is safe. When replacing `np.int`, you may wish to use e.g. `np.int64` or `np.int32` to specify the precision. If you wish to review your current use, check the release note link for additional information.\n",
      "Deprecated in NumPy 1.20; for more details and guidance: https://numpy.org/devdocs/release/1.20.0-notes.html#deprecations\n",
      "  return (np.ceil(len(self.data) / float(self.batch_size))).astype(np.int)\n",
      "2023-12-26 15:01:49.088024: I tensorflow/core/common_runtime/executor.cc:1197] [/device:CPU:0] (DEBUG INFO) Executor start aborting (this does not indicate an error and you can ignore this message): INVALID_ARGUMENT: You must feed a value for placeholder tensor 'Placeholder/_0' with dtype int32\n",
      "\t [[{{node Placeholder/_0}}]]\n"
     ]
    },
    {
     "name": "stdout",
     "output_type": "stream",
     "text": [
      "23/23 [==============================] - 29s 1s/step - loss: 31.1748 - rmse: 5.5834 - mae: 4.4291\n"
     ]
    },
    {
     "data": {
      "text/plain": [
       "[31.174806594848633, 5.58344030380249, 4.42907190322876]"
      ]
     },
     "execution_count": 55,
     "metadata": {},
     "output_type": "execute_result"
    }
   ],
   "source": [
    "model.evaluate(dg_testall)"
   ]
  },
  {
   "cell_type": "code",
   "execution_count": 56,
   "id": "6d67245a",
   "metadata": {},
   "outputs": [],
   "source": [
    "############# IMPUTATION TECHNIQUE 0 ##################"
   ]
  },
  {
   "cell_type": "code",
   "execution_count": 57,
   "id": "2fc2b8fe",
   "metadata": {},
   "outputs": [],
   "source": [
    "class DataGeneratorImpT1(tf.keras.utils.Sequence):\n",
    "    def rotate(self,vol):\n",
    "        def scipy_rotate(vol):\n",
    "            angles = [-20,-10,-5,5,10,20]\n",
    "            angle = pyrandom.choice(angles)\n",
    "            vol = ndimage.rotate(vol,angle,reshape=False)\n",
    "            vol[vol<0] = 0\n",
    "            vol[vol>1] = 1\n",
    "            return vol\n",
    "        aug_vol = tf.numpy_function(scipy_rotate,[vol],tf.float32)\n",
    "        return aug_vol\n",
    "\n",
    "    def preprocessing(self,vol):\n",
    "        if(self.isTrain):\n",
    "            vol1 = self.rotate(vol)\n",
    "            vol1 = tf.expand_dims(vol1,axis=3)\n",
    "        else:\n",
    "            vol1 = tf.expand_dims(vol,axis=3)\n",
    "        return vol1\n",
    "    \n",
    "    def read_scan(self,path):\n",
    "        scan = nib.load(path)\n",
    "        volume = scan.get_fdata()\n",
    "        min = np.amax(volume)\n",
    "        max = np.amin(volume)\n",
    "        volume = (volume - min) / (max - min)\n",
    "        volume = volume.astype(\"float32\")\n",
    "        return volume\n",
    "    \n",
    "    def __len__(self):\n",
    "        return (np.floor(len(self.data) / float(self.batch_size))).astype(np.int)\n",
    "\n",
    "    def __init__(self, data, batch_size, sample_weights=None,isTrain=True):\n",
    "        self.data = data\n",
    "        self.batch_size = batch_size\n",
    "        self.sample_weights = sample_weights\n",
    "        self.isTrain = isTrain\n",
    "\n",
    "    def __getitem__(self, idx):\n",
    "        t1  = self.data['ACCEL_DL_6DOF_2MM_T1'].tolist()\n",
    "        dwi = self.data['DWI_Matched_File_FA_Path_ENIGMATBSSspace_2MM'].tolist()\n",
    "        labels = self.data['AGE_at_scan'].astype(np.float32)\n",
    "        \n",
    "        batch_t1 = t1[idx * self.batch_size: (idx + 1) * self.batch_size]\n",
    "        batch_dwi = dwi[idx * self.batch_size: (idx + 1) * self.batch_size]\n",
    "        batch_y = labels[idx * self.batch_size: (idx + 1) * self.batch_size]\n",
    "        t1_imgs = np.asarray([self.preprocessing(self.read_scan(path)) for path in batch_t1])\n",
    "        dwi = []\n",
    "        for i in batch_dwi:\n",
    "            if pd.isnull(i):\n",
    "                dwi.append(avgMRI)\n",
    "            else:\n",
    "                dwi.append((self.read_scan(i)))\n",
    "        dwi_imgs = np.asarray([self.preprocessing(img) for img in dwi])\n",
    "        return ([t1_imgs,dwi_imgs], np.array(batch_y))\n",
    "    \n",
    "    def on_epoch_end(self):\n",
    "        if(self.isTrain):\n",
    "            self.data = self.data.sample(frac=1)"
   ]
  },
  {
   "cell_type": "code",
   "execution_count": 60,
   "id": "13ce5dc0",
   "metadata": {},
   "outputs": [],
   "source": [
    "t1_dwi = df.loc[[(not condt1[i] and conddwi[i]) for i in range(len(condt1))] , :]\n",
    "avg = [t1_dwi,trainds]\n",
    "avgCN = pd.concat(avg)"
   ]
  },
  {
   "cell_type": "code",
   "execution_count": 86,
   "id": "477cad5a",
   "metadata": {},
   "outputs": [
    {
     "data": {
      "text/plain": [
       "365"
      ]
     },
     "execution_count": 86,
     "metadata": {},
     "output_type": "execute_result"
    }
   ],
   "source": [
    "len(avgCN)"
   ]
  },
  {
   "cell_type": "code",
   "execution_count": 59,
   "id": "0fd406c9",
   "metadata": {},
   "outputs": [
    {
     "data": {
      "text/plain": [
       "82"
      ]
     },
     "execution_count": 59,
     "metadata": {},
     "output_type": "execute_result"
    }
   ],
   "source": [
    "testCount = 0\n",
    "testArr = []\n",
    "for i in testall['SubjID'].drop_duplicates():\n",
    "    testArr.append(i)\n",
    "    testCount += 1\n",
    "testCount"
   ]
  },
  {
   "cell_type": "code",
   "execution_count": 62,
   "id": "73192b21",
   "metadata": {},
   "outputs": [],
   "source": [
    "for i in testArr:\n",
    "    avgCN.drop(avgCN[(avgCN['SubjID']==i) ].index,inplace = True)"
   ]
  },
  {
   "cell_type": "code",
   "execution_count": 64,
   "id": "665c4d0d",
   "metadata": {},
   "outputs": [],
   "source": [
    "for i in avgCN['SubjID'].drop_duplicates():\n",
    "    for j in valds['SubjID'].drop_duplicates():\n",
    "        if i == j:\n",
    "            print(i)"
   ]
  },
  {
   "cell_type": "code",
   "execution_count": 65,
   "id": "cf00a007",
   "metadata": {},
   "outputs": [],
   "source": [
    "def read_scan(path):\n",
    "        scan = nib.load(path)\n",
    "        volume = scan.get_fdata()\n",
    "        return volume\n",
    "def normalize(vol):\n",
    "    min = np.amax(vol)\n",
    "    max = np.amin(vol)\n",
    "    vol = (vol-min) / (max-min)\n",
    "    vol = vol.astype('float32')\n",
    "    return vol\n",
    "\n",
    "avgMRI = np.zeros((91,109,91))\n",
    "\n",
    "for i in avgCN['DWI_Matched_File_FA_Path_ENIGMATBSSspace_2MM']:\n",
    "    avgMRI += read_scan(i)\n",
    "    \n",
    "avgMRI = normalize(avgMRI)"
   ]
  },
  {
   "cell_type": "code",
   "execution_count": 46,
   "id": "e706e0b4",
   "metadata": {},
   "outputs": [
    {
     "data": {
      "text/plain": [
       "(352, 352)"
      ]
     },
     "execution_count": 46,
     "metadata": {},
     "output_type": "execute_result"
    }
   ],
   "source": [
    "len(trainds),len(alltrain[:p])"
   ]
  },
  {
   "cell_type": "code",
   "execution_count": 73,
   "id": "34e4d700",
   "metadata": {},
   "outputs": [
    {
     "data": {
      "text/plain": [
       "19070"
      ]
     },
     "execution_count": 73,
     "metadata": {},
     "output_type": "execute_result"
    }
   ],
   "source": [
    "os.getpid()"
   ]
  },
  {
   "cell_type": "code",
   "execution_count": 66,
   "id": "79e318c5",
   "metadata": {},
   "outputs": [],
   "source": [
    "t1dwi_ = df.loc[[(condt1[i] and not conddwi[i]) for i in range(len(condt1))] , :]\n",
    "train1 = [t1dwi_,trainds]\n",
    "train1 = pd.concat(train1)"
   ]
  },
  {
   "cell_type": "code",
   "execution_count": 77,
   "id": "8aa02abd",
   "metadata": {},
   "outputs": [
    {
     "data": {
      "text/plain": [
       "1744"
      ]
     },
     "execution_count": 77,
     "metadata": {},
     "output_type": "execute_result"
    }
   ],
   "source": [
    "len(train1)"
   ]
  },
  {
   "cell_type": "code",
   "execution_count": 81,
   "id": "762f2475",
   "metadata": {},
   "outputs": [
    {
     "data": {
      "text/plain": [
       "0"
      ]
     },
     "execution_count": 81,
     "metadata": {},
     "output_type": "execute_result"
    }
   ],
   "source": [
    "count = 0\n",
    "arr = []\n",
    "for i in train1['SubjID']:\n",
    "    for j in testall['SubjID'].drop_duplicates():\n",
    "        if i == j:\n",
    "            arr.append(i)\n",
    "            count += 1\n",
    "count"
   ]
  },
  {
   "cell_type": "code",
   "execution_count": 75,
   "id": "2d21f54a",
   "metadata": {},
   "outputs": [],
   "source": [
    "for i in arr:\n",
    "    train1.drop(train1[(train1['SubjID']==i) ].index,inplace = True)"
   ]
  },
  {
   "cell_type": "code",
   "execution_count": 78,
   "id": "c6dcd105",
   "metadata": {},
   "outputs": [],
   "source": [
    "dg1_train = DataGeneratorImpT1(train1,batch_size,isTrain=True)"
   ]
  },
  {
   "cell_type": "code",
   "execution_count": 79,
   "id": "92be5efd",
   "metadata": {},
   "outputs": [
    {
     "data": {
      "text/plain": [
       "(1744, 89, 91)"
      ]
     },
     "execution_count": 79,
     "metadata": {},
     "output_type": "execute_result"
    }
   ],
   "source": [
    "len(train1),len(valds),len(testall)"
   ]
  },
  {
   "cell_type": "code",
   "execution_count": 82,
   "id": "ddcf4b99",
   "metadata": {},
   "outputs": [
    {
     "name": "stderr",
     "output_type": "stream",
     "text": [
      "2023-12-26 17:32:41.322678: I tensorflow/core/common_runtime/executor.cc:1197] [/device:CPU:0] (DEBUG INFO) Executor start aborting (this does not indicate an error and you can ignore this message): INVALID_ARGUMENT: You must feed a value for placeholder tensor 'inputs' with dtype float and shape [?,1,1,1,64]\n",
      "\t [[{{node inputs}}]]\n",
      "2023-12-26 17:32:41.331576: I tensorflow/core/common_runtime/executor.cc:1197] [/device:CPU:0] (DEBUG INFO) Executor start aborting (this does not indicate an error and you can ignore this message): INVALID_ARGUMENT: You must feed a value for placeholder tensor 'inputs' with dtype float and shape [?,1,1,1,64]\n",
      "\t [[{{node inputs}}]]\n",
      "2023-12-26 17:32:42.843124: I tensorflow/core/common_runtime/executor.cc:1197] [/device:CPU:0] (DEBUG INFO) Executor start aborting (this does not indicate an error and you can ignore this message): INVALID_ARGUMENT: You must feed a value for placeholder tensor 'inputs' with dtype float and shape [?,1,1,1,64]\n",
      "\t [[{{node inputs}}]]\n",
      "2023-12-26 17:32:42.864294: I tensorflow/core/common_runtime/executor.cc:1197] [/device:CPU:0] (DEBUG INFO) Executor start aborting (this does not indicate an error and you can ignore this message): INVALID_ARGUMENT: You must feed a value for placeholder tensor 'inputs' with dtype float and shape [?,1,1,1,64]\n",
      "\t [[{{node inputs}}]]\n",
      "WARNING:absl:Found untraced functions such as _jit_compiled_convolution_op, _jit_compiled_convolution_op, _jit_compiled_convolution_op, _jit_compiled_convolution_op, _jit_compiled_convolution_op while saving (showing 5 of 13). These functions will not be directly callable after loading.\n"
     ]
    },
    {
     "name": "stdout",
     "output_type": "stream",
     "text": [
      "INFO:tensorflow:Assets written to: /lfs1/ashaji/Imputation_Problem/EMBC/T1andDWI/modelT1andDWI/assets\n"
     ]
    },
    {
     "name": "stderr",
     "output_type": "stream",
     "text": [
      "INFO:tensorflow:Assets written to: /lfs1/ashaji/Imputation_Problem/EMBC/T1andDWI/modelT1andDWI/assets\n"
     ]
    }
   ],
   "source": [
    "model.save('/lfs1/ashaji/Imputation_Problem/EMBC/T1andDWI/modelT1andDWI')"
   ]
  },
  {
   "cell_type": "code",
   "execution_count": 83,
   "id": "c3361a0d",
   "metadata": {},
   "outputs": [
    {
     "name": "stderr",
     "output_type": "stream",
     "text": [
      "/tmp/ipykernel_28753/2179794019.py:41: DeprecationWarning: `np.int` is a deprecated alias for the builtin `int`. To silence this warning, use `int` by itself. Doing this will not modify any behavior and is safe. When replacing `np.int`, you may wish to use e.g. `np.int64` or `np.int32` to specify the precision. If you wish to review your current use, check the release note link for additional information.\n",
      "Deprecated in NumPy 1.20; for more details and guidance: https://numpy.org/devdocs/release/1.20.0-notes.html#deprecations\n",
      "  return (np.ceil(len(self.data) / float(self.batch_size))).astype(np.int)\n"
     ]
    },
    {
     "name": "stdout",
     "output_type": "stream",
     "text": [
      "Epoch 1/200\n"
     ]
    },
    {
     "name": "stderr",
     "output_type": "stream",
     "text": [
      "/tmp/ipykernel_28753/897808007.py:31: DeprecationWarning: `np.int` is a deprecated alias for the builtin `int`. To silence this warning, use `int` by itself. Doing this will not modify any behavior and is safe. When replacing `np.int`, you may wish to use e.g. `np.int64` or `np.int32` to specify the precision. If you wish to review your current use, check the release note link for additional information.\n",
      "Deprecated in NumPy 1.20; for more details and guidance: https://numpy.org/devdocs/release/1.20.0-notes.html#deprecations\n",
      "  return (np.floor(len(self.data) / float(self.batch_size))).astype(np.int)\n",
      "2023-12-26 17:33:54.520025: I tensorflow/core/common_runtime/executor.cc:1197] [/device:CPU:0] (DEBUG INFO) Executor start aborting (this does not indicate an error and you can ignore this message): INVALID_ARGUMENT: You must feed a value for placeholder tensor 'Placeholder/_0' with dtype int32\n",
      "\t [[{{node Placeholder/_0}}]]\n"
     ]
    },
    {
     "name": "stdout",
     "output_type": "stream",
     "text": [
      "436/436 [==============================] - ETA: 0s - loss: 57.0490 - rmse: 7.5531 - mae: 5.9957"
     ]
    },
    {
     "name": "stderr",
     "output_type": "stream",
     "text": [
      "2023-12-26 17:46:43.268018: I tensorflow/core/common_runtime/executor.cc:1197] [/device:CPU:0] (DEBUG INFO) Executor start aborting (this does not indicate an error and you can ignore this message): INVALID_ARGUMENT: You must feed a value for placeholder tensor 'Placeholder/_0' with dtype int32\n",
      "\t [[{{node Placeholder/_0}}]]\n"
     ]
    },
    {
     "name": "stdout",
     "output_type": "stream",
     "text": [
      "436/436 [==============================] - 784s 2s/step - loss: 57.0490 - rmse: 7.5531 - mae: 5.9957 - val_loss: 25.6764 - val_rmse: 5.0672 - val_mae: 4.1029\n",
      "Epoch 2/200\n",
      "436/436 [==============================] - 615s 1s/step - loss: 50.6575 - rmse: 7.1174 - mae: 5.6213 - val_loss: 47.0860 - val_rmse: 6.8619 - val_mae: 5.6688\n",
      "Epoch 3/200\n",
      "436/436 [==============================] - 605s 1s/step - loss: 51.9688 - rmse: 7.2089 - mae: 5.6722 - val_loss: 18.9376 - val_rmse: 4.3517 - val_mae: 3.5125\n",
      "Epoch 4/200\n",
      "436/436 [==============================] - 608s 1s/step - loss: 46.0636 - rmse: 6.7870 - mae: 5.3884 - val_loss: 17.8909 - val_rmse: 4.2298 - val_mae: 3.4313\n",
      "Epoch 5/200\n",
      "436/436 [==============================] - 607s 1s/step - loss: 40.4578 - rmse: 6.3606 - mae: 5.0634 - val_loss: 19.3548 - val_rmse: 4.3994 - val_mae: 3.6086\n",
      "Epoch 6/200\n",
      "436/436 [==============================] - 603s 1s/step - loss: 39.8653 - rmse: 6.3139 - mae: 5.0123 - val_loss: 19.2769 - val_rmse: 4.3905 - val_mae: 3.5426\n",
      "Epoch 7/200\n",
      "436/436 [==============================] - 608s 1s/step - loss: 37.0288 - rmse: 6.0851 - mae: 4.8444 - val_loss: 32.9744 - val_rmse: 5.7423 - val_mae: 4.5106\n",
      "Epoch 8/200\n",
      "436/436 [==============================] - 607s 1s/step - loss: 34.5398 - rmse: 5.8771 - mae: 4.6384 - val_loss: 16.8936 - val_rmse: 4.1102 - val_mae: 3.4389\n",
      "Epoch 9/200\n",
      "436/436 [==============================] - 609s 1s/step - loss: 27.5136 - rmse: 5.2453 - mae: 4.1555 - val_loss: 19.1977 - val_rmse: 4.3815 - val_mae: 3.4617\n",
      "Epoch 10/200\n",
      "436/436 [==============================] - 608s 1s/step - loss: 27.6012 - rmse: 5.2537 - mae: 4.1752 - val_loss: 20.5579 - val_rmse: 4.5341 - val_mae: 3.7691\n",
      "Epoch 11/200\n",
      "436/436 [==============================] - 607s 1s/step - loss: 24.2265 - rmse: 4.9220 - mae: 3.9195 - val_loss: 18.8351 - val_rmse: 4.3399 - val_mae: 3.5851\n",
      "Epoch 12/200\n",
      "436/436 [==============================] - 612s 1s/step - loss: 21.7529 - rmse: 4.6640 - mae: 3.7247 - val_loss: 21.2075 - val_rmse: 4.6052 - val_mae: 3.6966\n",
      "Epoch 13/200\n",
      "436/436 [==============================] - 609s 1s/step - loss: 18.9787 - rmse: 4.3565 - mae: 3.3881 - val_loss: 19.5503 - val_rmse: 4.4216 - val_mae: 3.5831\n",
      "Epoch 14/200\n",
      "436/436 [==============================] - 607s 1s/step - loss: 14.1446 - rmse: 3.7609 - mae: 2.8802 - val_loss: 23.2990 - val_rmse: 4.8269 - val_mae: 4.0099\n",
      "Epoch 15/200\n",
      "436/436 [==============================] - 614s 1s/step - loss: 12.3648 - rmse: 3.5164 - mae: 2.7068 - val_loss: 22.6506 - val_rmse: 4.7593 - val_mae: 3.9071\n",
      "Epoch 16/200\n",
      "436/436 [==============================] - 601s 1s/step - loss: 10.9101 - rmse: 3.3030 - mae: 2.5452 - val_loss: 20.1016 - val_rmse: 4.4835 - val_mae: 3.6943\n",
      "Epoch 17/200\n",
      "436/436 [==============================] - 608s 1s/step - loss: 10.3544 - rmse: 3.2178 - mae: 2.4643 - val_loss: 22.0635 - val_rmse: 4.6972 - val_mae: 3.9496\n",
      "Epoch 18/200\n",
      "436/436 [==============================] - 624s 1s/step - loss: 9.7029 - rmse: 3.1150 - mae: 2.3761 - val_loss: 19.1525 - val_rmse: 4.3764 - val_mae: 3.6115\n",
      "Epoch 19/200\n",
      "436/436 [==============================] - 621s 1s/step - loss: 10.2608 - rmse: 3.2032 - mae: 2.4581 - val_loss: 19.5748 - val_rmse: 4.4243 - val_mae: 3.7384\n",
      "Epoch 20/200\n",
      "436/436 [==============================] - 621s 1s/step - loss: 9.1958 - rmse: 3.0325 - mae: 2.3444 - val_loss: 18.8936 - val_rmse: 4.3467 - val_mae: 3.5700\n",
      "Epoch 21/200\n",
      "436/436 [==============================] - 623s 1s/step - loss: 8.7653 - rmse: 2.9606 - mae: 2.2742 - val_loss: 28.3914 - val_rmse: 5.3284 - val_mae: 4.4979\n",
      "Epoch 22/200\n",
      "436/436 [==============================] - 633s 1s/step - loss: 8.9957 - rmse: 2.9993 - mae: 2.3090 - val_loss: 23.3344 - val_rmse: 4.8306 - val_mae: 3.9849\n",
      "Epoch 23/200\n",
      "436/436 [==============================] - 632s 1s/step - loss: 8.4842 - rmse: 2.9128 - mae: 2.2392 - val_loss: 18.3296 - val_rmse: 4.2813 - val_mae: 3.4849\n",
      "Epoch 24/200\n",
      "436/436 [==============================] - 624s 1s/step - loss: 8.4983 - rmse: 2.9152 - mae: 2.2320 - val_loss: 19.1950 - val_rmse: 4.3812 - val_mae: 3.5668\n",
      "Epoch 25/200\n",
      "436/436 [==============================] - 630s 1s/step - loss: 7.5142 - rmse: 2.7412 - mae: 2.1006 - val_loss: 20.0380 - val_rmse: 4.4764 - val_mae: 3.5669\n",
      "Epoch 26/200\n",
      "436/436 [==============================] - 631s 1s/step - loss: 7.8865 - rmse: 2.8083 - mae: 2.1781 - val_loss: 18.5646 - val_rmse: 4.3087 - val_mae: 3.5721\n",
      "Epoch 27/200\n",
      "436/436 [==============================] - 625s 1s/step - loss: 7.9501 - rmse: 2.8196 - mae: 2.1519 - val_loss: 18.8678 - val_rmse: 4.3437 - val_mae: 3.5489\n",
      "Epoch 28/200\n",
      "436/436 [==============================] - ETA: 0s - loss: 6.9263 - rmse: 2.6318 - mae: 2.0081Restoring model weights from the end of the best epoch: 8.\n",
      "436/436 [==============================] - 626s 1s/step - loss: 6.9263 - rmse: 2.6318 - mae: 2.0081 - val_loss: 18.6149 - val_rmse: 4.3145 - val_mae: 3.5280\n",
      "Epoch 28: early stopping\n"
     ]
    },
    {
     "name": "stderr",
     "output_type": "stream",
     "text": [
      "2023-12-26 22:23:58.662755: I tensorflow/core/common_runtime/executor.cc:1197] [/device:CPU:0] (DEBUG INFO) Executor start aborting (this does not indicate an error and you can ignore this message): INVALID_ARGUMENT: You must feed a value for placeholder tensor 'inputs' with dtype float and shape [?,1,1,1,64]\n",
      "\t [[{{node inputs}}]]\n",
      "2023-12-26 22:23:58.671637: I tensorflow/core/common_runtime/executor.cc:1197] [/device:CPU:0] (DEBUG INFO) Executor start aborting (this does not indicate an error and you can ignore this message): INVALID_ARGUMENT: You must feed a value for placeholder tensor 'inputs' with dtype float and shape [?,1,1,1,64]\n",
      "\t [[{{node inputs}}]]\n",
      "2023-12-26 22:24:00.332255: I tensorflow/core/common_runtime/executor.cc:1197] [/device:CPU:0] (DEBUG INFO) Executor start aborting (this does not indicate an error and you can ignore this message): INVALID_ARGUMENT: You must feed a value for placeholder tensor 'inputs' with dtype float and shape [?,1,1,1,64]\n",
      "\t [[{{node inputs}}]]\n",
      "2023-12-26 22:24:00.353008: I tensorflow/core/common_runtime/executor.cc:1197] [/device:CPU:0] (DEBUG INFO) Executor start aborting (this does not indicate an error and you can ignore this message): INVALID_ARGUMENT: You must feed a value for placeholder tensor 'inputs' with dtype float and shape [?,1,1,1,64]\n",
      "\t [[{{node inputs}}]]\n",
      "WARNING:absl:Found untraced functions such as _jit_compiled_convolution_op, _jit_compiled_convolution_op, _jit_compiled_convolution_op, _jit_compiled_convolution_op, _jit_compiled_convolution_op while saving (showing 5 of 12). These functions will not be directly callable after loading.\n"
     ]
    },
    {
     "name": "stdout",
     "output_type": "stream",
     "text": [
      "INFO:tensorflow:Assets written to: /lfs1/ashaji/Imputation_Problem/EMBC/T1andDWI/T1andDWIavgImp/assets\n"
     ]
    },
    {
     "name": "stderr",
     "output_type": "stream",
     "text": [
      "INFO:tensorflow:Assets written to: /lfs1/ashaji/Imputation_Problem/EMBC/T1andDWI/T1andDWIavgImp/assets\n"
     ]
    }
   ],
   "source": [
    "early = keras.callbacks.EarlyStopping(monitor='val_loss',patience = 20, verbose = 1, restore_best_weights = True)\n",
    "history = model.fit(\n",
    "    dg1_train,\n",
    "    validation_data = dg_val,\n",
    "    epochs = 200,\n",
    "    verbose = 1,\n",
    "    callbacks = [early]\n",
    ")\n",
    "model.save('/lfs1/ashaji/Imputation_Problem/EMBC/T1andDWI/T1andDWIavgImp')"
   ]
  },
  {
   "cell_type": "code",
   "execution_count": 84,
   "id": "43d56652",
   "metadata": {},
   "outputs": [
    {
     "name": "stderr",
     "output_type": "stream",
     "text": [
      "WARNING:root:The given value for groups will be overwritten.\n",
      "WARNING:root:The given value for groups will be overwritten.\n",
      "WARNING:root:The given value for groups will be overwritten.\n",
      "WARNING:root:The given value for groups will be overwritten.\n",
      "WARNING:root:The given value for groups will be overwritten.\n",
      "WARNING:root:The given value for groups will be overwritten.\n",
      "WARNING:root:The given value for groups will be overwritten.\n",
      "WARNING:root:The given value for groups will be overwritten.\n",
      "WARNING:root:The given value for groups will be overwritten.\n",
      "WARNING:root:The given value for groups will be overwritten.\n",
      "WARNING:root:The given value for groups will be overwritten.\n",
      "WARNING:root:The given value for groups will be overwritten.\n"
     ]
    }
   ],
   "source": [
    "model = keras.models.load_model('/lfs1/ashaji/Imputation_Problem/EMBC/T1andDWI/T1andDWIavgImp')"
   ]
  },
  {
   "cell_type": "code",
   "execution_count": 122,
   "id": "72259207",
   "metadata": {},
   "outputs": [
    {
     "name": "stderr",
     "output_type": "stream",
     "text": [
      "/tmp/ipykernel_28753/2179794019.py:41: DeprecationWarning: `np.int` is a deprecated alias for the builtin `int`. To silence this warning, use `int` by itself. Doing this will not modify any behavior and is safe. When replacing `np.int`, you may wish to use e.g. `np.int64` or `np.int32` to specify the precision. If you wish to review your current use, check the release note link for additional information.\n",
      "Deprecated in NumPy 1.20; for more details and guidance: https://numpy.org/devdocs/release/1.20.0-notes.html#deprecations\n",
      "  return (np.ceil(len(self.data) / float(self.batch_size))).astype(np.int)\n",
      "2023-12-27 15:56:45.118199: I tensorflow/core/common_runtime/executor.cc:1197] [/device:CPU:0] (DEBUG INFO) Executor start aborting (this does not indicate an error and you can ignore this message): INVALID_ARGUMENT: You must feed a value for placeholder tensor 'Placeholder/_0' with dtype int32\n",
      "\t [[{{node Placeholder/_0}}]]\n"
     ]
    },
    {
     "name": "stdout",
     "output_type": "stream",
     "text": [
      "23/23 [==============================] - 18s 815ms/step - loss: 32.0016 - rmse: 5.6570 - mae: 4.4098\n"
     ]
    },
    {
     "data": {
      "text/plain": [
       "[32.00159454345703, 5.6569952964782715, 4.409799575805664]"
      ]
     },
     "execution_count": 122,
     "metadata": {},
     "output_type": "execute_result"
    }
   ],
   "source": [
    "model.evaluate(dg_testall)"
   ]
  },
  {
   "cell_type": "code",
   "execution_count": 75,
   "id": "e57e152b",
   "metadata": {},
   "outputs": [
    {
     "data": {
      "text/plain": [
       "19070"
      ]
     },
     "execution_count": 75,
     "metadata": {},
     "output_type": "execute_result"
    }
   ],
   "source": [
    "os.getpid()"
   ]
  },
  {
   "cell_type": "code",
   "execution_count": 87,
   "id": "6ede73fe",
   "metadata": {},
   "outputs": [],
   "source": [
    "## IMPUTATION 2"
   ]
  },
  {
   "cell_type": "code",
   "execution_count": 117,
   "id": "b0c5ff28",
   "metadata": {},
   "outputs": [
    {
     "name": "stdout",
     "output_type": "stream",
     "text": [
      "0 0 0 9 23 80 94 74 56 19 9 1\n"
     ]
    }
   ],
   "source": [
    "def read_scan(path):\n",
    "        scan = nib.load(str(path))\n",
    "        volume = scan.get_fdata()\n",
    "        return volume\n",
    "def normalize(vol):\n",
    "    min = np.amax(vol)\n",
    "    max = np.amin(vol)\n",
    "    if max == 0 and min == 0:\n",
    "        return vol\n",
    "    vol = (vol-min) / (max-min)\n",
    "    vol = vol.astype('float32')\n",
    "    return vol\n",
    "\n",
    "def avgMRI(avg):  \n",
    "    avgMRI = np.zeros((91,109,91))\n",
    "    if avg.empty:\n",
    "        return avgMRI\n",
    "    for i in avg['DWI_Matched_File_FA_Path_ENIGMATBSSspace_2MM']:\n",
    "        avgMRI += read_scan(i)\n",
    "    return normalize(avgMRI)\n",
    "\n",
    "avg0x = avgCN[(avgCN['AGE_at_scan'] >= 40) & (avgCN['AGE_at_scan'] < 45)]\n",
    "avg1x = avgCN[(avgCN['AGE_at_scan'] >= 45) & (avgCN['AGE_at_scan'] < 50)]\n",
    "avg2x = avgCN[(avgCN['AGE_at_scan'] >= 50) & (avgCN['AGE_at_scan'] < 55)]\n",
    "avg3x = avgCN[(avgCN['AGE_at_scan'] >= 55) & (avgCN['AGE_at_scan'] < 60)]\n",
    "avg4x = avgCN[(avgCN['AGE_at_scan'] >= 60) & (avgCN['AGE_at_scan'] < 65)]\n",
    "avg5x = avgCN[(avgCN['AGE_at_scan'] >= 65) & (avgCN['AGE_at_scan'] < 70)]\n",
    "avg6x = avgCN[(avgCN['AGE_at_scan'] >= 70) & (avgCN['AGE_at_scan'] < 75)]\n",
    "avg7x = avgCN[(avgCN['AGE_at_scan'] >= 75) & (avgCN['AGE_at_scan'] < 80)]\n",
    "avg8x = avgCN[(avgCN['AGE_at_scan'] >= 80) & (avgCN['AGE_at_scan'] < 85)]\n",
    "avg9x = avgCN[(avgCN['AGE_at_scan'] >= 85) & (avgCN['AGE_at_scan'] < 90)]\n",
    "avg10x = avgCN[(avgCN['AGE_at_scan'] >= 90) & (avgCN['AGE_at_scan'] < 95)]\n",
    "avg11x = avgCN[(avgCN['AGE_at_scan'] >= 95) & (avgCN['AGE_at_scan'] < 100)]\n",
    "print(len(avg0x),len(avg1x),len(avg2x),len(avg3x),len(avg4x),len(avg5x),len(avg6x),len(avg7x),len(avg8x),len(avg9x),len(avg10x),len(avg11x))\n"
   ]
  },
  {
   "cell_type": "code",
   "execution_count": 118,
   "id": "58c7824f",
   "metadata": {},
   "outputs": [],
   "source": [
    "avg0 = avgMRI(avg0x)\n",
    "avg1 = avgMRI(avg1x)\n",
    "avg2 = avgMRI(avg2x)\n",
    "avg3 = avgMRI(avg3x)\n",
    "avg4 = avgMRI(avg4x)\n",
    "avg5 = avgMRI(avg5x)\n",
    "avg6 = avgMRI(avg6x)\n",
    "avg7 = avgMRI(avg7x)\n",
    "avg8 = avgMRI(avg8x)\n",
    "avg9 = avgMRI(avg9x)\n",
    "avg10 = avgMRI(avg10x)\n",
    "avg11 = avgMRI(avg11x)"
   ]
  },
  {
   "cell_type": "code",
   "execution_count": 128,
   "id": "650ecbb5",
   "metadata": {},
   "outputs": [],
   "source": [
    "class DataGeneratorMRIs(tf.keras.utils.Sequence):\n",
    "    def rotate(self,vol):\n",
    "        def scipy_rotate(vol):\n",
    "            angles = [-20,-10,-5,0,5,10,20]\n",
    "            angle = pyrandom.choice(angles)\n",
    "            vol = ndimage.rotate(vol,angle,reshape=False)\n",
    "            vol[vol<0] = 0\n",
    "            vol[vol>1] = 1\n",
    "            return vol\n",
    "        aug_vol = tf.numpy_function(scipy_rotate,[vol],tf.float32)\n",
    "        return aug_vol\n",
    "\n",
    "    def preprocessing(self,vol):\n",
    "        vol1 = self.rotate(vol)\n",
    "        vol1 = tf.expand_dims(vol1,axis=3)\n",
    "        return vol1\n",
    "    \n",
    "    def returnAvg(self,age):\n",
    "        if age>=40 and age < 45:\n",
    "            return avg0\n",
    "        elif age>=45 and age < 50:\n",
    "            return avg1\n",
    "        elif age>=50 and age < 55:\n",
    "            return avg2\n",
    "        elif age>=55 and age < 60:\n",
    "            return avg3\n",
    "        elif age>=60 and age < 65:\n",
    "            return avg4\n",
    "        elif age>=65 and age < 70:\n",
    "            return avg5\n",
    "        elif age>=70 and age < 75:\n",
    "            return avg6\n",
    "        elif age>=75 and age < 80:\n",
    "            return avg7\n",
    "        elif age>=80 and age < 85:\n",
    "            return avg8\n",
    "        elif age>=85 and age < 90:\n",
    "            return avg9\n",
    "        elif age>=90 and age < 95:\n",
    "            return avg10\n",
    "        elif age>=95 and age < 100:\n",
    "            return avg11\n",
    "        \n",
    "    \n",
    "    def read_scan(self,path):\n",
    "        scan = nib.load(path)\n",
    "        volume = scan.get_fdata()\n",
    "        min = np.amax(volume)\n",
    "        max = np.amin(volume)\n",
    "        volume = (volume - min) / (max - min)\n",
    "        volume = volume.astype(\"float32\")\n",
    "        return volume\n",
    "\n",
    "    def __init__(self,data, batch_size, sample_weights=None):\n",
    "        self.data = data\n",
    "        self.batch_size = batch_size\n",
    "        self.sample_weights = sample_weights\n",
    "\n",
    "    def __len__(self):\n",
    "        return (np.ceil(len(self.data) / float(self.batch_size))).astype(np.int)\n",
    "\n",
    "    def __getitem__(self, idx):\n",
    "        \n",
    "        t1  = self.data['ACCEL_DL_6DOF_2MM_T1'].tolist()\n",
    "        dwi = self.data['DWI_Matched_File_FA_Path_ENIGMATBSSspace_2MM'].tolist()\n",
    "        labels = self.data['AGE_at_scan'].astype(np.float32)\n",
    "        \n",
    "        batch_t1 = t1[idx * self.batch_size: (idx + 1) * self.batch_size]\n",
    "        batch_y = labels[idx * self.batch_size: (idx + 1) * self.batch_size]\n",
    "        batch_dwi = dwi[idx * self.batch_size: (idx + 1) * self.batch_size]\n",
    "        \n",
    "        dwi = []\n",
    "        for i in range(len(batch_dwi)):\n",
    "            if pd.isnull(batch_dwi[i]):\n",
    "                dwi.append(self.returnAvg(batch_y.iloc[i]))\n",
    "            else:\n",
    "                dwi.append((self.read_scan(batch_dwi[i])))\n",
    "                \n",
    "        t1_imgs = np.asarray([self.preprocessing(self.read_scan(path)) for path in batch_t1])\n",
    "        dwi_imgs = np.asarray([self.preprocessing(img) for img in dwi])\n",
    "        \n",
    "        return ([t1_imgs,dwi_imgs], np.array(batch_y))\n",
    "    \n",
    "    def on_epoch_end(self):\n",
    "        self.data = self.data.sample(frac=1)"
   ]
  },
  {
   "cell_type": "code",
   "execution_count": 129,
   "id": "dc543a4e",
   "metadata": {},
   "outputs": [],
   "source": [
    "dg2_train = DataGeneratorMRIs(train1,batch_size)"
   ]
  },
  {
   "cell_type": "code",
   "execution_count": 136,
   "id": "f9b8b8fd",
   "metadata": {},
   "outputs": [],
   "source": [
    "for i in avgCN['SubjID']:\n",
    "    for j in testall['SubjID']:\n",
    "        if(i==j):\n",
    "            print(i)"
   ]
  },
  {
   "cell_type": "code",
   "execution_count": 130,
   "id": "f36c5624",
   "metadata": {},
   "outputs": [
    {
     "name": "stderr",
     "output_type": "stream",
     "text": [
      "WARNING:root:The given value for groups will be overwritten.\n",
      "WARNING:root:The given value for groups will be overwritten.\n",
      "WARNING:root:The given value for groups will be overwritten.\n",
      "WARNING:root:The given value for groups will be overwritten.\n",
      "WARNING:root:The given value for groups will be overwritten.\n",
      "WARNING:root:The given value for groups will be overwritten.\n",
      "WARNING:root:The given value for groups will be overwritten.\n",
      "WARNING:root:The given value for groups will be overwritten.\n",
      "WARNING:root:The given value for groups will be overwritten.\n",
      "WARNING:root:The given value for groups will be overwritten.\n",
      "WARNING:root:The given value for groups will be overwritten.\n",
      "WARNING:root:The given value for groups will be overwritten.\n",
      "/tmp/ipykernel_28753/2179794019.py:41: DeprecationWarning: `np.int` is a deprecated alias for the builtin `int`. To silence this warning, use `int` by itself. Doing this will not modify any behavior and is safe. When replacing `np.int`, you may wish to use e.g. `np.int64` or `np.int32` to specify the precision. If you wish to review your current use, check the release note link for additional information.\n",
      "Deprecated in NumPy 1.20; for more details and guidance: https://numpy.org/devdocs/release/1.20.0-notes.html#deprecations\n",
      "  return (np.ceil(len(self.data) / float(self.batch_size))).astype(np.int)\n"
     ]
    },
    {
     "name": "stdout",
     "output_type": "stream",
     "text": [
      "Epoch 1/200\n"
     ]
    },
    {
     "name": "stderr",
     "output_type": "stream",
     "text": [
      "/tmp/ipykernel_28753/3282186693.py:60: DeprecationWarning: `np.int` is a deprecated alias for the builtin `int`. To silence this warning, use `int` by itself. Doing this will not modify any behavior and is safe. When replacing `np.int`, you may wish to use e.g. `np.int64` or `np.int32` to specify the precision. If you wish to review your current use, check the release note link for additional information.\n",
      "Deprecated in NumPy 1.20; for more details and guidance: https://numpy.org/devdocs/release/1.20.0-notes.html#deprecations\n",
      "  return (np.ceil(len(self.data) / float(self.batch_size))).astype(np.int)\n",
      "2023-12-27 15:59:22.792203: I tensorflow/core/common_runtime/executor.cc:1197] [/device:CPU:0] (DEBUG INFO) Executor start aborting (this does not indicate an error and you can ignore this message): INVALID_ARGUMENT: You must feed a value for placeholder tensor 'Placeholder/_0' with dtype int32\n",
      "\t [[{{node Placeholder/_0}}]]\n"
     ]
    },
    {
     "name": "stdout",
     "output_type": "stream",
     "text": [
      "436/436 [==============================] - ETA: 0s - loss: 33.1198 - rmse: 5.7550 - mae: 4.5527"
     ]
    },
    {
     "name": "stderr",
     "output_type": "stream",
     "text": [
      "2023-12-27 16:10:02.759221: I tensorflow/core/common_runtime/executor.cc:1197] [/device:CPU:0] (DEBUG INFO) Executor start aborting (this does not indicate an error and you can ignore this message): INVALID_ARGUMENT: You must feed a value for placeholder tensor 'Placeholder/_0' with dtype int32\n",
      "\t [[{{node Placeholder/_0}}]]\n"
     ]
    },
    {
     "name": "stdout",
     "output_type": "stream",
     "text": [
      "436/436 [==============================] - 653s 1s/step - loss: 33.1198 - rmse: 5.7550 - mae: 4.5527 - val_loss: 18.6741 - val_rmse: 4.3213 - val_mae: 3.5923\n",
      "Epoch 2/200\n",
      "436/436 [==============================] - 623s 1s/step - loss: 26.5548 - rmse: 5.1531 - mae: 4.0688 - val_loss: 21.9824 - val_rmse: 4.6885 - val_mae: 3.8182\n",
      "Epoch 3/200\n",
      "436/436 [==============================] - 649s 1s/step - loss: 22.7790 - rmse: 4.7727 - mae: 3.8473 - val_loss: 24.6551 - val_rmse: 4.9654 - val_mae: 3.9493\n",
      "Epoch 4/200\n",
      "436/436 [==============================] - 646s 1s/step - loss: 18.8914 - rmse: 4.3464 - mae: 3.4429 - val_loss: 21.7351 - val_rmse: 4.6621 - val_mae: 3.9674\n",
      "Epoch 5/200\n",
      "436/436 [==============================] - 641s 1s/step - loss: 15.4774 - rmse: 3.9341 - mae: 3.0638 - val_loss: 23.7519 - val_rmse: 4.8736 - val_mae: 4.0357\n",
      "Epoch 6/200\n",
      "436/436 [==============================] - 655s 2s/step - loss: 11.9201 - rmse: 3.4526 - mae: 2.6747 - val_loss: 21.7796 - val_rmse: 4.6669 - val_mae: 3.9505\n",
      "Epoch 7/200\n",
      "436/436 [==============================] - 658s 2s/step - loss: 9.6220 - rmse: 3.1019 - mae: 2.3613 - val_loss: 20.9302 - val_rmse: 4.5750 - val_mae: 3.7524\n",
      "Epoch 8/200\n",
      "436/436 [==============================] - 658s 2s/step - loss: 8.6718 - rmse: 2.9448 - mae: 2.2857 - val_loss: 23.5480 - val_rmse: 4.8526 - val_mae: 4.0004\n",
      "Epoch 9/200\n",
      "436/436 [==============================] - 651s 1s/step - loss: 8.6594 - rmse: 2.9427 - mae: 2.2408 - val_loss: 21.9429 - val_rmse: 4.6843 - val_mae: 3.9287\n",
      "Epoch 10/200\n",
      "436/436 [==============================] - 650s 1s/step - loss: 8.7162 - rmse: 2.9523 - mae: 2.2853 - val_loss: 22.9412 - val_rmse: 4.7897 - val_mae: 3.9011\n",
      "Epoch 11/200\n",
      "436/436 [==============================] - 633s 1s/step - loss: 8.0765 - rmse: 2.8419 - mae: 2.1929 - val_loss: 18.6738 - val_rmse: 4.3213 - val_mae: 3.6112\n",
      "Epoch 12/200\n",
      "436/436 [==============================] - 618s 1s/step - loss: 7.8909 - rmse: 2.8091 - mae: 2.1588 - val_loss: 20.5733 - val_rmse: 4.5358 - val_mae: 3.7908\n",
      "Epoch 13/200\n",
      "436/436 [==============================] - 615s 1s/step - loss: 7.1012 - rmse: 2.6648 - mae: 2.0485 - val_loss: 20.1918 - val_rmse: 4.4935 - val_mae: 3.7407\n",
      "Epoch 14/200\n",
      "436/436 [==============================] - 617s 1s/step - loss: 7.0287 - rmse: 2.6512 - mae: 2.0159 - val_loss: 22.8799 - val_rmse: 4.7833 - val_mae: 3.9767\n",
      "Epoch 15/200\n",
      "436/436 [==============================] - 617s 1s/step - loss: 6.3639 - rmse: 2.5227 - mae: 1.9128 - val_loss: 20.6893 - val_rmse: 4.5485 - val_mae: 3.8516\n",
      "Epoch 16/200\n",
      "436/436 [==============================] - 622s 1s/step - loss: 6.4604 - rmse: 2.5417 - mae: 1.9572 - val_loss: 24.1574 - val_rmse: 4.9150 - val_mae: 4.0952\n",
      "Epoch 17/200\n",
      "198/436 [============>.................] - ETA: 5:32 - loss: 6.6480 - rmse: 2.5784 - mae: 2.0204"
     ]
    },
    {
     "name": "stderr",
     "output_type": "stream",
     "text": [
      "IOPub message rate exceeded.\n",
      "The notebook server will temporarily stop sending output\n",
      "to the client in order to avoid crashing it.\n",
      "To change this limit, set the config variable\n",
      "`--NotebookApp.iopub_msg_rate_limit`.\n",
      "\n",
      "Current values:\n",
      "NotebookApp.iopub_msg_rate_limit=1000.0 (msgs/sec)\n",
      "NotebookApp.rate_limit_window=3.0 (secs)\n",
      "\n"
     ]
    },
    {
     "name": "stdout",
     "output_type": "stream",
     "text": [
      "436/436 [==============================] - 624s 1s/step - loss: 5.8715 - rmse: 2.4231 - mae: 1.8510 - val_loss: 20.8291 - val_rmse: 4.5639 - val_mae: 3.7441\n",
      "Epoch 21/200\n",
      "436/436 [==============================] - 619s 1s/step - loss: 5.8201 - rmse: 2.4125 - mae: 1.8598 - val_loss: 24.1968 - val_rmse: 4.9190 - val_mae: 4.0786\n",
      "Epoch 22/200\n",
      "436/436 [==============================] - 622s 1s/step - loss: 5.2549 - rmse: 2.2924 - mae: 1.7490 - val_loss: 20.5412 - val_rmse: 4.5322 - val_mae: 3.7831\n",
      "Epoch 23/200\n",
      "436/436 [==============================] - 632s 1s/step - loss: 5.0639 - rmse: 2.2503 - mae: 1.7284 - val_loss: 18.7839 - val_rmse: 4.3340 - val_mae: 3.5533\n",
      "Epoch 24/200\n",
      "436/436 [==============================] - 627s 1s/step - loss: 5.3506 - rmse: 2.3131 - mae: 1.7622 - val_loss: 19.8467 - val_rmse: 4.4550 - val_mae: 3.7066\n",
      "Epoch 25/200\n",
      "436/436 [==============================] - 620s 1s/step - loss: 4.5718 - rmse: 2.1382 - mae: 1.6410 - val_loss: 28.1890 - val_rmse: 5.3093 - val_mae: 4.2567\n",
      "Epoch 26/200\n",
      "436/436 [==============================] - 626s 1s/step - loss: 4.6627 - rmse: 2.1593 - mae: 1.6390 - val_loss: 21.1953 - val_rmse: 4.6038 - val_mae: 3.8474\n",
      "Epoch 27/200\n",
      "436/436 [==============================] - 620s 1s/step - loss: 4.5755 - rmse: 2.1390 - mae: 1.6401 - val_loss: 25.4072 - val_rmse: 5.0406 - val_mae: 4.0936\n",
      "Epoch 28/200\n",
      "436/436 [==============================] - 620s 1s/step - loss: 4.2358 - rmse: 2.0581 - mae: 1.5496 - val_loss: 19.3558 - val_rmse: 4.3995 - val_mae: 3.5787\n",
      "Epoch 29/200\n",
      "436/436 [==============================] - 629s 1s/step - loss: 4.5760 - rmse: 2.1392 - mae: 1.6434 - val_loss: 21.2445 - val_rmse: 4.6092 - val_mae: 3.8998\n",
      "Epoch 30/200\n",
      "436/436 [==============================] - 630s 1s/step - loss: 4.3471 - rmse: 2.0850 - mae: 1.5601 - val_loss: 19.5505 - val_rmse: 4.4216 - val_mae: 3.6929\n",
      "Epoch 31/200\n",
      "436/436 [==============================] - ETA: 0s - loss: 4.3700 - rmse: 2.0905 - mae: 1.5978Restoring model weights from the end of the best epoch: 11.\n",
      "436/436 [==============================] - 629s 1s/step - loss: 4.3700 - rmse: 2.0905 - mae: 1.5978 - val_loss: 22.7415 - val_rmse: 4.7688 - val_mae: 3.8757\n",
      "Epoch 31: early stopping\n"
     ]
    },
    {
     "name": "stderr",
     "output_type": "stream",
     "text": [
      "2023-12-27 21:25:39.526985: I tensorflow/core/common_runtime/executor.cc:1197] [/device:CPU:0] (DEBUG INFO) Executor start aborting (this does not indicate an error and you can ignore this message): INVALID_ARGUMENT: You must feed a value for placeholder tensor 'inputs' with dtype float and shape [?,1,1,1,64]\n",
      "\t [[{{node inputs}}]]\n",
      "2023-12-27 21:25:39.536058: I tensorflow/core/common_runtime/executor.cc:1197] [/device:CPU:0] (DEBUG INFO) Executor start aborting (this does not indicate an error and you can ignore this message): INVALID_ARGUMENT: You must feed a value for placeholder tensor 'inputs' with dtype float and shape [?,1,1,1,64]\n",
      "\t [[{{node inputs}}]]\n",
      "2023-12-27 21:25:41.573150: I tensorflow/core/common_runtime/executor.cc:1197] [/device:CPU:0] (DEBUG INFO) Executor start aborting (this does not indicate an error and you can ignore this message): INVALID_ARGUMENT: You must feed a value for placeholder tensor 'inputs' with dtype float and shape [?,1,1,1,64]\n",
      "\t [[{{node inputs}}]]\n",
      "2023-12-27 21:25:41.593061: I tensorflow/core/common_runtime/executor.cc:1197] [/device:CPU:0] (DEBUG INFO) Executor start aborting (this does not indicate an error and you can ignore this message): INVALID_ARGUMENT: You must feed a value for placeholder tensor 'inputs' with dtype float and shape [?,1,1,1,64]\n",
      "\t [[{{node inputs}}]]\n",
      "WARNING:absl:Found untraced functions such as _jit_compiled_convolution_op, _jit_compiled_convolution_op, _jit_compiled_convolution_op, _jit_compiled_convolution_op, _jit_compiled_convolution_op while saving (showing 5 of 12). These functions will not be directly callable after loading.\n"
     ]
    },
    {
     "name": "stdout",
     "output_type": "stream",
     "text": [
      "INFO:tensorflow:Assets written to: /lfs1/ashaji/Imputation_Problem/EMBC/T1andDWI/T1andDWIbuckavgImp/assets\n"
     ]
    },
    {
     "name": "stderr",
     "output_type": "stream",
     "text": [
      "INFO:tensorflow:Assets written to: /lfs1/ashaji/Imputation_Problem/EMBC/T1andDWI/T1andDWIbuckavgImp/assets\n"
     ]
    }
   ],
   "source": [
    "model = keras.models.load_model('/lfs1/ashaji/Imputation_Problem/EMBC/T1andDWI/modelT1andDWI')\n",
    "early = keras.callbacks.EarlyStopping(monitor='val_loss',patience = 20, verbose = 1, restore_best_weights = True)\n",
    "history = model.fit(\n",
    "    dg2_train,\n",
    "    validation_data = dg_val,\n",
    "    epochs = 200,\n",
    "    verbose = 1,\n",
    "    callbacks = [early]\n",
    ")\n",
    "model.save('/lfs1/ashaji/Imputation_Problem/EMBC/T1andDWI/T1andDWIbuckavgImp')"
   ]
  },
  {
   "cell_type": "code",
   "execution_count": 132,
   "id": "84669eea",
   "metadata": {},
   "outputs": [
    {
     "name": "stderr",
     "output_type": "stream",
     "text": [
      "WARNING:root:The given value for groups will be overwritten.\n",
      "WARNING:root:The given value for groups will be overwritten.\n",
      "WARNING:root:The given value for groups will be overwritten.\n",
      "WARNING:root:The given value for groups will be overwritten.\n",
      "WARNING:root:The given value for groups will be overwritten.\n",
      "WARNING:root:The given value for groups will be overwritten.\n",
      "WARNING:root:The given value for groups will be overwritten.\n",
      "WARNING:root:The given value for groups will be overwritten.\n",
      "WARNING:root:The given value for groups will be overwritten.\n",
      "WARNING:root:The given value for groups will be overwritten.\n",
      "WARNING:root:The given value for groups will be overwritten.\n",
      "WARNING:root:The given value for groups will be overwritten.\n"
     ]
    }
   ],
   "source": [
    "model = keras.models.load_model('/lfs1/ashaji/Imputation_Problem/EMBC/T1andDWI/T1andDWIbuckavgImp')"
   ]
  },
  {
   "cell_type": "code",
   "execution_count": 133,
   "id": "e9d79ed6",
   "metadata": {},
   "outputs": [
    {
     "name": "stderr",
     "output_type": "stream",
     "text": [
      "/tmp/ipykernel_28753/2179794019.py:41: DeprecationWarning: `np.int` is a deprecated alias for the builtin `int`. To silence this warning, use `int` by itself. Doing this will not modify any behavior and is safe. When replacing `np.int`, you may wish to use e.g. `np.int64` or `np.int32` to specify the precision. If you wish to review your current use, check the release note link for additional information.\n",
      "Deprecated in NumPy 1.20; for more details and guidance: https://numpy.org/devdocs/release/1.20.0-notes.html#deprecations\n",
      "  return (np.ceil(len(self.data) / float(self.batch_size))).astype(np.int)\n",
      "2023-12-27 21:29:00.779969: I tensorflow/core/common_runtime/executor.cc:1197] [/device:CPU:0] (DEBUG INFO) Executor start aborting (this does not indicate an error and you can ignore this message): INVALID_ARGUMENT: You must feed a value for placeholder tensor 'Placeholder/_0' with dtype int32\n",
      "\t [[{{node Placeholder/_0}}]]\n"
     ]
    },
    {
     "name": "stdout",
     "output_type": "stream",
     "text": [
      "23/23 [==============================] - 10s 388ms/step - loss: 24.2825 - rmse: 4.9277 - mae: 3.8811\n"
     ]
    },
    {
     "data": {
      "text/plain": [
       "[24.282470703125, 4.927724838256836, 3.881133794784546]"
      ]
     },
     "execution_count": 133,
     "metadata": {},
     "output_type": "execute_result"
    }
   ],
   "source": [
    "model.evaluate(dg_testall)"
   ]
  },
  {
   "cell_type": "code",
   "execution_count": null,
   "id": "8b351a34",
   "metadata": {},
   "outputs": [],
   "source": [
    "os.getpid()"
   ]
  },
  {
   "cell_type": "code",
   "execution_count": null,
   "id": "9d6f6109",
   "metadata": {},
   "outputs": [],
   "source": [
    "len(dg_testall)"
   ]
  },
  {
   "cell_type": "code",
   "execution_count": null,
   "id": "53db9558",
   "metadata": {},
   "outputs": [],
   "source": [
    "len(testall)"
   ]
  },
  {
   "cell_type": "code",
   "execution_count": null,
   "id": "0298f1e7",
   "metadata": {},
   "outputs": [],
   "source": []
  }
 ],
 "metadata": {
  "kernelspec": {
   "display_name": "Python 3 (ipykernel)",
   "language": "python",
   "name": "python3"
  },
  "language_info": {
   "codemirror_mode": {
    "name": "ipython",
    "version": 3
   },
   "file_extension": ".py",
   "mimetype": "text/x-python",
   "name": "python",
   "nbconvert_exporter": "python",
   "pygments_lexer": "ipython3",
   "version": "3.10.4"
  }
 },
 "nbformat": 4,
 "nbformat_minor": 5
}
